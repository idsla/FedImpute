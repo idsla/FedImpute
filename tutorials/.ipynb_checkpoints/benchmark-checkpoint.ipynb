{
 "cells": [
  {
   "cell_type": "code",
   "execution_count": 2,
   "metadata": {},
   "outputs": [
    {
     "name": "stdout",
     "output_type": "stream",
     "text": [
      "^C\n",
      "Requirement already satisfied: tabulate in d:\\min\\research_projects\\fedimpute\\.venv\\lib\\site-packages (0.9.0)\n",
      "Requirement already satisfied: matplotlib in d:\\min\\research_projects\\fedimpute\\.venv\\lib\\site-packages (3.10.1)\n",
      "Requirement already satisfied: numpy in d:\\min\\research_projects\\fedimpute\\.venv\\lib\\site-packages (1.26.4)\n",
      "Requirement already satisfied: pandas in d:\\min\\research_projects\\fedimpute\\.venv\\lib\\site-packages (2.2.3)\n",
      "Requirement already satisfied: contourpy>=1.0.1 in d:\\min\\research_projects\\fedimpute\\.venv\\lib\\site-packages (from matplotlib) (1.3.2)\n",
      "Requirement already satisfied: cycler>=0.10 in d:\\min\\research_projects\\fedimpute\\.venv\\lib\\site-packages (from matplotlib) (0.12.1)\n",
      "Requirement already satisfied: fonttools>=4.22.0 in d:\\min\\research_projects\\fedimpute\\.venv\\lib\\site-packages (from matplotlib) (4.57.0)\n",
      "Requirement already satisfied: kiwisolver>=1.3.1 in d:\\min\\research_projects\\fedimpute\\.venv\\lib\\site-packages (from matplotlib) (1.4.8)\n",
      "Requirement already satisfied: packaging>=20.0 in d:\\min\\research_projects\\fedimpute\\.venv\\lib\\site-packages (from matplotlib) (25.0)\n",
      "Requirement already satisfied: pillow>=8 in d:\\min\\research_projects\\fedimpute\\.venv\\lib\\site-packages (from matplotlib) (11.2.1)\n",
      "Requirement already satisfied: pyparsing>=2.3.1 in d:\\min\\research_projects\\fedimpute\\.venv\\lib\\site-packages (from matplotlib) (3.2.3)\n",
      "Requirement already satisfied: python-dateutil>=2.7 in d:\\min\\research_projects\\fedimpute\\.venv\\lib\\site-packages (from matplotlib) (2.9.0.post0)\n",
      "Requirement already satisfied: pytz>=2020.1 in d:\\min\\research_projects\\fedimpute\\.venv\\lib\\site-packages (from pandas) (2025.2)\n",
      "Requirement already satisfied: tzdata>=2022.7 in d:\\min\\research_projects\\fedimpute\\.venv\\lib\\site-packages (from pandas) (2025.2)\n",
      "Requirement already satisfied: six>=1.5 in d:\\min\\research_projects\\fedimpute\\.venv\\lib\\site-packages (from python-dateutil>=2.7->matplotlib) (1.17.0)\n"
     ]
    },
    {
     "name": "stderr",
     "output_type": "stream",
     "text": [
      "WARNING: Ignoring invalid distribution ~edimpute (D:\\min\\research_projects\\FedImpute\\.venv\\Lib\\site-packages)\n",
      "WARNING: Ignoring invalid distribution ~edimpute (D:\\min\\research_projects\\FedImpute\\.venv\\Lib\\site-packages)\n",
      "WARNING: Ignoring invalid distribution ~edimpute (D:\\min\\research_projects\\FedImpute\\.venv\\Lib\\site-packages)\n",
      "\n",
      "[notice] A new release of pip is available: 24.3.1 -> 25.0.1\n",
      "[notice] To update, run: python.exe -m pip install --upgrade pip\n"
     ]
    },
    {
     "name": "stdout",
     "output_type": "stream",
     "text": [
      "Collecting fedimpute==0.1.0\n",
      "  Using cached fedimpute-0.1.0-py3-none-any.whl.metadata (6.6 kB)\n",
      "Requirement already satisfied: gower<0.2.0,>=0.1.2 in d:\\min\\research_projects\\fedimpute\\.venv\\lib\\site-packages (from fedimpute==0.1.0) (0.1.2)\n",
      "Requirement already satisfied: loguru<0.8.0,>=0.7.2 in d:\\min\\research_projects\\fedimpute\\.venv\\lib\\site-packages (from fedimpute==0.1.0) (0.7.3)\n",
      "Requirement already satisfied: matplotlib<4.0.0,>=3.10.0 in d:\\min\\research_projects\\fedimpute\\.venv\\lib\\site-packages (from fedimpute==0.1.0) (3.10.1)\n",
      "Requirement already satisfied: n-sphere<2.0.0,>=1.2.0 in d:\\min\\research_projects\\fedimpute\\.venv\\lib\\site-packages (from fedimpute==0.1.0) (1.2.0)\n",
      "Requirement already satisfied: numpy<2.0.0,>=1.26.4 in d:\\min\\research_projects\\fedimpute\\.venv\\lib\\site-packages (from fedimpute==0.1.0) (1.26.4)\n",
      "Requirement already satisfied: openpyxl<4.0.0,>=3.1.5 in d:\\min\\research_projects\\fedimpute\\.venv\\lib\\site-packages (from fedimpute==0.1.0) (3.1.5)\n",
      "Requirement already satisfied: pandas<3.0.0,>=2.2.2 in d:\\min\\research_projects\\fedimpute\\.venv\\lib\\site-packages (from fedimpute==0.1.0) (2.2.3)\n",
      "Requirement already satisfied: pot<0.10.0,>=0.9.3 in d:\\min\\research_projects\\fedimpute\\.venv\\lib\\site-packages (from fedimpute==0.1.0) (0.9.5)\n",
      "Requirement already satisfied: scikit-learn<2.0.0,>=1.5.0 in d:\\min\\research_projects\\fedimpute\\.venv\\lib\\site-packages (from fedimpute==0.1.0) (1.6.1)\n",
      "Requirement already satisfied: seaborn<0.14.0,>=0.13.2 in d:\\min\\research_projects\\fedimpute\\.venv\\lib\\site-packages (from fedimpute==0.1.0) (0.13.2)\n",
      "Requirement already satisfied: statsmodels<0.15.0,>=0.14.4 in d:\\min\\research_projects\\fedimpute\\.venv\\lib\\site-packages (from fedimpute==0.1.0) (0.14.4)\n",
      "Requirement already satisfied: tabulate<0.10.0,>=0.9.0 in d:\\min\\research_projects\\fedimpute\\.venv\\lib\\site-packages (from fedimpute==0.1.0) (0.9.0)\n",
      "Requirement already satisfied: tensorboard<3.0.0,>=2.18.0 in d:\\min\\research_projects\\fedimpute\\.venv\\lib\\site-packages (from fedimpute==0.1.0) (2.19.0)\n",
      "Requirement already satisfied: tqdm<5.0.0,>=4.66.4 in d:\\min\\research_projects\\fedimpute\\.venv\\lib\\site-packages (from fedimpute==0.1.0) (4.67.1)\n",
      "Requirement already satisfied: scipy in d:\\min\\research_projects\\fedimpute\\.venv\\lib\\site-packages (from gower<0.2.0,>=0.1.2->fedimpute==0.1.0) (1.15.2)\n",
      "Requirement already satisfied: colorama>=0.3.4 in d:\\min\\research_projects\\fedimpute\\.venv\\lib\\site-packages (from loguru<0.8.0,>=0.7.2->fedimpute==0.1.0) (0.4.6)\n",
      "Requirement already satisfied: win32-setctime>=1.0.0 in d:\\min\\research_projects\\fedimpute\\.venv\\lib\\site-packages (from loguru<0.8.0,>=0.7.2->fedimpute==0.1.0) (1.2.0)\n",
      "Requirement already satisfied: contourpy>=1.0.1 in d:\\min\\research_projects\\fedimpute\\.venv\\lib\\site-packages (from matplotlib<4.0.0,>=3.10.0->fedimpute==0.1.0) (1.3.2)\n",
      "Requirement already satisfied: cycler>=0.10 in d:\\min\\research_projects\\fedimpute\\.venv\\lib\\site-packages (from matplotlib<4.0.0,>=3.10.0->fedimpute==0.1.0) (0.12.1)\n",
      "Requirement already satisfied: fonttools>=4.22.0 in d:\\min\\research_projects\\fedimpute\\.venv\\lib\\site-packages (from matplotlib<4.0.0,>=3.10.0->fedimpute==0.1.0) (4.57.0)\n",
      "Requirement already satisfied: kiwisolver>=1.3.1 in d:\\min\\research_projects\\fedimpute\\.venv\\lib\\site-packages (from matplotlib<4.0.0,>=3.10.0->fedimpute==0.1.0) (1.4.8)\n",
      "Requirement already satisfied: packaging>=20.0 in d:\\min\\research_projects\\fedimpute\\.venv\\lib\\site-packages (from matplotlib<4.0.0,>=3.10.0->fedimpute==0.1.0) (25.0)\n",
      "Requirement already satisfied: pillow>=8 in d:\\min\\research_projects\\fedimpute\\.venv\\lib\\site-packages (from matplotlib<4.0.0,>=3.10.0->fedimpute==0.1.0) (11.2.1)\n",
      "Requirement already satisfied: pyparsing>=2.3.1 in d:\\min\\research_projects\\fedimpute\\.venv\\lib\\site-packages (from matplotlib<4.0.0,>=3.10.0->fedimpute==0.1.0) (3.2.3)\n",
      "Requirement already satisfied: python-dateutil>=2.7 in d:\\min\\research_projects\\fedimpute\\.venv\\lib\\site-packages (from matplotlib<4.0.0,>=3.10.0->fedimpute==0.1.0) (2.9.0.post0)\n",
      "Requirement already satisfied: torch in d:\\min\\research_projects\\fedimpute\\.venv\\lib\\site-packages (from n-sphere<2.0.0,>=1.2.0->fedimpute==0.1.0) (2.6.0)\n",
      "Requirement already satisfied: et-xmlfile in d:\\min\\research_projects\\fedimpute\\.venv\\lib\\site-packages (from openpyxl<4.0.0,>=3.1.5->fedimpute==0.1.0) (2.0.0)\n",
      "Requirement already satisfied: pytz>=2020.1 in d:\\min\\research_projects\\fedimpute\\.venv\\lib\\site-packages (from pandas<3.0.0,>=2.2.2->fedimpute==0.1.0) (2025.2)\n",
      "Requirement already satisfied: tzdata>=2022.7 in d:\\min\\research_projects\\fedimpute\\.venv\\lib\\site-packages (from pandas<3.0.0,>=2.2.2->fedimpute==0.1.0) (2025.2)\n",
      "Requirement already satisfied: joblib>=1.2.0 in d:\\min\\research_projects\\fedimpute\\.venv\\lib\\site-packages (from scikit-learn<2.0.0,>=1.5.0->fedimpute==0.1.0) (1.4.2)\n",
      "Requirement already satisfied: threadpoolctl>=3.1.0 in d:\\min\\research_projects\\fedimpute\\.venv\\lib\\site-packages (from scikit-learn<2.0.0,>=1.5.0->fedimpute==0.1.0) (3.6.0)\n",
      "Requirement already satisfied: patsy>=0.5.6 in d:\\min\\research_projects\\fedimpute\\.venv\\lib\\site-packages (from statsmodels<0.15.0,>=0.14.4->fedimpute==0.1.0) (1.0.1)\n",
      "Requirement already satisfied: absl-py>=0.4 in d:\\min\\research_projects\\fedimpute\\.venv\\lib\\site-packages (from tensorboard<3.0.0,>=2.18.0->fedimpute==0.1.0) (2.2.2)\n",
      "Requirement already satisfied: grpcio>=1.48.2 in d:\\min\\research_projects\\fedimpute\\.venv\\lib\\site-packages (from tensorboard<3.0.0,>=2.18.0->fedimpute==0.1.0) (1.71.0)\n",
      "Requirement already satisfied: markdown>=2.6.8 in d:\\min\\research_projects\\fedimpute\\.venv\\lib\\site-packages (from tensorboard<3.0.0,>=2.18.0->fedimpute==0.1.0) (3.8)\n",
      "Requirement already satisfied: protobuf!=4.24.0,>=3.19.6 in d:\\min\\research_projects\\fedimpute\\.venv\\lib\\site-packages (from tensorboard<3.0.0,>=2.18.0->fedimpute==0.1.0) (6.30.2)\n",
      "Requirement already satisfied: setuptools>=41.0.0 in d:\\min\\research_projects\\fedimpute\\.venv\\lib\\site-packages (from tensorboard<3.0.0,>=2.18.0->fedimpute==0.1.0) (79.0.0)\n",
      "Requirement already satisfied: six>1.9 in d:\\min\\research_projects\\fedimpute\\.venv\\lib\\site-packages (from tensorboard<3.0.0,>=2.18.0->fedimpute==0.1.0) (1.17.0)\n",
      "Requirement already satisfied: tensorboard-data-server<0.8.0,>=0.7.0 in d:\\min\\research_projects\\fedimpute\\.venv\\lib\\site-packages (from tensorboard<3.0.0,>=2.18.0->fedimpute==0.1.0) (0.7.2)\n",
      "Requirement already satisfied: werkzeug>=1.0.1 in d:\\min\\research_projects\\fedimpute\\.venv\\lib\\site-packages (from tensorboard<3.0.0,>=2.18.0->fedimpute==0.1.0) (3.1.3)\n",
      "Requirement already satisfied: MarkupSafe>=2.1.1 in d:\\min\\research_projects\\fedimpute\\.venv\\lib\\site-packages (from werkzeug>=1.0.1->tensorboard<3.0.0,>=2.18.0->fedimpute==0.1.0) (3.0.2)\n",
      "Requirement already satisfied: filelock in d:\\min\\research_projects\\fedimpute\\.venv\\lib\\site-packages (from torch->n-sphere<2.0.0,>=1.2.0->fedimpute==0.1.0) (3.18.0)\n",
      "Requirement already satisfied: typing-extensions>=4.10.0 in d:\\min\\research_projects\\fedimpute\\.venv\\lib\\site-packages (from torch->n-sphere<2.0.0,>=1.2.0->fedimpute==0.1.0) (4.13.2)\n",
      "Requirement already satisfied: networkx in d:\\min\\research_projects\\fedimpute\\.venv\\lib\\site-packages (from torch->n-sphere<2.0.0,>=1.2.0->fedimpute==0.1.0) (3.4.2)\n",
      "Requirement already satisfied: jinja2 in d:\\min\\research_projects\\fedimpute\\.venv\\lib\\site-packages (from torch->n-sphere<2.0.0,>=1.2.0->fedimpute==0.1.0) (3.1.6)\n",
      "Requirement already satisfied: fsspec in d:\\min\\research_projects\\fedimpute\\.venv\\lib\\site-packages (from torch->n-sphere<2.0.0,>=1.2.0->fedimpute==0.1.0) (2025.3.2)\n",
      "Requirement already satisfied: sympy==1.13.1 in d:\\min\\research_projects\\fedimpute\\.venv\\lib\\site-packages (from torch->n-sphere<2.0.0,>=1.2.0->fedimpute==0.1.0) (1.13.1)\n",
      "Requirement already satisfied: mpmath<1.4,>=1.1.0 in d:\\min\\research_projects\\fedimpute\\.venv\\lib\\site-packages (from sympy==1.13.1->torch->n-sphere<2.0.0,>=1.2.0->fedimpute==0.1.0) (1.3.0)\n",
      "Using cached fedimpute-0.1.0-py3-none-any.whl (203 kB)\n",
      "Installing collected packages: fedimpute\n",
      "  Attempting uninstall: fedimpute\n",
      "    Found existing installation: fedimpute 0.2.1\n",
      "    Uninstalling fedimpute-0.2.1:\n",
      "      Successfully uninstalled fedimpute-0.2.1\n",
      "Successfully installed fedimpute-0.1.0\n"
     ]
    },
    {
     "name": "stderr",
     "output_type": "stream",
     "text": [
      "\n",
      "[notice] A new release of pip is available: 24.3.1 -> 25.0.1\n",
      "[notice] To update, run: python.exe -m pip install --upgrade pip\n"
     ]
    }
   ],
   "source": [
    "! pip install fedimpute==0.1.0\n",
    "! pip install tabulate matplotlib numpy pandas"
   ]
  },
  {
   "cell_type": "code",
   "execution_count": 1,
   "metadata": {},
   "outputs": [
    {
     "name": "stdout",
     "output_type": "stream",
     "text": [
      "d:\\min\\research_projects\\FedImpute\n"
     ]
    },
    {
     "name": "stderr",
     "output_type": "stream",
     "text": [
      "d:\\min\\research_projects\\FedImpute\\.venv\\Lib\\site-packages\\IPython\\core\\magics\\osm.py:417: UserWarning: This is now an optional IPython functionality, setting dhist requires you to install the `pickleshare` library.\n",
      "  self.shell.db['dhist'] = compress_dhist(dhist)[-100:]\n"
     ]
    }
   ],
   "source": [
    "cd .."
   ]
  },
  {
   "cell_type": "code",
   "execution_count": 2,
   "metadata": {},
   "outputs": [],
   "source": [
    "import numpy as np\n",
    "import pandas as pd\n",
    "import tabulate"
   ]
  },
  {
   "cell_type": "markdown",
   "metadata": {},
   "source": [
    "# Load Data and Scenario"
   ]
  },
  {
   "cell_type": "code",
   "execution_count": 3,
   "metadata": {},
   "outputs": [
    {
     "name": "stdout",
     "output_type": "stream",
     "text": [
      "+--------+--------+--------+--------+--------+--------+--------+--------+--------+\n",
      "|   X1   |   X2   |   X3   |   X4   |   X5   |   X6   |   X7   |   X8   |   y    |\n",
      "|--------+--------+--------+--------+--------+--------+--------+--------+--------|\n",
      "| 0.7554 | 0.1364 | 0.0352 | 0.4132 | 0.6937 | 0.1591 | 0.3329 | 0.7154 | 1.0000 |\n",
      "| 0.7334 | 0.7879 | 0.3819 | 0.3693 | 0.5619 | 0.4830 | 0.4351 | 0.5160 | 0.0000 |\n",
      "| 0.7752 | 0.1364 | 0.1761 | 0.3290 | 0.7410 | 0.4259 | 0.4644 | 0.5268 | 1.0000 |\n",
      "| 0.5905 | 0.7424 | 0.2720 | 0.2898 | 0.6920 | 0.3205 | 0.4019 | 0.6290 | 1.0000 |\n",
      "| 0.7366 | 0.1212 | 0.2465 | 0.3290 | 0.7410 | 0.3249 | 0.5086 | 0.5631 | 1.0000 |\n",
      "+--------+--------+--------+--------+--------+--------+--------+--------+--------+\n",
      "Data Dimensions:  (5000, 9)\n",
      "Data Config:\n",
      " {'target': 'y', 'task_type': 'classification', 'natural_partition': False}\n"
     ]
    }
   ],
   "source": [
    "%load_ext autoreload\n",
    "%autoreload 2\n",
    "\n",
    "from fedimpute.data_prep import load_data, display_data\n",
    "data, data_config = load_data(\"codrna\")\n",
    "display_data(data)\n",
    "print(\"Data Dimensions: \", data.shape)\n",
    "print(\"Data Config:\\n\", data_config)"
   ]
  },
  {
   "cell_type": "code",
   "execution_count": 4,
   "metadata": {},
   "outputs": [
    {
     "name": "stdout",
     "output_type": "stream",
     "text": [
      "The autoreload extension is already loaded. To reload it, use:\n",
      "  %reload_ext autoreload\n",
      "Missing data simulation...\n",
      "==================================================================\n",
      "Scenario Summary\n",
      "==================================================================\n",
      "Total clients: 4\n",
      "Global Test Data: (500, 9)\n",
      "Missing Mechanism Category: MNAR (Self Masking Logit)\n",
      "Clients Data Summary:\n",
      "     Train     Test      Miss     MS Ratio    MS Feature    Seed\n",
      "--  --------  -------  --------  ----------  ------------  ------\n",
      "C1  (1125,9)  (113,9)  (1125,8)     0.47         8/8        6077\n",
      "C2  (1125,9)  (113,9)  (1125,8)     0.51         8/8        577\n",
      "C3  (1125,9)  (113,9)  (1125,8)     0.46         8/8        7231\n",
      "C4  (1125,9)  (113,9)  (1125,8)     0.47         8/8        5504\n",
      "==================================================================\n",
      "\n"
     ]
    }
   ],
   "source": [
    "%load_ext autoreload\n",
    "%autoreload 2\n",
    "from fedimpute.scenario import ScenarioBuilder\n",
    "\n",
    "scenario_builder = ScenarioBuilder()\n",
    "scenario_data = scenario_builder.create_simulated_scenario(\n",
    "    data, data_config, num_clients = 4, dp_strategy='iid-even', ms_scenario='mnar-heter'\n",
    ")\n",
    "scenario_builder.summarize_scenario()"
   ]
  },
  {
   "cell_type": "markdown",
   "metadata": {},
   "source": [
    "# Benchmarking Pipeline"
   ]
  },
  {
   "cell_type": "code",
   "execution_count": 5,
   "metadata": {},
   "outputs": [
    {
     "name": "stdout",
     "output_type": "stream",
     "text": [
      "The autoreload extension is already loaded. To reload it, use:\n",
      "  %reload_ext autoreload\n",
      "==============================================================\n",
      "Experiment ID: benchmark_demo\n",
      "==============================================================\n",
      "Description: benchmark demonstration\n",
      "Persist Data: False\n",
      "Evaluation:\n",
      "  - metrics: ['imp_quality', 'local_pred', 'fed_pred']\n",
      "  - model: lr\n",
      "Seed: 100330201\n",
      "--------------------------------------------------------------\n",
      "    Imputer    Fed Strategy    Imp Params    Strategy Params\n",
      "--  ---------  --------------  ------------  -----------------\n",
      " 0  em         local           {}            {}\n",
      " 1  em         fedem           {}            {}\n",
      " 2  mice       local           {}            {}\n",
      " 3  mice       fedmice         {}            {}\n",
      " 4  gain       local           {}            {}\n",
      " 5  gain       fedavg          {}            {}\n",
      "==============================================================\n",
      "\n"
     ]
    }
   ],
   "source": [
    "%load_ext autoreload\n",
    "%autoreload 2\n",
    "from fedimpute.pipeline import FedImputePipeline\n",
    "\n",
    "pipeline = FedImputePipeline()\n",
    "pipeline.setup(\n",
    "    id = 'benchmark_demo',\n",
    "    fed_imp_configs = [\n",
    "        ('em', ['local', 'fedem'], {}, [{}, {}]),\n",
    "        ('mice', ['local', 'fedmice'], {}, [{}, {}]),\n",
    "        ('gain', ['local', 'fedavg'], {}, [{}, {}]),\n",
    "    ],\n",
    "    evaluation_params = {\n",
    "        'metrics': ['imp_quality', 'local_pred', 'fed_pred'],\n",
    "        'model': 'lr',\n",
    "    },\n",
    "    persist_data = False,\n",
    "    description = 'benchmark demonstration'\n",
    ")\n",
    "\n",
    "pipeline.pipeline_setup_summary()"
   ]
  },
  {
   "cell_type": "code",
   "execution_count": 6,
   "metadata": {},
   "outputs": [
    {
     "data": {
      "application/vnd.jupyter.widget-view+json": {
       "model_id": "eb82ec96f2e84181af674b07c726686c",
       "version_major": 2,
       "version_minor": 0
      },
      "text/plain": [
       "Clients:   0%|          | 0/4 [00:00<?, ?it/s]"
      ]
     },
     "metadata": {},
     "output_type": "display_data"
    },
    {
     "data": {
      "application/vnd.jupyter.widget-view+json": {
       "model_id": "6ca030fa09334d34a62d3e217b4718a1",
       "version_major": 2,
       "version_minor": 0
      },
      "text/plain": [
       "Clients:   0%|          | 0/4 [00:00<?, ?it/s]"
      ]
     },
     "metadata": {},
     "output_type": "display_data"
    },
    {
     "name": "stdout",
     "output_type": "stream",
     "text": [
      "(900, 8) (900,)\n"
     ]
    },
    {
     "name": "stderr",
     "output_type": "stream",
     "text": [
      "                                                                0.08it/s]\r"
     ]
    },
    {
     "name": "stdout",
     "output_type": "stream",
     "text": [
      "(900, 8) (900,)\n"
     ]
    },
    {
     "name": "stderr",
     "output_type": "stream",
     "text": [
      "                                                                0.66it/s]\r"
     ]
    },
    {
     "name": "stdout",
     "output_type": "stream",
     "text": [
      "(900, 8) (900,)\n"
     ]
    },
    {
     "name": "stderr",
     "output_type": "stream",
     "text": [
      "                                                                6.62it/s]\r"
     ]
    },
    {
     "data": {
      "application/vnd.jupyter.widget-view+json": {
       "model_id": "d346ca7adad9494abbf83489c911cad1",
       "version_major": 2,
       "version_minor": 0
      },
      "text/plain": [
       "Clients:   0%|          | 0/4 [00:00<?, ?it/s]"
      ]
     },
     "metadata": {},
     "output_type": "display_data"
    },
    {
     "data": {
      "application/vnd.jupyter.widget-view+json": {
       "model_id": "6db4c0c3d7b44e2d83c7835a90949b8e",
       "version_major": 2,
       "version_minor": 0
      },
      "text/plain": [
       "Clients:   0%|          | 0/4 [00:00<?, ?it/s]"
      ]
     },
     "metadata": {},
     "output_type": "display_data"
    },
    {
     "name": "stdout",
     "output_type": "stream",
     "text": [
      "(900, 8) (900,)\n"
     ]
    },
    {
     "name": "stderr",
     "output_type": "stream",
     "text": [
      "                                                                0.32it/s]\r"
     ]
    },
    {
     "name": "stdout",
     "output_type": "stream",
     "text": [
      "(900, 8) (900,)\n"
     ]
    },
    {
     "name": "stderr",
     "output_type": "stream",
     "text": [
      "                                                                8.23it/s]\r"
     ]
    },
    {
     "name": "stdout",
     "output_type": "stream",
     "text": [
      "(900, 8) (900,)\n"
     ]
    },
    {
     "name": "stderr",
     "output_type": "stream",
     "text": [
      "                                                                0.05it/s]\r"
     ]
    },
    {
     "data": {
      "application/vnd.jupyter.widget-view+json": {
       "model_id": "3666127fac634702b08df0b6e1d5249e",
       "version_major": 2,
       "version_minor": 0
      },
      "text/plain": [
       "Clients:   0%|          | 0/4 [00:00<?, ?it/s]"
      ]
     },
     "metadata": {},
     "output_type": "display_data"
    },
    {
     "data": {
      "application/vnd.jupyter.widget-view+json": {
       "model_id": "d9fa66f2f2d74b4887099d203631e715",
       "version_major": 2,
       "version_minor": 0
      },
      "text/plain": [
       "Clients:   0%|          | 0/4 [00:00<?, ?it/s]"
      ]
     },
     "metadata": {},
     "output_type": "display_data"
    },
    {
     "name": "stdout",
     "output_type": "stream",
     "text": [
      "(900, 8) (900,)\n"
     ]
    },
    {
     "name": "stderr",
     "output_type": "stream",
     "text": [
      "                                                                8.24it/s]\r"
     ]
    },
    {
     "name": "stdout",
     "output_type": "stream",
     "text": [
      "(900, 8) (900,)\n"
     ]
    },
    {
     "name": "stderr",
     "output_type": "stream",
     "text": [
      "                                                                9.48it/s]\r"
     ]
    },
    {
     "name": "stdout",
     "output_type": "stream",
     "text": [
      "(900, 8) (900,)\n"
     ]
    },
    {
     "name": "stderr",
     "output_type": "stream",
     "text": [
      "                                                                4.22it/s]\r"
     ]
    },
    {
     "data": {
      "application/vnd.jupyter.widget-view+json": {
       "model_id": "647bb41819804194864c1f2b12b4374a",
       "version_major": 2,
       "version_minor": 0
      },
      "text/plain": [
       "Clients:   0%|          | 0/4 [00:00<?, ?it/s]"
      ]
     },
     "metadata": {},
     "output_type": "display_data"
    },
    {
     "data": {
      "application/vnd.jupyter.widget-view+json": {
       "model_id": "7bdada30502946aabaf50c220b4bade5",
       "version_major": 2,
       "version_minor": 0
      },
      "text/plain": [
       "Clients:   0%|          | 0/4 [00:00<?, ?it/s]"
      ]
     },
     "metadata": {},
     "output_type": "display_data"
    },
    {
     "name": "stdout",
     "output_type": "stream",
     "text": [
      "(900, 8) (900,)\n"
     ]
    },
    {
     "name": "stderr",
     "output_type": "stream",
     "text": [
      "                                                                9.26it/s]\r"
     ]
    },
    {
     "name": "stdout",
     "output_type": "stream",
     "text": [
      "(900, 8) (900,)\n"
     ]
    },
    {
     "name": "stderr",
     "output_type": "stream",
     "text": [
      "                                                                1.56it/s]\r"
     ]
    },
    {
     "name": "stdout",
     "output_type": "stream",
     "text": [
      "(900, 8) (900,)\n"
     ]
    },
    {
     "name": "stderr",
     "output_type": "stream",
     "text": [
      "                                                                0.16it/s]\r"
     ]
    },
    {
     "data": {
      "application/vnd.jupyter.widget-view+json": {
       "model_id": "3174884b844f42c4bd24d6d480f0201b",
       "version_major": 2,
       "version_minor": 0
      },
      "text/plain": [
       "Clients:   0%|          | 0/4 [00:00<?, ?it/s]"
      ]
     },
     "metadata": {},
     "output_type": "display_data"
    },
    {
     "data": {
      "application/vnd.jupyter.widget-view+json": {
       "model_id": "3aed17f817bc4cdebe62a570d64fdd30",
       "version_major": 2,
       "version_minor": 0
      },
      "text/plain": [
       "Clients:   0%|          | 0/4 [00:00<?, ?it/s]"
      ]
     },
     "metadata": {},
     "output_type": "display_data"
    },
    {
     "name": "stdout",
     "output_type": "stream",
     "text": [
      "(900, 8) (900,)\n"
     ]
    },
    {
     "name": "stderr",
     "output_type": "stream",
     "text": [
      "                                                                0.58it/s]\r"
     ]
    },
    {
     "name": "stdout",
     "output_type": "stream",
     "text": [
      "(900, 8) (900,)\n"
     ]
    },
    {
     "name": "stderr",
     "output_type": "stream",
     "text": [
      "                                                                4.30it/s]\r"
     ]
    },
    {
     "name": "stdout",
     "output_type": "stream",
     "text": [
      "(900, 8) (900,)\n"
     ]
    },
    {
     "name": "stderr",
     "output_type": "stream",
     "text": [
      "                                                                7.33it/s]\r"
     ]
    },
    {
     "data": {
      "application/vnd.jupyter.widget-view+json": {
       "model_id": "e033d27743554a289bb10e2d56f5ddcc",
       "version_major": 2,
       "version_minor": 0
      },
      "text/plain": [
       "Iterations:   0%|          | 0/100 [00:00<?, ?it/s]"
      ]
     },
     "metadata": {},
     "output_type": "display_data"
    },
    {
     "data": {
      "application/vnd.jupyter.widget-view+json": {
       "model_id": "389bd9123efb403e8105eacb6e53d3c4",
       "version_major": 2,
       "version_minor": 0
      },
      "text/plain": [
       "Clients:   0%|          | 0/4 [00:00<?, ?it/s]"
      ]
     },
     "metadata": {},
     "output_type": "display_data"
    },
    {
     "name": "stdout",
     "output_type": "stream",
     "text": [
      "(900, 8) (900,)\n"
     ]
    },
    {
     "name": "stderr",
     "output_type": "stream",
     "text": [
      "                                                                6.69it/s]\r"
     ]
    },
    {
     "name": "stdout",
     "output_type": "stream",
     "text": [
      "(900, 8) (900,)\n"
     ]
    },
    {
     "name": "stderr",
     "output_type": "stream",
     "text": [
      "                                                                1.76it/s]\r"
     ]
    },
    {
     "name": "stdout",
     "output_type": "stream",
     "text": [
      "(900, 8) (900,)\n"
     ]
    },
    {
     "name": "stderr",
     "output_type": "stream",
     "text": [
      "                                                                7.45it/s]\r"
     ]
    },
    {
     "data": {
      "application/vnd.jupyter.widget-view+json": {
       "model_id": "1cfb5f1ea3d448199be178eeb3a60628",
       "version_major": 2,
       "version_minor": 0
      },
      "text/plain": [
       "Iterations:   0%|          | 0/100 [00:00<?, ?it/s]"
      ]
     },
     "metadata": {},
     "output_type": "display_data"
    },
    {
     "data": {
      "application/vnd.jupyter.widget-view+json": {
       "model_id": "5a8f92a02e9d4abda4a2fdc264a8d8e5",
       "version_major": 2,
       "version_minor": 0
      },
      "text/plain": [
       "Clients:   0%|          | 0/4 [00:00<?, ?it/s]"
      ]
     },
     "metadata": {},
     "output_type": "display_data"
    },
    {
     "name": "stdout",
     "output_type": "stream",
     "text": [
      "(900, 8) (900,)\n"
     ]
    },
    {
     "name": "stderr",
     "output_type": "stream",
     "text": [
      "                                                                4.91it/s]\r"
     ]
    },
    {
     "name": "stdout",
     "output_type": "stream",
     "text": [
      "(900, 8) (900,)\n"
     ]
    },
    {
     "name": "stderr",
     "output_type": "stream",
     "text": [
      "                                                                7.07it/s]\r"
     ]
    },
    {
     "name": "stdout",
     "output_type": "stream",
     "text": [
      "(900, 8) (900,)\n"
     ]
    },
    {
     "name": "stderr",
     "output_type": "stream",
     "text": [
      "                                                                8.51it/s]\r"
     ]
    },
    {
     "data": {
      "application/vnd.jupyter.widget-view+json": {
       "model_id": "085b3e92a7424e449f512f99d7bfc094",
       "version_major": 2,
       "version_minor": 0
      },
      "text/plain": [
       "Iterations:   0%|          | 0/100 [00:00<?, ?it/s]"
      ]
     },
     "metadata": {},
     "output_type": "display_data"
    },
    {
     "data": {
      "application/vnd.jupyter.widget-view+json": {
       "model_id": "5776a8c05aaf403098a0d8bca8c7d026",
       "version_major": 2,
       "version_minor": 0
      },
      "text/plain": [
       "Clients:   0%|          | 0/4 [00:00<?, ?it/s]"
      ]
     },
     "metadata": {},
     "output_type": "display_data"
    },
    {
     "name": "stdout",
     "output_type": "stream",
     "text": [
      "(900, 8) (900,)\n"
     ]
    },
    {
     "name": "stderr",
     "output_type": "stream",
     "text": [
      "                                                                0.96it/s]\r"
     ]
    },
    {
     "name": "stdout",
     "output_type": "stream",
     "text": [
      "(900, 8) (900,)\n"
     ]
    },
    {
     "name": "stderr",
     "output_type": "stream",
     "text": [
      "                                                                2.01it/s]\r"
     ]
    },
    {
     "name": "stdout",
     "output_type": "stream",
     "text": [
      "(900, 8) (900,)\n"
     ]
    },
    {
     "name": "stderr",
     "output_type": "stream",
     "text": [
      "                                                                1.54it/s]\r"
     ]
    },
    {
     "data": {
      "application/vnd.jupyter.widget-view+json": {
       "model_id": "c13e351a821d4697b476765761749dde",
       "version_major": 2,
       "version_minor": 0
      },
      "text/plain": [
       "Iterations:   0%|          | 0/100 [00:00<?, ?it/s]"
      ]
     },
     "metadata": {},
     "output_type": "display_data"
    },
    {
     "data": {
      "application/vnd.jupyter.widget-view+json": {
       "model_id": "38bb56fdf8424f84b2a4e9e7753fec7d",
       "version_major": 2,
       "version_minor": 0
      },
      "text/plain": [
       "Clients:   0%|          | 0/4 [00:00<?, ?it/s]"
      ]
     },
     "metadata": {},
     "output_type": "display_data"
    },
    {
     "name": "stdout",
     "output_type": "stream",
     "text": [
      "(900, 8) (900,)\n"
     ]
    },
    {
     "name": "stderr",
     "output_type": "stream",
     "text": [
      "                                                                5.69it/s]\r"
     ]
    },
    {
     "name": "stdout",
     "output_type": "stream",
     "text": [
      "(900, 8) (900,)\n"
     ]
    },
    {
     "name": "stderr",
     "output_type": "stream",
     "text": [
      "                                                                6.97it/s]\r"
     ]
    },
    {
     "name": "stdout",
     "output_type": "stream",
     "text": [
      "(900, 8) (900,)\n"
     ]
    },
    {
     "name": "stderr",
     "output_type": "stream",
     "text": [
      "                                                                4.06it/s]\r"
     ]
    },
    {
     "data": {
      "application/vnd.jupyter.widget-view+json": {
       "model_id": "6b317fd260dd487aa2915d588a624bdb",
       "version_major": 2,
       "version_minor": 0
      },
      "text/plain": [
       "Iterations:   0%|          | 0/100 [00:00<?, ?it/s]"
      ]
     },
     "metadata": {},
     "output_type": "display_data"
    },
    {
     "data": {
      "application/vnd.jupyter.widget-view+json": {
       "model_id": "de96882a77b245bfa1e6f2c0a806dc34",
       "version_major": 2,
       "version_minor": 0
      },
      "text/plain": [
       "Clients:   0%|          | 0/4 [00:00<?, ?it/s]"
      ]
     },
     "metadata": {},
     "output_type": "display_data"
    },
    {
     "name": "stdout",
     "output_type": "stream",
     "text": [
      "(900, 8) (900,)\n"
     ]
    },
    {
     "name": "stderr",
     "output_type": "stream",
     "text": [
      "                                                                9.62it/s]\r"
     ]
    },
    {
     "name": "stdout",
     "output_type": "stream",
     "text": [
      "(900, 8) (900,)\n"
     ]
    },
    {
     "name": "stderr",
     "output_type": "stream",
     "text": [
      "                                                                8.16it/s]\r"
     ]
    },
    {
     "name": "stdout",
     "output_type": "stream",
     "text": [
      "(900, 8) (900,)\n"
     ]
    },
    {
     "name": "stderr",
     "output_type": "stream",
     "text": [
      "                                                                4.76it/s]\r"
     ]
    },
    {
     "data": {
      "application/vnd.jupyter.widget-view+json": {
       "model_id": "ecef4c846d284fe5bfa27b379c511357",
       "version_major": 2,
       "version_minor": 0
      },
      "text/plain": [
       "ICE Iterations:   0%|          | 0/20 [00:00<?, ?it/s]"
      ]
     },
     "metadata": {},
     "output_type": "display_data"
    },
    {
     "data": {
      "application/vnd.jupyter.widget-view+json": {
       "model_id": "cc7917771f0a485eb91379c527d4a490",
       "version_major": 2,
       "version_minor": 0
      },
      "text/plain": [
       "Feature_idx:   0%|          | 0/8 [00:00<?, ?it/s]"
      ]
     },
     "metadata": {},
     "output_type": "display_data"
    },
    {
     "data": {
      "application/vnd.jupyter.widget-view+json": {
       "model_id": "9c27a080695944ebad6c5271b261d8c0",
       "version_major": 2,
       "version_minor": 0
      },
      "text/plain": [
       "Feature_idx:   0%|          | 0/8 [00:00<?, ?it/s]"
      ]
     },
     "metadata": {},
     "output_type": "display_data"
    },
    {
     "data": {
      "application/vnd.jupyter.widget-view+json": {
       "model_id": "0ba42300e486484e92b437e57902b371",
       "version_major": 2,
       "version_minor": 0
      },
      "text/plain": [
       "Feature_idx:   0%|          | 0/8 [00:00<?, ?it/s]"
      ]
     },
     "metadata": {},
     "output_type": "display_data"
    },
    {
     "data": {
      "application/vnd.jupyter.widget-view+json": {
       "model_id": "97f6d78706584d3ea199ce763a3b0323",
       "version_major": 2,
       "version_minor": 0
      },
      "text/plain": [
       "Feature_idx:   0%|          | 0/8 [00:00<?, ?it/s]"
      ]
     },
     "metadata": {},
     "output_type": "display_data"
    },
    {
     "data": {
      "application/vnd.jupyter.widget-view+json": {
       "model_id": "2e3fcc87f95f49899d821db52612a20f",
       "version_major": 2,
       "version_minor": 0
      },
      "text/plain": [
       "Feature_idx:   0%|          | 0/8 [00:00<?, ?it/s]"
      ]
     },
     "metadata": {},
     "output_type": "display_data"
    },
    {
     "data": {
      "application/vnd.jupyter.widget-view+json": {
       "model_id": "b75c042d4c71488398da10413d63f748",
       "version_major": 2,
       "version_minor": 0
      },
      "text/plain": [
       "Feature_idx:   0%|          | 0/8 [00:00<?, ?it/s]"
      ]
     },
     "metadata": {},
     "output_type": "display_data"
    },
    {
     "data": {
      "application/vnd.jupyter.widget-view+json": {
       "model_id": "e6e0f75217664fb499b1ed13cf91e421",
       "version_major": 2,
       "version_minor": 0
      },
      "text/plain": [
       "Feature_idx:   0%|          | 0/8 [00:00<?, ?it/s]"
      ]
     },
     "metadata": {},
     "output_type": "display_data"
    },
    {
     "data": {
      "application/vnd.jupyter.widget-view+json": {
       "model_id": "aa3efc6b3a334ecdadac6fb22631ae9a",
       "version_major": 2,
       "version_minor": 0
      },
      "text/plain": [
       "Feature_idx:   0%|          | 0/8 [00:00<?, ?it/s]"
      ]
     },
     "metadata": {},
     "output_type": "display_data"
    },
    {
     "data": {
      "application/vnd.jupyter.widget-view+json": {
       "model_id": "5ae9915bb37b46c4af9b3190a613db60",
       "version_major": 2,
       "version_minor": 0
      },
      "text/plain": [
       "Feature_idx:   0%|          | 0/8 [00:00<?, ?it/s]"
      ]
     },
     "metadata": {},
     "output_type": "display_data"
    },
    {
     "data": {
      "application/vnd.jupyter.widget-view+json": {
       "model_id": "9d16b40256f041cfb52f548ad59e08ac",
       "version_major": 2,
       "version_minor": 0
      },
      "text/plain": [
       "Feature_idx:   0%|          | 0/8 [00:00<?, ?it/s]"
      ]
     },
     "metadata": {},
     "output_type": "display_data"
    },
    {
     "data": {
      "application/vnd.jupyter.widget-view+json": {
       "model_id": "2a27545c903440b2a7c1beece72b64e7",
       "version_major": 2,
       "version_minor": 0
      },
      "text/plain": [
       "Clients:   0%|          | 0/4 [00:00<?, ?it/s]"
      ]
     },
     "metadata": {},
     "output_type": "display_data"
    },
    {
     "name": "stdout",
     "output_type": "stream",
     "text": [
      "(900, 8) (900,)\n"
     ]
    },
    {
     "name": "stderr",
     "output_type": "stream",
     "text": [
      "                                                                1.99it/s]\r"
     ]
    },
    {
     "name": "stdout",
     "output_type": "stream",
     "text": [
      "(900, 8) (900,)\n"
     ]
    },
    {
     "name": "stderr",
     "output_type": "stream",
     "text": [
      "                                                                7.86it/s]\r"
     ]
    },
    {
     "name": "stdout",
     "output_type": "stream",
     "text": [
      "(900, 8) (900,)\n"
     ]
    },
    {
     "name": "stderr",
     "output_type": "stream",
     "text": [
      "                                                                3.15it/s]\r"
     ]
    },
    {
     "data": {
      "application/vnd.jupyter.widget-view+json": {
       "model_id": "c841b2f8be1c48d9b812772a911d6d37",
       "version_major": 2,
       "version_minor": 0
      },
      "text/plain": [
       "ICE Iterations:   0%|          | 0/20 [00:00<?, ?it/s]"
      ]
     },
     "metadata": {},
     "output_type": "display_data"
    },
    {
     "data": {
      "application/vnd.jupyter.widget-view+json": {
       "model_id": "79707aa8c2bc40cda9cfe5e41592b0bd",
       "version_major": 2,
       "version_minor": 0
      },
      "text/plain": [
       "Feature_idx:   0%|          | 0/8 [00:00<?, ?it/s]"
      ]
     },
     "metadata": {},
     "output_type": "display_data"
    },
    {
     "data": {
      "application/vnd.jupyter.widget-view+json": {
       "model_id": "50aaa474b02149bd94492e13aac75536",
       "version_major": 2,
       "version_minor": 0
      },
      "text/plain": [
       "Feature_idx:   0%|          | 0/8 [00:00<?, ?it/s]"
      ]
     },
     "metadata": {},
     "output_type": "display_data"
    },
    {
     "data": {
      "application/vnd.jupyter.widget-view+json": {
       "model_id": "10d267843f5746f2916caa46b11de28d",
       "version_major": 2,
       "version_minor": 0
      },
      "text/plain": [
       "Feature_idx:   0%|          | 0/8 [00:00<?, ?it/s]"
      ]
     },
     "metadata": {},
     "output_type": "display_data"
    },
    {
     "data": {
      "application/vnd.jupyter.widget-view+json": {
       "model_id": "fbfadd5a8cb240abbc8596ae09d6337c",
       "version_major": 2,
       "version_minor": 0
      },
      "text/plain": [
       "Feature_idx:   0%|          | 0/8 [00:00<?, ?it/s]"
      ]
     },
     "metadata": {},
     "output_type": "display_data"
    },
    {
     "data": {
      "application/vnd.jupyter.widget-view+json": {
       "model_id": "56257bff8a154706bed196074b037fb4",
       "version_major": 2,
       "version_minor": 0
      },
      "text/plain": [
       "Feature_idx:   0%|          | 0/8 [00:00<?, ?it/s]"
      ]
     },
     "metadata": {},
     "output_type": "display_data"
    },
    {
     "data": {
      "application/vnd.jupyter.widget-view+json": {
       "model_id": "c66428c02f834a7aa67aeffd66597485",
       "version_major": 2,
       "version_minor": 0
      },
      "text/plain": [
       "Feature_idx:   0%|          | 0/8 [00:00<?, ?it/s]"
      ]
     },
     "metadata": {},
     "output_type": "display_data"
    },
    {
     "data": {
      "application/vnd.jupyter.widget-view+json": {
       "model_id": "5b4ddd0e17454805830cf905197103ff",
       "version_major": 2,
       "version_minor": 0
      },
      "text/plain": [
       "Feature_idx:   0%|          | 0/8 [00:00<?, ?it/s]"
      ]
     },
     "metadata": {},
     "output_type": "display_data"
    },
    {
     "data": {
      "application/vnd.jupyter.widget-view+json": {
       "model_id": "09828368de61441487e3103769395b82",
       "version_major": 2,
       "version_minor": 0
      },
      "text/plain": [
       "Feature_idx:   0%|          | 0/8 [00:00<?, ?it/s]"
      ]
     },
     "metadata": {},
     "output_type": "display_data"
    },
    {
     "data": {
      "application/vnd.jupyter.widget-view+json": {
       "model_id": "47437933d1e24631a2f3a32ff2bc4b9e",
       "version_major": 2,
       "version_minor": 0
      },
      "text/plain": [
       "Feature_idx:   0%|          | 0/8 [00:00<?, ?it/s]"
      ]
     },
     "metadata": {},
     "output_type": "display_data"
    },
    {
     "data": {
      "application/vnd.jupyter.widget-view+json": {
       "model_id": "da311a1337df49f992a17aeeda0aeaa8",
       "version_major": 2,
       "version_minor": 0
      },
      "text/plain": [
       "Feature_idx:   0%|          | 0/8 [00:00<?, ?it/s]"
      ]
     },
     "metadata": {},
     "output_type": "display_data"
    },
    {
     "data": {
      "application/vnd.jupyter.widget-view+json": {
       "model_id": "7096c6a6b7ec4eae9a6cf2b10fd00462",
       "version_major": 2,
       "version_minor": 0
      },
      "text/plain": [
       "Clients:   0%|          | 0/4 [00:00<?, ?it/s]"
      ]
     },
     "metadata": {},
     "output_type": "display_data"
    },
    {
     "name": "stdout",
     "output_type": "stream",
     "text": [
      "(900, 8) (900,)\n"
     ]
    },
    {
     "name": "stderr",
     "output_type": "stream",
     "text": [
      "                                                                1.82it/s]\r"
     ]
    },
    {
     "name": "stdout",
     "output_type": "stream",
     "text": [
      "(900, 8) (900,)\n"
     ]
    },
    {
     "name": "stderr",
     "output_type": "stream",
     "text": [
      "                                                                9.79it/s]\r"
     ]
    },
    {
     "name": "stdout",
     "output_type": "stream",
     "text": [
      "(900, 8) (900,)\n"
     ]
    },
    {
     "name": "stderr",
     "output_type": "stream",
     "text": [
      "                                                                5.45it/s]\r"
     ]
    },
    {
     "data": {
      "application/vnd.jupyter.widget-view+json": {
       "model_id": "4ef82546cfbb48dc987debd284d53e86",
       "version_major": 2,
       "version_minor": 0
      },
      "text/plain": [
       "ICE Iterations:   0%|          | 0/20 [00:00<?, ?it/s]"
      ]
     },
     "metadata": {},
     "output_type": "display_data"
    },
    {
     "data": {
      "application/vnd.jupyter.widget-view+json": {
       "model_id": "fdefbc625b864b8ca0cbf716867dfe32",
       "version_major": 2,
       "version_minor": 0
      },
      "text/plain": [
       "Feature_idx:   0%|          | 0/8 [00:00<?, ?it/s]"
      ]
     },
     "metadata": {},
     "output_type": "display_data"
    },
    {
     "data": {
      "application/vnd.jupyter.widget-view+json": {
       "model_id": "a9512a123935496197d0ce59b36a6405",
       "version_major": 2,
       "version_minor": 0
      },
      "text/plain": [
       "Feature_idx:   0%|          | 0/8 [00:00<?, ?it/s]"
      ]
     },
     "metadata": {},
     "output_type": "display_data"
    },
    {
     "data": {
      "application/vnd.jupyter.widget-view+json": {
       "model_id": "30dd73f8fd5d41dc9ae3be80b50e1ce0",
       "version_major": 2,
       "version_minor": 0
      },
      "text/plain": [
       "Feature_idx:   0%|          | 0/8 [00:00<?, ?it/s]"
      ]
     },
     "metadata": {},
     "output_type": "display_data"
    },
    {
     "data": {
      "application/vnd.jupyter.widget-view+json": {
       "model_id": "e7bf5b1609b44464b1efd89422cde13f",
       "version_major": 2,
       "version_minor": 0
      },
      "text/plain": [
       "Feature_idx:   0%|          | 0/8 [00:00<?, ?it/s]"
      ]
     },
     "metadata": {},
     "output_type": "display_data"
    },
    {
     "data": {
      "application/vnd.jupyter.widget-view+json": {
       "model_id": "77897f9c47e74568b734d2dc0a4b2dd9",
       "version_major": 2,
       "version_minor": 0
      },
      "text/plain": [
       "Feature_idx:   0%|          | 0/8 [00:00<?, ?it/s]"
      ]
     },
     "metadata": {},
     "output_type": "display_data"
    },
    {
     "data": {
      "application/vnd.jupyter.widget-view+json": {
       "model_id": "e43fc0c855cc4a1082703ea137bcefdb",
       "version_major": 2,
       "version_minor": 0
      },
      "text/plain": [
       "Feature_idx:   0%|          | 0/8 [00:00<?, ?it/s]"
      ]
     },
     "metadata": {},
     "output_type": "display_data"
    },
    {
     "data": {
      "application/vnd.jupyter.widget-view+json": {
       "model_id": "a2c4bf4f2d904dd8989b66e8255f8673",
       "version_major": 2,
       "version_minor": 0
      },
      "text/plain": [
       "Feature_idx:   0%|          | 0/8 [00:00<?, ?it/s]"
      ]
     },
     "metadata": {},
     "output_type": "display_data"
    },
    {
     "data": {
      "application/vnd.jupyter.widget-view+json": {
       "model_id": "6e7b59acf26c44e88e473e36295e30ee",
       "version_major": 2,
       "version_minor": 0
      },
      "text/plain": [
       "Feature_idx:   0%|          | 0/8 [00:00<?, ?it/s]"
      ]
     },
     "metadata": {},
     "output_type": "display_data"
    },
    {
     "data": {
      "application/vnd.jupyter.widget-view+json": {
       "model_id": "2f9cf07ed1d04e23ba0d23c7c6a37bcc",
       "version_major": 2,
       "version_minor": 0
      },
      "text/plain": [
       "Feature_idx:   0%|          | 0/8 [00:00<?, ?it/s]"
      ]
     },
     "metadata": {},
     "output_type": "display_data"
    },
    {
     "data": {
      "application/vnd.jupyter.widget-view+json": {
       "model_id": "8251f47c54e64a2ea8f4d1a51d9f5813",
       "version_major": 2,
       "version_minor": 0
      },
      "text/plain": [
       "Feature_idx:   0%|          | 0/8 [00:00<?, ?it/s]"
      ]
     },
     "metadata": {},
     "output_type": "display_data"
    },
    {
     "data": {
      "application/vnd.jupyter.widget-view+json": {
       "model_id": "21c17fc20488436b84608c72cca88657",
       "version_major": 2,
       "version_minor": 0
      },
      "text/plain": [
       "Clients:   0%|          | 0/4 [00:00<?, ?it/s]"
      ]
     },
     "metadata": {},
     "output_type": "display_data"
    },
    {
     "name": "stdout",
     "output_type": "stream",
     "text": [
      "(900, 8) (900,)\n"
     ]
    },
    {
     "name": "stderr",
     "output_type": "stream",
     "text": [
      "                                                                0.80it/s]\r"
     ]
    },
    {
     "name": "stdout",
     "output_type": "stream",
     "text": [
      "(900, 8) (900,)\n"
     ]
    },
    {
     "name": "stderr",
     "output_type": "stream",
     "text": [
      "                                                                7.05it/s]\r"
     ]
    },
    {
     "name": "stdout",
     "output_type": "stream",
     "text": [
      "(900, 8) (900,)\n"
     ]
    },
    {
     "name": "stderr",
     "output_type": "stream",
     "text": [
      "                                                                8.77it/s]\r"
     ]
    },
    {
     "data": {
      "application/vnd.jupyter.widget-view+json": {
       "model_id": "b8f7c35499374f32a5d239f7c511342d",
       "version_major": 2,
       "version_minor": 0
      },
      "text/plain": [
       "ICE Iterations:   0%|          | 0/20 [00:00<?, ?it/s]"
      ]
     },
     "metadata": {},
     "output_type": "display_data"
    },
    {
     "data": {
      "application/vnd.jupyter.widget-view+json": {
       "model_id": "5822673d9b92463db2410b34b095f486",
       "version_major": 2,
       "version_minor": 0
      },
      "text/plain": [
       "Feature_idx:   0%|          | 0/8 [00:00<?, ?it/s]"
      ]
     },
     "metadata": {},
     "output_type": "display_data"
    },
    {
     "data": {
      "application/vnd.jupyter.widget-view+json": {
       "model_id": "d788ea6d9572450b8972174d56882ddb",
       "version_major": 2,
       "version_minor": 0
      },
      "text/plain": [
       "Feature_idx:   0%|          | 0/8 [00:00<?, ?it/s]"
      ]
     },
     "metadata": {},
     "output_type": "display_data"
    },
    {
     "data": {
      "application/vnd.jupyter.widget-view+json": {
       "model_id": "f639d7d21d07450791c5ac57ee3e64d3",
       "version_major": 2,
       "version_minor": 0
      },
      "text/plain": [
       "Feature_idx:   0%|          | 0/8 [00:00<?, ?it/s]"
      ]
     },
     "metadata": {},
     "output_type": "display_data"
    },
    {
     "data": {
      "application/vnd.jupyter.widget-view+json": {
       "model_id": "8a9cf596364d4daa803dc6be96563e53",
       "version_major": 2,
       "version_minor": 0
      },
      "text/plain": [
       "Feature_idx:   0%|          | 0/8 [00:00<?, ?it/s]"
      ]
     },
     "metadata": {},
     "output_type": "display_data"
    },
    {
     "data": {
      "application/vnd.jupyter.widget-view+json": {
       "model_id": "767fe211a75c40de946c40bd0d6b349e",
       "version_major": 2,
       "version_minor": 0
      },
      "text/plain": [
       "Feature_idx:   0%|          | 0/8 [00:00<?, ?it/s]"
      ]
     },
     "metadata": {},
     "output_type": "display_data"
    },
    {
     "data": {
      "application/vnd.jupyter.widget-view+json": {
       "model_id": "a0329ee9362b403ab4071b1a524372ca",
       "version_major": 2,
       "version_minor": 0
      },
      "text/plain": [
       "Feature_idx:   0%|          | 0/8 [00:00<?, ?it/s]"
      ]
     },
     "metadata": {},
     "output_type": "display_data"
    },
    {
     "data": {
      "application/vnd.jupyter.widget-view+json": {
       "model_id": "d84ee5a69d3347f78149e2012bcfdce4",
       "version_major": 2,
       "version_minor": 0
      },
      "text/plain": [
       "Feature_idx:   0%|          | 0/8 [00:00<?, ?it/s]"
      ]
     },
     "metadata": {},
     "output_type": "display_data"
    },
    {
     "data": {
      "application/vnd.jupyter.widget-view+json": {
       "model_id": "eab51ae5c94042e8aaef145507bd3791",
       "version_major": 2,
       "version_minor": 0
      },
      "text/plain": [
       "Feature_idx:   0%|          | 0/8 [00:00<?, ?it/s]"
      ]
     },
     "metadata": {},
     "output_type": "display_data"
    },
    {
     "data": {
      "application/vnd.jupyter.widget-view+json": {
       "model_id": "74dc01830bbb4073a7518878e662033f",
       "version_major": 2,
       "version_minor": 0
      },
      "text/plain": [
       "Feature_idx:   0%|          | 0/8 [00:00<?, ?it/s]"
      ]
     },
     "metadata": {},
     "output_type": "display_data"
    },
    {
     "data": {
      "application/vnd.jupyter.widget-view+json": {
       "model_id": "c274cecd083e46e5a0c2f547ea8a857d",
       "version_major": 2,
       "version_minor": 0
      },
      "text/plain": [
       "Feature_idx:   0%|          | 0/8 [00:00<?, ?it/s]"
      ]
     },
     "metadata": {},
     "output_type": "display_data"
    },
    {
     "data": {
      "application/vnd.jupyter.widget-view+json": {
       "model_id": "205a0f3a96f84c1e92349acbff022e55",
       "version_major": 2,
       "version_minor": 0
      },
      "text/plain": [
       "Clients:   0%|          | 0/4 [00:00<?, ?it/s]"
      ]
     },
     "metadata": {},
     "output_type": "display_data"
    },
    {
     "name": "stdout",
     "output_type": "stream",
     "text": [
      "(900, 8) (900,)\n"
     ]
    },
    {
     "name": "stderr",
     "output_type": "stream",
     "text": [
      "                                                                7.33it/s]\r"
     ]
    },
    {
     "name": "stdout",
     "output_type": "stream",
     "text": [
      "(900, 8) (900,)\n"
     ]
    },
    {
     "name": "stderr",
     "output_type": "stream",
     "text": [
      "                                                                9.57it/s]\r"
     ]
    },
    {
     "name": "stdout",
     "output_type": "stream",
     "text": [
      "(900, 8) (900,)\n"
     ]
    },
    {
     "name": "stderr",
     "output_type": "stream",
     "text": [
      "                                                                1.17it/s]\r"
     ]
    },
    {
     "data": {
      "application/vnd.jupyter.widget-view+json": {
       "model_id": "a8d7cfb8677c4869a64ea65306a64850",
       "version_major": 2,
       "version_minor": 0
      },
      "text/plain": [
       "ICE Iterations:   0%|          | 0/20 [00:00<?, ?it/s]"
      ]
     },
     "metadata": {},
     "output_type": "display_data"
    },
    {
     "data": {
      "application/vnd.jupyter.widget-view+json": {
       "model_id": "ee43ab43f31545128e20e1ad7094a8d4",
       "version_major": 2,
       "version_minor": 0
      },
      "text/plain": [
       "Feature_idx:   0%|          | 0/8 [00:00<?, ?it/s]"
      ]
     },
     "metadata": {},
     "output_type": "display_data"
    },
    {
     "data": {
      "application/vnd.jupyter.widget-view+json": {
       "model_id": "f1d4e66a0e624ef6a1f88f767be32c04",
       "version_major": 2,
       "version_minor": 0
      },
      "text/plain": [
       "Feature_idx:   0%|          | 0/8 [00:00<?, ?it/s]"
      ]
     },
     "metadata": {},
     "output_type": "display_data"
    },
    {
     "data": {
      "application/vnd.jupyter.widget-view+json": {
       "model_id": "e4bb9ad2e9dc49239801c85b91404f69",
       "version_major": 2,
       "version_minor": 0
      },
      "text/plain": [
       "Feature_idx:   0%|          | 0/8 [00:00<?, ?it/s]"
      ]
     },
     "metadata": {},
     "output_type": "display_data"
    },
    {
     "data": {
      "application/vnd.jupyter.widget-view+json": {
       "model_id": "608f9f3beaaa4cada6924a76fc2abfd8",
       "version_major": 2,
       "version_minor": 0
      },
      "text/plain": [
       "Feature_idx:   0%|          | 0/8 [00:00<?, ?it/s]"
      ]
     },
     "metadata": {},
     "output_type": "display_data"
    },
    {
     "data": {
      "application/vnd.jupyter.widget-view+json": {
       "model_id": "58b7ec064b974dc6a24b0197d254bc06",
       "version_major": 2,
       "version_minor": 0
      },
      "text/plain": [
       "Feature_idx:   0%|          | 0/8 [00:00<?, ?it/s]"
      ]
     },
     "metadata": {},
     "output_type": "display_data"
    },
    {
     "data": {
      "application/vnd.jupyter.widget-view+json": {
       "model_id": "c4ddee23153041f8a4bc8c8e39a4ea30",
       "version_major": 2,
       "version_minor": 0
      },
      "text/plain": [
       "Feature_idx:   0%|          | 0/8 [00:00<?, ?it/s]"
      ]
     },
     "metadata": {},
     "output_type": "display_data"
    },
    {
     "data": {
      "application/vnd.jupyter.widget-view+json": {
       "model_id": "21e2d0de92514270bf37f153521d85a5",
       "version_major": 2,
       "version_minor": 0
      },
      "text/plain": [
       "Feature_idx:   0%|          | 0/8 [00:00<?, ?it/s]"
      ]
     },
     "metadata": {},
     "output_type": "display_data"
    },
    {
     "data": {
      "application/vnd.jupyter.widget-view+json": {
       "model_id": "4591357b18de4230a196d23a90c1fa1b",
       "version_major": 2,
       "version_minor": 0
      },
      "text/plain": [
       "Feature_idx:   0%|          | 0/8 [00:00<?, ?it/s]"
      ]
     },
     "metadata": {},
     "output_type": "display_data"
    },
    {
     "data": {
      "application/vnd.jupyter.widget-view+json": {
       "model_id": "7e05c0c7d9494529a3d422fa83dca57f",
       "version_major": 2,
       "version_minor": 0
      },
      "text/plain": [
       "Feature_idx:   0%|          | 0/8 [00:00<?, ?it/s]"
      ]
     },
     "metadata": {},
     "output_type": "display_data"
    },
    {
     "data": {
      "application/vnd.jupyter.widget-view+json": {
       "model_id": "002c79ad58b34e81bb9d84075d1e7253",
       "version_major": 2,
       "version_minor": 0
      },
      "text/plain": [
       "Feature_idx:   0%|          | 0/8 [00:00<?, ?it/s]"
      ]
     },
     "metadata": {},
     "output_type": "display_data"
    },
    {
     "data": {
      "application/vnd.jupyter.widget-view+json": {
       "model_id": "70b6543c4e48488d8cb8260565a1226d",
       "version_major": 2,
       "version_minor": 0
      },
      "text/plain": [
       "Clients:   0%|          | 0/4 [00:00<?, ?it/s]"
      ]
     },
     "metadata": {},
     "output_type": "display_data"
    },
    {
     "name": "stdout",
     "output_type": "stream",
     "text": [
      "(900, 8) (900,)\n"
     ]
    },
    {
     "name": "stderr",
     "output_type": "stream",
     "text": [
      "                                                                9.50it/s]\r"
     ]
    },
    {
     "name": "stdout",
     "output_type": "stream",
     "text": [
      "(900, 8) (900,)\n"
     ]
    },
    {
     "name": "stderr",
     "output_type": "stream",
     "text": [
      "                                                                0.68it/s]\r"
     ]
    },
    {
     "name": "stdout",
     "output_type": "stream",
     "text": [
      "(900, 8) (900,)\n"
     ]
    },
    {
     "name": "stderr",
     "output_type": "stream",
     "text": [
      "                                                                1.24it/s]\r"
     ]
    },
    {
     "data": {
      "application/vnd.jupyter.widget-view+json": {
       "model_id": "816462bf52a142fd9a94fc84b2398c01",
       "version_major": 2,
       "version_minor": 0
      },
      "text/plain": [
       "ICE Iterations:   0%|          | 0/20 [00:00<?, ?it/s]"
      ]
     },
     "metadata": {},
     "output_type": "display_data"
    },
    {
     "data": {
      "application/vnd.jupyter.widget-view+json": {
       "model_id": "a0a41bb0fab541b88f2387bc49fbfc4a",
       "version_major": 2,
       "version_minor": 0
      },
      "text/plain": [
       "Feature_idx:   0%|          | 0/8 [00:00<?, ?it/s]"
      ]
     },
     "metadata": {},
     "output_type": "display_data"
    },
    {
     "data": {
      "application/vnd.jupyter.widget-view+json": {
       "model_id": "ab03f7cae13f4e3aa627ff23d3e8b487",
       "version_major": 2,
       "version_minor": 0
      },
      "text/plain": [
       "Feature_idx:   0%|          | 0/8 [00:00<?, ?it/s]"
      ]
     },
     "metadata": {},
     "output_type": "display_data"
    },
    {
     "data": {
      "application/vnd.jupyter.widget-view+json": {
       "model_id": "c21fc6b93b66453cb422e9120e7b9b7f",
       "version_major": 2,
       "version_minor": 0
      },
      "text/plain": [
       "Feature_idx:   0%|          | 0/8 [00:00<?, ?it/s]"
      ]
     },
     "metadata": {},
     "output_type": "display_data"
    },
    {
     "data": {
      "application/vnd.jupyter.widget-view+json": {
       "model_id": "5038ce29b57048ba88750ab1a4635cd0",
       "version_major": 2,
       "version_minor": 0
      },
      "text/plain": [
       "Feature_idx:   0%|          | 0/8 [00:00<?, ?it/s]"
      ]
     },
     "metadata": {},
     "output_type": "display_data"
    },
    {
     "data": {
      "application/vnd.jupyter.widget-view+json": {
       "model_id": "2e328048d5804c7a83573b6ffee36159",
       "version_major": 2,
       "version_minor": 0
      },
      "text/plain": [
       "Feature_idx:   0%|          | 0/8 [00:00<?, ?it/s]"
      ]
     },
     "metadata": {},
     "output_type": "display_data"
    },
    {
     "data": {
      "application/vnd.jupyter.widget-view+json": {
       "model_id": "c06dc9ae10444b94a2a7ee2c0b0ffdaf",
       "version_major": 2,
       "version_minor": 0
      },
      "text/plain": [
       "Feature_idx:   0%|          | 0/8 [00:00<?, ?it/s]"
      ]
     },
     "metadata": {},
     "output_type": "display_data"
    },
    {
     "data": {
      "application/vnd.jupyter.widget-view+json": {
       "model_id": "8824cc7dad99414581fbff4ad7af09eb",
       "version_major": 2,
       "version_minor": 0
      },
      "text/plain": [
       "Feature_idx:   0%|          | 0/8 [00:00<?, ?it/s]"
      ]
     },
     "metadata": {},
     "output_type": "display_data"
    },
    {
     "data": {
      "application/vnd.jupyter.widget-view+json": {
       "model_id": "222760ff82774f14a09b79c837fcbafc",
       "version_major": 2,
       "version_minor": 0
      },
      "text/plain": [
       "Feature_idx:   0%|          | 0/8 [00:00<?, ?it/s]"
      ]
     },
     "metadata": {},
     "output_type": "display_data"
    },
    {
     "data": {
      "application/vnd.jupyter.widget-view+json": {
       "model_id": "25f473140f744da39aa7a03610f0f099",
       "version_major": 2,
       "version_minor": 0
      },
      "text/plain": [
       "Feature_idx:   0%|          | 0/8 [00:00<?, ?it/s]"
      ]
     },
     "metadata": {},
     "output_type": "display_data"
    },
    {
     "data": {
      "application/vnd.jupyter.widget-view+json": {
       "model_id": "2b15933bd7e449dc97bf589ca093e6df",
       "version_major": 2,
       "version_minor": 0
      },
      "text/plain": [
       "Clients:   0%|          | 0/4 [00:00<?, ?it/s]"
      ]
     },
     "metadata": {},
     "output_type": "display_data"
    },
    {
     "name": "stdout",
     "output_type": "stream",
     "text": [
      "(900, 8) (900,)\n"
     ]
    },
    {
     "name": "stderr",
     "output_type": "stream",
     "text": [
      "                                                                9.52it/s]\r"
     ]
    },
    {
     "name": "stdout",
     "output_type": "stream",
     "text": [
      "(900, 8) (900,)\n"
     ]
    },
    {
     "name": "stderr",
     "output_type": "stream",
     "text": [
      "                                                                0.01it/s]\r"
     ]
    },
    {
     "name": "stdout",
     "output_type": "stream",
     "text": [
      "(900, 8) (900,)\n"
     ]
    },
    {
     "name": "stderr",
     "output_type": "stream",
     "text": [
      "                                                                7.67it/s]\r"
     ]
    },
    {
     "data": {
      "application/vnd.jupyter.widget-view+json": {
       "model_id": "2c1a5d3abb99482bb063facd7214746f",
       "version_major": 2,
       "version_minor": 0
      },
      "text/plain": [
       "ICE Iterations:   0%|          | 0/20 [00:00<?, ?it/s]"
      ]
     },
     "metadata": {},
     "output_type": "display_data"
    },
    {
     "data": {
      "application/vnd.jupyter.widget-view+json": {
       "model_id": "861ec524409d4cfdbbdb2d3f5937dcc4",
       "version_major": 2,
       "version_minor": 0
      },
      "text/plain": [
       "Feature_idx:   0%|          | 0/8 [00:00<?, ?it/s]"
      ]
     },
     "metadata": {},
     "output_type": "display_data"
    },
    {
     "data": {
      "application/vnd.jupyter.widget-view+json": {
       "model_id": "a5e9d1f3484c44f2b11b60cec14df41e",
       "version_major": 2,
       "version_minor": 0
      },
      "text/plain": [
       "Feature_idx:   0%|          | 0/8 [00:00<?, ?it/s]"
      ]
     },
     "metadata": {},
     "output_type": "display_data"
    },
    {
     "data": {
      "application/vnd.jupyter.widget-view+json": {
       "model_id": "2ddc1d434f4c4503ad1b6e03c2b4d4be",
       "version_major": 2,
       "version_minor": 0
      },
      "text/plain": [
       "Feature_idx:   0%|          | 0/8 [00:00<?, ?it/s]"
      ]
     },
     "metadata": {},
     "output_type": "display_data"
    },
    {
     "data": {
      "application/vnd.jupyter.widget-view+json": {
       "model_id": "7c60eddfe09a4688a67fb437520ffde8",
       "version_major": 2,
       "version_minor": 0
      },
      "text/plain": [
       "Feature_idx:   0%|          | 0/8 [00:00<?, ?it/s]"
      ]
     },
     "metadata": {},
     "output_type": "display_data"
    },
    {
     "data": {
      "application/vnd.jupyter.widget-view+json": {
       "model_id": "a4b4379e0e5e4793b7ca06113a922dfa",
       "version_major": 2,
       "version_minor": 0
      },
      "text/plain": [
       "Feature_idx:   0%|          | 0/8 [00:00<?, ?it/s]"
      ]
     },
     "metadata": {},
     "output_type": "display_data"
    },
    {
     "data": {
      "application/vnd.jupyter.widget-view+json": {
       "model_id": "8ba05afec4c249e893b1f0536963d5b1",
       "version_major": 2,
       "version_minor": 0
      },
      "text/plain": [
       "Feature_idx:   0%|          | 0/8 [00:00<?, ?it/s]"
      ]
     },
     "metadata": {},
     "output_type": "display_data"
    },
    {
     "data": {
      "application/vnd.jupyter.widget-view+json": {
       "model_id": "865b2970cbf5450a8fca8beed58077f1",
       "version_major": 2,
       "version_minor": 0
      },
      "text/plain": [
       "Feature_idx:   0%|          | 0/8 [00:00<?, ?it/s]"
      ]
     },
     "metadata": {},
     "output_type": "display_data"
    },
    {
     "data": {
      "application/vnd.jupyter.widget-view+json": {
       "model_id": "568ec423d20e445db50714aee2bdefd1",
       "version_major": 2,
       "version_minor": 0
      },
      "text/plain": [
       "Feature_idx:   0%|          | 0/8 [00:00<?, ?it/s]"
      ]
     },
     "metadata": {},
     "output_type": "display_data"
    },
    {
     "data": {
      "application/vnd.jupyter.widget-view+json": {
       "model_id": "71fd51102288497380a6198bd9a3c3b2",
       "version_major": 2,
       "version_minor": 0
      },
      "text/plain": [
       "Feature_idx:   0%|          | 0/8 [00:00<?, ?it/s]"
      ]
     },
     "metadata": {},
     "output_type": "display_data"
    },
    {
     "data": {
      "application/vnd.jupyter.widget-view+json": {
       "model_id": "a5c6bd19547a4c6899fac159a52072a2",
       "version_major": 2,
       "version_minor": 0
      },
      "text/plain": [
       "Clients:   0%|          | 0/4 [00:00<?, ?it/s]"
      ]
     },
     "metadata": {},
     "output_type": "display_data"
    },
    {
     "name": "stdout",
     "output_type": "stream",
     "text": [
      "(900, 8) (900,)\n"
     ]
    },
    {
     "name": "stderr",
     "output_type": "stream",
     "text": [
      "                                                                3.03it/s]\r"
     ]
    },
    {
     "name": "stdout",
     "output_type": "stream",
     "text": [
      "(900, 8) (900,)\n"
     ]
    },
    {
     "name": "stderr",
     "output_type": "stream",
     "text": [
      "                                                                8.76it/s]\r"
     ]
    },
    {
     "name": "stdout",
     "output_type": "stream",
     "text": [
      "(900, 8) (900,)\n"
     ]
    },
    {
     "name": "stderr",
     "output_type": "stream",
     "text": [
      "                                                                8.50it/s]\r"
     ]
    },
    {
     "data": {
      "application/vnd.jupyter.widget-view+json": {
       "model_id": "af2a6a9e3af84992b2418218b2a2f691",
       "version_major": 2,
       "version_minor": 0
      },
      "text/plain": [
       "ICE Iterations:   0%|          | 0/20 [00:00<?, ?it/s]"
      ]
     },
     "metadata": {},
     "output_type": "display_data"
    },
    {
     "data": {
      "application/vnd.jupyter.widget-view+json": {
       "model_id": "b5517f8b97504e70b9a24c0580593b40",
       "version_major": 2,
       "version_minor": 0
      },
      "text/plain": [
       "Feature_idx:   0%|          | 0/8 [00:00<?, ?it/s]"
      ]
     },
     "metadata": {},
     "output_type": "display_data"
    },
    {
     "data": {
      "application/vnd.jupyter.widget-view+json": {
       "model_id": "79cd9637a8e748fcbd1a7e67e6f582e1",
       "version_major": 2,
       "version_minor": 0
      },
      "text/plain": [
       "Feature_idx:   0%|          | 0/8 [00:00<?, ?it/s]"
      ]
     },
     "metadata": {},
     "output_type": "display_data"
    },
    {
     "data": {
      "application/vnd.jupyter.widget-view+json": {
       "model_id": "27fdd07c166f4309a011e173ff2cde5e",
       "version_major": 2,
       "version_minor": 0
      },
      "text/plain": [
       "Feature_idx:   0%|          | 0/8 [00:00<?, ?it/s]"
      ]
     },
     "metadata": {},
     "output_type": "display_data"
    },
    {
     "data": {
      "application/vnd.jupyter.widget-view+json": {
       "model_id": "00181e52dab9410d992d601a33b51c04",
       "version_major": 2,
       "version_minor": 0
      },
      "text/plain": [
       "Feature_idx:   0%|          | 0/8 [00:00<?, ?it/s]"
      ]
     },
     "metadata": {},
     "output_type": "display_data"
    },
    {
     "data": {
      "application/vnd.jupyter.widget-view+json": {
       "model_id": "b8dfe8277d4e4a2fbfa989bfb73e716f",
       "version_major": 2,
       "version_minor": 0
      },
      "text/plain": [
       "Feature_idx:   0%|          | 0/8 [00:00<?, ?it/s]"
      ]
     },
     "metadata": {},
     "output_type": "display_data"
    },
    {
     "data": {
      "application/vnd.jupyter.widget-view+json": {
       "model_id": "09433ce87b2648dcbd4ac8dbb5f0ed3e",
       "version_major": 2,
       "version_minor": 0
      },
      "text/plain": [
       "Feature_idx:   0%|          | 0/8 [00:00<?, ?it/s]"
      ]
     },
     "metadata": {},
     "output_type": "display_data"
    },
    {
     "data": {
      "application/vnd.jupyter.widget-view+json": {
       "model_id": "6fefeea643b64a6f80974ffa993ee740",
       "version_major": 2,
       "version_minor": 0
      },
      "text/plain": [
       "Feature_idx:   0%|          | 0/8 [00:00<?, ?it/s]"
      ]
     },
     "metadata": {},
     "output_type": "display_data"
    },
    {
     "data": {
      "application/vnd.jupyter.widget-view+json": {
       "model_id": "9e8600dc20e14b9793c23b5537ca18d3",
       "version_major": 2,
       "version_minor": 0
      },
      "text/plain": [
       "Feature_idx:   0%|          | 0/8 [00:00<?, ?it/s]"
      ]
     },
     "metadata": {},
     "output_type": "display_data"
    },
    {
     "data": {
      "application/vnd.jupyter.widget-view+json": {
       "model_id": "d22ef012a9834b749c654f5853791d46",
       "version_major": 2,
       "version_minor": 0
      },
      "text/plain": [
       "Feature_idx:   0%|          | 0/8 [00:00<?, ?it/s]"
      ]
     },
     "metadata": {},
     "output_type": "display_data"
    },
    {
     "data": {
      "application/vnd.jupyter.widget-view+json": {
       "model_id": "ddef37516995446b98873d852771b1e6",
       "version_major": 2,
       "version_minor": 0
      },
      "text/plain": [
       "Clients:   0%|          | 0/4 [00:00<?, ?it/s]"
      ]
     },
     "metadata": {},
     "output_type": "display_data"
    },
    {
     "name": "stdout",
     "output_type": "stream",
     "text": [
      "(900, 8) (900,)\n"
     ]
    },
    {
     "name": "stderr",
     "output_type": "stream",
     "text": [
      "                                                                1.89it/s]\r"
     ]
    },
    {
     "name": "stdout",
     "output_type": "stream",
     "text": [
      "(900, 8) (900,)\n"
     ]
    },
    {
     "name": "stderr",
     "output_type": "stream",
     "text": [
      "                                                                0.47it/s]\r"
     ]
    },
    {
     "name": "stdout",
     "output_type": "stream",
     "text": [
      "(900, 8) (900,)\n"
     ]
    },
    {
     "name": "stderr",
     "output_type": "stream",
     "text": [
      "                                                                8.40it/s]\r"
     ]
    },
    {
     "data": {
      "application/vnd.jupyter.widget-view+json": {
       "model_id": "bfacb74588ac40be89b9f89d47592939",
       "version_major": 2,
       "version_minor": 0
      },
      "text/plain": [
       "ICE Iterations:   0%|          | 0/20 [00:00<?, ?it/s]"
      ]
     },
     "metadata": {},
     "output_type": "display_data"
    },
    {
     "data": {
      "application/vnd.jupyter.widget-view+json": {
       "model_id": "a8823b951de44b9e99b9ecc538b767ac",
       "version_major": 2,
       "version_minor": 0
      },
      "text/plain": [
       "Feature_idx:   0%|          | 0/8 [00:00<?, ?it/s]"
      ]
     },
     "metadata": {},
     "output_type": "display_data"
    },
    {
     "data": {
      "application/vnd.jupyter.widget-view+json": {
       "model_id": "96caa4edcb564e158d82b3f4e1e4809d",
       "version_major": 2,
       "version_minor": 0
      },
      "text/plain": [
       "Feature_idx:   0%|          | 0/8 [00:00<?, ?it/s]"
      ]
     },
     "metadata": {},
     "output_type": "display_data"
    },
    {
     "data": {
      "application/vnd.jupyter.widget-view+json": {
       "model_id": "4b158c086173410fb035adde0fc3a247",
       "version_major": 2,
       "version_minor": 0
      },
      "text/plain": [
       "Feature_idx:   0%|          | 0/8 [00:00<?, ?it/s]"
      ]
     },
     "metadata": {},
     "output_type": "display_data"
    },
    {
     "data": {
      "application/vnd.jupyter.widget-view+json": {
       "model_id": "191d63f42161403f9d29734d99008786",
       "version_major": 2,
       "version_minor": 0
      },
      "text/plain": [
       "Feature_idx:   0%|          | 0/8 [00:00<?, ?it/s]"
      ]
     },
     "metadata": {},
     "output_type": "display_data"
    },
    {
     "data": {
      "application/vnd.jupyter.widget-view+json": {
       "model_id": "b14ac3ac0f774556a0e09e1ed4581485",
       "version_major": 2,
       "version_minor": 0
      },
      "text/plain": [
       "Feature_idx:   0%|          | 0/8 [00:00<?, ?it/s]"
      ]
     },
     "metadata": {},
     "output_type": "display_data"
    },
    {
     "data": {
      "application/vnd.jupyter.widget-view+json": {
       "model_id": "484ec4311b2b43b3aae8ac447deb860c",
       "version_major": 2,
       "version_minor": 0
      },
      "text/plain": [
       "Feature_idx:   0%|          | 0/8 [00:00<?, ?it/s]"
      ]
     },
     "metadata": {},
     "output_type": "display_data"
    },
    {
     "data": {
      "application/vnd.jupyter.widget-view+json": {
       "model_id": "083acd9ac24f4a55a341f33ca62c4cfe",
       "version_major": 2,
       "version_minor": 0
      },
      "text/plain": [
       "Feature_idx:   0%|          | 0/8 [00:00<?, ?it/s]"
      ]
     },
     "metadata": {},
     "output_type": "display_data"
    },
    {
     "data": {
      "application/vnd.jupyter.widget-view+json": {
       "model_id": "aa317c2d35364665aab76bef6d1b9adf",
       "version_major": 2,
       "version_minor": 0
      },
      "text/plain": [
       "Feature_idx:   0%|          | 0/8 [00:00<?, ?it/s]"
      ]
     },
     "metadata": {},
     "output_type": "display_data"
    },
    {
     "data": {
      "application/vnd.jupyter.widget-view+json": {
       "model_id": "48ea3ad3e7534adfa2087d71a3032239",
       "version_major": 2,
       "version_minor": 0
      },
      "text/plain": [
       "Feature_idx:   0%|          | 0/8 [00:00<?, ?it/s]"
      ]
     },
     "metadata": {},
     "output_type": "display_data"
    },
    {
     "data": {
      "application/vnd.jupyter.widget-view+json": {
       "model_id": "e76b2f80c60c4c2eac4e8c98785c07a7",
       "version_major": 2,
       "version_minor": 0
      },
      "text/plain": [
       "Clients:   0%|          | 0/4 [00:00<?, ?it/s]"
      ]
     },
     "metadata": {},
     "output_type": "display_data"
    },
    {
     "name": "stdout",
     "output_type": "stream",
     "text": [
      "(900, 8) (900,)\n"
     ]
    },
    {
     "name": "stderr",
     "output_type": "stream",
     "text": [
      "                                                                1.50it/s]\r"
     ]
    },
    {
     "name": "stdout",
     "output_type": "stream",
     "text": [
      "(900, 8) (900,)\n"
     ]
    },
    {
     "name": "stderr",
     "output_type": "stream",
     "text": [
      "                                                                2.75it/s]\r"
     ]
    },
    {
     "name": "stdout",
     "output_type": "stream",
     "text": [
      "(900, 8) (900,)\n"
     ]
    },
    {
     "name": "stderr",
     "output_type": "stream",
     "text": [
      "                                                                2.21it/s]\r"
     ]
    },
    {
     "data": {
      "application/vnd.jupyter.widget-view+json": {
       "model_id": "793a2355d1644b45834fbdd2da5ad622",
       "version_major": 2,
       "version_minor": 0
      },
      "text/plain": [
       "ICE Iterations:   0%|          | 0/20 [00:00<?, ?it/s]"
      ]
     },
     "metadata": {},
     "output_type": "display_data"
    },
    {
     "data": {
      "application/vnd.jupyter.widget-view+json": {
       "model_id": "e9acbc126f584444bbca7f5f332743ac",
       "version_major": 2,
       "version_minor": 0
      },
      "text/plain": [
       "Feature_idx:   0%|          | 0/8 [00:00<?, ?it/s]"
      ]
     },
     "metadata": {},
     "output_type": "display_data"
    },
    {
     "data": {
      "application/vnd.jupyter.widget-view+json": {
       "model_id": "251d623122414a9eba128a05eec358a6",
       "version_major": 2,
       "version_minor": 0
      },
      "text/plain": [
       "Feature_idx:   0%|          | 0/8 [00:00<?, ?it/s]"
      ]
     },
     "metadata": {},
     "output_type": "display_data"
    },
    {
     "data": {
      "application/vnd.jupyter.widget-view+json": {
       "model_id": "cf5b2a1758184189991463626b4ed29a",
       "version_major": 2,
       "version_minor": 0
      },
      "text/plain": [
       "Feature_idx:   0%|          | 0/8 [00:00<?, ?it/s]"
      ]
     },
     "metadata": {},
     "output_type": "display_data"
    },
    {
     "data": {
      "application/vnd.jupyter.widget-view+json": {
       "model_id": "917c9bcbec5643dba8209e77adbae6e0",
       "version_major": 2,
       "version_minor": 0
      },
      "text/plain": [
       "Feature_idx:   0%|          | 0/8 [00:00<?, ?it/s]"
      ]
     },
     "metadata": {},
     "output_type": "display_data"
    },
    {
     "data": {
      "application/vnd.jupyter.widget-view+json": {
       "model_id": "04b3b9d9172246f9929fe061d15c035a",
       "version_major": 2,
       "version_minor": 0
      },
      "text/plain": [
       "Feature_idx:   0%|          | 0/8 [00:00<?, ?it/s]"
      ]
     },
     "metadata": {},
     "output_type": "display_data"
    },
    {
     "data": {
      "application/vnd.jupyter.widget-view+json": {
       "model_id": "f7e4d145649243cea098d53914077e2a",
       "version_major": 2,
       "version_minor": 0
      },
      "text/plain": [
       "Feature_idx:   0%|          | 0/8 [00:00<?, ?it/s]"
      ]
     },
     "metadata": {},
     "output_type": "display_data"
    },
    {
     "data": {
      "application/vnd.jupyter.widget-view+json": {
       "model_id": "c9dae09d47bc4c0c97e88161f936db86",
       "version_major": 2,
       "version_minor": 0
      },
      "text/plain": [
       "Feature_idx:   0%|          | 0/8 [00:00<?, ?it/s]"
      ]
     },
     "metadata": {},
     "output_type": "display_data"
    },
    {
     "data": {
      "application/vnd.jupyter.widget-view+json": {
       "model_id": "1cfcbd9c305f458ab1118a692537d6c6",
       "version_major": 2,
       "version_minor": 0
      },
      "text/plain": [
       "Feature_idx:   0%|          | 0/8 [00:00<?, ?it/s]"
      ]
     },
     "metadata": {},
     "output_type": "display_data"
    },
    {
     "data": {
      "application/vnd.jupyter.widget-view+json": {
       "model_id": "11b834423b6c416ab90ae179343a809e",
       "version_major": 2,
       "version_minor": 0
      },
      "text/plain": [
       "Feature_idx:   0%|          | 0/8 [00:00<?, ?it/s]"
      ]
     },
     "metadata": {},
     "output_type": "display_data"
    },
    {
     "data": {
      "application/vnd.jupyter.widget-view+json": {
       "model_id": "78242703d3bf485b97f09d1f6ec6d96d",
       "version_major": 2,
       "version_minor": 0
      },
      "text/plain": [
       "Clients:   0%|          | 0/4 [00:00<?, ?it/s]"
      ]
     },
     "metadata": {},
     "output_type": "display_data"
    },
    {
     "name": "stdout",
     "output_type": "stream",
     "text": [
      "(900, 8) (900,)\n"
     ]
    },
    {
     "name": "stderr",
     "output_type": "stream",
     "text": [
      "                                                                1.65it/s]\r"
     ]
    },
    {
     "name": "stdout",
     "output_type": "stream",
     "text": [
      "(900, 8) (900,)\n"
     ]
    },
    {
     "name": "stderr",
     "output_type": "stream",
     "text": [
      "                                                                1.30it/s]\r"
     ]
    },
    {
     "name": "stdout",
     "output_type": "stream",
     "text": [
      "(900, 8) (900,)\n"
     ]
    },
    {
     "name": "stderr",
     "output_type": "stream",
     "text": [
      "                                                                9.86it/s]\r"
     ]
    },
    {
     "data": {
      "application/vnd.jupyter.widget-view+json": {
       "model_id": "2430003a850f4f418168633f04735511",
       "version_major": 2,
       "version_minor": 0
      },
      "text/plain": [
       "Global Epoch:   0%|          | 0/300 [00:00<?, ?it/s]"
      ]
     },
     "metadata": {},
     "output_type": "display_data"
    },
    {
     "data": {
      "application/vnd.jupyter.widget-view+json": {
       "model_id": "bc50bb2463824f10aaabd5790b0503a7",
       "version_major": 2,
       "version_minor": 0
      },
      "text/plain": [
       "Fine Tuning Epoch: 0it [00:00, ?it/s]"
      ]
     },
     "metadata": {},
     "output_type": "display_data"
    },
    {
     "data": {
      "application/vnd.jupyter.widget-view+json": {
       "model_id": "850f021ceabe4c2fa4049f9a3b3f4d76",
       "version_major": 2,
       "version_minor": 0
      },
      "text/plain": [
       "Clients:   0%|          | 0/4 [00:00<?, ?it/s]"
      ]
     },
     "metadata": {},
     "output_type": "display_data"
    },
    {
     "name": "stdout",
     "output_type": "stream",
     "text": [
      "(900, 8) (900,)\n"
     ]
    },
    {
     "name": "stderr",
     "output_type": "stream",
     "text": [
      "                                                                3.95it/s]\r"
     ]
    },
    {
     "name": "stdout",
     "output_type": "stream",
     "text": [
      "(900, 8) (900,)\n"
     ]
    },
    {
     "name": "stderr",
     "output_type": "stream",
     "text": [
      "                                                                2.30it/s]\r"
     ]
    },
    {
     "name": "stdout",
     "output_type": "stream",
     "text": [
      "(900, 8) (900,)\n"
     ]
    },
    {
     "name": "stderr",
     "output_type": "stream",
     "text": [
      "                                                                8.30it/s]\r"
     ]
    },
    {
     "data": {
      "application/vnd.jupyter.widget-view+json": {
       "model_id": "49af260031b3427d8d2d271dad950ea0",
       "version_major": 2,
       "version_minor": 0
      },
      "text/plain": [
       "Global Epoch:   0%|          | 0/300 [00:00<?, ?it/s]"
      ]
     },
     "metadata": {},
     "output_type": "display_data"
    },
    {
     "data": {
      "application/vnd.jupyter.widget-view+json": {
       "model_id": "e1b8a6cd3d11467fb6653cebf87072ad",
       "version_major": 2,
       "version_minor": 0
      },
      "text/plain": [
       "Fine Tuning Epoch: 0it [00:00, ?it/s]"
      ]
     },
     "metadata": {},
     "output_type": "display_data"
    },
    {
     "data": {
      "application/vnd.jupyter.widget-view+json": {
       "model_id": "4ff195e4c4bd436ca26ae903cbdb070a",
       "version_major": 2,
       "version_minor": 0
      },
      "text/plain": [
       "Clients:   0%|          | 0/4 [00:00<?, ?it/s]"
      ]
     },
     "metadata": {},
     "output_type": "display_data"
    },
    {
     "name": "stdout",
     "output_type": "stream",
     "text": [
      "(900, 8) (900,)\n"
     ]
    },
    {
     "name": "stderr",
     "output_type": "stream",
     "text": [
      "                                                                6.05it/s]\r"
     ]
    },
    {
     "name": "stdout",
     "output_type": "stream",
     "text": [
      "(900, 8) (900,)\n"
     ]
    },
    {
     "name": "stderr",
     "output_type": "stream",
     "text": [
      "                                                                3.53it/s]\r"
     ]
    },
    {
     "name": "stdout",
     "output_type": "stream",
     "text": [
      "(900, 8) (900,)\n"
     ]
    },
    {
     "name": "stderr",
     "output_type": "stream",
     "text": [
      "                                                                7.80it/s]\r"
     ]
    },
    {
     "data": {
      "application/vnd.jupyter.widget-view+json": {
       "model_id": "83044926031f4618b27a844ff2734f80",
       "version_major": 2,
       "version_minor": 0
      },
      "text/plain": [
       "Global Epoch:   0%|          | 0/300 [00:00<?, ?it/s]"
      ]
     },
     "metadata": {},
     "output_type": "display_data"
    },
    {
     "data": {
      "application/vnd.jupyter.widget-view+json": {
       "model_id": "11a00bd210f4412bb1284bc089dea7a5",
       "version_major": 2,
       "version_minor": 0
      },
      "text/plain": [
       "Fine Tuning Epoch: 0it [00:00, ?it/s]"
      ]
     },
     "metadata": {},
     "output_type": "display_data"
    },
    {
     "data": {
      "application/vnd.jupyter.widget-view+json": {
       "model_id": "152741cc86d1485ba3a3f486c58a8221",
       "version_major": 2,
       "version_minor": 0
      },
      "text/plain": [
       "Clients:   0%|          | 0/4 [00:00<?, ?it/s]"
      ]
     },
     "metadata": {},
     "output_type": "display_data"
    },
    {
     "name": "stdout",
     "output_type": "stream",
     "text": [
      "(900, 8) (900,)\n"
     ]
    },
    {
     "name": "stderr",
     "output_type": "stream",
     "text": [
      "                                                                4.71it/s]\r"
     ]
    },
    {
     "name": "stdout",
     "output_type": "stream",
     "text": [
      "(900, 8) (900,)\n"
     ]
    },
    {
     "name": "stderr",
     "output_type": "stream",
     "text": [
      "                                                                1.43it/s]\r"
     ]
    },
    {
     "name": "stdout",
     "output_type": "stream",
     "text": [
      "(900, 8) (900,)\n"
     ]
    },
    {
     "name": "stderr",
     "output_type": "stream",
     "text": [
      "                                                                9.16it/s]\r"
     ]
    },
    {
     "data": {
      "application/vnd.jupyter.widget-view+json": {
       "model_id": "34e344ddb0e844c7ac52536115cc2da5",
       "version_major": 2,
       "version_minor": 0
      },
      "text/plain": [
       "Global Epoch:   0%|          | 0/300 [00:00<?, ?it/s]"
      ]
     },
     "metadata": {},
     "output_type": "display_data"
    },
    {
     "data": {
      "application/vnd.jupyter.widget-view+json": {
       "model_id": "66642c367b5848bca1ea5fd720ac6ed0",
       "version_major": 2,
       "version_minor": 0
      },
      "text/plain": [
       "Fine Tuning Epoch: 0it [00:00, ?it/s]"
      ]
     },
     "metadata": {},
     "output_type": "display_data"
    },
    {
     "data": {
      "application/vnd.jupyter.widget-view+json": {
       "model_id": "9ae979354fc149319ebb77e41669064f",
       "version_major": 2,
       "version_minor": 0
      },
      "text/plain": [
       "Clients:   0%|          | 0/4 [00:00<?, ?it/s]"
      ]
     },
     "metadata": {},
     "output_type": "display_data"
    },
    {
     "name": "stdout",
     "output_type": "stream",
     "text": [
      "(900, 8) (900,)\n"
     ]
    },
    {
     "name": "stderr",
     "output_type": "stream",
     "text": [
      "                                                                1.26it/s]\r"
     ]
    },
    {
     "name": "stdout",
     "output_type": "stream",
     "text": [
      "(900, 8) (900,)\n"
     ]
    },
    {
     "name": "stderr",
     "output_type": "stream",
     "text": [
      "                                                                7.22it/s]\r"
     ]
    },
    {
     "name": "stdout",
     "output_type": "stream",
     "text": [
      "(900, 8) (900,)\n"
     ]
    },
    {
     "name": "stderr",
     "output_type": "stream",
     "text": [
      "                                                                9.59it/s]\r"
     ]
    },
    {
     "data": {
      "application/vnd.jupyter.widget-view+json": {
       "model_id": "f78a3b2d26ad4dfca08418b6b5ae8b4a",
       "version_major": 2,
       "version_minor": 0
      },
      "text/plain": [
       "Global Epoch:   0%|          | 0/300 [00:00<?, ?it/s]"
      ]
     },
     "metadata": {},
     "output_type": "display_data"
    },
    {
     "data": {
      "application/vnd.jupyter.widget-view+json": {
       "model_id": "dc9fe1067e354052bf9849dd68a8c7e0",
       "version_major": 2,
       "version_minor": 0
      },
      "text/plain": [
       "Fine Tuning Epoch: 0it [00:00, ?it/s]"
      ]
     },
     "metadata": {},
     "output_type": "display_data"
    },
    {
     "data": {
      "application/vnd.jupyter.widget-view+json": {
       "model_id": "328d83e8a48e4dbd89d1242c68dbf9fa",
       "version_major": 2,
       "version_minor": 0
      },
      "text/plain": [
       "Clients:   0%|          | 0/4 [00:00<?, ?it/s]"
      ]
     },
     "metadata": {},
     "output_type": "display_data"
    },
    {
     "name": "stdout",
     "output_type": "stream",
     "text": [
      "(900, 8) (900,)\n"
     ]
    },
    {
     "name": "stderr",
     "output_type": "stream",
     "text": [
      "                                                                0.29it/s]\r"
     ]
    },
    {
     "name": "stdout",
     "output_type": "stream",
     "text": [
      "(900, 8) (900,)\n"
     ]
    },
    {
     "name": "stderr",
     "output_type": "stream",
     "text": [
      "                                                                8.39it/s]\r"
     ]
    },
    {
     "name": "stdout",
     "output_type": "stream",
     "text": [
      "(900, 8) (900,)\n"
     ]
    },
    {
     "name": "stderr",
     "output_type": "stream",
     "text": [
      "                                                                8.35it/s]\r"
     ]
    },
    {
     "data": {
      "application/vnd.jupyter.widget-view+json": {
       "model_id": "2d9bde1398de42aba0acc9070c91c543",
       "version_major": 2,
       "version_minor": 0
      },
      "text/plain": [
       "Global Epoch:   0%|          | 0/300 [00:00<?, ?it/s]"
      ]
     },
     "metadata": {},
     "output_type": "display_data"
    },
    {
     "data": {
      "application/vnd.jupyter.widget-view+json": {
       "model_id": "e815a67b204444069c6235f6799ef97c",
       "version_major": 2,
       "version_minor": 0
      },
      "text/plain": [
       "Fine Tuning Epoch: 0it [00:00, ?it/s]"
      ]
     },
     "metadata": {},
     "output_type": "display_data"
    },
    {
     "data": {
      "application/vnd.jupyter.widget-view+json": {
       "model_id": "f31563a882e44ad69d185d26db574c57",
       "version_major": 2,
       "version_minor": 0
      },
      "text/plain": [
       "Clients:   0%|          | 0/4 [00:00<?, ?it/s]"
      ]
     },
     "metadata": {},
     "output_type": "display_data"
    },
    {
     "name": "stdout",
     "output_type": "stream",
     "text": [
      "(900, 8) (900,)\n"
     ]
    },
    {
     "name": "stderr",
     "output_type": "stream",
     "text": [
      "                                                                5.98it/s]\r"
     ]
    },
    {
     "name": "stdout",
     "output_type": "stream",
     "text": [
      "(900, 8) (900,)\n"
     ]
    },
    {
     "name": "stderr",
     "output_type": "stream",
     "text": [
      "                                                                7.26it/s]\r"
     ]
    },
    {
     "name": "stdout",
     "output_type": "stream",
     "text": [
      "(900, 8) (900,)\n"
     ]
    },
    {
     "name": "stderr",
     "output_type": "stream",
     "text": [
      "                                                                5.24it/s]\r"
     ]
    },
    {
     "data": {
      "application/vnd.jupyter.widget-view+json": {
       "model_id": "a9d1acf2402d45a6ad03165cdee0906c",
       "version_major": 2,
       "version_minor": 0
      },
      "text/plain": [
       "Global Epoch:   0%|          | 0/300 [00:00<?, ?it/s]"
      ]
     },
     "metadata": {},
     "output_type": "display_data"
    },
    {
     "data": {
      "application/vnd.jupyter.widget-view+json": {
       "model_id": "b729e241668442ec913c6eb70cf106c1",
       "version_major": 2,
       "version_minor": 0
      },
      "text/plain": [
       "Fine Tuning Epoch: 0it [00:00, ?it/s]"
      ]
     },
     "metadata": {},
     "output_type": "display_data"
    },
    {
     "data": {
      "application/vnd.jupyter.widget-view+json": {
       "model_id": "e54d9a0db0534d62a4ceb875dd925066",
       "version_major": 2,
       "version_minor": 0
      },
      "text/plain": [
       "Clients:   0%|          | 0/4 [00:00<?, ?it/s]"
      ]
     },
     "metadata": {},
     "output_type": "display_data"
    },
    {
     "name": "stdout",
     "output_type": "stream",
     "text": [
      "(900, 8) (900,)\n"
     ]
    },
    {
     "name": "stderr",
     "output_type": "stream",
     "text": [
      "                                                                7.78it/s]\r"
     ]
    },
    {
     "name": "stdout",
     "output_type": "stream",
     "text": [
      "(900, 8) (900,)\n"
     ]
    },
    {
     "name": "stderr",
     "output_type": "stream",
     "text": [
      "                                                                8.83it/s]\r"
     ]
    },
    {
     "name": "stdout",
     "output_type": "stream",
     "text": [
      "(900, 8) (900,)\n"
     ]
    },
    {
     "name": "stderr",
     "output_type": "stream",
     "text": [
      "                                                                0.02it/s]\r"
     ]
    },
    {
     "data": {
      "application/vnd.jupyter.widget-view+json": {
       "model_id": "90070cdc51e04b6798308a796d9e3e18",
       "version_major": 2,
       "version_minor": 0
      },
      "text/plain": [
       "Global Epoch:   0%|          | 0/300 [00:00<?, ?it/s]"
      ]
     },
     "metadata": {},
     "output_type": "display_data"
    },
    {
     "data": {
      "application/vnd.jupyter.widget-view+json": {
       "model_id": "d0198ceb4a23450ab70fac6d9c290431",
       "version_major": 2,
       "version_minor": 0
      },
      "text/plain": [
       "Fine Tuning Epoch: 0it [00:00, ?it/s]"
      ]
     },
     "metadata": {},
     "output_type": "display_data"
    },
    {
     "data": {
      "application/vnd.jupyter.widget-view+json": {
       "model_id": "49da7a176cff4a149de97b1e1b2c6f75",
       "version_major": 2,
       "version_minor": 0
      },
      "text/plain": [
       "Clients:   0%|          | 0/4 [00:00<?, ?it/s]"
      ]
     },
     "metadata": {},
     "output_type": "display_data"
    },
    {
     "name": "stdout",
     "output_type": "stream",
     "text": [
      "(900, 8) (900,)\n"
     ]
    },
    {
     "name": "stderr",
     "output_type": "stream",
     "text": [
      "                                                                8.43it/s]\r"
     ]
    },
    {
     "name": "stdout",
     "output_type": "stream",
     "text": [
      "(900, 8) (900,)\n"
     ]
    },
    {
     "name": "stderr",
     "output_type": "stream",
     "text": [
      "                                                                5.05it/s]\r"
     ]
    },
    {
     "name": "stdout",
     "output_type": "stream",
     "text": [
      "(900, 8) (900,)\n"
     ]
    },
    {
     "name": "stderr",
     "output_type": "stream",
     "text": [
      "                                                                5.78it/s]\r"
     ]
    },
    {
     "data": {
      "application/vnd.jupyter.widget-view+json": {
       "model_id": "176105a1e362442f866865329bcc8c21",
       "version_major": 2,
       "version_minor": 0
      },
      "text/plain": [
       "Global Epoch:   0%|          | 0/300 [00:00<?, ?it/s]"
      ]
     },
     "metadata": {},
     "output_type": "display_data"
    },
    {
     "data": {
      "application/vnd.jupyter.widget-view+json": {
       "model_id": "91bba546d565451c84efa7689a1df89d",
       "version_major": 2,
       "version_minor": 0
      },
      "text/plain": [
       "Fine Tuning Epoch: 0it [00:00, ?it/s]"
      ]
     },
     "metadata": {},
     "output_type": "display_data"
    },
    {
     "data": {
      "application/vnd.jupyter.widget-view+json": {
       "model_id": "44ee84c998ab45c08112cf3ae9ca7e11",
       "version_major": 2,
       "version_minor": 0
      },
      "text/plain": [
       "Clients:   0%|          | 0/4 [00:00<?, ?it/s]"
      ]
     },
     "metadata": {},
     "output_type": "display_data"
    },
    {
     "name": "stdout",
     "output_type": "stream",
     "text": [
      "(900, 8) (900,)\n"
     ]
    },
    {
     "name": "stderr",
     "output_type": "stream",
     "text": [
      "                                                                2.43it/s]\r"
     ]
    },
    {
     "name": "stdout",
     "output_type": "stream",
     "text": [
      "(900, 8) (900,)\n"
     ]
    },
    {
     "name": "stderr",
     "output_type": "stream",
     "text": [
      "                                                                0.35it/s]\r"
     ]
    },
    {
     "name": "stdout",
     "output_type": "stream",
     "text": [
      "(900, 8) (900,)\n"
     ]
    },
    {
     "name": "stderr",
     "output_type": "stream",
     "text": [
      "                                                                3.28it/s]\r"
     ]
    },
    {
     "data": {
      "application/vnd.jupyter.widget-view+json": {
       "model_id": "05a28ebd59e64742bc27ff289f111169",
       "version_major": 2,
       "version_minor": 0
      },
      "text/plain": [
       "Global Epoch:   0%|          | 0/300 [00:00<?, ?it/s]"
      ]
     },
     "metadata": {},
     "output_type": "display_data"
    },
    {
     "data": {
      "application/vnd.jupyter.widget-view+json": {
       "model_id": "3970733dc8ab4f97ac639257c51a0bee",
       "version_major": 2,
       "version_minor": 0
      },
      "text/plain": [
       "Fine Tuning Epoch: 0it [00:00, ?it/s]"
      ]
     },
     "metadata": {},
     "output_type": "display_data"
    },
    {
     "data": {
      "application/vnd.jupyter.widget-view+json": {
       "model_id": "cb4f0b7c03b449508bae7600d837b013",
       "version_major": 2,
       "version_minor": 0
      },
      "text/plain": [
       "Clients:   0%|          | 0/4 [00:00<?, ?it/s]"
      ]
     },
     "metadata": {},
     "output_type": "display_data"
    },
    {
     "name": "stdout",
     "output_type": "stream",
     "text": [
      "(900, 8) (900,)\n"
     ]
    },
    {
     "name": "stderr",
     "output_type": "stream",
     "text": [
      "                                                                7.42it/s]\r"
     ]
    },
    {
     "name": "stdout",
     "output_type": "stream",
     "text": [
      "(900, 8) (900,)\n"
     ]
    },
    {
     "name": "stderr",
     "output_type": "stream",
     "text": [
      "                                                                8.08it/s]\r"
     ]
    },
    {
     "name": "stdout",
     "output_type": "stream",
     "text": [
      "(900, 8) (900,)\n"
     ]
    },
    {
     "name": "stderr",
     "output_type": "stream",
     "text": [
      "                                                                1.39it/s]\r"
     ]
    }
   ],
   "source": [
    "pipeline.run_pipeline(\n",
    "    scenario_builder, repeats = 5, verbose = 0\n",
    ")"
   ]
  },
  {
   "cell_type": "markdown",
   "metadata": {},
   "source": [
    "## Result Analysis"
   ]
  },
  {
   "cell_type": "code",
   "execution_count": 7,
   "metadata": {},
   "outputs": [],
   "source": [
    "import matplotlib.pyplot as plt\n",
    "\n",
    "plt.rc('font', family='arial')\n",
    "plt.rc('pdf', fonttype = 42)\n",
    "plt.rc('ps', fonttype = 42)"
   ]
  },
  {
   "cell_type": "code",
   "execution_count": 8,
   "metadata": {},
   "outputs": [],
   "source": [
    "pipeline.plot_pipeline_results(\n",
    "    metric_aspect = 'fed_pred_personalized',\n",
    "    plot_type = 'bar',\n",
    "    plot_params = {'font_size': 20, 'bar_width': 0.2},\n",
    "    save_path = \"./plots/benchmark_fedpred.png\",\n",
    "    legend = False,\n",
    "    dpi = 300\n",
    ")"
   ]
  },
  {
   "cell_type": "code",
   "execution_count": 9,
   "metadata": {},
   "outputs": [],
   "source": [
    "pipeline.plot_pipeline_results(\n",
    "    metric_aspect = 'local_pred',    \n",
    "    plot_type = 'bar',\n",
    "    plot_params = {'font_size': 20, 'bar_width': 0.2},\n",
    "    save_path = \"./plots/benchmark_localpred.png\",\n",
    "    legend = False\n",
    ")"
   ]
  },
  {
   "cell_type": "code",
   "execution_count": 10,
   "metadata": {},
   "outputs": [],
   "source": [
    "pipeline.plot_pipeline_results(\n",
    "    metric_aspect = 'imp_quality',    \n",
    "    plot_type = 'bar',\n",
    "    plot_params = {'font_size': 20, 'bar_width': 0.2},\n",
    "    save_path = \"./plots/benchmark_impquality.png\"  \n",
    ")"
   ]
  },
  {
   "cell_type": "code",
   "execution_count": 11,
   "metadata": {},
   "outputs": [],
   "source": [
    "pipeline.plot_pipeline_results(\n",
    "    metric_aspect = 'fed_pred_global',    \n",
    "    plot_type = 'bar',\n",
    "    plot_params = {'font_size': 20, 'bar_width': 0.2},\n",
    "    save_path = \"./plots/benchmark_fedpredglobal.png\",\n",
    "    legend = False\n",
    ")"
   ]
  },
  {
   "cell_type": "code",
   "execution_count": 12,
   "metadata": {},
   "outputs": [],
   "source": [
    "data = pipeline.show_pipeline_results(\n",
    "    format = 'dataframe',  \n",
    "    metric_aspect = 'imp_quality',\n",
    "    metric_name = 'rmse',\n",
    "    show_round_variation = False\n",
    ")"
   ]
  },
  {
   "cell_type": "code",
   "execution_count": 22,
   "metadata": {},
   "outputs": [],
   "source": [
    "data.to_excel(\"./plots/benchmark_impquality.xlsx\")"
   ]
  }
 ],
 "metadata": {
  "kernelspec": {
   "display_name": ".venv",
   "language": "python",
   "name": "python3"
  },
  "language_info": {
   "codemirror_mode": {
    "name": "ipython",
    "version": 3
   },
   "file_extension": ".py",
   "mimetype": "text/x-python",
   "name": "python",
   "nbconvert_exporter": "python",
   "pygments_lexer": "ipython3",
   "version": "3.10.0"
  }
 },
 "nbformat": 4,
 "nbformat_minor": 2
}
