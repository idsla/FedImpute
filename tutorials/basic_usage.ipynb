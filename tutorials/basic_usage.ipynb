{
 "cells": [
  {
   "cell_type": "code",
   "id": "f53f522d",
   "metadata": {
    "ExecuteTime": {
     "end_time": "2024-06-26T02:05:02.638341Z",
     "start_time": "2024-06-26T02:05:02.618708Z"
    }
   },
   "source": [
    "cd .."
   ],
   "outputs": [
    {
     "name": "stdout",
     "output_type": "stream",
     "text": [
      "D:\\project\\FedImpute\n"
     ]
    },
    {
     "name": "stderr",
     "output_type": "stream",
     "text": [
      "D:\\project\\FedImpute\\.venv\\lib\\site-packages\\IPython\\core\\magics\\osm.py:417: UserWarning: This is now an optional IPython functionality, setting dhist requires you to install the `pickleshare` library.\n",
      "  self.shell.db['dhist'] = compress_dhist(dhist)[-100:]\n"
     ]
    }
   ],
   "execution_count": 1
  },
  {
   "cell_type": "code",
   "id": "5239ede8",
   "metadata": {
    "ExecuteTime": {
     "end_time": "2024-06-26T02:05:09.204048Z",
     "start_time": "2024-06-26T02:05:08.951472Z"
    }
   },
   "source": [
    "import numpy as np\n",
    "import loguru\n",
    "import sys"
   ],
   "outputs": [],
   "execution_count": 2
  },
  {
   "cell_type": "markdown",
   "id": "417e8057",
   "metadata": {},
   "source": [
    "## Step1 Prepare the data\n",
    "\n",
    "We simulate a simple gaussain random data. Remember to make the `data_config` dictionary to be like the following, the keys in `data_config` should be consistent with the keys used for FedImpute."
   ]
  },
  {
   "cell_type": "code",
   "id": "defdd366",
   "metadata": {
    "ExecuteTime": {
     "end_time": "2024-06-26T02:05:12.246615Z",
     "start_time": "2024-06-26T02:05:12.240616Z"
    }
   },
   "source": [
    "data = np.random.rand(10000, 10)\n",
    "data_config = {\n",
    "    'task_type': 'regression',\n",
    "    'clf_type': None,\n",
    "    'num_cols': 9,\n",
    "}"
   ],
   "outputs": [],
   "execution_count": 3
  },
  {
   "cell_type": "markdown",
   "id": "29bb550e",
   "metadata": {},
   "source": [
    "## Step2 Simulate Federated Missing Data Scenario\n",
    "\n",
    "Import simulator and simulate the scanrios, details of parameters can be found in documentation"
   ]
  },
  {
   "cell_type": "code",
   "id": "1ef354f9fab5977c",
   "metadata": {
    "ExecuteTime": {
     "end_time": "2024-06-26T02:05:16.730729Z",
     "start_time": "2024-06-26T02:05:14.229588Z"
    }
   },
   "source": [
    "%load_ext autoreload\n",
    "%autoreload 2\n",
    "from fedimpute.simulator import Simulator\n",
    "simulator = Simulator(debug_mode=False)\n",
    "simulation_results = simulator.simulate_scenario(data, data_config, num_clients = 10, verbose=1)"
   ],
   "outputs": [
    {
     "name": "stdout",
     "output_type": "stream",
     "text": [
      "Data partitioning...\n",
      "Missing data simulation...\n",
      "Simulation done. Using summary function to check the simulation results.\n"
     ]
    }
   ],
   "execution_count": 4
  },
  {
   "cell_type": "markdown",
   "id": "aad5722a",
   "metadata": {},
   "source": [
    "## Step3 Run the Federated Imputation\n",
    "\n",
    "Run the federated imputation with the simulated data"
   ]
  },
  {
   "cell_type": "code",
   "id": "dcd29c5931acd184",
   "metadata": {
    "ExecuteTime": {
     "end_time": "2024-06-26T02:06:23.199525Z",
     "start_time": "2024-06-26T02:05:48.603399Z"
    }
   },
   "source": [
    "%load_ext autoreload\n",
    "%autoreload 2\n",
    "from fedimpute.execution_environment import FedImputeEnv\n",
    "\n",
    "env = FedImputeEnv()\n",
    "env.configuration(imputer = 'gain', fed_strategy='fedavg', fit_mode = 'fed')\n",
    "env.setup_from_simulator(simulator = simulator, verbose=1)\n",
    "print(env.imputer_name, env.fed_strategy_name)\n",
    "\n",
    "env.run_fed_imputation()"
   ],
   "outputs": [
    {
     "name": "stdout",
     "output_type": "stream",
     "text": [
      "The autoreload extension is already loaded. To reload it, use:\n",
      "  %reload_ext autoreload\n",
      "Setting up clients...\n",
      "Setting up server...\n",
      "Setting up workflow...\n",
      "Environment setup complete.\n",
      "gain fedavg\n",
      "\u001B[32m2024-06-25 22:05:50.915\u001B[0m | \u001B[1mINFO    \u001B[0m | \u001B[36mfedimpute.execution_environment.workflows.workflow\u001B[0m:\u001B[36meval_and_track\u001B[0m:\u001B[36m101\u001B[0m - \u001B[1m\n",
      "Initial: rmse - 0.5785038752011208 ws - 0.28324699157925964\u001B[0m\n"
     ]
    },
    {
     "data": {
      "text/plain": [
       "Global Epoch:   0%|          | 0/150 [00:00<?, ?it/s]"
      ],
      "application/vnd.jupyter.widget-view+json": {
       "version_major": 2,
       "version_minor": 0,
       "model_id": "acd89cee1aad46caa25d277ab8b6236f"
      }
     },
     "metadata": {},
     "output_type": "display_data"
    },
    {
     "name": "stdout",
     "output_type": "stream",
     "text": [
      "\u001B[32m2024-06-25 22:06:21.376\u001B[0m | \u001B[1mINFO    \u001B[0m | \u001B[36mfedimpute.execution_environment.workflows.workflow_jm\u001B[0m:\u001B[36mfed_imp_sequential\u001B[0m:\u001B[36m150\u001B[0m - \u001B[1mAll clients have converged. Stopping training at 40.\u001B[0m\n",
      "\u001B[32m2024-06-25 22:06:21.377\u001B[0m | \u001B[1mINFO    \u001B[0m | \u001B[36mfedimpute.execution_environment.workflows.workflow_jm\u001B[0m:\u001B[36mfed_imp_sequential\u001B[0m:\u001B[36m168\u001B[0m - \u001B[1mstart fine tuning ...\u001B[0m\n",
      "local True\n"
     ]
    },
    {
     "data": {
      "text/plain": [
       "Fine Tuning Epoch: 0it [00:00, ?it/s]"
      ],
      "application/vnd.jupyter.widget-view+json": {
       "version_major": 2,
       "version_minor": 0,
       "model_id": "74f9c536c3bf4d09a8b8f459a627c244"
      }
     },
     "metadata": {},
     "output_type": "display_data"
    },
    {
     "name": "stdout",
     "output_type": "stream",
     "text": [
      "\u001B[32m2024-06-25 22:06:23.173\u001B[0m | \u001B[1mINFO    \u001B[0m | \u001B[36mfedimpute.execution_environment.workflows.workflow\u001B[0m:\u001B[36meval_and_track\u001B[0m:\u001B[36m151\u001B[0m - \u001B[1mFinal: rmse - 0.28841122047809337 ws - 0.0897678714085901\u001B[0m\n"
     ]
    }
   ],
   "execution_count": 6
  },
  {
   "cell_type": "markdown",
   "id": "e17ed589",
   "metadata": {},
   "source": [
    "## Step4 Evaluate the Imputation Outcome\n",
    "\n",
    "Evaluate the imputation outcome, you can choose which of three evaluation aspects, you want to evaluate "
   ]
  },
  {
   "cell_type": "code",
   "id": "c324b4b1",
   "metadata": {
    "ExecuteTime": {
     "end_time": "2024-06-26T02:09:45.073166Z",
     "start_time": "2024-06-26T02:07:49.743794Z"
    }
   },
   "source": [
    "%load_ext autoreload\n",
    "%autoreload 2\n",
    "from fedimpute.evaluation import Evaluator\n",
    "\n",
    "evaluator = Evaluator()\n",
    "eval_ret = evaluator.evaluate(env, ['imp_quality', 'pred_downstream_local', 'pred_downstream_fed'])\n",
    "evaluator.show_results()"
   ],
   "outputs": [
    {
     "name": "stdout",
     "output_type": "stream",
     "text": [
      "The autoreload extension is already loaded. To reload it, use:\n",
      "  %reload_ext autoreload\n",
      "Evaluating imputation quality...\n",
      "Evaluating downstream prediction...\n"
     ]
    },
    {
     "data": {
      "text/plain": [
       "Clients:   0%|          | 0/10 [00:00<?, ?it/s]"
      ],
      "application/vnd.jupyter.widget-view+json": {
       "version_major": 2,
       "version_minor": 0,
       "model_id": "9e99829c1ae143edabe893550132a517"
      }
     },
     "metadata": {},
     "output_type": "display_data"
    },
    {
     "name": "stdout",
     "output_type": "stream",
     "text": [
      "Evaluating federated downstream prediction...\n"
     ]
    },
    {
     "data": {
      "text/plain": [
       "Global Epoch:   0%|          | 0/100 [00:00<?, ?it/s]"
      ],
      "application/vnd.jupyter.widget-view+json": {
       "version_major": 2,
       "version_minor": 0,
       "model_id": "4b037180f3584ac2b3bf4d546c5f5f75"
      }
     },
     "metadata": {},
     "output_type": "display_data"
    },
    {
     "name": "stdout",
     "output_type": "stream",
     "text": [
      "Evaluation completed.\n",
      "=====================================================================================================\n",
      "Evaluation Results\n",
      "=====================================================================================================\n",
      "Imputation Quality             | rmse: 0.288 (0.00) nrmse: 0.710 (0.03) sliced-ws: 0.090 (0.01) \n",
      "Downstream Prediction (Local)  |  mse: 0.092 (0.01)   mae: 0.254 (0.01)      msle: 0.043 (0.01) \n",
      "Downstream Prediction (Fed)    |  mse: 0.088 (0.00)   mae: 0.253 (0.00)      msle: 0.041 (0.00) \n",
      "=====================================================================================================\n"
     ]
    }
   ],
   "execution_count": 7
  },
  {
   "metadata": {},
   "cell_type": "code",
   "outputs": [],
   "execution_count": null,
   "source": "",
   "id": "d95b8a11b8902079"
  }
 ],
 "metadata": {
  "kernelspec": {
   "display_name": "Python 3",
   "language": "python",
   "name": "python3"
  },
  "language_info": {
   "codemirror_mode": {
    "name": "ipython",
    "version": 3
   },
   "file_extension": ".py",
   "mimetype": "text/x-python",
   "name": "python",
   "nbconvert_exporter": "python",
   "pygments_lexer": "ipython3",
   "version": "3.10.11"
  }
 },
 "nbformat": 4,
 "nbformat_minor": 5
}
