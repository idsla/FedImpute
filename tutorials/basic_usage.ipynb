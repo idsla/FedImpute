{
 "cells": [
  {
   "cell_type": "code",
   "execution_count": 1,
   "metadata": {},
   "outputs": [],
   "source": [
    "# ! pip install fedimpute==0.1.0\n",
    "# ! pip install tabulate matplotlib numpy pandas"
   ]
  },
  {
   "cell_type": "code",
   "execution_count": 2,
   "metadata": {},
   "outputs": [
    {
     "name": "stdout",
     "output_type": "stream",
     "text": [
      "d:\\min\\research_projects\\FedImpute\n"
     ]
    },
    {
     "name": "stderr",
     "output_type": "stream",
     "text": [
      "d:\\min\\research_projects\\FedImpute\\.venv\\Lib\\site-packages\\IPython\\core\\magics\\osm.py:417: UserWarning: This is now an optional IPython functionality, setting dhist requires you to install the `pickleshare` library.\n",
      "  self.shell.db['dhist'] = compress_dhist(dhist)[-100:]\n"
     ]
    }
   ],
   "source": [
    "cd .."
   ]
  },
  {
   "cell_type": "code",
   "execution_count": 3,
   "metadata": {},
   "outputs": [],
   "source": [
    "import numpy as np\n",
    "import pandas as pd\n",
    "import tabulate\n",
    "import matplotlib.pyplot as plt\n",
    "\n",
    "plt.rc('font', family='arial')\n",
    "plt.rc('pdf', fonttype = 42)\n",
    "plt.rc('ps', fonttype = 42)"
   ]
  },
  {
   "cell_type": "markdown",
   "metadata": {},
   "source": [
    "# Load Data"
   ]
  },
  {
   "cell_type": "code",
   "execution_count": 4,
   "metadata": {},
   "outputs": [
    {
     "name": "stdout",
     "output_type": "stream",
     "text": [
      "+--------+--------+--------+--------+--------+--------+--------+--------+--------+\n",
      "|   X1   |   X2   |   X3   |   X4   |   X5   |   X6   |   X7   |   X8   |   y    |\n",
      "|--------+--------+--------+--------+--------+--------+--------+--------+--------|\n",
      "| 0.7554 | 0.1364 | 0.0352 | 0.4132 | 0.6937 | 0.1591 | 0.3329 | 0.7154 | 1.0000 |\n",
      "| 0.7334 | 0.7879 | 0.3819 | 0.3693 | 0.5619 | 0.4830 | 0.4351 | 0.5160 | 0.0000 |\n",
      "| 0.7752 | 0.1364 | 0.1761 | 0.3290 | 0.7410 | 0.4259 | 0.4644 | 0.5268 | 1.0000 |\n",
      "| 0.5905 | 0.7424 | 0.2720 | 0.2898 | 0.6920 | 0.3205 | 0.4019 | 0.6290 | 1.0000 |\n",
      "| 0.7366 | 0.1212 | 0.2465 | 0.3290 | 0.7410 | 0.3249 | 0.5086 | 0.5631 | 1.0000 |\n",
      "+--------+--------+--------+--------+--------+--------+--------+--------+--------+\n",
      "Data Dimensions:  (5000, 9)\n",
      "Data Config:\n",
      " {'target': 'y', 'task_type': 'classification', 'natural_partition': False}\n"
     ]
    }
   ],
   "source": [
    "%load_ext autoreload\n",
    "%autoreload 2\n",
    "\n",
    "from fedimpute.data_prep import load_data, display_data\n",
    "data, data_config = load_data(\"codrna\")\n",
    "display_data(data)\n",
    "print(\"Data Dimensions: \", data.shape)\n",
    "print(\"Data Config:\\n\", data_config)"
   ]
  },
  {
   "cell_type": "markdown",
   "metadata": {},
   "source": [
    "# Scenario Simulation"
   ]
  },
  {
   "cell_type": "markdown",
   "metadata": {},
   "source": [
    "## Basic Usage"
   ]
  },
  {
   "cell_type": "code",
   "execution_count": 5,
   "metadata": {},
   "outputs": [
    {
     "name": "stdout",
     "output_type": "stream",
     "text": [
      "The autoreload extension is already loaded. To reload it, use:\n",
      "  %reload_ext autoreload\n",
      "Missing data simulation...\n",
      "Results Structure (Dict Keys):\n",
      "['clients_train_data', 'clients_test_data', 'clients_train_data_ms', 'clients_seeds', 'global_test_data', 'data_config', 'stats']\n",
      "==================================================================\n",
      "Scenario Summary\n",
      "==================================================================\n",
      "Total clients: 4\n",
      "Global Test Data: (500, 9)\n",
      "Missing Mechanism Category: MNAR (Self Masking Logit)\n",
      "Clients Data Summary:\n",
      "     Train     Test      Miss     MS Ratio    MS Feature    Seed\n",
      "--  --------  -------  --------  ----------  ------------  ------\n",
      "C1  (1125,9)  (113,9)  (1125,8)     0.47         8/8        6077\n",
      "C2  (1125,9)  (113,9)  (1125,8)     0.51         8/8        577\n",
      "C3  (1125,9)  (113,9)  (1125,8)     0.46         8/8        7231\n",
      "C4  (1125,9)  (113,9)  (1125,8)     0.47         8/8        5504\n",
      "==================================================================\n",
      "\n"
     ]
    }
   ],
   "source": [
    "%load_ext autoreload\n",
    "%autoreload 2\n",
    "from fedimpute.scenario import ScenarioBuilder\n",
    "\n",
    "scenario_builder = ScenarioBuilder()\n",
    "scenario_data = scenario_builder.create_simulated_scenario(\n",
    "    data, data_config, num_clients = 4, dp_strategy='iid-even', ms_scenario='mnar-heter'\n",
    ")\n",
    "print('Results Structure (Dict Keys):')\n",
    "print(list(scenario_data.keys()))\n",
    "scenario_builder.summarize_scenario()"
   ]
  },
  {
   "cell_type": "markdown",
   "metadata": {},
   "source": [
    "## Exploring Scenario\n"
   ]
  },
  {
   "cell_type": "markdown",
   "metadata": {},
   "source": [
    "### Data Heterogeneity\n"
   ]
  },
  {
   "cell_type": "code",
   "execution_count": 6,
   "metadata": {},
   "outputs": [],
   "source": [
    "scenario_builder.visualize_data_heterogeneity(\n",
    "    client_ids=[0, 1, 2, 3], \n",
    "    distance_method='swd',\n",
    "    pca_col_threshold=20,\n",
    "    fontsize=18,\n",
    "    title=False,\n",
    "    save_path='./plots_guide/data_heterogeneity.pdf'\n",
    ")"
   ]
  },
  {
   "cell_type": "markdown",
   "metadata": {},
   "source": [
    "### Missing Data Inspection\n"
   ]
  },
  {
   "cell_type": "code",
   "execution_count": 7,
   "metadata": {},
   "outputs": [],
   "source": [
    "scenario_builder.visualize_missing_pattern(client_ids=[0, 1, 2, 3], save_path='./plots_guide/ms_pattern.pdf')"
   ]
  },
  {
   "cell_type": "code",
   "execution_count": 8,
   "metadata": {},
   "outputs": [],
   "source": [
    "scenario_builder.visualize_missing_distribution(\n",
    "    client_ids = [0, 1], feature_ids = [0, 1, 2, 3, 4],\n",
    "    stat = 'proportion', bins = 20, kde=True,\n",
    "    save_path='./plots_guide/ms_distribution.pdf'\n",
    ")"
   ]
  },
  {
   "cell_type": "markdown",
   "metadata": {},
   "source": [
    "# Running Federated Imputation"
   ]
  },
  {
   "cell_type": "markdown",
   "metadata": {},
   "source": [
    "## Basic Usage"
   ]
  },
  {
   "cell_type": "code",
   "execution_count": 9,
   "metadata": {},
   "outputs": [
    {
     "name": "stdout",
     "output_type": "stream",
     "text": [
      "The autoreload extension is already loaded. To reload it, use:\n",
      "  %reload_ext autoreload\n",
      "\u001b[1mSetting up clients...\u001b[0m\n",
      "\u001b[1mSetting up server...\u001b[0m\n",
      "\u001b[1mSetting up workflow...\u001b[0m\n",
      "\u001b[1mEnvironment setup complete.\u001b[0m\n",
      "============================================================\n",
      "Environment Information:\n",
      "============================================================\n",
      "Workflow: ICE (Imputation via Chain Equation)\n",
      "Clients:\n",
      " - Client 0: imputer: mice, fed-strategy: fedmice\n",
      " - Client 1: imputer: mice, fed-strategy: fedmice\n",
      " - Client 2: imputer: mice, fed-strategy: fedmice\n",
      " - Client 3: imputer: mice, fed-strategy: fedmice\n",
      "Server: fed-strategy: fedmice\n",
      "============================================================\n",
      "\n"
     ]
    },
    {
     "data": {
      "application/vnd.jupyter.widget-view+json": {
       "model_id": "e404a2d3ee6348dfa1bf08d7c8375a7a",
       "version_major": 2,
       "version_minor": 0
      },
      "text/plain": [
       "ICE Iterations:   0%|          | 0/20 [00:00<?, ?it/s]"
      ]
     },
     "metadata": {},
     "output_type": "display_data"
    },
    {
     "data": {
      "application/vnd.jupyter.widget-view+json": {
       "model_id": "2aca366a1d16474bb44f9020c9a1a170",
       "version_major": 2,
       "version_minor": 0
      },
      "text/plain": [
       "Feature_idx:   0%|          | 0/8 [00:00<?, ?it/s]"
      ]
     },
     "metadata": {},
     "output_type": "display_data"
    },
    {
     "data": {
      "application/vnd.jupyter.widget-view+json": {
       "model_id": "728f7a50e46a479a84d205c56c098de4",
       "version_major": 2,
       "version_minor": 0
      },
      "text/plain": [
       "Feature_idx:   0%|          | 0/8 [00:00<?, ?it/s]"
      ]
     },
     "metadata": {},
     "output_type": "display_data"
    },
    {
     "data": {
      "application/vnd.jupyter.widget-view+json": {
       "model_id": "ecda1e7129be48a68f9009e5b71bbe41",
       "version_major": 2,
       "version_minor": 0
      },
      "text/plain": [
       "Feature_idx:   0%|          | 0/8 [00:00<?, ?it/s]"
      ]
     },
     "metadata": {},
     "output_type": "display_data"
    },
    {
     "data": {
      "application/vnd.jupyter.widget-view+json": {
       "model_id": "d4f9bf8ded394df5af8653a96cc6b57d",
       "version_major": 2,
       "version_minor": 0
      },
      "text/plain": [
       "Feature_idx:   0%|          | 0/8 [00:00<?, ?it/s]"
      ]
     },
     "metadata": {},
     "output_type": "display_data"
    },
    {
     "data": {
      "application/vnd.jupyter.widget-view+json": {
       "model_id": "07503c5954034a15b43795550838d69c",
       "version_major": 2,
       "version_minor": 0
      },
      "text/plain": [
       "Feature_idx:   0%|          | 0/8 [00:00<?, ?it/s]"
      ]
     },
     "metadata": {},
     "output_type": "display_data"
    },
    {
     "data": {
      "application/vnd.jupyter.widget-view+json": {
       "model_id": "1e0febf5104b46b2bd8d153b8b4b088b",
       "version_major": 2,
       "version_minor": 0
      },
      "text/plain": [
       "Feature_idx:   0%|          | 0/8 [00:00<?, ?it/s]"
      ]
     },
     "metadata": {},
     "output_type": "display_data"
    },
    {
     "data": {
      "application/vnd.jupyter.widget-view+json": {
       "model_id": "ba15ce9390894dbfa08099bd9a7fadb9",
       "version_major": 2,
       "version_minor": 0
      },
      "text/plain": [
       "Feature_idx:   0%|          | 0/8 [00:00<?, ?it/s]"
      ]
     },
     "metadata": {},
     "output_type": "display_data"
    },
    {
     "data": {
      "application/vnd.jupyter.widget-view+json": {
       "model_id": "ef30eec142114062a03138864ab8c801",
       "version_major": 2,
       "version_minor": 0
      },
      "text/plain": [
       "Feature_idx:   0%|          | 0/8 [00:00<?, ?it/s]"
      ]
     },
     "metadata": {},
     "output_type": "display_data"
    },
    {
     "data": {
      "application/vnd.jupyter.widget-view+json": {
       "model_id": "6a35e9574068462aa8387c39b8c7fbb9",
       "version_major": 2,
       "version_minor": 0
      },
      "text/plain": [
       "Feature_idx:   0%|          | 0/8 [00:00<?, ?it/s]"
      ]
     },
     "metadata": {},
     "output_type": "display_data"
    },
    {
     "data": {
      "application/vnd.jupyter.widget-view+json": {
       "model_id": "e4de50d9ab4a4a5095f24e2e83a94bb1",
       "version_major": 2,
       "version_minor": 0
      },
      "text/plain": [
       "Feature_idx:   0%|          | 0/8 [00:00<?, ?it/s]"
      ]
     },
     "metadata": {},
     "output_type": "display_data"
    },
    {
     "data": {
      "application/vnd.jupyter.widget-view+json": {
       "model_id": "954821bb22994606a7eacb1b8409ee0e",
       "version_major": 2,
       "version_minor": 0
      },
      "text/plain": [
       "Feature_idx:   0%|          | 0/8 [00:00<?, ?it/s]"
      ]
     },
     "metadata": {},
     "output_type": "display_data"
    }
   ],
   "source": [
    "%load_ext autoreload\n",
    "%autoreload 2\n",
    "from fedimpute.execution_environment import FedImputeEnv\n",
    "\n",
    "env = FedImputeEnv(debug_mode=False)\n",
    "env.configuration(imputer = 'mice', fed_strategy='fedmice')\n",
    "env.setup_from_scenario_builder(scenario_builder = scenario_builder, verbose=1)\n",
    "env.show_env_info()\n",
    "env.run_fed_imputation()"
   ]
  },
  {
   "cell_type": "markdown",
   "metadata": {},
   "source": [
    "## Monitoring Imputation Progress\n"
   ]
  },
  {
   "cell_type": "code",
   "execution_count": 10,
   "metadata": {},
   "outputs": [],
   "source": [
    "env.tracker.visualize_imputation_process(save_path = './plots_guide/imp_process.pdf')"
   ]
  },
  {
   "cell_type": "markdown",
   "metadata": {},
   "source": [
    "# Evaluation"
   ]
  },
  {
   "cell_type": "markdown",
   "metadata": {},
   "source": [
    "### Imputation Quality"
   ]
  },
  {
   "cell_type": "code",
   "execution_count": 11,
   "metadata": {},
   "outputs": [
    {
     "name": "stdout",
     "output_type": "stream",
     "text": [
      "The autoreload extension is already loaded. To reload it, use:\n",
      "  %reload_ext autoreload\n",
      "================================================\n",
      "Imputation Quality\n",
      "================================================\n",
      "               rmse       nrmse      sliced-ws\n",
      "----------  ----------  ----------  -----------\n",
      " Client 1     0.180       0.501        0.079\n",
      " Client 2     0.187       0.541        0.093\n",
      " Client 3     0.117       0.324        0.045\n",
      " Client 4     0.127       0.355        0.056\n",
      "----------  ----------  ----------  ----------\n",
      " Average      0.152       0.430        0.068\n",
      "   Std        0.031       0.092        0.019\n",
      "================================================\n"
     ]
    }
   ],
   "source": [
    "%load_ext autoreload\n",
    "%autoreload 2\n",
    "from fedimpute.evaluation import Evaluator\n",
    "\n",
    "X_trains = env.get_data(client_ids='all', data_type = 'train')\n",
    "X_train_imps = env.get_data(client_ids='all', data_type = 'train_imp')\n",
    "X_train_masks = env.get_data(client_ids='all', data_type = 'train_mask')\n",
    "\n",
    "evaluator = Evaluator()\n",
    "ret = evaluator.evaluate_imp_quality(\n",
    "    X_train_imps = X_train_imps,\n",
    "    X_train_origins = X_trains,\n",
    "    X_train_masks = X_train_masks,\n",
    "    metrics = ['rmse', 'nrmse', 'sliced-ws']\n",
    ")\n",
    "evaluator.show_imp_results()"
   ]
  },
  {
   "cell_type": "code",
   "execution_count": 12,
   "metadata": {},
   "outputs": [
    {
     "name": "stdout",
     "output_type": "stream",
     "text": [
      "Evaluating TSNE for Client 1 ...\n",
      "Evaluating TSNE for Client 2 ...\n",
      "Evaluating TSNE for Client 3 ...\n",
      "Evaluating TSNE for Client 4 ...\n"
     ]
    }
   ],
   "source": [
    "X_trains = env.get_data(client_ids='all', data_type = 'train')\n",
    "X_train_imps = env.get_data(client_ids='all', data_type = 'train_imp')\n",
    "\n",
    "evaluator.tsne_visualization(\n",
    "    X_imps = X_train_imps,\n",
    "    X_origins = X_trains,\n",
    "    seed = 0,\n",
    "    save_path = './plots_guide/tsne.pdf'\n",
    ")"
   ]
  },
  {
   "cell_type": "markdown",
   "metadata": {},
   "source": [
    "### Local Prediction"
   ]
  },
  {
   "cell_type": "code",
   "execution_count": 13,
   "metadata": {},
   "outputs": [
    {
     "data": {
      "application/vnd.jupyter.widget-view+json": {
       "model_id": "e7fa07d217aa4f178fa4b3387cd09d90",
       "version_major": 2,
       "version_minor": 0
      },
      "text/plain": [
       "Clients:   0%|          | 0/4 [00:00<?, ?it/s]"
      ]
     },
     "metadata": {},
     "output_type": "display_data"
    },
    {
     "name": "stdout",
     "output_type": "stream",
     "text": [
      "==========================================================\n",
      "Downstream Prediction (Local)\n",
      "==========================================================\n",
      "             accuracy       f1         auc         prc\n",
      "----------  ----------  ----------  ----------  ----------\n",
      " Client 1     0.796       0.635       0.834       0.696\n",
      " Client 2     0.920       0.870       0.961       0.944\n",
      " Client 3     0.894       0.850       0.961       0.950\n",
      " Client 4     0.796       0.623       0.889       0.827\n",
      "----------  ----------  ----------  ----------  ----------\n",
      " Average      0.852       0.744       0.911       0.854\n",
      "   Std        0.056       0.116       0.054       0.104\n",
      "==========================================================\n"
     ]
    }
   ],
   "source": [
    "X_trains, y_trains = env.get_data(client_ids='all', data_type = 'train', include_y=True)\n",
    "X_tests, y_tests = env.get_data(client_ids='all', data_type = 'test', include_y=True)\n",
    "X_train_imps = env.get_data(client_ids='all', data_type = 'train_imp')\n",
    "data_config = env.get_data(data_type = 'config')\n",
    "\n",
    "ret = evaluator.evaluate_local_pred(\n",
    "    X_train_imps = X_train_imps,\n",
    "    y_trains = y_trains,\n",
    "    X_tests = X_tests,\n",
    "    y_tests = y_tests,\n",
    "    data_config = data_config,\n",
    "    model = 'nn',\n",
    "    seed= 0\n",
    ")\n",
    "evaluator.show_local_pred_results()"
   ]
  },
  {
   "cell_type": "markdown",
   "metadata": {},
   "source": [
    "### Federated Prediction"
   ]
  },
  {
   "cell_type": "code",
   "execution_count": 14,
   "metadata": {},
   "outputs": [
    {
     "data": {
      "application/vnd.jupyter.widget-view+json": {
       "model_id": "cce4e23c340b48bc83d846a461b57e50",
       "version_major": 2,
       "version_minor": 0
      },
      "text/plain": [
       "Global Epoch:   0%|          | 0/100 [00:00<?, ?it/s]"
      ]
     },
     "metadata": {},
     "output_type": "display_data"
    },
    {
     "name": "stdout",
     "output_type": "stream",
     "text": [
      "===============================================================\n",
      "Downstream Prediction (Fed)\n",
      "===============================================================\n",
      " Personalized    accuracy       f1         auc         prc\n",
      "--------------  ----------  ----------  ----------  ----------\n",
      "   Client 1       0.885       0.831       0.966       0.919\n",
      "   Client 2       0.929       0.895       0.977       0.942\n",
      "   Client 3       0.920       0.880       0.980       0.964\n",
      "   Client 4       0.894       0.846       0.975       0.964\n",
      "  ----------    ----------  ----------  ----------  ----------\n",
      "    Global        0.912       0.868       0.969       0.943\n",
      "===============================================================\n"
     ]
    }
   ],
   "source": [
    "X_train_imps = env.get_data(client_ids='all', data_type = 'train_imp')\n",
    "X_trains, y_trains = env.get_data(\n",
    "    client_ids='all', data_type = 'train', include_y=True\n",
    ")\n",
    "X_tests, y_tests = env.get_data(\n",
    "    client_ids='all', data_type = 'test', include_y=True\n",
    ")\n",
    "X_global_test, y_global_test = env.get_data(\n",
    "    data_type = 'global_test', include_y = True\n",
    ")\n",
    "data_config = env.get_data(data_type = 'config')\n",
    "\n",
    "ret = evaluator.evaluate_fed_pred(\n",
    "    X_train_imps = X_train_imps,\n",
    "    y_trains = y_trains,\n",
    "    X_tests = X_tests,\n",
    "    y_tests = y_tests,\n",
    "    X_test_global = X_global_test,\n",
    "    y_test_global = y_global_test,\n",
    "    data_config = data_config,\n",
    "    train_params = {\n",
    "        'global_epoch': 100,\n",
    "        'local_epoch': 10,\n",
    "        'fine_tune_epoch': 200,\n",
    "    },\n",
    "    seed= 0\n",
    ")\n",
    "\n",
    "evaluator.show_fed_pred_results()"
   ]
  },
  {
   "cell_type": "markdown",
   "metadata": {},
   "source": [
    "# Benchmarking Pipeline"
   ]
  },
  {
   "cell_type": "code",
   "execution_count": 15,
   "metadata": {},
   "outputs": [
    {
     "name": "stdout",
     "output_type": "stream",
     "text": [
      "The autoreload extension is already loaded. To reload it, use:\n",
      "  %reload_ext autoreload\n",
      "==============================================================\n",
      "Experiment ID: test_pipeline\n",
      "==============================================================\n",
      "Description: test\n",
      "Persist Data: False\n",
      "Evaluation: ['imp_quality', 'local_pred', 'fed_pred']\n",
      "Seed: 100330201\n",
      "--------------------------------------------------------------\n",
      "    Imputer    Fed Strategy    Imp Params    Strategy Params\n",
      "--  ---------  --------------  ------------  -----------------\n",
      " 0  em         local           {}            {}\n",
      " 1  em         fedem           {}            {}\n",
      " 2  mice       local           {}            {}\n",
      " 3  mice       fedmice         {}            {}\n",
      " 4  gain       local           {}            {}\n",
      " 5  gain       fedavg          {}            {}\n",
      "==============================================================\n",
      "\n"
     ]
    }
   ],
   "source": [
    "%load_ext autoreload\n",
    "%autoreload 2\n",
    "from fedimpute.pipeline import FedImputePipeline\n",
    "\n",
    "pipeline = FedImputePipeline()\n",
    "pipeline.setup(\n",
    "    id = 'test_pipeline',\n",
    "    fed_imp_configs = [\n",
    "        ('em', ['local', 'fedem'], {}, [{}, {}]),\n",
    "        ('mice', ['local', 'fedmice'], {}, [{}, {}]),\n",
    "        ('gain', ['local', 'fedavg'], {}, [{}, {}]),\n",
    "    ],\n",
    "    persist_data = False,\n",
    "    description = 'test'\n",
    ")\n",
    "\n",
    "pipeline.pipeline_setup_summary()"
   ]
  },
  {
   "cell_type": "code",
   "execution_count": 16,
   "metadata": {},
   "outputs": [
    {
     "name": "stdout",
     "output_type": "stream",
     "text": [
      "----------------------------------------------------------------------------------------------------\n",
      "Running experiment: 1 / 6\n",
      "Imputer: em | Fed Strategy: local |Imp Params: {} | Strategy Params: {}\n"
     ]
    },
    {
     "data": {
      "application/vnd.jupyter.widget-view+json": {
       "model_id": "0379c9274fbb45bd8303aaf0232612c1",
       "version_major": 2,
       "version_minor": 0
      },
      "text/plain": [
       "Clients:   0%|          | 0/4 [00:00<?, ?it/s]"
      ]
     },
     "metadata": {},
     "output_type": "display_data"
    },
    {
     "data": {
      "application/vnd.jupyter.widget-view+json": {
       "model_id": "d389a88404ed413d872712c8ed2ba53f",
       "version_major": 2,
       "version_minor": 0
      },
      "text/plain": [
       "Clients:   0%|          | 0/4 [00:00<?, ?it/s]"
      ]
     },
     "metadata": {},
     "output_type": "display_data"
    },
    {
     "data": {
      "application/vnd.jupyter.widget-view+json": {
       "model_id": "75d65f77736744b6bea49a3ebbcf4c85",
       "version_major": 2,
       "version_minor": 0
      },
      "text/plain": [
       "Global Epoch:   0%|          | 0/100 [00:00<?, ?it/s]"
      ]
     },
     "metadata": {},
     "output_type": "display_data"
    },
    {
     "name": "stdout",
     "output_type": "stream",
     "text": [
      "----------------------------------------------------------------------------------------------------\n",
      "Running experiment: 2 / 6\n",
      "Imputer: em | Fed Strategy: fedem |Imp Params: {} | Strategy Params: {}\n"
     ]
    },
    {
     "data": {
      "application/vnd.jupyter.widget-view+json": {
       "model_id": "7d3f4a5c18914227a783fc7542a6c0d2",
       "version_major": 2,
       "version_minor": 0
      },
      "text/plain": [
       "Iterations:   0%|          | 0/100 [00:00<?, ?it/s]"
      ]
     },
     "metadata": {},
     "output_type": "display_data"
    },
    {
     "data": {
      "application/vnd.jupyter.widget-view+json": {
       "model_id": "1b5e269c54a44f72a51e4199032b133b",
       "version_major": 2,
       "version_minor": 0
      },
      "text/plain": [
       "Clients:   0%|          | 0/4 [00:00<?, ?it/s]"
      ]
     },
     "metadata": {},
     "output_type": "display_data"
    },
    {
     "data": {
      "application/vnd.jupyter.widget-view+json": {
       "model_id": "329de89dc00347ca994eed34b88dae9a",
       "version_major": 2,
       "version_minor": 0
      },
      "text/plain": [
       "Global Epoch:   0%|          | 0/100 [00:00<?, ?it/s]"
      ]
     },
     "metadata": {},
     "output_type": "display_data"
    },
    {
     "name": "stdout",
     "output_type": "stream",
     "text": [
      "----------------------------------------------------------------------------------------------------\n",
      "Running experiment: 3 / 6\n",
      "Imputer: mice | Fed Strategy: local |Imp Params: {} | Strategy Params: {}\n"
     ]
    },
    {
     "data": {
      "application/vnd.jupyter.widget-view+json": {
       "model_id": "71b4bc03f2394dcaa3f15f3dc18ebdad",
       "version_major": 2,
       "version_minor": 0
      },
      "text/plain": [
       "ICE Iterations:   0%|          | 0/20 [00:00<?, ?it/s]"
      ]
     },
     "metadata": {},
     "output_type": "display_data"
    },
    {
     "data": {
      "application/vnd.jupyter.widget-view+json": {
       "model_id": "c7dab4e4162d449fbcdbed7628422ad4",
       "version_major": 2,
       "version_minor": 0
      },
      "text/plain": [
       "Feature_idx:   0%|          | 0/8 [00:00<?, ?it/s]"
      ]
     },
     "metadata": {},
     "output_type": "display_data"
    },
    {
     "data": {
      "application/vnd.jupyter.widget-view+json": {
       "model_id": "3754c843c1704e12b814c3558c6d8567",
       "version_major": 2,
       "version_minor": 0
      },
      "text/plain": [
       "Feature_idx:   0%|          | 0/8 [00:00<?, ?it/s]"
      ]
     },
     "metadata": {},
     "output_type": "display_data"
    },
    {
     "data": {
      "application/vnd.jupyter.widget-view+json": {
       "model_id": "fae53b1bb4c04f1cbdcc7991a083004d",
       "version_major": 2,
       "version_minor": 0
      },
      "text/plain": [
       "Feature_idx:   0%|          | 0/8 [00:00<?, ?it/s]"
      ]
     },
     "metadata": {},
     "output_type": "display_data"
    },
    {
     "data": {
      "application/vnd.jupyter.widget-view+json": {
       "model_id": "a724c291685840d09d52f22f26098483",
       "version_major": 2,
       "version_minor": 0
      },
      "text/plain": [
       "Feature_idx:   0%|          | 0/8 [00:00<?, ?it/s]"
      ]
     },
     "metadata": {},
     "output_type": "display_data"
    },
    {
     "data": {
      "application/vnd.jupyter.widget-view+json": {
       "model_id": "07f342539277424cb52dc77be49e18d9",
       "version_major": 2,
       "version_minor": 0
      },
      "text/plain": [
       "Feature_idx:   0%|          | 0/8 [00:00<?, ?it/s]"
      ]
     },
     "metadata": {},
     "output_type": "display_data"
    },
    {
     "data": {
      "application/vnd.jupyter.widget-view+json": {
       "model_id": "8a97cc04229b4702838f68fa58eab78d",
       "version_major": 2,
       "version_minor": 0
      },
      "text/plain": [
       "Feature_idx:   0%|          | 0/8 [00:00<?, ?it/s]"
      ]
     },
     "metadata": {},
     "output_type": "display_data"
    },
    {
     "data": {
      "application/vnd.jupyter.widget-view+json": {
       "model_id": "266ce1acc0e84d9ca5a98cc372e1dac2",
       "version_major": 2,
       "version_minor": 0
      },
      "text/plain": [
       "Feature_idx:   0%|          | 0/8 [00:00<?, ?it/s]"
      ]
     },
     "metadata": {},
     "output_type": "display_data"
    },
    {
     "data": {
      "application/vnd.jupyter.widget-view+json": {
       "model_id": "8ba26a6a1b264ba29bda96f3e1989520",
       "version_major": 2,
       "version_minor": 0
      },
      "text/plain": [
       "Feature_idx:   0%|          | 0/8 [00:00<?, ?it/s]"
      ]
     },
     "metadata": {},
     "output_type": "display_data"
    },
    {
     "data": {
      "application/vnd.jupyter.widget-view+json": {
       "model_id": "fc6dc431f5904c2ba2fc94c26a9c4f47",
       "version_major": 2,
       "version_minor": 0
      },
      "text/plain": [
       "Feature_idx:   0%|          | 0/8 [00:00<?, ?it/s]"
      ]
     },
     "metadata": {},
     "output_type": "display_data"
    },
    {
     "data": {
      "application/vnd.jupyter.widget-view+json": {
       "model_id": "11918e9edd74406db364c84f35e0c774",
       "version_major": 2,
       "version_minor": 0
      },
      "text/plain": [
       "Feature_idx:   0%|          | 0/8 [00:00<?, ?it/s]"
      ]
     },
     "metadata": {},
     "output_type": "display_data"
    },
    {
     "data": {
      "application/vnd.jupyter.widget-view+json": {
       "model_id": "670838901b0e4a50adc7419052c75ead",
       "version_major": 2,
       "version_minor": 0
      },
      "text/plain": [
       "Feature_idx:   0%|          | 0/8 [00:00<?, ?it/s]"
      ]
     },
     "metadata": {},
     "output_type": "display_data"
    },
    {
     "data": {
      "application/vnd.jupyter.widget-view+json": {
       "model_id": "affa7c12debb47b7b345028dea9cbb9b",
       "version_major": 2,
       "version_minor": 0
      },
      "text/plain": [
       "Clients:   0%|          | 0/4 [00:00<?, ?it/s]"
      ]
     },
     "metadata": {},
     "output_type": "display_data"
    },
    {
     "data": {
      "application/vnd.jupyter.widget-view+json": {
       "model_id": "00eae4441cf24411ad9d3d111e9cb558",
       "version_major": 2,
       "version_minor": 0
      },
      "text/plain": [
       "Global Epoch:   0%|          | 0/100 [00:00<?, ?it/s]"
      ]
     },
     "metadata": {},
     "output_type": "display_data"
    },
    {
     "name": "stdout",
     "output_type": "stream",
     "text": [
      "----------------------------------------------------------------------------------------------------\n",
      "Running experiment: 4 / 6\n",
      "Imputer: mice | Fed Strategy: fedmice |Imp Params: {} | Strategy Params: {}\n"
     ]
    },
    {
     "data": {
      "application/vnd.jupyter.widget-view+json": {
       "model_id": "68f8361d3c3242f7999b0d9f53c42c3c",
       "version_major": 2,
       "version_minor": 0
      },
      "text/plain": [
       "ICE Iterations:   0%|          | 0/20 [00:00<?, ?it/s]"
      ]
     },
     "metadata": {},
     "output_type": "display_data"
    },
    {
     "data": {
      "application/vnd.jupyter.widget-view+json": {
       "model_id": "8d8899a44af64154ace7698da6bb1a2f",
       "version_major": 2,
       "version_minor": 0
      },
      "text/plain": [
       "Feature_idx:   0%|          | 0/8 [00:00<?, ?it/s]"
      ]
     },
     "metadata": {},
     "output_type": "display_data"
    },
    {
     "data": {
      "application/vnd.jupyter.widget-view+json": {
       "model_id": "18a3b036310646f08e0461e46cb33c38",
       "version_major": 2,
       "version_minor": 0
      },
      "text/plain": [
       "Feature_idx:   0%|          | 0/8 [00:00<?, ?it/s]"
      ]
     },
     "metadata": {},
     "output_type": "display_data"
    },
    {
     "data": {
      "application/vnd.jupyter.widget-view+json": {
       "model_id": "5039ccdf7ed044fe9637f81a49641ba0",
       "version_major": 2,
       "version_minor": 0
      },
      "text/plain": [
       "Feature_idx:   0%|          | 0/8 [00:00<?, ?it/s]"
      ]
     },
     "metadata": {},
     "output_type": "display_data"
    },
    {
     "data": {
      "application/vnd.jupyter.widget-view+json": {
       "model_id": "a7034f0c5c794dd1949dbe14de633281",
       "version_major": 2,
       "version_minor": 0
      },
      "text/plain": [
       "Feature_idx:   0%|          | 0/8 [00:00<?, ?it/s]"
      ]
     },
     "metadata": {},
     "output_type": "display_data"
    },
    {
     "data": {
      "application/vnd.jupyter.widget-view+json": {
       "model_id": "9245c595ff704fce8d6642574d84ca52",
       "version_major": 2,
       "version_minor": 0
      },
      "text/plain": [
       "Feature_idx:   0%|          | 0/8 [00:00<?, ?it/s]"
      ]
     },
     "metadata": {},
     "output_type": "display_data"
    },
    {
     "data": {
      "application/vnd.jupyter.widget-view+json": {
       "model_id": "b846aade29b44e768d18cd94c0b39d47",
       "version_major": 2,
       "version_minor": 0
      },
      "text/plain": [
       "Feature_idx:   0%|          | 0/8 [00:00<?, ?it/s]"
      ]
     },
     "metadata": {},
     "output_type": "display_data"
    },
    {
     "data": {
      "application/vnd.jupyter.widget-view+json": {
       "model_id": "8bd7fb3375cc408896bd83156500113c",
       "version_major": 2,
       "version_minor": 0
      },
      "text/plain": [
       "Feature_idx:   0%|          | 0/8 [00:00<?, ?it/s]"
      ]
     },
     "metadata": {},
     "output_type": "display_data"
    },
    {
     "data": {
      "application/vnd.jupyter.widget-view+json": {
       "model_id": "549f3716ca0049efa54207a7a1456e96",
       "version_major": 2,
       "version_minor": 0
      },
      "text/plain": [
       "Feature_idx:   0%|          | 0/8 [00:00<?, ?it/s]"
      ]
     },
     "metadata": {},
     "output_type": "display_data"
    },
    {
     "data": {
      "application/vnd.jupyter.widget-view+json": {
       "model_id": "4066cc5c5ec642669198383b9d55bc51",
       "version_major": 2,
       "version_minor": 0
      },
      "text/plain": [
       "Feature_idx:   0%|          | 0/8 [00:00<?, ?it/s]"
      ]
     },
     "metadata": {},
     "output_type": "display_data"
    },
    {
     "data": {
      "application/vnd.jupyter.widget-view+json": {
       "model_id": "5ff7a7fd55934065914a08f9c318297e",
       "version_major": 2,
       "version_minor": 0
      },
      "text/plain": [
       "Feature_idx:   0%|          | 0/8 [00:00<?, ?it/s]"
      ]
     },
     "metadata": {},
     "output_type": "display_data"
    },
    {
     "data": {
      "application/vnd.jupyter.widget-view+json": {
       "model_id": "4136f1c7060647feb0f6dd062e459a85",
       "version_major": 2,
       "version_minor": 0
      },
      "text/plain": [
       "Feature_idx:   0%|          | 0/8 [00:00<?, ?it/s]"
      ]
     },
     "metadata": {},
     "output_type": "display_data"
    },
    {
     "data": {
      "application/vnd.jupyter.widget-view+json": {
       "model_id": "13b0d65af5494818a31c4a91226fa0f0",
       "version_major": 2,
       "version_minor": 0
      },
      "text/plain": [
       "Clients:   0%|          | 0/4 [00:00<?, ?it/s]"
      ]
     },
     "metadata": {},
     "output_type": "display_data"
    },
    {
     "data": {
      "application/vnd.jupyter.widget-view+json": {
       "model_id": "4f07816b4f8a45c093eb21f2c2790be4",
       "version_major": 2,
       "version_minor": 0
      },
      "text/plain": [
       "Global Epoch:   0%|          | 0/100 [00:00<?, ?it/s]"
      ]
     },
     "metadata": {},
     "output_type": "display_data"
    },
    {
     "name": "stdout",
     "output_type": "stream",
     "text": [
      "----------------------------------------------------------------------------------------------------\n",
      "Running experiment: 5 / 6\n",
      "Imputer: gain | Fed Strategy: local |Imp Params: {} | Strategy Params: {}\n"
     ]
    },
    {
     "data": {
      "application/vnd.jupyter.widget-view+json": {
       "model_id": "ddc0df1fee814cda9dcb367e9e7e59b0",
       "version_major": 2,
       "version_minor": 0
      },
      "text/plain": [
       "Global Epoch:   0%|          | 0/300 [00:00<?, ?it/s]"
      ]
     },
     "metadata": {},
     "output_type": "display_data"
    },
    {
     "data": {
      "application/vnd.jupyter.widget-view+json": {
       "model_id": "9afa304e11744d4c8a3ac58fb0c877f5",
       "version_major": 2,
       "version_minor": 0
      },
      "text/plain": [
       "Fine Tuning Epoch: 0it [00:00, ?it/s]"
      ]
     },
     "metadata": {},
     "output_type": "display_data"
    },
    {
     "data": {
      "application/vnd.jupyter.widget-view+json": {
       "model_id": "d55fbfa082a540598b17ba3a88c2449b",
       "version_major": 2,
       "version_minor": 0
      },
      "text/plain": [
       "Clients:   0%|          | 0/4 [00:00<?, ?it/s]"
      ]
     },
     "metadata": {},
     "output_type": "display_data"
    },
    {
     "data": {
      "application/vnd.jupyter.widget-view+json": {
       "model_id": "b8c271da0f9043d7b22c9faaec65c490",
       "version_major": 2,
       "version_minor": 0
      },
      "text/plain": [
       "Global Epoch:   0%|          | 0/100 [00:00<?, ?it/s]"
      ]
     },
     "metadata": {},
     "output_type": "display_data"
    },
    {
     "name": "stdout",
     "output_type": "stream",
     "text": [
      "----------------------------------------------------------------------------------------------------\n",
      "Running experiment: 6 / 6\n",
      "Imputer: gain | Fed Strategy: fedavg |Imp Params: {} | Strategy Params: {}\n"
     ]
    },
    {
     "data": {
      "application/vnd.jupyter.widget-view+json": {
       "model_id": "c40311a8a4af4deba7ccb4cd07a49499",
       "version_major": 2,
       "version_minor": 0
      },
      "text/plain": [
       "Global Epoch:   0%|          | 0/300 [00:00<?, ?it/s]"
      ]
     },
     "metadata": {},
     "output_type": "display_data"
    },
    {
     "data": {
      "application/vnd.jupyter.widget-view+json": {
       "model_id": "c8f40c951ddc4ed5942cc0aac4089aab",
       "version_major": 2,
       "version_minor": 0
      },
      "text/plain": [
       "Fine Tuning Epoch: 0it [00:00, ?it/s]"
      ]
     },
     "metadata": {},
     "output_type": "display_data"
    },
    {
     "data": {
      "application/vnd.jupyter.widget-view+json": {
       "model_id": "ff46aaeec3d9455a856c2c2cd66feb62",
       "version_major": 2,
       "version_minor": 0
      },
      "text/plain": [
       "Clients:   0%|          | 0/4 [00:00<?, ?it/s]"
      ]
     },
     "metadata": {},
     "output_type": "display_data"
    },
    {
     "data": {
      "application/vnd.jupyter.widget-view+json": {
       "model_id": "0c9d1390e19445eebd9e0289a202b540",
       "version_major": 2,
       "version_minor": 0
      },
      "text/plain": [
       "Global Epoch:   0%|          | 0/100 [00:00<?, ?it/s]"
      ]
     },
     "metadata": {},
     "output_type": "display_data"
    }
   ],
   "source": [
    "pipeline.run_pipeline(\n",
    "    scenario_builder, repeats = 1, verbose = 1\n",
    ")"
   ]
  },
  {
   "cell_type": "code",
   "execution_count": 17,
   "metadata": {},
   "outputs": [],
   "source": [
    "pipeline.plot_pipeline_results(\n",
    "    metric_aspect = 'fed_pred_global',\n",
    "    plot_type = 'bar',\n",
    "    save_path = './plots_guide/benchmark1.pdf'\n",
    ")"
   ]
  },
  {
   "cell_type": "code",
   "execution_count": 18,
   "metadata": {},
   "outputs": [
    {
     "data": {
      "text/html": [
       "<style type=\"text/css\">\n",
       "#T_72eb3 th {\n",
       "  text-align: center;\n",
       "}\n",
       "</style>\n",
       "<table id=\"T_72eb3\">\n",
       "  <thead>\n",
       "    <tr>\n",
       "      <th class=\"blank level0\" >&nbsp;</th>\n",
       "      <th id=\"T_72eb3_level0_col0\" class=\"col_heading level0 col0\" colspan=\"2\">em</th>\n",
       "      <th id=\"T_72eb3_level0_col2\" class=\"col_heading level0 col2\" colspan=\"2\">gain</th>\n",
       "      <th id=\"T_72eb3_level0_col4\" class=\"col_heading level0 col4\" colspan=\"2\">mice</th>\n",
       "    </tr>\n",
       "    <tr>\n",
       "      <th class=\"blank level1\" >&nbsp;</th>\n",
       "      <th id=\"T_72eb3_level1_col0\" class=\"col_heading level1 col0\" >fedem</th>\n",
       "      <th id=\"T_72eb3_level1_col1\" class=\"col_heading level1 col1\" >local</th>\n",
       "      <th id=\"T_72eb3_level1_col2\" class=\"col_heading level1 col2\" >fedavg</th>\n",
       "      <th id=\"T_72eb3_level1_col3\" class=\"col_heading level1 col3\" >local</th>\n",
       "      <th id=\"T_72eb3_level1_col4\" class=\"col_heading level1 col4\" >fedmice</th>\n",
       "      <th id=\"T_72eb3_level1_col5\" class=\"col_heading level1 col5\" >local</th>\n",
       "    </tr>\n",
       "  </thead>\n",
       "  <tbody>\n",
       "    <tr>\n",
       "      <th id=\"T_72eb3_level0_row0\" class=\"row_heading level0 row0\" >Client 0</th>\n",
       "      <td id=\"T_72eb3_row0_col0\" class=\"data row0 col0\" >0.161 (0.00)</td>\n",
       "      <td id=\"T_72eb3_row0_col1\" class=\"data row0 col1\" >0.245 (0.00)</td>\n",
       "      <td id=\"T_72eb3_row0_col2\" class=\"data row0 col2\" >0.227 (0.00)</td>\n",
       "      <td id=\"T_72eb3_row0_col3\" class=\"data row0 col3\" >0.253 (0.00)</td>\n",
       "      <td id=\"T_72eb3_row0_col4\" class=\"data row0 col4\" >0.180 (0.00)</td>\n",
       "      <td id=\"T_72eb3_row0_col5\" class=\"data row0 col5\" >0.215 (0.00)</td>\n",
       "    </tr>\n",
       "    <tr>\n",
       "      <th id=\"T_72eb3_level0_row1\" class=\"row_heading level0 row1\" >Client 1</th>\n",
       "      <td id=\"T_72eb3_row1_col0\" class=\"data row1 col0\" >0.162 (0.00)</td>\n",
       "      <td id=\"T_72eb3_row1_col1\" class=\"data row1 col1\" >0.262 (0.00)</td>\n",
       "      <td id=\"T_72eb3_row1_col2\" class=\"data row1 col2\" >0.210 (0.00)</td>\n",
       "      <td id=\"T_72eb3_row1_col3\" class=\"data row1 col3\" >0.258 (0.00)</td>\n",
       "      <td id=\"T_72eb3_row1_col4\" class=\"data row1 col4\" >0.187 (0.00)</td>\n",
       "      <td id=\"T_72eb3_row1_col5\" class=\"data row1 col5\" >0.236 (0.00)</td>\n",
       "    </tr>\n",
       "    <tr>\n",
       "      <th id=\"T_72eb3_level0_row2\" class=\"row_heading level0 row2\" >Client 2</th>\n",
       "      <td id=\"T_72eb3_row2_col0\" class=\"data row2 col0\" >0.127 (0.00)</td>\n",
       "      <td id=\"T_72eb3_row2_col1\" class=\"data row2 col1\" >0.190 (0.00)</td>\n",
       "      <td id=\"T_72eb3_row2_col2\" class=\"data row2 col2\" >0.266 (0.00)</td>\n",
       "      <td id=\"T_72eb3_row2_col3\" class=\"data row2 col3\" >0.253 (0.00)</td>\n",
       "      <td id=\"T_72eb3_row2_col4\" class=\"data row2 col4\" >0.117 (0.00)</td>\n",
       "      <td id=\"T_72eb3_row2_col5\" class=\"data row2 col5\" >0.188 (0.00)</td>\n",
       "    </tr>\n",
       "    <tr>\n",
       "      <th id=\"T_72eb3_level0_row3\" class=\"row_heading level0 row3\" >Client 3</th>\n",
       "      <td id=\"T_72eb3_row3_col0\" class=\"data row3 col0\" >0.133 (0.00)</td>\n",
       "      <td id=\"T_72eb3_row3_col1\" class=\"data row3 col1\" >0.256 (0.00)</td>\n",
       "      <td id=\"T_72eb3_row3_col2\" class=\"data row3 col2\" >0.258 (0.00)</td>\n",
       "      <td id=\"T_72eb3_row3_col3\" class=\"data row3 col3\" >0.275 (0.00)</td>\n",
       "      <td id=\"T_72eb3_row3_col4\" class=\"data row3 col4\" >0.127 (0.00)</td>\n",
       "      <td id=\"T_72eb3_row3_col5\" class=\"data row3 col5\" >0.177 (0.00)</td>\n",
       "    </tr>\n",
       "  </tbody>\n",
       "</table>\n"
      ],
      "text/plain": [
       "<pandas.io.formats.style.Styler at 0x2099319d8e0>"
      ]
     },
     "execution_count": 18,
     "metadata": {},
     "output_type": "execute_result"
    }
   ],
   "source": [
    "data = pipeline.show_pipeline_results(\n",
    "    format = 'dataframe',  \n",
    "    metric_aspect = 'imp_quality',\n",
    "    metric_name = 'rmse',\n",
    "    show_round_variation = False\n",
    ")\n",
    "data"
   ]
  }
 ],
 "metadata": {
  "kernelspec": {
   "display_name": ".venv",
   "language": "python",
   "name": "python3"
  },
  "language_info": {
   "codemirror_mode": {
    "name": "ipython",
    "version": 3
   },
   "file_extension": ".py",
   "mimetype": "text/x-python",
   "name": "python",
   "nbconvert_exporter": "python",
   "pygments_lexer": "ipython3",
   "version": "3.12.3"
  }
 },
 "nbformat": 4,
 "nbformat_minor": 2
}
