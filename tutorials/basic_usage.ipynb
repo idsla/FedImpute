{
 "cells": [
  {
   "cell_type": "code",
   "execution_count": 1,
   "id": "f53f522d",
   "metadata": {
    "ExecuteTime": {
     "end_time": "2024-06-26T02:05:02.638341Z",
     "start_time": "2024-06-26T02:05:02.618708Z"
    }
   },
   "outputs": [
    {
     "name": "stdout",
     "output_type": "stream",
     "text": [
      "e:\\research\\FedImpute\n"
     ]
    },
    {
     "name": "stderr",
     "output_type": "stream",
     "text": [
      "e:\\research\\FedImpute\\.venv\\Lib\\site-packages\\IPython\\core\\magics\\osm.py:417: UserWarning: This is now an optional IPython functionality, setting dhist requires you to install the `pickleshare` library.\n",
      "  self.shell.db['dhist'] = compress_dhist(dhist)[-100:]\n"
     ]
    }
   ],
   "source": [
    "cd .."
   ]
  },
  {
   "cell_type": "code",
   "execution_count": 2,
   "id": "5239ede8",
   "metadata": {
    "ExecuteTime": {
     "end_time": "2024-06-26T02:05:09.204048Z",
     "start_time": "2024-06-26T02:05:08.951472Z"
    }
   },
   "outputs": [],
   "source": [
    "import numpy as np\n",
    "import loguru\n",
    "import sys"
   ]
  },
  {
   "cell_type": "markdown",
   "id": "417e8057",
   "metadata": {},
   "source": [
    "## Step1 Prepare the data\n",
    "\n",
    "We simulate a simple gaussain random data. Remember to make the `data_config` dictionary to be like the following, the keys in `data_config` should be consistent with the keys used for FedImpute."
   ]
  },
  {
   "cell_type": "code",
   "execution_count": 3,
   "id": "defdd366",
   "metadata": {
    "ExecuteTime": {
     "end_time": "2024-06-26T02:05:12.246615Z",
     "start_time": "2024-06-26T02:05:12.240616Z"
    }
   },
   "outputs": [],
   "source": [
    "data = np.random.rand(10000, 10)\n",
    "data_config = {\n",
    "    'task_type': 'regression',\n",
    "    'clf_type': None,\n",
    "    'num_cols': 9,\n",
    "}"
   ]
  },
  {
   "cell_type": "markdown",
   "id": "29bb550e",
   "metadata": {},
   "source": [
    "## Step2 Simulate Federated Missing Data Scenario\n",
    "\n",
    "Import simulator and simulate the scanrios, details of parameters can be found in documentation"
   ]
  },
  {
   "cell_type": "code",
   "execution_count": 4,
   "id": "1ef354f9fab5977c",
   "metadata": {
    "ExecuteTime": {
     "end_time": "2024-06-26T02:05:16.730729Z",
     "start_time": "2024-06-26T02:05:14.229588Z"
    }
   },
   "outputs": [
    {
     "name": "stdout",
     "output_type": "stream",
     "text": [
      "Data partitioning...\n",
      "Missing data simulation...\n",
      "Simulation done. Using summary function to check the simulation results.\n"
     ]
    }
   ],
   "source": [
    "%load_ext autoreload\n",
    "%autoreload 2\n",
    "from fedimpute.simulator import Simulator\n",
    "simulator = Simulator(debug_mode=False)\n",
    "simulation_results = simulator.simulate_scenario(data, data_config, num_clients = 10, verbose=1)"
   ]
  },
  {
   "cell_type": "code",
   "execution_count": 5,
   "id": "46cac161431d2dc",
   "metadata": {
    "ExecuteTime": {
     "end_time": "2024-06-26T02:11:37.336693Z",
     "start_time": "2024-06-26T02:11:36.870104Z"
    }
   },
   "outputs": [
    {
     "name": "stdout",
     "output_type": "stream",
     "text": [
      "Data partitioning...\n",
      "Missing data simulation...\n",
      "Simulation done. Using summary function to check the simulation results.\n"
     ]
    }
   ],
   "source": [
    "simulation_results = simulator.simulate_scenario_lite(\n",
    "    data, data_config, num_clients = 10, dp_strategy='niid-dir@0.1', ms_scenario = 'mar-heter', verbose=1\n",
    ")"
   ]
  },
  {
   "cell_type": "markdown",
   "id": "aad5722a",
   "metadata": {},
   "source": [
    "## Step3 Run the Federated Imputation\n",
    "\n",
    "Run the federated imputation with the simulated data"
   ]
  },
  {
   "cell_type": "code",
   "execution_count": 5,
   "id": "dcd29c5931acd184",
   "metadata": {
    "ExecuteTime": {
     "end_time": "2024-06-26T02:12:17.660009Z",
     "start_time": "2024-06-26T02:11:44.353322Z"
    }
   },
   "outputs": [
    {
     "name": "stdout",
     "output_type": "stream",
     "text": [
      "The autoreload extension is already loaded. To reload it, use:\n",
      "  %reload_ext autoreload\n",
      "Setting up clients...\n",
      "Setting up server...\n",
      "Setting up workflow...\n",
      "Environment setup complete.\n",
      "gnr fedavg\n",
      "\u001b[32m2024-08-15 17:54:32.694\u001b[0m | \u001b[1mINFO    \u001b[0m | \u001b[36mfedimpute.execution_environment.workflows.workflow\u001b[0m:\u001b[36meval_and_track\u001b[0m:\u001b[36m101\u001b[0m - \u001b[1m\n",
      "Initial: rmse - 0.5790365618145566 ws - 0.2823867856489633\u001b[0m\n"
     ]
    },
    {
     "data": {
      "application/vnd.jupyter.widget-view+json": {
       "model_id": "21f972cba14243bcb4549bfc29941a9b",
       "version_major": 2,
       "version_minor": 0
      },
      "text/plain": [
       "Global Epoch:   0%|          | 0/300 [00:00<?, ?it/s]"
      ]
     },
     "metadata": {},
     "output_type": "display_data"
    },
    {
     "ename": "ValueError",
     "evalue": "Value is not broadcastable with batch_shape+event_shape: torch.Size([256, 20, 5]) vs torch.Size([256, 5]).",
     "output_type": "error",
     "traceback": [
      "\u001b[1;31m---------------------------------------------------------------------------\u001b[0m",
      "\u001b[1;31mValueError\u001b[0m                                Traceback (most recent call last)",
      "Cell \u001b[1;32mIn[5], line 11\u001b[0m\n\u001b[0;32m      8\u001b[0m env\u001b[38;5;241m.\u001b[39msetup_from_simulator(simulator \u001b[38;5;241m=\u001b[39m simulator, verbose\u001b[38;5;241m=\u001b[39m\u001b[38;5;241m1\u001b[39m)\n\u001b[0;32m      9\u001b[0m \u001b[38;5;28mprint\u001b[39m(env\u001b[38;5;241m.\u001b[39mimputer_name, env\u001b[38;5;241m.\u001b[39mfed_strategy_name)\n\u001b[1;32m---> 11\u001b[0m \u001b[43menv\u001b[49m\u001b[38;5;241;43m.\u001b[39;49m\u001b[43mrun_fed_imputation\u001b[49m\u001b[43m(\u001b[49m\u001b[43mrun_type\u001b[49m\u001b[38;5;241;43m=\u001b[39;49m\u001b[38;5;124;43m'\u001b[39;49m\u001b[38;5;124;43msequential\u001b[39;49m\u001b[38;5;124;43m'\u001b[39;49m\u001b[43m)\u001b[49m\n",
      "File \u001b[1;32me:\\research\\FedImpute\\fedimpute\\execution_environment\\env_fedimp.py:157\u001b[0m, in \u001b[0;36mFedImputeEnv.run_fed_imputation\u001b[1;34m(self, run_type)\u001b[0m\n\u001b[0;32m    153\u001b[0m \u001b[38;5;28;01mdef\u001b[39;00m \u001b[38;5;21mrun_fed_imputation\u001b[39m(\u001b[38;5;28mself\u001b[39m, run_type: \u001b[38;5;28mstr\u001b[39m \u001b[38;5;241m=\u001b[39m \u001b[38;5;124m'\u001b[39m\u001b[38;5;124msequential\u001b[39m\u001b[38;5;124m'\u001b[39m):\n\u001b[0;32m    154\u001b[0m \n\u001b[0;32m    155\u001b[0m     \u001b[38;5;66;03m###########################################################################################################\u001b[39;00m\n\u001b[0;32m    156\u001b[0m     \u001b[38;5;66;03m# Run Federated Imputation\u001b[39;00m\n\u001b[1;32m--> 157\u001b[0m     \u001b[38;5;28;43mself\u001b[39;49m\u001b[38;5;241;43m.\u001b[39;49m\u001b[43mworkflow\u001b[49m\u001b[38;5;241;43m.\u001b[39;49m\u001b[43mrun_fed_imp\u001b[49m\u001b[43m(\u001b[49m\u001b[38;5;28;43mself\u001b[39;49m\u001b[38;5;241;43m.\u001b[39;49m\u001b[43mclients\u001b[49m\u001b[43m,\u001b[49m\u001b[43m \u001b[49m\u001b[38;5;28;43mself\u001b[39;49m\u001b[38;5;241;43m.\u001b[39;49m\u001b[43mserver\u001b[49m\u001b[43m,\u001b[49m\u001b[43m \u001b[49m\u001b[38;5;28;43mself\u001b[39;49m\u001b[38;5;241;43m.\u001b[39;49m\u001b[43mevaluator\u001b[49m\u001b[43m,\u001b[49m\u001b[43m \u001b[49m\u001b[38;5;28;43mself\u001b[39;49m\u001b[38;5;241;43m.\u001b[39;49m\u001b[43mtracker\u001b[49m\u001b[43m,\u001b[49m\u001b[43m \u001b[49m\u001b[43mrun_type\u001b[49m\u001b[43m)\u001b[49m\n",
      "File \u001b[1;32me:\\research\\FedImpute\\fedimpute\\execution_environment\\workflows\\workflow.py:73\u001b[0m, in \u001b[0;36mBaseWorkflow.run_fed_imp\u001b[1;34m(self, clients, server, evaluator, tracker, run_type)\u001b[0m\n\u001b[0;32m     58\u001b[0m \u001b[38;5;250m\u001b[39m\u001b[38;5;124;03m\"\"\"\u001b[39;00m\n\u001b[0;32m     59\u001b[0m \u001b[38;5;124;03mRun the federated imputation workflow based on the\u001b[39;00m\n\u001b[0;32m     60\u001b[0m \n\u001b[1;32m   (...)\u001b[0m\n\u001b[0;32m     69\u001b[0m \u001b[38;5;124;03m    Tracker - tracker with tracked results\u001b[39;00m\n\u001b[0;32m     70\u001b[0m \u001b[38;5;124;03m\"\"\"\u001b[39;00m\n\u001b[0;32m     72\u001b[0m \u001b[38;5;28;01mif\u001b[39;00m run_type \u001b[38;5;241m==\u001b[39m \u001b[38;5;124m'\u001b[39m\u001b[38;5;124msequential\u001b[39m\u001b[38;5;124m'\u001b[39m:\n\u001b[1;32m---> 73\u001b[0m     \u001b[38;5;28;01mreturn\u001b[39;00m \u001b[38;5;28;43mself\u001b[39;49m\u001b[38;5;241;43m.\u001b[39;49m\u001b[43mfed_imp_sequential\u001b[49m\u001b[43m(\u001b[49m\u001b[43mclients\u001b[49m\u001b[43m,\u001b[49m\u001b[43m \u001b[49m\u001b[43mserver\u001b[49m\u001b[43m,\u001b[49m\u001b[43m \u001b[49m\u001b[43mevaluator\u001b[49m\u001b[43m,\u001b[49m\u001b[43m \u001b[49m\u001b[43mtracker\u001b[49m\u001b[43m)\u001b[49m\n\u001b[0;32m     74\u001b[0m \u001b[38;5;28;01melif\u001b[39;00m run_type \u001b[38;5;241m==\u001b[39m \u001b[38;5;124m'\u001b[39m\u001b[38;5;124mparallel\u001b[39m\u001b[38;5;124m'\u001b[39m:\n\u001b[0;32m     75\u001b[0m     \u001b[38;5;28;01mreturn\u001b[39;00m \u001b[38;5;28mself\u001b[39m\u001b[38;5;241m.\u001b[39mfed_imp_parallel(clients, server, evaluator, tracker)\n",
      "File \u001b[1;32me:\\research\\FedImpute\\fedimpute\\execution_environment\\workflows\\workflow_jm.py:117\u001b[0m, in \u001b[0;36mWorkflowJM.fed_imp_sequential\u001b[1;34m(self, clients, server, evaluator, tracker)\u001b[0m\n\u001b[0;32m    115\u001b[0m \u001b[38;5;28;01mif\u001b[39;00m early_stopping_mode \u001b[38;5;241m==\u001b[39m \u001b[38;5;124m'\u001b[39m\u001b[38;5;124mlocal\u001b[39m\u001b[38;5;124m'\u001b[39m \u001b[38;5;129;01mand\u001b[39;00m all_clients_converged_sign[client_idx]:\n\u001b[0;32m    116\u001b[0m     fit_params\u001b[38;5;241m.\u001b[39mupdate({\u001b[38;5;124m'\u001b[39m\u001b[38;5;124mfit_model\u001b[39m\u001b[38;5;124m'\u001b[39m: \u001b[38;5;28;01mFalse\u001b[39;00m})\n\u001b[1;32m--> 117\u001b[0m model_parameter, fit_res \u001b[38;5;241m=\u001b[39m \u001b[43mclient\u001b[49m\u001b[38;5;241;43m.\u001b[39;49m\u001b[43mfit_local_imp_model\u001b[49m\u001b[43m(\u001b[49m\u001b[43mparams\u001b[49m\u001b[38;5;241;43m=\u001b[39;49m\u001b[43mfit_params\u001b[49m\u001b[43m)\u001b[49m\n\u001b[0;32m    118\u001b[0m local_models\u001b[38;5;241m.\u001b[39mappend(model_parameter)\n\u001b[0;32m    119\u001b[0m clients_fit_res\u001b[38;5;241m.\u001b[39mappend(fit_res)\n",
      "File \u001b[1;32me:\\research\\FedImpute\\fedimpute\\execution_environment\\client\\client.py:124\u001b[0m, in \u001b[0;36mClient.fit_local_imp_model\u001b[1;34m(self, params)\u001b[0m\n\u001b[0;32m    119\u001b[0m \u001b[38;5;28;01melse\u001b[39;00m:\n\u001b[0;32m    120\u001b[0m     \u001b[38;5;66;03m############################################################################################################\u001b[39;00m\n\u001b[0;32m    121\u001b[0m     \u001b[38;5;66;03m# NN based Imputation Models\u001b[39;00m\n\u001b[0;32m    122\u001b[0m     \u001b[38;5;28;01mif\u001b[39;00m \u001b[38;5;28misinstance\u001b[39m(\u001b[38;5;28mself\u001b[39m\u001b[38;5;241m.\u001b[39mfed_strategy, StrategyBaseClient):\n\u001b[1;32m--> 124\u001b[0m         imp_model, fit_res \u001b[38;5;241m=\u001b[39m \u001b[38;5;28;43mself\u001b[39;49m\u001b[38;5;241;43m.\u001b[39;49m\u001b[43mfed_strategy\u001b[49m\u001b[38;5;241;43m.\u001b[39;49m\u001b[43mtrain_local_nn_model\u001b[49m\u001b[43m(\u001b[49m\n\u001b[0;32m    125\u001b[0m \u001b[43m            \u001b[49m\u001b[38;5;28;43mself\u001b[39;49m\u001b[38;5;241;43m.\u001b[39;49m\u001b[43mimputer\u001b[49m\u001b[43m,\u001b[49m\u001b[43m \u001b[49m\u001b[43mparams\u001b[49m\u001b[43m,\u001b[49m\u001b[43m \u001b[49m\u001b[38;5;28;43mself\u001b[39;49m\u001b[38;5;241;43m.\u001b[39;49m\u001b[43mX_train_imp\u001b[49m\u001b[43m,\u001b[49m\u001b[43m \u001b[49m\u001b[38;5;28;43mself\u001b[39;49m\u001b[38;5;241;43m.\u001b[39;49m\u001b[43my_train\u001b[49m\u001b[43m,\u001b[49m\u001b[43m \u001b[49m\u001b[38;5;28;43mself\u001b[39;49m\u001b[38;5;241;43m.\u001b[39;49m\u001b[43mX_train_mask\u001b[49m\n\u001b[0;32m    126\u001b[0m \u001b[43m        \u001b[49m\u001b[43m)\u001b[49m\n\u001b[0;32m    128\u001b[0m         \u001b[38;5;28;01mreturn\u001b[39;00m imp_model, fit_res\n\u001b[0;32m    129\u001b[0m     \u001b[38;5;66;03m############################################################################################################\u001b[39;00m\n\u001b[0;32m    130\u001b[0m     \u001b[38;5;66;03m# Traditional Imputation Models\u001b[39;00m\n\u001b[0;32m    131\u001b[0m     \u001b[38;5;28;01melse\u001b[39;00m:\n",
      "File \u001b[1;32me:\\research\\FedImpute\\fedimpute\\execution_environment\\fed_strategy\\fed_strategy_client\\fedavg.py:80\u001b[0m, in \u001b[0;36mFedAvgStrategyClient.train_local_nn_model\u001b[1;34m(self, imputer, training_params, X_train_imp, y_train, X_train_mask)\u001b[0m\n\u001b[0;32m     78\u001b[0m local_model\u001b[38;5;241m.\u001b[39mtrain()\n\u001b[0;32m     79\u001b[0m optimizer\u001b[38;5;241m.\u001b[39mzero_grad()\n\u001b[1;32m---> 80\u001b[0m loss, res \u001b[38;5;241m=\u001b[39m \u001b[43mlocal_model\u001b[49m\u001b[38;5;241;43m.\u001b[39;49m\u001b[43mtrain_step\u001b[49m\u001b[43m(\u001b[49m\u001b[43mbatch\u001b[49m\u001b[43m,\u001b[49m\u001b[43m \u001b[49m\u001b[43mbatch_idx\u001b[49m\u001b[43m,\u001b[49m\u001b[43m \u001b[49m\u001b[43moptimizers\u001b[49m\u001b[43m,\u001b[49m\u001b[43m \u001b[49m\u001b[43moptimizer_idx\u001b[49m\u001b[38;5;241;43m=\u001b[39;49m\u001b[43moptimizer_idx\u001b[49m\u001b[43m)\u001b[49m\n\u001b[0;32m     81\u001b[0m loss_opt \u001b[38;5;241m+\u001b[39m\u001b[38;5;241m=\u001b[39m loss\n\u001b[0;32m     83\u001b[0m \u001b[38;5;66;03m#########################################################################\u001b[39;00m\n\u001b[0;32m     84\u001b[0m \u001b[38;5;66;03m# update loss\u001b[39;00m\n",
      "File \u001b[1;32me:\\research\\FedImpute\\fedimpute\\execution_environment\\imputation\\models\\vae_models\\gnr.py:171\u001b[0m, in \u001b[0;36mGNR.train_step\u001b[1;34m(self, batch, batch_idx, optimizers, optimizer_idx)\u001b[0m\n\u001b[0;32m    166\u001b[0m \u001b[38;5;28;01mdef\u001b[39;00m \u001b[38;5;21mtrain_step\u001b[39m(\n\u001b[0;32m    167\u001b[0m         \u001b[38;5;28mself\u001b[39m, batch: Tuple[torch\u001b[38;5;241m.\u001b[39mTensor, \u001b[38;5;241m.\u001b[39m\u001b[38;5;241m.\u001b[39m\u001b[38;5;241m.\u001b[39m], batch_idx: \u001b[38;5;28mint\u001b[39m,\n\u001b[0;32m    168\u001b[0m         optimizers: List[torch\u001b[38;5;241m.\u001b[39moptim\u001b[38;5;241m.\u001b[39mOptimizer], optimizer_idx: \u001b[38;5;28mint\u001b[39m\n\u001b[0;32m    169\u001b[0m ) \u001b[38;5;241m-\u001b[39m\u001b[38;5;241m>\u001b[39m \u001b[38;5;28mtuple\u001b[39m[\u001b[38;5;28mfloat\u001b[39m, \u001b[38;5;28mdict\u001b[39m]:\n\u001b[0;32m    170\u001b[0m     batch \u001b[38;5;241m=\u001b[39m \u001b[38;5;28mtuple\u001b[39m(item\u001b[38;5;241m.\u001b[39mto(DEVICE) \u001b[38;5;28;01mfor\u001b[39;00m item \u001b[38;5;129;01min\u001b[39;00m batch)\n\u001b[1;32m--> 171\u001b[0m     loss, train_res_dict \u001b[38;5;241m=\u001b[39m \u001b[38;5;28;43mself\u001b[39;49m\u001b[38;5;241;43m.\u001b[39;49m\u001b[43mcompute_loss\u001b[49m\u001b[43m(\u001b[49m\u001b[43mbatch\u001b[49m\u001b[43m)\u001b[49m\n\u001b[0;32m    172\u001b[0m     loss\u001b[38;5;241m.\u001b[39mbackward()\n\u001b[0;32m    174\u001b[0m     \u001b[38;5;28;01mreturn\u001b[39;00m loss\u001b[38;5;241m.\u001b[39mitem(), {}\n",
      "File \u001b[1;32me:\\research\\FedImpute\\fedimpute\\execution_environment\\imputation\\models\\vae_models\\gnr.py:149\u001b[0m, in \u001b[0;36mGNR.compute_loss\u001b[1;34m(self, inputs)\u001b[0m\n\u001b[0;32m    139\u001b[0m log_pm_given_z \u001b[38;5;241m=\u001b[39m torch\u001b[38;5;241m.\u001b[39msum(\n\u001b[0;32m    140\u001b[0m     p_m_given_z\u001b[38;5;241m.\u001b[39mlog_prob(torch\u001b[38;5;241m.\u001b[39munsqueeze(mask, dim\u001b[38;5;241m=\u001b[39m\u001b[38;5;241m1\u001b[39m)),  \u001b[38;5;66;03m# (batch_size, 1, num_features)\u001b[39;00m\n\u001b[0;32m    141\u001b[0m     dim\u001b[38;5;241m=\u001b[39m\u001b[38;5;241m-\u001b[39m\u001b[38;5;241m1\u001b[39m\n\u001b[0;32m    142\u001b[0m )  \u001b[38;5;66;03m# (batch_size, K)\u001b[39;00m\n\u001b[0;32m    144\u001b[0m \u001b[38;5;66;03m# q(z|x)\u001b[39;00m\n\u001b[0;32m    145\u001b[0m \u001b[38;5;66;03m# q_z_given_x2 = td.Independent(\u001b[39;00m\n\u001b[0;32m    146\u001b[0m \u001b[38;5;66;03m#     td.Normal(loc=torch.unsqueeze(q_mu, dim=1), scale=torch.unsqueeze(q_std, dim=1)),\u001b[39;00m\n\u001b[0;32m    147\u001b[0m \u001b[38;5;66;03m#     1\u001b[39;00m\n\u001b[0;32m    148\u001b[0m \u001b[38;5;66;03m# )\u001b[39;00m\n\u001b[1;32m--> 149\u001b[0m log_qz_given_x \u001b[38;5;241m=\u001b[39m \u001b[43mq_zgivenx\u001b[49m\u001b[38;5;241;43m.\u001b[39;49m\u001b[43mlog_prob\u001b[49m\u001b[43m(\u001b[49m\u001b[43ml_z\u001b[49m\u001b[43m)\u001b[49m  \u001b[38;5;66;03m# (batch_size, K)\u001b[39;00m\n\u001b[0;32m    151\u001b[0m \u001b[38;5;66;03m# p(z)\u001b[39;00m\n\u001b[0;32m    152\u001b[0m log_pz \u001b[38;5;241m=\u001b[39m \u001b[38;5;28mself\u001b[39m\u001b[38;5;241m.\u001b[39mp_z\u001b[38;5;241m.\u001b[39mlog_prob(l_z)  \u001b[38;5;66;03m# (batch_size, K)\u001b[39;00m\n",
      "File \u001b[1;32me:\\research\\FedImpute\\.venv\\Lib\\site-packages\\torch\\distributions\\independent.py:107\u001b[0m, in \u001b[0;36mIndependent.log_prob\u001b[1;34m(self, value)\u001b[0m\n\u001b[0;32m    106\u001b[0m \u001b[38;5;28;01mdef\u001b[39;00m \u001b[38;5;21mlog_prob\u001b[39m(\u001b[38;5;28mself\u001b[39m, value):\n\u001b[1;32m--> 107\u001b[0m     log_prob \u001b[38;5;241m=\u001b[39m \u001b[38;5;28;43mself\u001b[39;49m\u001b[38;5;241;43m.\u001b[39;49m\u001b[43mbase_dist\u001b[49m\u001b[38;5;241;43m.\u001b[39;49m\u001b[43mlog_prob\u001b[49m\u001b[43m(\u001b[49m\u001b[43mvalue\u001b[49m\u001b[43m)\u001b[49m\n\u001b[0;32m    108\u001b[0m     \u001b[38;5;28;01mreturn\u001b[39;00m _sum_rightmost(log_prob, \u001b[38;5;28mself\u001b[39m\u001b[38;5;241m.\u001b[39mreinterpreted_batch_ndims)\n",
      "File \u001b[1;32me:\\research\\FedImpute\\.venv\\Lib\\site-packages\\torch\\distributions\\normal.py:79\u001b[0m, in \u001b[0;36mNormal.log_prob\u001b[1;34m(self, value)\u001b[0m\n\u001b[0;32m     77\u001b[0m \u001b[38;5;28;01mdef\u001b[39;00m \u001b[38;5;21mlog_prob\u001b[39m(\u001b[38;5;28mself\u001b[39m, value):\n\u001b[0;32m     78\u001b[0m     \u001b[38;5;28;01mif\u001b[39;00m \u001b[38;5;28mself\u001b[39m\u001b[38;5;241m.\u001b[39m_validate_args:\n\u001b[1;32m---> 79\u001b[0m         \u001b[38;5;28;43mself\u001b[39;49m\u001b[38;5;241;43m.\u001b[39;49m\u001b[43m_validate_sample\u001b[49m\u001b[43m(\u001b[49m\u001b[43mvalue\u001b[49m\u001b[43m)\u001b[49m\n\u001b[0;32m     80\u001b[0m     \u001b[38;5;66;03m# compute the variance\u001b[39;00m\n\u001b[0;32m     81\u001b[0m     var \u001b[38;5;241m=\u001b[39m \u001b[38;5;28mself\u001b[39m\u001b[38;5;241m.\u001b[39mscale\u001b[38;5;241m*\u001b[39m\u001b[38;5;241m*\u001b[39m\u001b[38;5;241m2\u001b[39m\n",
      "File \u001b[1;32me:\\research\\FedImpute\\.venv\\Lib\\site-packages\\torch\\distributions\\distribution.py:297\u001b[0m, in \u001b[0;36mDistribution._validate_sample\u001b[1;34m(self, value)\u001b[0m\n\u001b[0;32m    295\u001b[0m \u001b[38;5;28;01mfor\u001b[39;00m i, j \u001b[38;5;129;01min\u001b[39;00m \u001b[38;5;28mzip\u001b[39m(\u001b[38;5;28mreversed\u001b[39m(actual_shape), \u001b[38;5;28mreversed\u001b[39m(expected_shape)):\n\u001b[0;32m    296\u001b[0m     \u001b[38;5;28;01mif\u001b[39;00m i \u001b[38;5;241m!=\u001b[39m \u001b[38;5;241m1\u001b[39m \u001b[38;5;129;01mand\u001b[39;00m j \u001b[38;5;241m!=\u001b[39m \u001b[38;5;241m1\u001b[39m \u001b[38;5;129;01mand\u001b[39;00m i \u001b[38;5;241m!=\u001b[39m j:\n\u001b[1;32m--> 297\u001b[0m         \u001b[38;5;28;01mraise\u001b[39;00m \u001b[38;5;167;01mValueError\u001b[39;00m(\n\u001b[0;32m    298\u001b[0m             \u001b[38;5;124mf\u001b[39m\u001b[38;5;124m\"\u001b[39m\u001b[38;5;124mValue is not broadcastable with batch_shape+event_shape: \u001b[39m\u001b[38;5;132;01m{\u001b[39;00mactual_shape\u001b[38;5;132;01m}\u001b[39;00m\u001b[38;5;124m vs \u001b[39m\u001b[38;5;132;01m{\u001b[39;00mexpected_shape\u001b[38;5;132;01m}\u001b[39;00m\u001b[38;5;124m.\u001b[39m\u001b[38;5;124m\"\u001b[39m\n\u001b[0;32m    299\u001b[0m         )\n\u001b[0;32m    300\u001b[0m \u001b[38;5;28;01mtry\u001b[39;00m:\n\u001b[0;32m    301\u001b[0m     support \u001b[38;5;241m=\u001b[39m \u001b[38;5;28mself\u001b[39m\u001b[38;5;241m.\u001b[39msupport\n",
      "\u001b[1;31mValueError\u001b[0m: Value is not broadcastable with batch_shape+event_shape: torch.Size([256, 20, 5]) vs torch.Size([256, 5])."
     ]
    }
   ],
   "source": [
    "%load_ext autoreload\n",
    "%autoreload 2\n",
    "from fedimpute.execution_environment import FedImputeEnv\n",
    "\n",
    "env = FedImputeEnv()\n",
    "env.reset_env()\n",
    "env.configuration(imputer = 'miwae', fed_strategy='fedavg', fit_mode = 'fed')\n",
    "env.setup_from_simulator(simulator = simulator, verbose=1)\n",
    "print(env.imputer_name, env.fed_strategy_name)\n",
    "\n",
    "env.run_fed_imputation(run_type='sequential')"
   ]
  },
  {
   "cell_type": "markdown",
   "id": "e17ed589",
   "metadata": {},
   "source": [
    "## Step4 Evaluate the Imputation Outcome\n",
    "\n",
    "Evaluate the imputation outcome, you can choose which of three evaluation aspects, you want to evaluate "
   ]
  },
  {
   "cell_type": "code",
   "execution_count": 13,
   "id": "c324b4b1",
   "metadata": {
    "ExecuteTime": {
     "end_time": "2024-06-26T02:14:10.343921Z",
     "start_time": "2024-06-26T02:12:32.909062Z"
    }
   },
   "outputs": [
    {
     "name": "stdout",
     "output_type": "stream",
     "text": [
      "The autoreload extension is already loaded. To reload it, use:\n",
      "  %reload_ext autoreload\n",
      "Evaluating imputation quality...\n",
      "Evaluation completed.\n",
      "=====================================================================================================\n",
      "Evaluation Results\n",
      "=====================================================================================================\n",
      "Imputation Quality             | rmse: 0.293 (0.00) nrmse: 0.682 (0.02) sliced-ws: 0.082 (0.01) \n",
      "=====================================================================================================\n"
     ]
    }
   ],
   "source": [
    "%load_ext autoreload\n",
    "%autoreload 2\n",
    "from fedimpute.evaluation import Evaluator\n",
    "\n",
    "evaluator = Evaluator()\n",
    "# eval_ret = evaluator.evaluate(env, ['imp_quality', 'pred_downstream_local', 'pred_downstream_fed'])\n",
    "eval_ret = evaluator.evaluate(env, ['imp_quality'])\n",
    "evaluator.show_results()"
   ]
  },
  {
   "cell_type": "code",
   "execution_count": 14,
   "id": "d95b8a11b8902079",
   "metadata": {},
   "outputs": [
    {
     "data": {
      "text/plain": [
       "0.2930719807545368"
      ]
     },
     "execution_count": 14,
     "metadata": {},
     "output_type": "execute_result"
    }
   ],
   "source": [
    "np.array(evaluator.results['imp_quality']['imp_quality']['rmse']).mean()"
   ]
  },
  {
   "cell_type": "code",
   "execution_count": null,
   "id": "8b1d1cd9",
   "metadata": {},
   "outputs": [],
   "source": []
  }
 ],
 "metadata": {
  "kernelspec": {
   "display_name": "Python 3",
   "language": "python",
   "name": "python3"
  },
  "language_info": {
   "codemirror_mode": {
    "name": "ipython",
    "version": 3
   },
   "file_extension": ".py",
   "mimetype": "text/x-python",
   "name": "python",
   "nbconvert_exporter": "python",
   "pygments_lexer": "ipython3",
   "version": "3.11.4"
  }
 },
 "nbformat": 4,
 "nbformat_minor": 5
}
