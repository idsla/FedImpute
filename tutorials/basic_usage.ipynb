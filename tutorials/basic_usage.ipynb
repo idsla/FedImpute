{
 "cells": [
  {
   "cell_type": "code",
   "execution_count": 1,
   "id": "f53f522d",
   "metadata": {
    "ExecuteTime": {
     "end_time": "2024-06-26T02:05:02.638341Z",
     "start_time": "2024-06-26T02:05:02.618708Z"
    }
   },
   "outputs": [
    {
     "name": "stdout",
     "output_type": "stream",
     "text": [
      "d:\\research\\FedImpute\n"
     ]
    },
    {
     "name": "stderr",
     "output_type": "stream",
     "text": [
      "d:\\research\\FedImpute\\.venv\\lib\\site-packages\\IPython\\core\\magics\\osm.py:417: UserWarning: This is now an optional IPython functionality, setting dhist requires you to install the `pickleshare` library.\n",
      "  self.shell.db['dhist'] = compress_dhist(dhist)[-100:]\n"
     ]
    }
   ],
   "source": [
    "cd .."
   ]
  },
  {
   "cell_type": "code",
   "execution_count": 1,
   "id": "5239ede8",
   "metadata": {
    "ExecuteTime": {
     "end_time": "2024-06-26T02:05:09.204048Z",
     "start_time": "2024-06-26T02:05:08.951472Z"
    }
   },
   "outputs": [],
   "source": [
    "import numpy as np\n",
    "import loguru\n",
    "import sys"
   ]
  },
  {
   "cell_type": "markdown",
   "id": "417e8057",
   "metadata": {},
   "source": [
    "## Step1 Prepare the data\n",
    "\n",
    "We simulate a simple gaussain random data. Remember to make the `data_config` dictionary to be like the following, the keys in `data_config` should be consistent with the keys used for FedImpute."
   ]
  },
  {
   "cell_type": "code",
   "execution_count": 2,
   "id": "defdd366",
   "metadata": {
    "ExecuteTime": {
     "end_time": "2024-06-26T02:05:12.246615Z",
     "start_time": "2024-06-26T02:05:12.240616Z"
    }
   },
   "outputs": [],
   "source": [
    "data = np.random.rand(10000, 10)\n",
    "data_config = {\n",
    "    'task_type': 'regression',\n",
    "    'clf_type': None,\n",
    "    'num_cols': 9,\n",
    "}"
   ]
  },
  {
   "cell_type": "markdown",
   "id": "29bb550e",
   "metadata": {},
   "source": [
    "## Step2 Simulate Federated Missing Data Scenario\n",
    "\n",
    "Import simulator and simulate the scanrios, details of parameters can be found in documentation"
   ]
  },
  {
   "cell_type": "code",
   "execution_count": 3,
   "id": "1ef354f9fab5977c",
   "metadata": {
    "ExecuteTime": {
     "end_time": "2024-06-26T02:05:16.730729Z",
     "start_time": "2024-06-26T02:05:14.229588Z"
    }
   },
   "outputs": [
    {
     "name": "stdout",
     "output_type": "stream",
     "text": [
      "Data partitioning...\n",
      "Missing data simulation...\n",
      "Simulation done. Using summary function to check the simulation results.\n"
     ]
    }
   ],
   "source": [
    "%load_ext autoreload\n",
    "%autoreload 2\n",
    "from fedimpute.simulator import Simulator\n",
    "simulator = Simulator(debug_mode=False)\n",
    "simulation_results = simulator.simulate_scenario(data, data_config, num_clients = 10, verbose=1)"
   ]
  },
  {
   "cell_type": "code",
   "execution_count": 5,
   "id": "46cac161431d2dc",
   "metadata": {
    "ExecuteTime": {
     "end_time": "2024-06-26T02:11:37.336693Z",
     "start_time": "2024-06-26T02:11:36.870104Z"
    }
   },
   "outputs": [
    {
     "name": "stdout",
     "output_type": "stream",
     "text": [
      "Data partitioning...\n",
      "Missing data simulation...\n",
      "Simulation done. Using summary function to check the simulation results.\n"
     ]
    }
   ],
   "source": [
    "simulation_results = simulator.simulate_scenario_lite(\n",
    "    data, data_config, num_clients = 10, dp_strategy='niid-dir@0.1', ms_scenario = 'mar-heter', verbose=1\n",
    ")"
   ]
  },
  {
   "cell_type": "markdown",
   "id": "aad5722a",
   "metadata": {},
   "source": [
    "## Step3 Run the Federated Imputation\n",
    "\n",
    "Run the federated imputation with the simulated data"
   ]
  },
  {
   "cell_type": "code",
   "execution_count": 4,
   "id": "dcd29c5931acd184",
   "metadata": {
    "ExecuteTime": {
     "end_time": "2024-06-26T02:12:17.660009Z",
     "start_time": "2024-06-26T02:11:44.353322Z"
    }
   },
   "outputs": [
    {
     "name": "stdout",
     "output_type": "stream",
     "text": [
      "The autoreload extension is already loaded. To reload it, use:\n",
      "  %reload_ext autoreload\n",
      "Setting up clients...\n",
      "Setting up server...\n",
      "Setting up workflow...\n",
      "Environment setup complete.\n",
      "mean fedavg\n",
      "\u001b[32m2024-07-02 18:32:22.521\u001b[0m | \u001b[1mINFO    \u001b[0m | \u001b[36mfedimpute.execution_environment.workflows.workflow\u001b[0m:\u001b[36meval_and_track_parallel\u001b[0m:\u001b[36m182\u001b[0m - \u001b[1m\n",
      "Initial: rmse - 0.2887416193578413 ws - 0.08989191653821257\u001b[0m\n",
      "\u001b[32m2024-07-02 18:33:02.492\u001b[0m | \u001b[1mINFO    \u001b[0m | \u001b[36mfedimpute.execution_environment.workflows.workflow\u001b[0m:\u001b[36meval_and_track_parallel\u001b[0m:\u001b[36m226\u001b[0m - \u001b[1mFinal: rmse - 0.28875369483455726 ws - 0.08990321279123456\u001b[0m\n"
     ]
    }
   ],
   "source": [
    "%load_ext autoreload\n",
    "%autoreload 2\n",
    "from fedimpute.execution_environment import FedImputeEnv\n",
    "\n",
    "env = FedImputeEnv()\n",
    "env.reset_env()\n",
    "env.configuration(imputer = 'fed_mean', fed_strategy='fedavg', fit_mode = 'fed')\n",
    "env.setup_from_simulator(simulator = simulator, verbose=1)\n",
    "print(env.imputer_name, env.fed_strategy_name)\n",
    "\n",
    "env.run_fed_imputation(run_type='parallel')"
   ]
  },
  {
   "cell_type": "markdown",
   "id": "e17ed589",
   "metadata": {},
   "source": [
    "## Step4 Evaluate the Imputation Outcome\n",
    "\n",
    "Evaluate the imputation outcome, you can choose which of three evaluation aspects, you want to evaluate "
   ]
  },
  {
   "cell_type": "code",
   "execution_count": 5,
   "id": "c324b4b1",
   "metadata": {
    "ExecuteTime": {
     "end_time": "2024-06-26T02:14:10.343921Z",
     "start_time": "2024-06-26T02:12:32.909062Z"
    }
   },
   "outputs": [
    {
     "name": "stdout",
     "output_type": "stream",
     "text": [
      "The autoreload extension is already loaded. To reload it, use:\n",
      "  %reload_ext autoreload\n",
      "Evaluating imputation quality...\n",
      "Evaluation completed.\n",
      "=====================================================================================================\n",
      "Evaluation Results\n",
      "=====================================================================================================\n",
      "Imputation Quality             | rmse: 0.289 (0.00) nrmse: 0.711 (0.03) sliced-ws: 0.090 (0.01) \n",
      "=====================================================================================================\n"
     ]
    }
   ],
   "source": [
    "%load_ext autoreload\n",
    "%autoreload 2\n",
    "from fedimpute.evaluation import Evaluator\n",
    "\n",
    "evaluator = Evaluator()\n",
    "# eval_ret = evaluator.evaluate(env, ['imp_quality', 'pred_downstream_local', 'pred_downstream_fed'])\n",
    "eval_ret = evaluator.evaluate(env, ['imp_quality'])\n",
    "evaluator.show_results()"
   ]
  },
  {
   "cell_type": "code",
   "execution_count": 6,
   "id": "d95b8a11b8902079",
   "metadata": {},
   "outputs": [
    {
     "data": {
      "text/plain": [
       "0.28875369483455726"
      ]
     },
     "execution_count": 6,
     "metadata": {},
     "output_type": "execute_result"
    }
   ],
   "source": [
    "np.array(evaluator.results['imp_quality']['imp_quality']['rmse']).mean()"
   ]
  },
  {
   "cell_type": "code",
   "execution_count": null,
   "id": "8b1d1cd9",
   "metadata": {},
   "outputs": [],
   "source": []
  }
 ],
 "metadata": {
  "kernelspec": {
   "display_name": "Python 3",
   "language": "python",
   "name": "python3"
  },
  "language_info": {
   "codemirror_mode": {
    "name": "ipython",
    "version": 3
   },
   "file_extension": ".py",
   "mimetype": "text/x-python",
   "name": "python",
   "nbconvert_exporter": "python",
   "pygments_lexer": "ipython3",
   "version": "3.10.0"
  }
 },
 "nbformat": 4,
 "nbformat_minor": 5
}
