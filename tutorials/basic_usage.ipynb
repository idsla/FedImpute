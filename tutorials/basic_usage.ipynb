{
 "cells": [
  {
   "cell_type": "code",
   "execution_count": 4,
   "id": "f53f522d",
   "metadata": {
    "ExecuteTime": {
     "end_time": "2024-06-26T02:05:02.638341Z",
     "start_time": "2024-06-26T02:05:02.618708Z"
    }
   },
   "outputs": [
    {
     "name": "stdout",
     "output_type": "stream",
     "text": [
      "d:\\research\\FedImpute\n"
     ]
    },
    {
     "name": "stderr",
     "output_type": "stream",
     "text": [
      "d:\\research\\FedImpute\\.venv\\lib\\site-packages\\IPython\\core\\magics\\osm.py:417: UserWarning: This is now an optional IPython functionality, setting dhist requires you to install the `pickleshare` library.\n",
      "  self.shell.db['dhist'] = compress_dhist(dhist)[-100:]\n"
     ]
    }
   ],
   "source": [
    "cd .."
   ]
  },
  {
   "cell_type": "code",
   "execution_count": 5,
   "id": "5239ede8",
   "metadata": {
    "ExecuteTime": {
     "end_time": "2024-06-26T02:05:09.204048Z",
     "start_time": "2024-06-26T02:05:08.951472Z"
    }
   },
   "outputs": [],
   "source": [
    "import numpy as np\n",
    "import loguru\n",
    "import sys"
   ]
  },
  {
   "cell_type": "markdown",
   "id": "417e8057",
   "metadata": {},
   "source": [
    "## Step1 Prepare the data\n",
    "\n",
    "We simulate a simple gaussain random data. Remember to make the `data_config` dictionary to be like the following, the keys in `data_config` should be consistent with the keys used for FedImpute."
   ]
  },
  {
   "cell_type": "code",
   "execution_count": 6,
   "id": "defdd366",
   "metadata": {
    "ExecuteTime": {
     "end_time": "2024-06-26T02:05:12.246615Z",
     "start_time": "2024-06-26T02:05:12.240616Z"
    }
   },
   "outputs": [],
   "source": [
    "data = np.random.rand(10000, 10)\n",
    "data_config = {\n",
    "    'task_type': 'regression',\n",
    "    'clf_type': None,\n",
    "    'num_cols': 9,\n",
    "}"
   ]
  },
  {
   "cell_type": "markdown",
   "id": "29bb550e",
   "metadata": {},
   "source": [
    "## Step2 Simulate Federated Missing Data Scenario\n",
    "\n",
    "Import simulator and simulate the scanrios, details of parameters can be found in documentation"
   ]
  },
  {
   "cell_type": "code",
   "execution_count": 7,
   "id": "1ef354f9fab5977c",
   "metadata": {
    "ExecuteTime": {
     "end_time": "2024-06-26T02:05:16.730729Z",
     "start_time": "2024-06-26T02:05:14.229588Z"
    }
   },
   "outputs": [
    {
     "name": "stdout",
     "output_type": "stream",
     "text": [
      "The autoreload extension is already loaded. To reload it, use:\n",
      "  %reload_ext autoreload\n",
      "Data partitioning...\n",
      "Missing data simulation...\n",
      "Simulation done. Using summary function to check the simulation results.\n"
     ]
    }
   ],
   "source": [
    "%load_ext autoreload\n",
    "%autoreload 2\n",
    "from fedimpute.simulator import Simulator\n",
    "simulator = Simulator(debug_mode=False)\n",
    "simulation_results = simulator.simulate_scenario(data, data_config, num_clients = 10, verbose=1)"
   ]
  },
  {
   "cell_type": "code",
   "execution_count": 5,
   "id": "46cac161431d2dc",
   "metadata": {
    "ExecuteTime": {
     "end_time": "2024-06-26T02:11:37.336693Z",
     "start_time": "2024-06-26T02:11:36.870104Z"
    }
   },
   "outputs": [
    {
     "name": "stdout",
     "output_type": "stream",
     "text": [
      "Data partitioning...\n",
      "Missing data simulation...\n",
      "Simulation done. Using summary function to check the simulation results.\n"
     ]
    }
   ],
   "source": [
    "simulation_results = simulator.simulate_scenario_lite(\n",
    "    data, data_config, num_clients = 10, dp_strategy='niid-dir@0.1', ms_scenario = 'mar-heter', verbose=1\n",
    ")"
   ]
  },
  {
   "cell_type": "markdown",
   "id": "aad5722a",
   "metadata": {},
   "source": [
    "## Step3 Run the Federated Imputation\n",
    "\n",
    "Run the federated imputation with the simulated data"
   ]
  },
  {
   "cell_type": "code",
   "execution_count": 8,
   "id": "dcd29c5931acd184",
   "metadata": {
    "ExecuteTime": {
     "end_time": "2024-06-26T02:12:17.660009Z",
     "start_time": "2024-06-26T02:11:44.353322Z"
    }
   },
   "outputs": [
    {
     "name": "stdout",
     "output_type": "stream",
     "text": [
      "The autoreload extension is already loaded. To reload it, use:\n",
      "  %reload_ext autoreload\n",
      "Setting up clients...\n",
      "Setting up server...\n",
      "Setting up workflow...\n",
      "Environment setup complete.\n",
      "gain fedavg\n",
      "\u001b[32m2024-07-02 15:07:03.010\u001b[0m | \u001b[1mINFO    \u001b[0m | \u001b[36mfedimpute.execution_environment.workflows.workflow\u001b[0m:\u001b[36meval_and_track\u001b[0m:\u001b[36m101\u001b[0m - \u001b[1m\n",
      "Initial: rmse - 0.5771912302737621 ws - 0.28195679807844665\u001b[0m\n"
     ]
    },
    {
     "data": {
      "application/vnd.jupyter.widget-view+json": {
       "model_id": "994a862f117243b4b2b5be22835cacec",
       "version_major": 2,
       "version_minor": 0
      },
      "text/plain": [
       "Global Epoch:   0%|          | 0/150 [00:00<?, ?it/s]"
      ]
     },
     "metadata": {},
     "output_type": "display_data"
    },
    {
     "name": "stdout",
     "output_type": "stream",
     "text": [
      "\u001b[32m2024-07-02 15:07:49.328\u001b[0m | \u001b[1mINFO    \u001b[0m | \u001b[36mfedimpute.execution_environment.workflows.workflow_jm\u001b[0m:\u001b[36mfed_imp_sequential\u001b[0m:\u001b[36m150\u001b[0m - \u001b[1mAll clients have converged. Stopping training at 40.\u001b[0m\n",
      "\u001b[32m2024-07-02 15:07:49.330\u001b[0m | \u001b[1mINFO    \u001b[0m | \u001b[36mfedimpute.execution_environment.workflows.workflow_jm\u001b[0m:\u001b[36mfed_imp_sequential\u001b[0m:\u001b[36m168\u001b[0m - \u001b[1mstart fine tuning ...\u001b[0m\n",
      "local True\n"
     ]
    },
    {
     "data": {
      "application/vnd.jupyter.widget-view+json": {
       "model_id": "ab30265e49904ed4a528d9c3cee90600",
       "version_major": 2,
       "version_minor": 0
      },
      "text/plain": [
       "Fine Tuning Epoch: 0it [00:00, ?it/s]"
      ]
     },
     "metadata": {},
     "output_type": "display_data"
    },
    {
     "name": "stdout",
     "output_type": "stream",
     "text": [
      "\u001b[32m2024-07-02 15:07:52.832\u001b[0m | \u001b[1mINFO    \u001b[0m | \u001b[36mfedimpute.execution_environment.workflows.workflow\u001b[0m:\u001b[36meval_and_track\u001b[0m:\u001b[36m151\u001b[0m - \u001b[1mFinal: rmse - 0.2892964355453268 ws - 0.08975807050722191\u001b[0m\n"
     ]
    }
   ],
   "source": [
    "%load_ext autoreload\n",
    "%autoreload 2\n",
    "from fedimpute.execution_environment import FedImputeEnv\n",
    "\n",
    "env = FedImputeEnv()\n",
    "env.configuration(imputer = 'gain', fed_strategy='fedavg', fit_mode = 'fed')\n",
    "env.setup_from_simulator(simulator = simulator, verbose=1)\n",
    "print(env.imputer_name, env.fed_strategy_name)\n",
    "\n",
    "env.run_fed_imputation()"
   ]
  },
  {
   "cell_type": "markdown",
   "id": "e17ed589",
   "metadata": {},
   "source": [
    "## Step4 Evaluate the Imputation Outcome\n",
    "\n",
    "Evaluate the imputation outcome, you can choose which of three evaluation aspects, you want to evaluate "
   ]
  },
  {
   "cell_type": "code",
   "execution_count": 9,
   "id": "c324b4b1",
   "metadata": {
    "ExecuteTime": {
     "end_time": "2024-06-26T02:14:10.343921Z",
     "start_time": "2024-06-26T02:12:32.909062Z"
    }
   },
   "outputs": [
    {
     "name": "stdout",
     "output_type": "stream",
     "text": [
      "The autoreload extension is already loaded. To reload it, use:\n",
      "  %reload_ext autoreload\n",
      "Evaluating imputation quality...\n",
      "Evaluating downstream prediction...\n"
     ]
    },
    {
     "data": {
      "application/vnd.jupyter.widget-view+json": {
       "model_id": "9d79a9ded9104b0fa6fbf871530ce44d",
       "version_major": 2,
       "version_minor": 0
      },
      "text/plain": [
       "Clients:   0%|          | 0/10 [00:00<?, ?it/s]"
      ]
     },
     "metadata": {},
     "output_type": "display_data"
    },
    {
     "name": "stdout",
     "output_type": "stream",
     "text": [
      "Evaluating federated downstream prediction...\n"
     ]
    },
    {
     "data": {
      "application/vnd.jupyter.widget-view+json": {
       "model_id": "d5535342e2c04245bf8a94431d667cd2",
       "version_major": 2,
       "version_minor": 0
      },
      "text/plain": [
       "Global Epoch:   0%|          | 0/100 [00:00<?, ?it/s]"
      ]
     },
     "metadata": {},
     "output_type": "display_data"
    },
    {
     "name": "stdout",
     "output_type": "stream",
     "text": [
      "Evaluation completed.\n",
      "=====================================================================================================\n",
      "Evaluation Results\n",
      "=====================================================================================================\n",
      "Imputation Quality             | rmse: 0.289 (0.00) nrmse: 0.711 (0.03) sliced-ws: 0.090 (0.01) \n",
      "Downstream Prediction (Local)  |  mse: 0.092 (0.01)   mae: 0.255 (0.01)      msle: 0.045 (0.00) \n",
      "Downstream Prediction (Fed)    |  mse: 0.087 (0.00)   mae: 0.253 (0.00)      msle: 0.042 (0.00) \n",
      "=====================================================================================================\n"
     ]
    }
   ],
   "source": [
    "%load_ext autoreload\n",
    "%autoreload 2\n",
    "from fedimpute.evaluation import Evaluator\n",
    "\n",
    "evaluator = Evaluator()\n",
    "eval_ret = evaluator.evaluate(env, ['imp_quality', 'pred_downstream_local', 'pred_downstream_fed'])\n",
    "evaluator.show_results()"
   ]
  },
  {
   "cell_type": "code",
   "execution_count": null,
   "id": "d95b8a11b8902079",
   "metadata": {},
   "outputs": [],
   "source": []
  }
 ],
 "metadata": {
  "kernelspec": {
   "display_name": "Python 3",
   "language": "python",
   "name": "python3"
  },
  "language_info": {
   "codemirror_mode": {
    "name": "ipython",
    "version": 3
   },
   "file_extension": ".py",
   "mimetype": "text/x-python",
   "name": "python",
   "nbconvert_exporter": "python",
   "pygments_lexer": "ipython3",
   "version": "3.10.0"
  }
 },
 "nbformat": 4,
 "nbformat_minor": 5
}
