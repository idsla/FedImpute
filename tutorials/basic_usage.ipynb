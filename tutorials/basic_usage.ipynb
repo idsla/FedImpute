{
 "cells": [
  {
   "cell_type": "code",
   "execution_count": 1,
   "id": "f53f522d",
   "metadata": {
    "ExecuteTime": {
     "end_time": "2024-06-26T02:05:02.638341Z",
     "start_time": "2024-06-26T02:05:02.618708Z"
    }
   },
   "outputs": [
    {
     "name": "stdout",
     "output_type": "stream",
     "text": [
      "e:\\research\\FedImpute\n"
     ]
    },
    {
     "name": "stderr",
     "output_type": "stream",
     "text": [
      "e:\\research\\FedImpute\\.venv\\Lib\\site-packages\\IPython\\core\\magics\\osm.py:417: UserWarning: This is now an optional IPython functionality, setting dhist requires you to install the `pickleshare` library.\n",
      "  self.shell.db['dhist'] = compress_dhist(dhist)[-100:]\n"
     ]
    }
   ],
   "source": [
    "cd .."
   ]
  },
  {
   "cell_type": "code",
   "execution_count": 2,
   "id": "5239ede8",
   "metadata": {
    "ExecuteTime": {
     "end_time": "2024-06-26T02:05:09.204048Z",
     "start_time": "2024-06-26T02:05:08.951472Z"
    }
   },
   "outputs": [],
   "source": [
    "import numpy as np\n",
    "import loguru\n",
    "import sys"
   ]
  },
  {
   "cell_type": "markdown",
   "id": "417e8057",
   "metadata": {},
   "source": [
    "## Step1 Prepare the data\n",
    "\n",
    "We simulate a simple gaussain random data. Remember to make the `data_config` dictionary to be like the following, the keys in `data_config` should be consistent with the keys used for FedImpute."
   ]
  },
  {
   "cell_type": "code",
   "execution_count": 3,
   "id": "defdd366",
   "metadata": {
    "ExecuteTime": {
     "end_time": "2024-06-26T02:05:12.246615Z",
     "start_time": "2024-06-26T02:05:12.240616Z"
    }
   },
   "outputs": [],
   "source": [
    "data = np.random.rand(10000, 10)\n",
    "data_config = {\n",
    "    'task_type': 'regression',\n",
    "    'clf_type': None,\n",
    "    'num_cols': 9,\n",
    "}"
   ]
  },
  {
   "cell_type": "markdown",
   "id": "29bb550e",
   "metadata": {},
   "source": [
    "## Step2 Simulate Federated Missing Data Scenario\n",
    "\n",
    "Import simulator and simulate the scanrios, details of parameters can be found in documentation"
   ]
  },
  {
   "cell_type": "code",
   "execution_count": 4,
   "id": "1ef354f9fab5977c",
   "metadata": {
    "ExecuteTime": {
     "end_time": "2024-06-26T02:05:16.730729Z",
     "start_time": "2024-06-26T02:05:14.229588Z"
    }
   },
   "outputs": [
    {
     "name": "stdout",
     "output_type": "stream",
     "text": [
      "Data partitioning...\n",
      "Missing data simulation...\n",
      "Simulation done. Using summary function to check the simulation results.\n"
     ]
    }
   ],
   "source": [
    "%load_ext autoreload\n",
    "%autoreload 2\n",
    "from fedimpute.simulator import Simulator\n",
    "simulator = Simulator(debug_mode=False)\n",
    "simulation_results = simulator.simulate_scenario(data, data_config, num_clients = 10, verbose=1)"
   ]
  },
  {
   "cell_type": "code",
   "execution_count": 5,
   "id": "46cac161431d2dc",
   "metadata": {
    "ExecuteTime": {
     "end_time": "2024-06-26T02:11:37.336693Z",
     "start_time": "2024-06-26T02:11:36.870104Z"
    }
   },
   "outputs": [
    {
     "name": "stdout",
     "output_type": "stream",
     "text": [
      "Data partitioning...\n",
      "Missing data simulation...\n",
      "Simulation done. Using summary function to check the simulation results.\n"
     ]
    }
   ],
   "source": [
    "simulation_results = simulator.simulate_scenario_lite(\n",
    "    data, data_config, num_clients = 10, dp_strategy='niid-dir@0.1', ms_scenario = 'mar-heter', verbose=1\n",
    ")"
   ]
  },
  {
   "cell_type": "markdown",
   "id": "aad5722a",
   "metadata": {},
   "source": [
    "## Step3 Run the Federated Imputation\n",
    "\n",
    "Run the federated imputation with the simulated data"
   ]
  },
  {
   "cell_type": "code",
   "execution_count": 6,
   "id": "dcd29c5931acd184",
   "metadata": {
    "ExecuteTime": {
     "end_time": "2024-06-26T02:12:17.660009Z",
     "start_time": "2024-06-26T02:11:44.353322Z"
    }
   },
   "outputs": [
    {
     "name": "stdout",
     "output_type": "stream",
     "text": [
      "The autoreload extension is already loaded. To reload it, use:\n",
      "  %reload_ext autoreload\n",
      "Setting up clients...\n",
      "Setting up server...\n",
      "Setting up workflow...\n",
      "Environment setup complete.\n",
      "miwae fedavg\n",
      "\u001b[32m2024-07-30 18:13:11.450\u001b[0m | \u001b[1mINFO    \u001b[0m | \u001b[36mfedimpute.execution_environment.workflows.workflow\u001b[0m:\u001b[36meval_and_track_parallel\u001b[0m:\u001b[36m182\u001b[0m - \u001b[1m\n",
      "Initial: rmse - 0.576906701804577 ws - 0.2661060649722692\u001b[0m\n"
     ]
    },
    {
     "data": {
      "application/vnd.jupyter.widget-view+json": {
       "model_id": "c5a134b2fda04a1a82712974d0f8279a",
       "version_major": 2,
       "version_minor": 0
      },
      "text/plain": [
       "Global Epoch:   0%|          | 0/150 [00:00<?, ?it/s]"
      ]
     },
     "metadata": {},
     "output_type": "display_data"
    },
    {
     "name": "stdout",
     "output_type": "stream",
     "text": [
      "epoch: 0\n",
      "receiving results\n",
      "aggregating\n",
      "impute and update\n",
      "epoch: 1\n",
      "receiving results\n",
      "aggregating\n",
      "impute and update\n",
      "epoch: 2\n",
      "receiving results\n",
      "aggregating\n",
      "impute and update\n",
      "epoch: 3\n",
      "receiving results\n",
      "aggregating\n",
      "impute and update\n",
      "epoch: 4\n",
      "receiving results\n",
      "aggregating\n",
      "impute and update\n",
      "epoch: 5\n",
      "receiving results\n",
      "aggregating\n",
      "impute and update\n",
      "epoch: 6\n",
      "receiving results\n",
      "aggregating\n",
      "impute and update\n",
      "epoch: 7\n",
      "receiving results\n",
      "aggregating\n",
      "impute and update\n",
      "epoch: 8\n",
      "receiving results\n",
      "aggregating\n",
      "impute and update\n",
      "epoch: 9\n",
      "receiving results\n",
      "aggregating\n",
      "impute and update\n",
      "epoch: 10\n",
      "receiving results\n",
      "aggregating\n",
      "impute and update\n",
      "epoch: 11\n",
      "receiving results\n",
      "aggregating\n",
      "impute and update\n",
      "epoch: 12\n",
      "receiving results\n",
      "aggregating\n",
      "impute and update\n",
      "epoch: 13\n",
      "receiving results\n",
      "aggregating\n",
      "impute and update\n",
      "epoch: 14\n",
      "receiving results\n",
      "aggregating\n",
      "impute and update\n",
      "epoch: 15\n",
      "receiving results\n",
      "aggregating\n",
      "impute and update\n",
      "epoch: 16\n",
      "receiving results\n",
      "aggregating\n",
      "impute and update\n",
      "epoch: 17\n",
      "receiving results\n",
      "aggregating\n",
      "impute and update\n",
      "epoch: 18\n",
      "receiving results\n",
      "aggregating\n",
      "impute and update\n",
      "epoch: 19\n",
      "receiving results\n",
      "aggregating\n",
      "impute and update\n",
      "epoch: 20\n",
      "receiving results\n",
      "aggregating\n",
      "impute and update\n",
      "epoch: 21\n",
      "receiving results\n",
      "aggregating\n",
      "impute and update\n",
      "epoch: 22\n",
      "receiving results\n",
      "aggregating\n",
      "impute and update\n",
      "epoch: 23\n",
      "receiving results\n",
      "aggregating\n",
      "impute and update\n",
      "epoch: 24\n",
      "receiving results\n",
      "aggregating\n",
      "impute and update\n",
      "epoch: 25\n",
      "receiving results\n",
      "aggregating\n",
      "impute and update\n",
      "epoch: 26\n",
      "receiving results\n",
      "aggregating\n",
      "impute and update\n",
      "epoch: 27\n",
      "receiving results\n",
      "aggregating\n",
      "impute and update\n",
      "epoch: 28\n",
      "receiving results\n",
      "aggregating\n",
      "impute and update\n",
      "epoch: 29\n",
      "receiving results\n",
      "aggregating\n",
      "impute and update\n",
      "epoch: 30\n",
      "receiving results\n",
      "aggregating\n",
      "impute and update\n",
      "epoch: 31\n",
      "receiving results\n",
      "aggregating\n",
      "impute and update\n",
      "epoch: 32\n",
      "receiving results\n",
      "aggregating\n",
      "impute and update\n",
      "epoch: 33\n",
      "receiving results\n",
      "aggregating\n",
      "impute and update\n",
      "epoch: 34\n",
      "receiving results\n",
      "aggregating\n",
      "impute and update\n",
      "epoch: 35\n",
      "receiving results\n",
      "aggregating\n",
      "impute and update\n",
      "epoch: 36\n",
      "receiving results\n",
      "aggregating\n",
      "impute and update\n",
      "epoch: 37\n",
      "receiving results\n",
      "aggregating\n",
      "impute and update\n",
      "epoch: 38\n",
      "receiving results\n",
      "aggregating\n",
      "impute and update\n",
      "epoch: 39\n",
      "receiving results\n",
      "aggregating\n",
      "impute and update\n",
      "epoch: 40\n",
      "receiving results\n",
      "aggregating\n",
      "impute and update\n",
      "epoch: 41\n",
      "receiving results\n",
      "aggregating\n",
      "impute and update\n",
      "epoch: 42\n",
      "receiving results\n"
     ]
    }
   ],
   "source": [
    "%load_ext autoreload\n",
    "%autoreload 2\n",
    "from fedimpute.execution_environment import FedImputeEnv\n",
    "\n",
    "env = FedImputeEnv()\n",
    "env.reset_env()\n",
    "env.configuration(imputer = 'miwae', fed_strategy='fedavg', fit_mode = 'fed')\n",
    "env.setup_from_simulator(simulator = simulator, verbose=1)\n",
    "print(env.imputer_name, env.fed_strategy_name)\n",
    "\n",
    "env.run_fed_imputation(run_type='parallel')"
   ]
  },
  {
   "cell_type": "markdown",
   "id": "e17ed589",
   "metadata": {},
   "source": [
    "## Step4 Evaluate the Imputation Outcome\n",
    "\n",
    "Evaluate the imputation outcome, you can choose which of three evaluation aspects, you want to evaluate "
   ]
  },
  {
   "cell_type": "code",
   "execution_count": 13,
   "id": "c324b4b1",
   "metadata": {
    "ExecuteTime": {
     "end_time": "2024-06-26T02:14:10.343921Z",
     "start_time": "2024-06-26T02:12:32.909062Z"
    }
   },
   "outputs": [
    {
     "name": "stdout",
     "output_type": "stream",
     "text": [
      "The autoreload extension is already loaded. To reload it, use:\n",
      "  %reload_ext autoreload\n",
      "Evaluating imputation quality...\n",
      "Evaluation completed.\n",
      "=====================================================================================================\n",
      "Evaluation Results\n",
      "=====================================================================================================\n",
      "Imputation Quality             | rmse: 0.293 (0.00) nrmse: 0.682 (0.02) sliced-ws: 0.082 (0.01) \n",
      "=====================================================================================================\n"
     ]
    }
   ],
   "source": [
    "%load_ext autoreload\n",
    "%autoreload 2\n",
    "from fedimpute.evaluation import Evaluator\n",
    "\n",
    "evaluator = Evaluator()\n",
    "# eval_ret = evaluator.evaluate(env, ['imp_quality', 'pred_downstream_local', 'pred_downstream_fed'])\n",
    "eval_ret = evaluator.evaluate(env, ['imp_quality'])\n",
    "evaluator.show_results()"
   ]
  },
  {
   "cell_type": "code",
   "execution_count": 14,
   "id": "d95b8a11b8902079",
   "metadata": {},
   "outputs": [
    {
     "data": {
      "text/plain": [
       "0.2930719807545368"
      ]
     },
     "execution_count": 14,
     "metadata": {},
     "output_type": "execute_result"
    }
   ],
   "source": [
    "np.array(evaluator.results['imp_quality']['imp_quality']['rmse']).mean()"
   ]
  },
  {
   "cell_type": "code",
   "execution_count": null,
   "id": "8b1d1cd9",
   "metadata": {},
   "outputs": [],
   "source": []
  }
 ],
 "metadata": {
  "kernelspec": {
   "display_name": "Python 3",
   "language": "python",
   "name": "python3"
  },
  "language_info": {
   "codemirror_mode": {
    "name": "ipython",
    "version": 3
   },
   "file_extension": ".py",
   "mimetype": "text/x-python",
   "name": "python",
   "nbconvert_exporter": "python",
   "pygments_lexer": "ipython3",
   "version": "3.11.4"
  }
 },
 "nbformat": 4,
 "nbformat_minor": 5
}
