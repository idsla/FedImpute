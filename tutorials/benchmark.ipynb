{
 "cells": [
  {
   "cell_type": "code",
   "execution_count": null,
   "metadata": {},
   "outputs": [],
   "source": [
    "! pip install fedimpute==0.1.0\n",
    "! pip install tabulate matplotlib numpy pandas"
   ]
  },
  {
   "cell_type": "code",
   "execution_count": 2,
   "metadata": {},
   "outputs": [
    {
     "name": "stdout",
     "output_type": "stream",
     "text": [
      "d:\\research\\FedImpute\n"
     ]
    },
    {
     "name": "stderr",
     "output_type": "stream",
     "text": [
      "d:\\research\\FedImpute\\.venv\\lib\\site-packages\\IPython\\core\\magics\\osm.py:417: UserWarning: This is now an optional IPython functionality, setting dhist requires you to install the `pickleshare` library.\n",
      "  self.shell.db['dhist'] = compress_dhist(dhist)[-100:]\n"
     ]
    }
   ],
   "source": [
    "cd .."
   ]
  },
  {
   "cell_type": "code",
   "execution_count": 3,
   "metadata": {},
   "outputs": [],
   "source": [
    "import numpy as np\n",
    "import pandas as pd\n",
    "import tabulate"
   ]
  },
  {
   "cell_type": "markdown",
   "metadata": {},
   "source": [
    "# Load Data and Scenario"
   ]
  },
  {
   "cell_type": "code",
   "execution_count": 4,
   "metadata": {},
   "outputs": [
    {
     "name": "stdout",
     "output_type": "stream",
     "text": [
      "+--------+--------+--------+--------+--------+--------+--------+--------+--------+\n",
      "|   X1   |   X2   |   X3   |   X4   |   X5   |   X6   |   X7   |   X8   |   y    |\n",
      "|--------+--------+--------+--------+--------+--------+--------+--------+--------|\n",
      "| 0.7554 | 0.1364 | 0.0352 | 0.4132 | 0.6937 | 0.1591 | 0.3329 | 0.7154 | 1.0000 |\n",
      "| 0.7334 | 0.7879 | 0.3819 | 0.3693 | 0.5619 | 0.4830 | 0.4351 | 0.5160 | 0.0000 |\n",
      "| 0.7752 | 0.1364 | 0.1761 | 0.3290 | 0.7410 | 0.4259 | 0.4644 | 0.5268 | 1.0000 |\n",
      "| 0.5905 | 0.7424 | 0.2720 | 0.2898 | 0.6920 | 0.3205 | 0.4019 | 0.6290 | 1.0000 |\n",
      "| 0.7366 | 0.1212 | 0.2465 | 0.3290 | 0.7410 | 0.3249 | 0.5086 | 0.5631 | 1.0000 |\n",
      "+--------+--------+--------+--------+--------+--------+--------+--------+--------+\n",
      "Data Dimensions:  (5000, 9)\n",
      "Data Config:\n",
      " {'target': 'y', 'task_type': 'classification', 'natural_partition': False}\n"
     ]
    }
   ],
   "source": [
    "%load_ext autoreload\n",
    "%autoreload 2\n",
    "\n",
    "from fedimpute.data_prep import load_data, display_data\n",
    "data, data_config = load_data(\"codrna\")\n",
    "display_data(data)\n",
    "print(\"Data Dimensions: \", data.shape)\n",
    "print(\"Data Config:\\n\", data_config)"
   ]
  },
  {
   "cell_type": "code",
   "execution_count": 5,
   "metadata": {},
   "outputs": [
    {
     "name": "stdout",
     "output_type": "stream",
     "text": [
      "The autoreload extension is already loaded. To reload it, use:\n",
      "  %reload_ext autoreload\n",
      "Missing data simulation...\n",
      "==================================================================\n",
      "Scenario Summary\n",
      "==================================================================\n",
      "Total clients: 4\n",
      "Global Test Data: (500, 9)\n",
      "Missing Mechanism Category: MNAR (Self Masking Logit)\n",
      "Clients Data Summary:\n",
      "     Train     Test      Miss     MS Ratio    MS Feature    Seed\n",
      "--  --------  -------  --------  ----------  ------------  ------\n",
      "C1  (1125,9)  (113,9)  (1125,8)     0.47         8/8        6077\n",
      "C2  (1125,9)  (113,9)  (1125,8)     0.51         8/8        577\n",
      "C3  (1125,9)  (113,9)  (1125,8)     0.46         8/8        7231\n",
      "C4  (1125,9)  (113,9)  (1125,8)     0.47         8/8        5504\n",
      "==================================================================\n",
      "\n"
     ]
    }
   ],
   "source": [
    "%load_ext autoreload\n",
    "%autoreload 2\n",
    "from fedimpute.scenario import ScenarioBuilder\n",
    "\n",
    "scenario_builder = ScenarioBuilder()\n",
    "scenario_data = scenario_builder.create_simulated_scenario(\n",
    "    data, data_config, num_clients = 4, dp_strategy='iid-even', ms_scenario='mnar-heter'\n",
    ")\n",
    "scenario_builder.summarize_scenario()"
   ]
  },
  {
   "cell_type": "markdown",
   "metadata": {},
   "source": [
    "# Benchmarking Pipeline"
   ]
  },
  {
   "cell_type": "code",
   "execution_count": 6,
   "metadata": {},
   "outputs": [
    {
     "name": "stdout",
     "output_type": "stream",
     "text": [
      "The autoreload extension is already loaded. To reload it, use:\n",
      "  %reload_ext autoreload\n",
      "==============================================================\n",
      "Experiment ID: benchmark_demo\n",
      "==============================================================\n",
      "Description: benchmark demonstration\n",
      "Persist Data: False\n",
      "Evaluation:\n",
      "  - metrics: ['imp_quality', 'local_pred', 'fed_pred']\n",
      "  - model: lr\n",
      "Seed: 100330201\n",
      "--------------------------------------------------------------\n",
      "    Imputer    Fed Strategy    Imp Params    Strategy Params\n",
      "--  ---------  --------------  ------------  -----------------\n",
      " 0  em         local           {}            {}\n",
      " 1  em         fedem           {}            {}\n",
      " 2  mice       local           {}            {}\n",
      " 3  mice       fedmice         {}            {}\n",
      " 4  gain       local           {}            {}\n",
      " 5  gain       fedavg          {}            {}\n",
      "==============================================================\n",
      "\n"
     ]
    }
   ],
   "source": [
    "%load_ext autoreload\n",
    "%autoreload 2\n",
    "from fedimpute.pipeline import FedImputePipeline\n",
    "\n",
    "pipeline = FedImputePipeline()\n",
    "pipeline.setup(\n",
    "    id = 'benchmark_demo',\n",
    "    fed_imp_configs = [\n",
    "        ('em', ['local', 'fedem'], {}, [{}, {}]),\n",
    "        ('mice', ['local', 'fedmice'], {}, [{}, {}]),\n",
    "        ('gain', ['local', 'fedavg'], {}, [{}, {}]),\n",
    "    ],\n",
    "    evaluation_params = {\n",
    "        'metrics': ['imp_quality', 'local_pred', 'fed_pred'],\n",
    "        'model': 'lr',\n",
    "    },\n",
    "    persist_data = False,\n",
    "    description = 'benchmark demonstration'\n",
    ")\n",
    "\n",
    "pipeline.pipeline_setup_summary()"
   ]
  },
  {
   "cell_type": "code",
   "execution_count": 7,
   "metadata": {},
   "outputs": [
    {
     "data": {
      "application/vnd.jupyter.widget-view+json": {
       "model_id": "97a11734e1c64c649ae5c21958f2add8",
       "version_major": 2,
       "version_minor": 0
      },
      "text/plain": [
       "Clients:   0%|          | 0/4 [00:00<?, ?it/s]"
      ]
     },
     "metadata": {},
     "output_type": "display_data"
    },
    {
     "data": {
      "application/vnd.jupyter.widget-view+json": {
       "model_id": "b8d827b0b8bd463f88f5decc0d75c29d",
       "version_major": 2,
       "version_minor": 0
      },
      "text/plain": [
       "Clients:   0%|          | 0/4 [00:00<?, ?it/s]"
      ]
     },
     "metadata": {},
     "output_type": "display_data"
    },
    {
     "name": "stdout",
     "output_type": "stream",
     "text": [
      "(900, 8) (900,)\n"
     ]
    },
    {
     "name": "stderr",
     "output_type": "stream",
     "text": [
      "                                                                7.85it/s]\r"
     ]
    },
    {
     "name": "stdout",
     "output_type": "stream",
     "text": [
      "(900, 8) (900,)\n"
     ]
    },
    {
     "name": "stderr",
     "output_type": "stream",
     "text": [
      "                                                                1.82it/s]\r"
     ]
    },
    {
     "name": "stdout",
     "output_type": "stream",
     "text": [
      "(900, 8) (900,)\n"
     ]
    },
    {
     "name": "stderr",
     "output_type": "stream",
     "text": [
      "                                                                4.59it/s]\r"
     ]
    },
    {
     "data": {
      "application/vnd.jupyter.widget-view+json": {
       "model_id": "ff1b42131cbb424e9f178b2e09953cb4",
       "version_major": 2,
       "version_minor": 0
      },
      "text/plain": [
       "Clients:   0%|          | 0/4 [00:00<?, ?it/s]"
      ]
     },
     "metadata": {},
     "output_type": "display_data"
    },
    {
     "data": {
      "application/vnd.jupyter.widget-view+json": {
       "model_id": "86044723950c4a8abc61955e4f447f4f",
       "version_major": 2,
       "version_minor": 0
      },
      "text/plain": [
       "Clients:   0%|          | 0/4 [00:00<?, ?it/s]"
      ]
     },
     "metadata": {},
     "output_type": "display_data"
    },
    {
     "name": "stdout",
     "output_type": "stream",
     "text": [
      "(900, 8) (900,)\n"
     ]
    },
    {
     "name": "stderr",
     "output_type": "stream",
     "text": [
      "                                                                6.80it/s]\r"
     ]
    },
    {
     "name": "stdout",
     "output_type": "stream",
     "text": [
      "(900, 8) (900,)\n"
     ]
    },
    {
     "name": "stderr",
     "output_type": "stream",
     "text": [
      "                                                                8.08it/s]\r"
     ]
    },
    {
     "name": "stdout",
     "output_type": "stream",
     "text": [
      "(900, 8) (900,)\n"
     ]
    },
    {
     "name": "stderr",
     "output_type": "stream",
     "text": [
      "                                                                2.10it/s]\r"
     ]
    },
    {
     "data": {
      "application/vnd.jupyter.widget-view+json": {
       "model_id": "093ca9c4bdab4caaafce51e26bb33c99",
       "version_major": 2,
       "version_minor": 0
      },
      "text/plain": [
       "Clients:   0%|          | 0/4 [00:00<?, ?it/s]"
      ]
     },
     "metadata": {},
     "output_type": "display_data"
    },
    {
     "data": {
      "application/vnd.jupyter.widget-view+json": {
       "model_id": "8f15125cf2bc4abaadfb8caca0d7cfba",
       "version_major": 2,
       "version_minor": 0
      },
      "text/plain": [
       "Clients:   0%|          | 0/4 [00:00<?, ?it/s]"
      ]
     },
     "metadata": {},
     "output_type": "display_data"
    },
    {
     "name": "stdout",
     "output_type": "stream",
     "text": [
      "(900, 8) (900,)\n"
     ]
    },
    {
     "name": "stderr",
     "output_type": "stream",
     "text": [
      "                                                                4.66it/s]\r"
     ]
    },
    {
     "name": "stdout",
     "output_type": "stream",
     "text": [
      "(900, 8) (900,)\n"
     ]
    },
    {
     "name": "stderr",
     "output_type": "stream",
     "text": [
      "                                                                3.72it/s]\r"
     ]
    },
    {
     "name": "stdout",
     "output_type": "stream",
     "text": [
      "(900, 8) (900,)\n"
     ]
    },
    {
     "name": "stderr",
     "output_type": "stream",
     "text": [
      "                                                                5.67it/s]\r"
     ]
    },
    {
     "data": {
      "application/vnd.jupyter.widget-view+json": {
       "model_id": "af27a173c2ab4a8abc426d6f2a88687f",
       "version_major": 2,
       "version_minor": 0
      },
      "text/plain": [
       "Clients:   0%|          | 0/4 [00:00<?, ?it/s]"
      ]
     },
     "metadata": {},
     "output_type": "display_data"
    },
    {
     "data": {
      "application/vnd.jupyter.widget-view+json": {
       "model_id": "58656af7c71d40e0bd298a8162b86a32",
       "version_major": 2,
       "version_minor": 0
      },
      "text/plain": [
       "Clients:   0%|          | 0/4 [00:00<?, ?it/s]"
      ]
     },
     "metadata": {},
     "output_type": "display_data"
    },
    {
     "name": "stdout",
     "output_type": "stream",
     "text": [
      "(900, 8) (900,)\n"
     ]
    },
    {
     "name": "stderr",
     "output_type": "stream",
     "text": [
      "                                                                1.22it/s]\r"
     ]
    },
    {
     "name": "stdout",
     "output_type": "stream",
     "text": [
      "(900, 8) (900,)\n"
     ]
    },
    {
     "name": "stderr",
     "output_type": "stream",
     "text": [
      "                                                                3.40it/s]\r"
     ]
    },
    {
     "name": "stdout",
     "output_type": "stream",
     "text": [
      "(900, 8) (900,)\n"
     ]
    },
    {
     "name": "stderr",
     "output_type": "stream",
     "text": [
      "                                                                5.49it/s]\r"
     ]
    },
    {
     "data": {
      "application/vnd.jupyter.widget-view+json": {
       "model_id": "4eed577e205f4c95af1a8572a2acbe85",
       "version_major": 2,
       "version_minor": 0
      },
      "text/plain": [
       "Clients:   0%|          | 0/4 [00:00<?, ?it/s]"
      ]
     },
     "metadata": {},
     "output_type": "display_data"
    },
    {
     "data": {
      "application/vnd.jupyter.widget-view+json": {
       "model_id": "ba1d39ac2c074fd4954a860d0678bc06",
       "version_major": 2,
       "version_minor": 0
      },
      "text/plain": [
       "Clients:   0%|          | 0/4 [00:00<?, ?it/s]"
      ]
     },
     "metadata": {},
     "output_type": "display_data"
    },
    {
     "name": "stdout",
     "output_type": "stream",
     "text": [
      "(900, 8) (900,)\n"
     ]
    },
    {
     "name": "stderr",
     "output_type": "stream",
     "text": [
      "                                                                3.70it/s]\r"
     ]
    },
    {
     "name": "stdout",
     "output_type": "stream",
     "text": [
      "(900, 8) (900,)\n"
     ]
    },
    {
     "name": "stderr",
     "output_type": "stream",
     "text": [
      "                                                                4.16it/s]\r"
     ]
    },
    {
     "name": "stdout",
     "output_type": "stream",
     "text": [
      "(900, 8) (900,)\n"
     ]
    },
    {
     "name": "stderr",
     "output_type": "stream",
     "text": [
      "                                                                5.46it/s]\r"
     ]
    },
    {
     "data": {
      "application/vnd.jupyter.widget-view+json": {
       "model_id": "3952ec26a0cd4c5cbf2b0cb87a60a177",
       "version_major": 2,
       "version_minor": 0
      },
      "text/plain": [
       "Iterations:   0%|          | 0/100 [00:00<?, ?it/s]"
      ]
     },
     "metadata": {},
     "output_type": "display_data"
    },
    {
     "data": {
      "application/vnd.jupyter.widget-view+json": {
       "model_id": "a543f43d29dd4d5eaa47f573b982de75",
       "version_major": 2,
       "version_minor": 0
      },
      "text/plain": [
       "Clients:   0%|          | 0/4 [00:00<?, ?it/s]"
      ]
     },
     "metadata": {},
     "output_type": "display_data"
    },
    {
     "name": "stdout",
     "output_type": "stream",
     "text": [
      "(900, 8) (900,)\n"
     ]
    },
    {
     "name": "stderr",
     "output_type": "stream",
     "text": [
      "                                                                5.14it/s]\r"
     ]
    },
    {
     "name": "stdout",
     "output_type": "stream",
     "text": [
      "(900, 8) (900,)\n"
     ]
    },
    {
     "name": "stderr",
     "output_type": "stream",
     "text": [
      "                                                                5.56it/s]\r"
     ]
    },
    {
     "name": "stdout",
     "output_type": "stream",
     "text": [
      "(900, 8) (900,)\n"
     ]
    },
    {
     "name": "stderr",
     "output_type": "stream",
     "text": [
      "                                                                5.79it/s]\r"
     ]
    },
    {
     "data": {
      "application/vnd.jupyter.widget-view+json": {
       "model_id": "d86f21887ce14d42bd1bf3e275aa1ea0",
       "version_major": 2,
       "version_minor": 0
      },
      "text/plain": [
       "Iterations:   0%|          | 0/100 [00:00<?, ?it/s]"
      ]
     },
     "metadata": {},
     "output_type": "display_data"
    },
    {
     "data": {
      "application/vnd.jupyter.widget-view+json": {
       "model_id": "ffa54843a6a44613b76d599bc5b53cb8",
       "version_major": 2,
       "version_minor": 0
      },
      "text/plain": [
       "Clients:   0%|          | 0/4 [00:00<?, ?it/s]"
      ]
     },
     "metadata": {},
     "output_type": "display_data"
    },
    {
     "name": "stdout",
     "output_type": "stream",
     "text": [
      "(900, 8) (900,)\n"
     ]
    },
    {
     "name": "stderr",
     "output_type": "stream",
     "text": [
      "                                                                5.88it/s]\r"
     ]
    },
    {
     "name": "stdout",
     "output_type": "stream",
     "text": [
      "(900, 8) (900,)\n"
     ]
    },
    {
     "name": "stderr",
     "output_type": "stream",
     "text": [
      "                                                                0.07it/s]\r"
     ]
    },
    {
     "name": "stdout",
     "output_type": "stream",
     "text": [
      "(900, 8) (900,)\n"
     ]
    },
    {
     "name": "stderr",
     "output_type": "stream",
     "text": [
      "                                                                3.53it/s]\r"
     ]
    },
    {
     "data": {
      "application/vnd.jupyter.widget-view+json": {
       "model_id": "a6008915f5c04cf49e0e743c0396ce34",
       "version_major": 2,
       "version_minor": 0
      },
      "text/plain": [
       "Iterations:   0%|          | 0/100 [00:00<?, ?it/s]"
      ]
     },
     "metadata": {},
     "output_type": "display_data"
    },
    {
     "data": {
      "application/vnd.jupyter.widget-view+json": {
       "model_id": "8e9481e43da64b64b6d29b3c348b4490",
       "version_major": 2,
       "version_minor": 0
      },
      "text/plain": [
       "Clients:   0%|          | 0/4 [00:00<?, ?it/s]"
      ]
     },
     "metadata": {},
     "output_type": "display_data"
    },
    {
     "name": "stdout",
     "output_type": "stream",
     "text": [
      "(900, 8) (900,)\n"
     ]
    },
    {
     "name": "stderr",
     "output_type": "stream",
     "text": [
      "                                                                5.27it/s]\r"
     ]
    },
    {
     "name": "stdout",
     "output_type": "stream",
     "text": [
      "(900, 8) (900,)\n"
     ]
    },
    {
     "name": "stderr",
     "output_type": "stream",
     "text": [
      "                                                                5.41it/s]\r"
     ]
    },
    {
     "name": "stdout",
     "output_type": "stream",
     "text": [
      "(900, 8) (900,)\n"
     ]
    },
    {
     "name": "stderr",
     "output_type": "stream",
     "text": [
      "                                                                5.82it/s]\r"
     ]
    },
    {
     "data": {
      "application/vnd.jupyter.widget-view+json": {
       "model_id": "e5941ce7eab8479ca8af9db5db9e14a9",
       "version_major": 2,
       "version_minor": 0
      },
      "text/plain": [
       "Iterations:   0%|          | 0/100 [00:00<?, ?it/s]"
      ]
     },
     "metadata": {},
     "output_type": "display_data"
    },
    {
     "data": {
      "application/vnd.jupyter.widget-view+json": {
       "model_id": "c31206c162734532bc37f93e6e94e158",
       "version_major": 2,
       "version_minor": 0
      },
      "text/plain": [
       "Clients:   0%|          | 0/4 [00:00<?, ?it/s]"
      ]
     },
     "metadata": {},
     "output_type": "display_data"
    },
    {
     "name": "stdout",
     "output_type": "stream",
     "text": [
      "(900, 8) (900,)\n"
     ]
    },
    {
     "name": "stderr",
     "output_type": "stream",
     "text": [
      "                                                                4.31it/s]\r"
     ]
    },
    {
     "name": "stdout",
     "output_type": "stream",
     "text": [
      "(900, 8) (900,)\n"
     ]
    },
    {
     "name": "stderr",
     "output_type": "stream",
     "text": [
      "                                                                4.93it/s]\r"
     ]
    },
    {
     "name": "stdout",
     "output_type": "stream",
     "text": [
      "(900, 8) (900,)\n"
     ]
    },
    {
     "name": "stderr",
     "output_type": "stream",
     "text": [
      "                                                                4.79it/s]\r"
     ]
    },
    {
     "data": {
      "application/vnd.jupyter.widget-view+json": {
       "model_id": "15e7520d1dbd42e3a6c06760b996e3bf",
       "version_major": 2,
       "version_minor": 0
      },
      "text/plain": [
       "Iterations:   0%|          | 0/100 [00:00<?, ?it/s]"
      ]
     },
     "metadata": {},
     "output_type": "display_data"
    },
    {
     "data": {
      "application/vnd.jupyter.widget-view+json": {
       "model_id": "50819bcd729847cab6443b865ef440b5",
       "version_major": 2,
       "version_minor": 0
      },
      "text/plain": [
       "Clients:   0%|          | 0/4 [00:00<?, ?it/s]"
      ]
     },
     "metadata": {},
     "output_type": "display_data"
    },
    {
     "name": "stdout",
     "output_type": "stream",
     "text": [
      "(900, 8) (900,)\n"
     ]
    },
    {
     "name": "stderr",
     "output_type": "stream",
     "text": [
      "                                                                5.55it/s]\r"
     ]
    },
    {
     "name": "stdout",
     "output_type": "stream",
     "text": [
      "(900, 8) (900,)\n"
     ]
    },
    {
     "name": "stderr",
     "output_type": "stream",
     "text": [
      "                                                                8.03it/s]\r"
     ]
    },
    {
     "name": "stdout",
     "output_type": "stream",
     "text": [
      "(900, 8) (900,)\n"
     ]
    },
    {
     "name": "stderr",
     "output_type": "stream",
     "text": [
      "                                                                9.91it/s]\r"
     ]
    },
    {
     "data": {
      "application/vnd.jupyter.widget-view+json": {
       "model_id": "52f5b0f0abc34be2a33585003eb8803b",
       "version_major": 2,
       "version_minor": 0
      },
      "text/plain": [
       "ICE Iterations:   0%|          | 0/20 [00:00<?, ?it/s]"
      ]
     },
     "metadata": {},
     "output_type": "display_data"
    },
    {
     "data": {
      "application/vnd.jupyter.widget-view+json": {
       "model_id": "009cd7671b574c1d9b7ed8ddc6421363",
       "version_major": 2,
       "version_minor": 0
      },
      "text/plain": [
       "Feature_idx:   0%|          | 0/8 [00:00<?, ?it/s]"
      ]
     },
     "metadata": {},
     "output_type": "display_data"
    },
    {
     "data": {
      "application/vnd.jupyter.widget-view+json": {
       "model_id": "dab0f58d5af740859113fd5daf1be0ab",
       "version_major": 2,
       "version_minor": 0
      },
      "text/plain": [
       "Feature_idx:   0%|          | 0/8 [00:00<?, ?it/s]"
      ]
     },
     "metadata": {},
     "output_type": "display_data"
    },
    {
     "data": {
      "application/vnd.jupyter.widget-view+json": {
       "model_id": "833f6d5262dd4682b16bdbe171dae065",
       "version_major": 2,
       "version_minor": 0
      },
      "text/plain": [
       "Feature_idx:   0%|          | 0/8 [00:00<?, ?it/s]"
      ]
     },
     "metadata": {},
     "output_type": "display_data"
    },
    {
     "data": {
      "application/vnd.jupyter.widget-view+json": {
       "model_id": "c0a60cebd4304ab4a9a952ea8a4529c8",
       "version_major": 2,
       "version_minor": 0
      },
      "text/plain": [
       "Feature_idx:   0%|          | 0/8 [00:00<?, ?it/s]"
      ]
     },
     "metadata": {},
     "output_type": "display_data"
    },
    {
     "data": {
      "application/vnd.jupyter.widget-view+json": {
       "model_id": "6ee9ea5ae6e8459b92f7d9e0753db4ef",
       "version_major": 2,
       "version_minor": 0
      },
      "text/plain": [
       "Feature_idx:   0%|          | 0/8 [00:00<?, ?it/s]"
      ]
     },
     "metadata": {},
     "output_type": "display_data"
    },
    {
     "data": {
      "application/vnd.jupyter.widget-view+json": {
       "model_id": "8217291ca11c437f8d4f99610b82efc6",
       "version_major": 2,
       "version_minor": 0
      },
      "text/plain": [
       "Feature_idx:   0%|          | 0/8 [00:00<?, ?it/s]"
      ]
     },
     "metadata": {},
     "output_type": "display_data"
    },
    {
     "data": {
      "application/vnd.jupyter.widget-view+json": {
       "model_id": "64cfa26bc33d42c9bf5716252d5adfbc",
       "version_major": 2,
       "version_minor": 0
      },
      "text/plain": [
       "Feature_idx:   0%|          | 0/8 [00:00<?, ?it/s]"
      ]
     },
     "metadata": {},
     "output_type": "display_data"
    },
    {
     "data": {
      "application/vnd.jupyter.widget-view+json": {
       "model_id": "b814f55c2c9949e299b1499ef1db3df6",
       "version_major": 2,
       "version_minor": 0
      },
      "text/plain": [
       "Feature_idx:   0%|          | 0/8 [00:00<?, ?it/s]"
      ]
     },
     "metadata": {},
     "output_type": "display_data"
    },
    {
     "data": {
      "application/vnd.jupyter.widget-view+json": {
       "model_id": "86faf23094e74df1b64a4c3e05ad10ac",
       "version_major": 2,
       "version_minor": 0
      },
      "text/plain": [
       "Feature_idx:   0%|          | 0/8 [00:00<?, ?it/s]"
      ]
     },
     "metadata": {},
     "output_type": "display_data"
    },
    {
     "data": {
      "application/vnd.jupyter.widget-view+json": {
       "model_id": "dfd98d4eb8434988bef91c4cc079eba0",
       "version_major": 2,
       "version_minor": 0
      },
      "text/plain": [
       "Feature_idx:   0%|          | 0/8 [00:00<?, ?it/s]"
      ]
     },
     "metadata": {},
     "output_type": "display_data"
    },
    {
     "data": {
      "application/vnd.jupyter.widget-view+json": {
       "model_id": "a5ac8c9f52a4485a8a589ab8e16e66db",
       "version_major": 2,
       "version_minor": 0
      },
      "text/plain": [
       "Feature_idx:   0%|          | 0/8 [00:00<?, ?it/s]"
      ]
     },
     "metadata": {},
     "output_type": "display_data"
    },
    {
     "data": {
      "application/vnd.jupyter.widget-view+json": {
       "model_id": "1116120a544f4426bd2427bf39e6af1f",
       "version_major": 2,
       "version_minor": 0
      },
      "text/plain": [
       "Clients:   0%|          | 0/4 [00:00<?, ?it/s]"
      ]
     },
     "metadata": {},
     "output_type": "display_data"
    },
    {
     "name": "stdout",
     "output_type": "stream",
     "text": [
      "(900, 8) (900,)\n"
     ]
    },
    {
     "name": "stderr",
     "output_type": "stream",
     "text": [
      "                                                                1.92it/s]\r"
     ]
    },
    {
     "name": "stdout",
     "output_type": "stream",
     "text": [
      "(900, 8) (900,)\n"
     ]
    },
    {
     "name": "stderr",
     "output_type": "stream",
     "text": [
      "                                                                5.79it/s]\r"
     ]
    },
    {
     "name": "stdout",
     "output_type": "stream",
     "text": [
      "(900, 8) (900,)\n"
     ]
    },
    {
     "name": "stderr",
     "output_type": "stream",
     "text": [
      "                                                                1.70it/s]\r"
     ]
    },
    {
     "data": {
      "application/vnd.jupyter.widget-view+json": {
       "model_id": "55d2ef2cf38d4fe6a730a4bad8227f48",
       "version_major": 2,
       "version_minor": 0
      },
      "text/plain": [
       "ICE Iterations:   0%|          | 0/20 [00:00<?, ?it/s]"
      ]
     },
     "metadata": {},
     "output_type": "display_data"
    },
    {
     "data": {
      "application/vnd.jupyter.widget-view+json": {
       "model_id": "4ee88a73306242a98576b1bb2405dfd6",
       "version_major": 2,
       "version_minor": 0
      },
      "text/plain": [
       "Feature_idx:   0%|          | 0/8 [00:00<?, ?it/s]"
      ]
     },
     "metadata": {},
     "output_type": "display_data"
    },
    {
     "data": {
      "application/vnd.jupyter.widget-view+json": {
       "model_id": "1370e41cb42447239606a37caaf55ca6",
       "version_major": 2,
       "version_minor": 0
      },
      "text/plain": [
       "Feature_idx:   0%|          | 0/8 [00:00<?, ?it/s]"
      ]
     },
     "metadata": {},
     "output_type": "display_data"
    },
    {
     "data": {
      "application/vnd.jupyter.widget-view+json": {
       "model_id": "3cbc3af20d8d4632809c011bf797058b",
       "version_major": 2,
       "version_minor": 0
      },
      "text/plain": [
       "Feature_idx:   0%|          | 0/8 [00:00<?, ?it/s]"
      ]
     },
     "metadata": {},
     "output_type": "display_data"
    },
    {
     "data": {
      "application/vnd.jupyter.widget-view+json": {
       "model_id": "326a1edcf4fb458aa6c62063ff59048b",
       "version_major": 2,
       "version_minor": 0
      },
      "text/plain": [
       "Feature_idx:   0%|          | 0/8 [00:00<?, ?it/s]"
      ]
     },
     "metadata": {},
     "output_type": "display_data"
    },
    {
     "data": {
      "application/vnd.jupyter.widget-view+json": {
       "model_id": "004493c117c346d99c1b7a53bed3476f",
       "version_major": 2,
       "version_minor": 0
      },
      "text/plain": [
       "Feature_idx:   0%|          | 0/8 [00:00<?, ?it/s]"
      ]
     },
     "metadata": {},
     "output_type": "display_data"
    },
    {
     "data": {
      "application/vnd.jupyter.widget-view+json": {
       "model_id": "689c8d44a5e64f80af2da5537bc19eae",
       "version_major": 2,
       "version_minor": 0
      },
      "text/plain": [
       "Feature_idx:   0%|          | 0/8 [00:00<?, ?it/s]"
      ]
     },
     "metadata": {},
     "output_type": "display_data"
    },
    {
     "data": {
      "application/vnd.jupyter.widget-view+json": {
       "model_id": "416a21729b994e22aaccf319408d0b7c",
       "version_major": 2,
       "version_minor": 0
      },
      "text/plain": [
       "Feature_idx:   0%|          | 0/8 [00:00<?, ?it/s]"
      ]
     },
     "metadata": {},
     "output_type": "display_data"
    },
    {
     "data": {
      "application/vnd.jupyter.widget-view+json": {
       "model_id": "8e339b24635946b18e0583b0cd82150a",
       "version_major": 2,
       "version_minor": 0
      },
      "text/plain": [
       "Feature_idx:   0%|          | 0/8 [00:00<?, ?it/s]"
      ]
     },
     "metadata": {},
     "output_type": "display_data"
    },
    {
     "data": {
      "application/vnd.jupyter.widget-view+json": {
       "model_id": "24f6d28f22ac47bea9716903520e2d0d",
       "version_major": 2,
       "version_minor": 0
      },
      "text/plain": [
       "Feature_idx:   0%|          | 0/8 [00:00<?, ?it/s]"
      ]
     },
     "metadata": {},
     "output_type": "display_data"
    },
    {
     "data": {
      "application/vnd.jupyter.widget-view+json": {
       "model_id": "9e4b89911d9749c092fcdebf270021bb",
       "version_major": 2,
       "version_minor": 0
      },
      "text/plain": [
       "Feature_idx:   0%|          | 0/8 [00:00<?, ?it/s]"
      ]
     },
     "metadata": {},
     "output_type": "display_data"
    },
    {
     "data": {
      "application/vnd.jupyter.widget-view+json": {
       "model_id": "6488f02badb04838a5571dcd57249902",
       "version_major": 2,
       "version_minor": 0
      },
      "text/plain": [
       "Feature_idx:   0%|          | 0/8 [00:00<?, ?it/s]"
      ]
     },
     "metadata": {},
     "output_type": "display_data"
    },
    {
     "data": {
      "application/vnd.jupyter.widget-view+json": {
       "model_id": "118a982e03654230a4cd91e8dbca08a2",
       "version_major": 2,
       "version_minor": 0
      },
      "text/plain": [
       "Clients:   0%|          | 0/4 [00:00<?, ?it/s]"
      ]
     },
     "metadata": {},
     "output_type": "display_data"
    },
    {
     "name": "stdout",
     "output_type": "stream",
     "text": [
      "(900, 8) (900,)\n"
     ]
    },
    {
     "name": "stderr",
     "output_type": "stream",
     "text": [
      "                                                                4.00it/s]\r"
     ]
    },
    {
     "name": "stdout",
     "output_type": "stream",
     "text": [
      "(900, 8) (900,)\n"
     ]
    },
    {
     "name": "stderr",
     "output_type": "stream",
     "text": [
      "                                                                4.52it/s]\r"
     ]
    },
    {
     "name": "stdout",
     "output_type": "stream",
     "text": [
      "(900, 8) (900,)\n"
     ]
    },
    {
     "name": "stderr",
     "output_type": "stream",
     "text": [
      "                                                                4.05it/s]\r"
     ]
    },
    {
     "data": {
      "application/vnd.jupyter.widget-view+json": {
       "model_id": "b90a9ced9f7e4a6b8912d2b6f6e06b41",
       "version_major": 2,
       "version_minor": 0
      },
      "text/plain": [
       "ICE Iterations:   0%|          | 0/20 [00:00<?, ?it/s]"
      ]
     },
     "metadata": {},
     "output_type": "display_data"
    },
    {
     "data": {
      "application/vnd.jupyter.widget-view+json": {
       "model_id": "3e37f278bb4849b3b17ee8195a9b4609",
       "version_major": 2,
       "version_minor": 0
      },
      "text/plain": [
       "Feature_idx:   0%|          | 0/8 [00:00<?, ?it/s]"
      ]
     },
     "metadata": {},
     "output_type": "display_data"
    },
    {
     "data": {
      "application/vnd.jupyter.widget-view+json": {
       "model_id": "fca14c07f1424b68a1c341a84c204078",
       "version_major": 2,
       "version_minor": 0
      },
      "text/plain": [
       "Feature_idx:   0%|          | 0/8 [00:00<?, ?it/s]"
      ]
     },
     "metadata": {},
     "output_type": "display_data"
    },
    {
     "data": {
      "application/vnd.jupyter.widget-view+json": {
       "model_id": "d93e66a735764c5894e6edf7ded002f3",
       "version_major": 2,
       "version_minor": 0
      },
      "text/plain": [
       "Feature_idx:   0%|          | 0/8 [00:00<?, ?it/s]"
      ]
     },
     "metadata": {},
     "output_type": "display_data"
    },
    {
     "data": {
      "application/vnd.jupyter.widget-view+json": {
       "model_id": "d640f3a4b0ca4a63b336cd09c2151109",
       "version_major": 2,
       "version_minor": 0
      },
      "text/plain": [
       "Feature_idx:   0%|          | 0/8 [00:00<?, ?it/s]"
      ]
     },
     "metadata": {},
     "output_type": "display_data"
    },
    {
     "data": {
      "application/vnd.jupyter.widget-view+json": {
       "model_id": "18326e65946c460180a0cf79ac17c56e",
       "version_major": 2,
       "version_minor": 0
      },
      "text/plain": [
       "Feature_idx:   0%|          | 0/8 [00:00<?, ?it/s]"
      ]
     },
     "metadata": {},
     "output_type": "display_data"
    },
    {
     "data": {
      "application/vnd.jupyter.widget-view+json": {
       "model_id": "be8ed4913f6f4d95adc939eb453402b3",
       "version_major": 2,
       "version_minor": 0
      },
      "text/plain": [
       "Feature_idx:   0%|          | 0/8 [00:00<?, ?it/s]"
      ]
     },
     "metadata": {},
     "output_type": "display_data"
    },
    {
     "data": {
      "application/vnd.jupyter.widget-view+json": {
       "model_id": "859cb11e6ee241bbba2b3dbf19b45770",
       "version_major": 2,
       "version_minor": 0
      },
      "text/plain": [
       "Feature_idx:   0%|          | 0/8 [00:00<?, ?it/s]"
      ]
     },
     "metadata": {},
     "output_type": "display_data"
    },
    {
     "data": {
      "application/vnd.jupyter.widget-view+json": {
       "model_id": "84df6ce11e5c48eab2fadecb51999da7",
       "version_major": 2,
       "version_minor": 0
      },
      "text/plain": [
       "Feature_idx:   0%|          | 0/8 [00:00<?, ?it/s]"
      ]
     },
     "metadata": {},
     "output_type": "display_data"
    },
    {
     "data": {
      "application/vnd.jupyter.widget-view+json": {
       "model_id": "452e24fc4be947458bbd15068479352d",
       "version_major": 2,
       "version_minor": 0
      },
      "text/plain": [
       "Feature_idx:   0%|          | 0/8 [00:00<?, ?it/s]"
      ]
     },
     "metadata": {},
     "output_type": "display_data"
    },
    {
     "data": {
      "application/vnd.jupyter.widget-view+json": {
       "model_id": "5a86bea1dfac45e4894ab470ebf7d2d3",
       "version_major": 2,
       "version_minor": 0
      },
      "text/plain": [
       "Feature_idx:   0%|          | 0/8 [00:00<?, ?it/s]"
      ]
     },
     "metadata": {},
     "output_type": "display_data"
    },
    {
     "data": {
      "application/vnd.jupyter.widget-view+json": {
       "model_id": "418cccbdea984a5fb02eb2a482806abd",
       "version_major": 2,
       "version_minor": 0
      },
      "text/plain": [
       "Feature_idx:   0%|          | 0/8 [00:00<?, ?it/s]"
      ]
     },
     "metadata": {},
     "output_type": "display_data"
    },
    {
     "data": {
      "application/vnd.jupyter.widget-view+json": {
       "model_id": "ec16d53e885c48d1aed7381a8890b221",
       "version_major": 2,
       "version_minor": 0
      },
      "text/plain": [
       "Clients:   0%|          | 0/4 [00:00<?, ?it/s]"
      ]
     },
     "metadata": {},
     "output_type": "display_data"
    },
    {
     "name": "stdout",
     "output_type": "stream",
     "text": [
      "(900, 8) (900,)\n"
     ]
    },
    {
     "name": "stderr",
     "output_type": "stream",
     "text": [
      "                                                                3.98it/s]\r"
     ]
    },
    {
     "name": "stdout",
     "output_type": "stream",
     "text": [
      "(900, 8) (900,)\n"
     ]
    },
    {
     "name": "stderr",
     "output_type": "stream",
     "text": [
      "                                                                4.57it/s]\r"
     ]
    },
    {
     "name": "stdout",
     "output_type": "stream",
     "text": [
      "(900, 8) (900,)\n"
     ]
    },
    {
     "name": "stderr",
     "output_type": "stream",
     "text": [
      "                                                                0.80it/s]\r"
     ]
    },
    {
     "data": {
      "application/vnd.jupyter.widget-view+json": {
       "model_id": "82d817161c64414989fad63cb3ce13fa",
       "version_major": 2,
       "version_minor": 0
      },
      "text/plain": [
       "ICE Iterations:   0%|          | 0/20 [00:00<?, ?it/s]"
      ]
     },
     "metadata": {},
     "output_type": "display_data"
    },
    {
     "data": {
      "application/vnd.jupyter.widget-view+json": {
       "model_id": "cedef2a44cf14c6da68c427b11034678",
       "version_major": 2,
       "version_minor": 0
      },
      "text/plain": [
       "Feature_idx:   0%|          | 0/8 [00:00<?, ?it/s]"
      ]
     },
     "metadata": {},
     "output_type": "display_data"
    },
    {
     "data": {
      "application/vnd.jupyter.widget-view+json": {
       "model_id": "27239a6a1e954d34bf0dd05f1e24c7c6",
       "version_major": 2,
       "version_minor": 0
      },
      "text/plain": [
       "Feature_idx:   0%|          | 0/8 [00:00<?, ?it/s]"
      ]
     },
     "metadata": {},
     "output_type": "display_data"
    },
    {
     "data": {
      "application/vnd.jupyter.widget-view+json": {
       "model_id": "2d3f9c3ae8964d9381b147a7b05f788f",
       "version_major": 2,
       "version_minor": 0
      },
      "text/plain": [
       "Feature_idx:   0%|          | 0/8 [00:00<?, ?it/s]"
      ]
     },
     "metadata": {},
     "output_type": "display_data"
    },
    {
     "data": {
      "application/vnd.jupyter.widget-view+json": {
       "model_id": "180d0ab06e51431ca892d9770042a4da",
       "version_major": 2,
       "version_minor": 0
      },
      "text/plain": [
       "Feature_idx:   0%|          | 0/8 [00:00<?, ?it/s]"
      ]
     },
     "metadata": {},
     "output_type": "display_data"
    },
    {
     "data": {
      "application/vnd.jupyter.widget-view+json": {
       "model_id": "83a8766ffcb548f4bbb0c9c322e52371",
       "version_major": 2,
       "version_minor": 0
      },
      "text/plain": [
       "Feature_idx:   0%|          | 0/8 [00:00<?, ?it/s]"
      ]
     },
     "metadata": {},
     "output_type": "display_data"
    },
    {
     "data": {
      "application/vnd.jupyter.widget-view+json": {
       "model_id": "53892495492743c291c8ea6755cace99",
       "version_major": 2,
       "version_minor": 0
      },
      "text/plain": [
       "Feature_idx:   0%|          | 0/8 [00:00<?, ?it/s]"
      ]
     },
     "metadata": {},
     "output_type": "display_data"
    },
    {
     "data": {
      "application/vnd.jupyter.widget-view+json": {
       "model_id": "6e74b83ec8584124a191c8b5bb1f2950",
       "version_major": 2,
       "version_minor": 0
      },
      "text/plain": [
       "Feature_idx:   0%|          | 0/8 [00:00<?, ?it/s]"
      ]
     },
     "metadata": {},
     "output_type": "display_data"
    },
    {
     "data": {
      "application/vnd.jupyter.widget-view+json": {
       "model_id": "d521e89c13bd4419acc3bc1917ebfd01",
       "version_major": 2,
       "version_minor": 0
      },
      "text/plain": [
       "Feature_idx:   0%|          | 0/8 [00:00<?, ?it/s]"
      ]
     },
     "metadata": {},
     "output_type": "display_data"
    },
    {
     "data": {
      "application/vnd.jupyter.widget-view+json": {
       "model_id": "f37d414b19524a6aac9dd39cad49b2ae",
       "version_major": 2,
       "version_minor": 0
      },
      "text/plain": [
       "Feature_idx:   0%|          | 0/8 [00:00<?, ?it/s]"
      ]
     },
     "metadata": {},
     "output_type": "display_data"
    },
    {
     "data": {
      "application/vnd.jupyter.widget-view+json": {
       "model_id": "a9b483294e284be0a82a84efa5586b95",
       "version_major": 2,
       "version_minor": 0
      },
      "text/plain": [
       "Feature_idx:   0%|          | 0/8 [00:00<?, ?it/s]"
      ]
     },
     "metadata": {},
     "output_type": "display_data"
    },
    {
     "data": {
      "application/vnd.jupyter.widget-view+json": {
       "model_id": "5321c37839264f9ab68471296c75828d",
       "version_major": 2,
       "version_minor": 0
      },
      "text/plain": [
       "Feature_idx:   0%|          | 0/8 [00:00<?, ?it/s]"
      ]
     },
     "metadata": {},
     "output_type": "display_data"
    },
    {
     "data": {
      "application/vnd.jupyter.widget-view+json": {
       "model_id": "bdabc4557fe14d41a1e30c69f011cec8",
       "version_major": 2,
       "version_minor": 0
      },
      "text/plain": [
       "Clients:   0%|          | 0/4 [00:00<?, ?it/s]"
      ]
     },
     "metadata": {},
     "output_type": "display_data"
    },
    {
     "name": "stdout",
     "output_type": "stream",
     "text": [
      "(900, 8) (900,)\n"
     ]
    },
    {
     "name": "stderr",
     "output_type": "stream",
     "text": [
      "                                                                5.34it/s]\r"
     ]
    },
    {
     "name": "stdout",
     "output_type": "stream",
     "text": [
      "(900, 8) (900,)\n"
     ]
    },
    {
     "name": "stderr",
     "output_type": "stream",
     "text": [
      "                                                                4.61it/s]\r"
     ]
    },
    {
     "name": "stdout",
     "output_type": "stream",
     "text": [
      "(900, 8) (900,)\n"
     ]
    },
    {
     "name": "stderr",
     "output_type": "stream",
     "text": [
      "                                                                2.04it/s]\r"
     ]
    },
    {
     "data": {
      "application/vnd.jupyter.widget-view+json": {
       "model_id": "52bc0189fb3946368c6f55e8f4a336d3",
       "version_major": 2,
       "version_minor": 0
      },
      "text/plain": [
       "ICE Iterations:   0%|          | 0/20 [00:00<?, ?it/s]"
      ]
     },
     "metadata": {},
     "output_type": "display_data"
    },
    {
     "data": {
      "application/vnd.jupyter.widget-view+json": {
       "model_id": "e0c96f8bd9e54187b010d301225c23c1",
       "version_major": 2,
       "version_minor": 0
      },
      "text/plain": [
       "Feature_idx:   0%|          | 0/8 [00:00<?, ?it/s]"
      ]
     },
     "metadata": {},
     "output_type": "display_data"
    },
    {
     "data": {
      "application/vnd.jupyter.widget-view+json": {
       "model_id": "1e7fa319254d409793be109ab565c376",
       "version_major": 2,
       "version_minor": 0
      },
      "text/plain": [
       "Feature_idx:   0%|          | 0/8 [00:00<?, ?it/s]"
      ]
     },
     "metadata": {},
     "output_type": "display_data"
    },
    {
     "data": {
      "application/vnd.jupyter.widget-view+json": {
       "model_id": "24a1253b08cf4e0faf95c89092d31739",
       "version_major": 2,
       "version_minor": 0
      },
      "text/plain": [
       "Feature_idx:   0%|          | 0/8 [00:00<?, ?it/s]"
      ]
     },
     "metadata": {},
     "output_type": "display_data"
    },
    {
     "data": {
      "application/vnd.jupyter.widget-view+json": {
       "model_id": "2078c89fc3454f80bcb79d003df65f2a",
       "version_major": 2,
       "version_minor": 0
      },
      "text/plain": [
       "Feature_idx:   0%|          | 0/8 [00:00<?, ?it/s]"
      ]
     },
     "metadata": {},
     "output_type": "display_data"
    },
    {
     "data": {
      "application/vnd.jupyter.widget-view+json": {
       "model_id": "e59b4ed648574e2e949431237942f05d",
       "version_major": 2,
       "version_minor": 0
      },
      "text/plain": [
       "Feature_idx:   0%|          | 0/8 [00:00<?, ?it/s]"
      ]
     },
     "metadata": {},
     "output_type": "display_data"
    },
    {
     "data": {
      "application/vnd.jupyter.widget-view+json": {
       "model_id": "34529c5844f4412fb0d8c5039134b32d",
       "version_major": 2,
       "version_minor": 0
      },
      "text/plain": [
       "Feature_idx:   0%|          | 0/8 [00:00<?, ?it/s]"
      ]
     },
     "metadata": {},
     "output_type": "display_data"
    },
    {
     "data": {
      "application/vnd.jupyter.widget-view+json": {
       "model_id": "3691e071191f48dcace8c86b4e147b51",
       "version_major": 2,
       "version_minor": 0
      },
      "text/plain": [
       "Feature_idx:   0%|          | 0/8 [00:00<?, ?it/s]"
      ]
     },
     "metadata": {},
     "output_type": "display_data"
    },
    {
     "data": {
      "application/vnd.jupyter.widget-view+json": {
       "model_id": "da118ee1e5974853a2cf4338cbac667a",
       "version_major": 2,
       "version_minor": 0
      },
      "text/plain": [
       "Feature_idx:   0%|          | 0/8 [00:00<?, ?it/s]"
      ]
     },
     "metadata": {},
     "output_type": "display_data"
    },
    {
     "data": {
      "application/vnd.jupyter.widget-view+json": {
       "model_id": "b688e1948a144f9fa70c42fbe3a6c94e",
       "version_major": 2,
       "version_minor": 0
      },
      "text/plain": [
       "Feature_idx:   0%|          | 0/8 [00:00<?, ?it/s]"
      ]
     },
     "metadata": {},
     "output_type": "display_data"
    },
    {
     "data": {
      "application/vnd.jupyter.widget-view+json": {
       "model_id": "a7f2d22d72e64f78a1e1ac7b3e132b32",
       "version_major": 2,
       "version_minor": 0
      },
      "text/plain": [
       "Feature_idx:   0%|          | 0/8 [00:00<?, ?it/s]"
      ]
     },
     "metadata": {},
     "output_type": "display_data"
    },
    {
     "data": {
      "application/vnd.jupyter.widget-view+json": {
       "model_id": "a83fc2dd0c3d45db8e1d754e5b6144a7",
       "version_major": 2,
       "version_minor": 0
      },
      "text/plain": [
       "Feature_idx:   0%|          | 0/8 [00:00<?, ?it/s]"
      ]
     },
     "metadata": {},
     "output_type": "display_data"
    },
    {
     "data": {
      "application/vnd.jupyter.widget-view+json": {
       "model_id": "488cd84b43114d41bc9dedca87b83028",
       "version_major": 2,
       "version_minor": 0
      },
      "text/plain": [
       "Clients:   0%|          | 0/4 [00:00<?, ?it/s]"
      ]
     },
     "metadata": {},
     "output_type": "display_data"
    },
    {
     "name": "stdout",
     "output_type": "stream",
     "text": [
      "(900, 8) (900,)\n"
     ]
    },
    {
     "name": "stderr",
     "output_type": "stream",
     "text": [
      "                                                                0.83it/s]\r"
     ]
    },
    {
     "name": "stdout",
     "output_type": "stream",
     "text": [
      "(900, 8) (900,)\n"
     ]
    },
    {
     "name": "stderr",
     "output_type": "stream",
     "text": [
      "                                                                6.41it/s]\r"
     ]
    },
    {
     "name": "stdout",
     "output_type": "stream",
     "text": [
      "(900, 8) (900,)\n"
     ]
    },
    {
     "name": "stderr",
     "output_type": "stream",
     "text": [
      "                                                                9.12it/s]\r"
     ]
    },
    {
     "data": {
      "application/vnd.jupyter.widget-view+json": {
       "model_id": "d0929f3f1ae643b4b101dd6d381680d8",
       "version_major": 2,
       "version_minor": 0
      },
      "text/plain": [
       "ICE Iterations:   0%|          | 0/20 [00:00<?, ?it/s]"
      ]
     },
     "metadata": {},
     "output_type": "display_data"
    },
    {
     "data": {
      "application/vnd.jupyter.widget-view+json": {
       "model_id": "171a14b56c7d474baa3226de07f024e6",
       "version_major": 2,
       "version_minor": 0
      },
      "text/plain": [
       "Feature_idx:   0%|          | 0/8 [00:00<?, ?it/s]"
      ]
     },
     "metadata": {},
     "output_type": "display_data"
    },
    {
     "data": {
      "application/vnd.jupyter.widget-view+json": {
       "model_id": "fdaee4af48064d6cb132b3d7e210eeb6",
       "version_major": 2,
       "version_minor": 0
      },
      "text/plain": [
       "Feature_idx:   0%|          | 0/8 [00:00<?, ?it/s]"
      ]
     },
     "metadata": {},
     "output_type": "display_data"
    },
    {
     "data": {
      "application/vnd.jupyter.widget-view+json": {
       "model_id": "003a5ad831cf46a297b2aa714fddd79d",
       "version_major": 2,
       "version_minor": 0
      },
      "text/plain": [
       "Feature_idx:   0%|          | 0/8 [00:00<?, ?it/s]"
      ]
     },
     "metadata": {},
     "output_type": "display_data"
    },
    {
     "data": {
      "application/vnd.jupyter.widget-view+json": {
       "model_id": "f67b757f96354d63b939a1297f2d67f3",
       "version_major": 2,
       "version_minor": 0
      },
      "text/plain": [
       "Feature_idx:   0%|          | 0/8 [00:00<?, ?it/s]"
      ]
     },
     "metadata": {},
     "output_type": "display_data"
    },
    {
     "data": {
      "application/vnd.jupyter.widget-view+json": {
       "model_id": "8f8efa7cc82e4415a3f5ac21eb96e9b8",
       "version_major": 2,
       "version_minor": 0
      },
      "text/plain": [
       "Feature_idx:   0%|          | 0/8 [00:00<?, ?it/s]"
      ]
     },
     "metadata": {},
     "output_type": "display_data"
    },
    {
     "data": {
      "application/vnd.jupyter.widget-view+json": {
       "model_id": "37378203162846e1b7b06006efe2ffc0",
       "version_major": 2,
       "version_minor": 0
      },
      "text/plain": [
       "Feature_idx:   0%|          | 0/8 [00:00<?, ?it/s]"
      ]
     },
     "metadata": {},
     "output_type": "display_data"
    },
    {
     "data": {
      "application/vnd.jupyter.widget-view+json": {
       "model_id": "95948504f8d349bfad7afb77d7fc6dbf",
       "version_major": 2,
       "version_minor": 0
      },
      "text/plain": [
       "Feature_idx:   0%|          | 0/8 [00:00<?, ?it/s]"
      ]
     },
     "metadata": {},
     "output_type": "display_data"
    },
    {
     "data": {
      "application/vnd.jupyter.widget-view+json": {
       "model_id": "821aaf6b548c4a9c99192c0ff8da064e",
       "version_major": 2,
       "version_minor": 0
      },
      "text/plain": [
       "Feature_idx:   0%|          | 0/8 [00:00<?, ?it/s]"
      ]
     },
     "metadata": {},
     "output_type": "display_data"
    },
    {
     "data": {
      "application/vnd.jupyter.widget-view+json": {
       "model_id": "5570ab8b9cdf4e61b8910382750ea23f",
       "version_major": 2,
       "version_minor": 0
      },
      "text/plain": [
       "Feature_idx:   0%|          | 0/8 [00:00<?, ?it/s]"
      ]
     },
     "metadata": {},
     "output_type": "display_data"
    },
    {
     "data": {
      "application/vnd.jupyter.widget-view+json": {
       "model_id": "d68cd16833ba4212ac2d50df03394c4f",
       "version_major": 2,
       "version_minor": 0
      },
      "text/plain": [
       "Feature_idx:   0%|          | 0/8 [00:00<?, ?it/s]"
      ]
     },
     "metadata": {},
     "output_type": "display_data"
    },
    {
     "data": {
      "application/vnd.jupyter.widget-view+json": {
       "model_id": "8c2c5903acad4dae8892fecf690c3006",
       "version_major": 2,
       "version_minor": 0
      },
      "text/plain": [
       "Feature_idx:   0%|          | 0/8 [00:00<?, ?it/s]"
      ]
     },
     "metadata": {},
     "output_type": "display_data"
    },
    {
     "data": {
      "application/vnd.jupyter.widget-view+json": {
       "model_id": "9107a14bc2cd48eb8360d38e6bd49496",
       "version_major": 2,
       "version_minor": 0
      },
      "text/plain": [
       "Clients:   0%|          | 0/4 [00:00<?, ?it/s]"
      ]
     },
     "metadata": {},
     "output_type": "display_data"
    },
    {
     "name": "stdout",
     "output_type": "stream",
     "text": [
      "(900, 8) (900,)\n"
     ]
    },
    {
     "name": "stderr",
     "output_type": "stream",
     "text": [
      "                                                                4.48it/s]\r"
     ]
    },
    {
     "name": "stdout",
     "output_type": "stream",
     "text": [
      "(900, 8) (900,)\n"
     ]
    },
    {
     "name": "stderr",
     "output_type": "stream",
     "text": [
      "                                                                4.89it/s]\r"
     ]
    },
    {
     "name": "stdout",
     "output_type": "stream",
     "text": [
      "(900, 8) (900,)\n"
     ]
    },
    {
     "name": "stderr",
     "output_type": "stream",
     "text": [
      "                                                                3.98it/s]\r"
     ]
    },
    {
     "data": {
      "application/vnd.jupyter.widget-view+json": {
       "model_id": "1658f93a735945e59110df19b009f86c",
       "version_major": 2,
       "version_minor": 0
      },
      "text/plain": [
       "ICE Iterations:   0%|          | 0/20 [00:00<?, ?it/s]"
      ]
     },
     "metadata": {},
     "output_type": "display_data"
    },
    {
     "data": {
      "application/vnd.jupyter.widget-view+json": {
       "model_id": "1449cfbaa7fa4f668d5d2d2a2832d832",
       "version_major": 2,
       "version_minor": 0
      },
      "text/plain": [
       "Feature_idx:   0%|          | 0/8 [00:00<?, ?it/s]"
      ]
     },
     "metadata": {},
     "output_type": "display_data"
    },
    {
     "data": {
      "application/vnd.jupyter.widget-view+json": {
       "model_id": "7e17d51b95254111b0ce761c43c6d715",
       "version_major": 2,
       "version_minor": 0
      },
      "text/plain": [
       "Feature_idx:   0%|          | 0/8 [00:00<?, ?it/s]"
      ]
     },
     "metadata": {},
     "output_type": "display_data"
    },
    {
     "data": {
      "application/vnd.jupyter.widget-view+json": {
       "model_id": "b8e632b01d814f54b9710b9f7d54b3d8",
       "version_major": 2,
       "version_minor": 0
      },
      "text/plain": [
       "Feature_idx:   0%|          | 0/8 [00:00<?, ?it/s]"
      ]
     },
     "metadata": {},
     "output_type": "display_data"
    },
    {
     "data": {
      "application/vnd.jupyter.widget-view+json": {
       "model_id": "7b644f94bb654bc2835d64ba9a50f7c3",
       "version_major": 2,
       "version_minor": 0
      },
      "text/plain": [
       "Feature_idx:   0%|          | 0/8 [00:00<?, ?it/s]"
      ]
     },
     "metadata": {},
     "output_type": "display_data"
    },
    {
     "data": {
      "application/vnd.jupyter.widget-view+json": {
       "model_id": "bfcfb70e396e43498d5678c4010a002c",
       "version_major": 2,
       "version_minor": 0
      },
      "text/plain": [
       "Feature_idx:   0%|          | 0/8 [00:00<?, ?it/s]"
      ]
     },
     "metadata": {},
     "output_type": "display_data"
    },
    {
     "data": {
      "application/vnd.jupyter.widget-view+json": {
       "model_id": "abc3b2a6a86f4a2da3545274fd0eeef3",
       "version_major": 2,
       "version_minor": 0
      },
      "text/plain": [
       "Feature_idx:   0%|          | 0/8 [00:00<?, ?it/s]"
      ]
     },
     "metadata": {},
     "output_type": "display_data"
    },
    {
     "data": {
      "application/vnd.jupyter.widget-view+json": {
       "model_id": "5529272ab46f45bf81b2522071d82ca3",
       "version_major": 2,
       "version_minor": 0
      },
      "text/plain": [
       "Feature_idx:   0%|          | 0/8 [00:00<?, ?it/s]"
      ]
     },
     "metadata": {},
     "output_type": "display_data"
    },
    {
     "data": {
      "application/vnd.jupyter.widget-view+json": {
       "model_id": "f5ad116cb1c645e489ef81f16d397095",
       "version_major": 2,
       "version_minor": 0
      },
      "text/plain": [
       "Feature_idx:   0%|          | 0/8 [00:00<?, ?it/s]"
      ]
     },
     "metadata": {},
     "output_type": "display_data"
    },
    {
     "data": {
      "application/vnd.jupyter.widget-view+json": {
       "model_id": "28550383d82144dfb8b45ae4a0db7d4f",
       "version_major": 2,
       "version_minor": 0
      },
      "text/plain": [
       "Feature_idx:   0%|          | 0/8 [00:00<?, ?it/s]"
      ]
     },
     "metadata": {},
     "output_type": "display_data"
    },
    {
     "data": {
      "application/vnd.jupyter.widget-view+json": {
       "model_id": "303185fc709e4e43b9476f0d7a8c6d66",
       "version_major": 2,
       "version_minor": 0
      },
      "text/plain": [
       "Feature_idx:   0%|          | 0/8 [00:00<?, ?it/s]"
      ]
     },
     "metadata": {},
     "output_type": "display_data"
    },
    {
     "data": {
      "application/vnd.jupyter.widget-view+json": {
       "model_id": "9a29e43f3e0a4841836bb8b45de5c48a",
       "version_major": 2,
       "version_minor": 0
      },
      "text/plain": [
       "Feature_idx:   0%|          | 0/8 [00:00<?, ?it/s]"
      ]
     },
     "metadata": {},
     "output_type": "display_data"
    },
    {
     "data": {
      "application/vnd.jupyter.widget-view+json": {
       "model_id": "102dd2af32e446a9b41dc812ada81769",
       "version_major": 2,
       "version_minor": 0
      },
      "text/plain": [
       "Clients:   0%|          | 0/4 [00:00<?, ?it/s]"
      ]
     },
     "metadata": {},
     "output_type": "display_data"
    },
    {
     "name": "stdout",
     "output_type": "stream",
     "text": [
      "(900, 8) (900,)\n"
     ]
    },
    {
     "name": "stderr",
     "output_type": "stream",
     "text": [
      "                                                                6.02it/s]\r"
     ]
    },
    {
     "name": "stdout",
     "output_type": "stream",
     "text": [
      "(900, 8) (900,)\n"
     ]
    },
    {
     "name": "stderr",
     "output_type": "stream",
     "text": [
      "                                                                5.00it/s]\r"
     ]
    },
    {
     "name": "stdout",
     "output_type": "stream",
     "text": [
      "(900, 8) (900,)\n"
     ]
    },
    {
     "name": "stderr",
     "output_type": "stream",
     "text": [
      "                                                                1.97it/s]\r"
     ]
    },
    {
     "data": {
      "application/vnd.jupyter.widget-view+json": {
       "model_id": "e1334813f5af47689b1a1c0f915d1172",
       "version_major": 2,
       "version_minor": 0
      },
      "text/plain": [
       "ICE Iterations:   0%|          | 0/20 [00:00<?, ?it/s]"
      ]
     },
     "metadata": {},
     "output_type": "display_data"
    },
    {
     "data": {
      "application/vnd.jupyter.widget-view+json": {
       "model_id": "44b322bd2bd747e7958842452c556d3a",
       "version_major": 2,
       "version_minor": 0
      },
      "text/plain": [
       "Feature_idx:   0%|          | 0/8 [00:00<?, ?it/s]"
      ]
     },
     "metadata": {},
     "output_type": "display_data"
    },
    {
     "data": {
      "application/vnd.jupyter.widget-view+json": {
       "model_id": "13872b92176244ab826dd6a1c463fbd8",
       "version_major": 2,
       "version_minor": 0
      },
      "text/plain": [
       "Feature_idx:   0%|          | 0/8 [00:00<?, ?it/s]"
      ]
     },
     "metadata": {},
     "output_type": "display_data"
    },
    {
     "data": {
      "application/vnd.jupyter.widget-view+json": {
       "model_id": "22d3520258084d85a43aa3ac68a3e752",
       "version_major": 2,
       "version_minor": 0
      },
      "text/plain": [
       "Feature_idx:   0%|          | 0/8 [00:00<?, ?it/s]"
      ]
     },
     "metadata": {},
     "output_type": "display_data"
    },
    {
     "data": {
      "application/vnd.jupyter.widget-view+json": {
       "model_id": "bbe66875c0354a9d92d67cc23a2ef5f6",
       "version_major": 2,
       "version_minor": 0
      },
      "text/plain": [
       "Feature_idx:   0%|          | 0/8 [00:00<?, ?it/s]"
      ]
     },
     "metadata": {},
     "output_type": "display_data"
    },
    {
     "data": {
      "application/vnd.jupyter.widget-view+json": {
       "model_id": "7e54e9b915454d6fbf5ca5a7528978ad",
       "version_major": 2,
       "version_minor": 0
      },
      "text/plain": [
       "Feature_idx:   0%|          | 0/8 [00:00<?, ?it/s]"
      ]
     },
     "metadata": {},
     "output_type": "display_data"
    },
    {
     "data": {
      "application/vnd.jupyter.widget-view+json": {
       "model_id": "84b6ae07b66b4cc099f85b7993e76be5",
       "version_major": 2,
       "version_minor": 0
      },
      "text/plain": [
       "Feature_idx:   0%|          | 0/8 [00:00<?, ?it/s]"
      ]
     },
     "metadata": {},
     "output_type": "display_data"
    },
    {
     "data": {
      "application/vnd.jupyter.widget-view+json": {
       "model_id": "988d713287374f64b83a257bbe74ba76",
       "version_major": 2,
       "version_minor": 0
      },
      "text/plain": [
       "Feature_idx:   0%|          | 0/8 [00:00<?, ?it/s]"
      ]
     },
     "metadata": {},
     "output_type": "display_data"
    },
    {
     "data": {
      "application/vnd.jupyter.widget-view+json": {
       "model_id": "3e4c95147b2345b1997c71360a480a01",
       "version_major": 2,
       "version_minor": 0
      },
      "text/plain": [
       "Feature_idx:   0%|          | 0/8 [00:00<?, ?it/s]"
      ]
     },
     "metadata": {},
     "output_type": "display_data"
    },
    {
     "data": {
      "application/vnd.jupyter.widget-view+json": {
       "model_id": "eb00dab4bc5546d2a28d8e7c786afa9e",
       "version_major": 2,
       "version_minor": 0
      },
      "text/plain": [
       "Feature_idx:   0%|          | 0/8 [00:00<?, ?it/s]"
      ]
     },
     "metadata": {},
     "output_type": "display_data"
    },
    {
     "data": {
      "application/vnd.jupyter.widget-view+json": {
       "model_id": "e1c20d97c3e24921b91c6f09d5519671",
       "version_major": 2,
       "version_minor": 0
      },
      "text/plain": [
       "Feature_idx:   0%|          | 0/8 [00:00<?, ?it/s]"
      ]
     },
     "metadata": {},
     "output_type": "display_data"
    },
    {
     "data": {
      "application/vnd.jupyter.widget-view+json": {
       "model_id": "0b783e489b9547b8ac7129ccb266089e",
       "version_major": 2,
       "version_minor": 0
      },
      "text/plain": [
       "Feature_idx:   0%|          | 0/8 [00:00<?, ?it/s]"
      ]
     },
     "metadata": {},
     "output_type": "display_data"
    },
    {
     "data": {
      "application/vnd.jupyter.widget-view+json": {
       "model_id": "6fb44dc724464cdcaac13a9dddf6cbc8",
       "version_major": 2,
       "version_minor": 0
      },
      "text/plain": [
       "Clients:   0%|          | 0/4 [00:00<?, ?it/s]"
      ]
     },
     "metadata": {},
     "output_type": "display_data"
    },
    {
     "name": "stdout",
     "output_type": "stream",
     "text": [
      "(900, 8) (900,)\n"
     ]
    },
    {
     "name": "stderr",
     "output_type": "stream",
     "text": [
      "                                                                5.97it/s]\r"
     ]
    },
    {
     "name": "stdout",
     "output_type": "stream",
     "text": [
      "(900, 8) (900,)\n"
     ]
    },
    {
     "name": "stderr",
     "output_type": "stream",
     "text": [
      "                                                                6.10it/s]\r"
     ]
    },
    {
     "name": "stdout",
     "output_type": "stream",
     "text": [
      "(900, 8) (900,)\n"
     ]
    },
    {
     "name": "stderr",
     "output_type": "stream",
     "text": [
      "                                                                2.46it/s]\r"
     ]
    },
    {
     "data": {
      "application/vnd.jupyter.widget-view+json": {
       "model_id": "862286bf11fe418fae94c801be2820e3",
       "version_major": 2,
       "version_minor": 0
      },
      "text/plain": [
       "ICE Iterations:   0%|          | 0/20 [00:00<?, ?it/s]"
      ]
     },
     "metadata": {},
     "output_type": "display_data"
    },
    {
     "data": {
      "application/vnd.jupyter.widget-view+json": {
       "model_id": "58b6c9179ea141c4918784e0c423bd95",
       "version_major": 2,
       "version_minor": 0
      },
      "text/plain": [
       "Feature_idx:   0%|          | 0/8 [00:00<?, ?it/s]"
      ]
     },
     "metadata": {},
     "output_type": "display_data"
    },
    {
     "data": {
      "application/vnd.jupyter.widget-view+json": {
       "model_id": "42f20b4571e24e3cbf7a61de9ea699bd",
       "version_major": 2,
       "version_minor": 0
      },
      "text/plain": [
       "Feature_idx:   0%|          | 0/8 [00:00<?, ?it/s]"
      ]
     },
     "metadata": {},
     "output_type": "display_data"
    },
    {
     "data": {
      "application/vnd.jupyter.widget-view+json": {
       "model_id": "dd32f291463342f3ad91b30f02ee130a",
       "version_major": 2,
       "version_minor": 0
      },
      "text/plain": [
       "Feature_idx:   0%|          | 0/8 [00:00<?, ?it/s]"
      ]
     },
     "metadata": {},
     "output_type": "display_data"
    },
    {
     "data": {
      "application/vnd.jupyter.widget-view+json": {
       "model_id": "2bf89c0629014cd182419689651ede04",
       "version_major": 2,
       "version_minor": 0
      },
      "text/plain": [
       "Feature_idx:   0%|          | 0/8 [00:00<?, ?it/s]"
      ]
     },
     "metadata": {},
     "output_type": "display_data"
    },
    {
     "data": {
      "application/vnd.jupyter.widget-view+json": {
       "model_id": "6f640e4b3db0404eb032beaf12c3d39b",
       "version_major": 2,
       "version_minor": 0
      },
      "text/plain": [
       "Feature_idx:   0%|          | 0/8 [00:00<?, ?it/s]"
      ]
     },
     "metadata": {},
     "output_type": "display_data"
    },
    {
     "data": {
      "application/vnd.jupyter.widget-view+json": {
       "model_id": "2b91f3cad66848b2b0ec669ceec4edfd",
       "version_major": 2,
       "version_minor": 0
      },
      "text/plain": [
       "Feature_idx:   0%|          | 0/8 [00:00<?, ?it/s]"
      ]
     },
     "metadata": {},
     "output_type": "display_data"
    },
    {
     "data": {
      "application/vnd.jupyter.widget-view+json": {
       "model_id": "c3df4f32bef948d9a7022f5b1411e3b3",
       "version_major": 2,
       "version_minor": 0
      },
      "text/plain": [
       "Feature_idx:   0%|          | 0/8 [00:00<?, ?it/s]"
      ]
     },
     "metadata": {},
     "output_type": "display_data"
    },
    {
     "data": {
      "application/vnd.jupyter.widget-view+json": {
       "model_id": "59f3f5207f054e59b4e7fa8aaf45b1b4",
       "version_major": 2,
       "version_minor": 0
      },
      "text/plain": [
       "Feature_idx:   0%|          | 0/8 [00:00<?, ?it/s]"
      ]
     },
     "metadata": {},
     "output_type": "display_data"
    },
    {
     "data": {
      "application/vnd.jupyter.widget-view+json": {
       "model_id": "f38a5865ce5f422e9b85aedd45789662",
       "version_major": 2,
       "version_minor": 0
      },
      "text/plain": [
       "Feature_idx:   0%|          | 0/8 [00:00<?, ?it/s]"
      ]
     },
     "metadata": {},
     "output_type": "display_data"
    },
    {
     "data": {
      "application/vnd.jupyter.widget-view+json": {
       "model_id": "f430eb4bc1a64a259d2b2dd179dd1b9e",
       "version_major": 2,
       "version_minor": 0
      },
      "text/plain": [
       "Feature_idx:   0%|          | 0/8 [00:00<?, ?it/s]"
      ]
     },
     "metadata": {},
     "output_type": "display_data"
    },
    {
     "data": {
      "application/vnd.jupyter.widget-view+json": {
       "model_id": "ad20851071264a8c9b8a28137960d5d6",
       "version_major": 2,
       "version_minor": 0
      },
      "text/plain": [
       "Feature_idx:   0%|          | 0/8 [00:00<?, ?it/s]"
      ]
     },
     "metadata": {},
     "output_type": "display_data"
    },
    {
     "data": {
      "application/vnd.jupyter.widget-view+json": {
       "model_id": "e780081fc34d4adf970cb5d8bd1ec0d1",
       "version_major": 2,
       "version_minor": 0
      },
      "text/plain": [
       "Clients:   0%|          | 0/4 [00:00<?, ?it/s]"
      ]
     },
     "metadata": {},
     "output_type": "display_data"
    },
    {
     "name": "stdout",
     "output_type": "stream",
     "text": [
      "(900, 8) (900,)\n"
     ]
    },
    {
     "name": "stderr",
     "output_type": "stream",
     "text": [
      "                                                                3.61it/s]\r"
     ]
    },
    {
     "name": "stdout",
     "output_type": "stream",
     "text": [
      "(900, 8) (900,)\n"
     ]
    },
    {
     "name": "stderr",
     "output_type": "stream",
     "text": [
      "                                                                4.33it/s]\r"
     ]
    },
    {
     "name": "stdout",
     "output_type": "stream",
     "text": [
      "(900, 8) (900,)\n"
     ]
    },
    {
     "name": "stderr",
     "output_type": "stream",
     "text": [
      "                                                                3.13it/s]\r"
     ]
    },
    {
     "data": {
      "application/vnd.jupyter.widget-view+json": {
       "model_id": "2d429aa9e81c409c8dd2031b1826216c",
       "version_major": 2,
       "version_minor": 0
      },
      "text/plain": [
       "ICE Iterations:   0%|          | 0/20 [00:00<?, ?it/s]"
      ]
     },
     "metadata": {},
     "output_type": "display_data"
    },
    {
     "data": {
      "application/vnd.jupyter.widget-view+json": {
       "model_id": "92958a06979f4776bab17bb74db47e17",
       "version_major": 2,
       "version_minor": 0
      },
      "text/plain": [
       "Feature_idx:   0%|          | 0/8 [00:00<?, ?it/s]"
      ]
     },
     "metadata": {},
     "output_type": "display_data"
    },
    {
     "data": {
      "application/vnd.jupyter.widget-view+json": {
       "model_id": "861aeb453e3448c89c2e419c9c7d2c80",
       "version_major": 2,
       "version_minor": 0
      },
      "text/plain": [
       "Feature_idx:   0%|          | 0/8 [00:00<?, ?it/s]"
      ]
     },
     "metadata": {},
     "output_type": "display_data"
    },
    {
     "data": {
      "application/vnd.jupyter.widget-view+json": {
       "model_id": "aa1d938265794976923d63e3a8210b87",
       "version_major": 2,
       "version_minor": 0
      },
      "text/plain": [
       "Feature_idx:   0%|          | 0/8 [00:00<?, ?it/s]"
      ]
     },
     "metadata": {},
     "output_type": "display_data"
    },
    {
     "data": {
      "application/vnd.jupyter.widget-view+json": {
       "model_id": "ca241bdd845048a1b9da744a932c771d",
       "version_major": 2,
       "version_minor": 0
      },
      "text/plain": [
       "Feature_idx:   0%|          | 0/8 [00:00<?, ?it/s]"
      ]
     },
     "metadata": {},
     "output_type": "display_data"
    },
    {
     "data": {
      "application/vnd.jupyter.widget-view+json": {
       "model_id": "ba5ea705dc7741d8b3dceab5e749a25d",
       "version_major": 2,
       "version_minor": 0
      },
      "text/plain": [
       "Feature_idx:   0%|          | 0/8 [00:00<?, ?it/s]"
      ]
     },
     "metadata": {},
     "output_type": "display_data"
    },
    {
     "data": {
      "application/vnd.jupyter.widget-view+json": {
       "model_id": "e3b1f74892264b20b9a73a41e369dfe0",
       "version_major": 2,
       "version_minor": 0
      },
      "text/plain": [
       "Feature_idx:   0%|          | 0/8 [00:00<?, ?it/s]"
      ]
     },
     "metadata": {},
     "output_type": "display_data"
    },
    {
     "data": {
      "application/vnd.jupyter.widget-view+json": {
       "model_id": "2055425bcd1446e1906e17ed07458713",
       "version_major": 2,
       "version_minor": 0
      },
      "text/plain": [
       "Feature_idx:   0%|          | 0/8 [00:00<?, ?it/s]"
      ]
     },
     "metadata": {},
     "output_type": "display_data"
    },
    {
     "data": {
      "application/vnd.jupyter.widget-view+json": {
       "model_id": "675122e282bc46e7aa4f68250708c3bb",
       "version_major": 2,
       "version_minor": 0
      },
      "text/plain": [
       "Feature_idx:   0%|          | 0/8 [00:00<?, ?it/s]"
      ]
     },
     "metadata": {},
     "output_type": "display_data"
    },
    {
     "data": {
      "application/vnd.jupyter.widget-view+json": {
       "model_id": "b885c1ad88b54ee79eaca248236ca1b3",
       "version_major": 2,
       "version_minor": 0
      },
      "text/plain": [
       "Feature_idx:   0%|          | 0/8 [00:00<?, ?it/s]"
      ]
     },
     "metadata": {},
     "output_type": "display_data"
    },
    {
     "data": {
      "application/vnd.jupyter.widget-view+json": {
       "model_id": "56ce1a8c5bf34b1cb4044badf3cd1f00",
       "version_major": 2,
       "version_minor": 0
      },
      "text/plain": [
       "Feature_idx:   0%|          | 0/8 [00:00<?, ?it/s]"
      ]
     },
     "metadata": {},
     "output_type": "display_data"
    },
    {
     "data": {
      "application/vnd.jupyter.widget-view+json": {
       "model_id": "e32e6c88face45cebf687dc7452d4405",
       "version_major": 2,
       "version_minor": 0
      },
      "text/plain": [
       "Feature_idx:   0%|          | 0/8 [00:00<?, ?it/s]"
      ]
     },
     "metadata": {},
     "output_type": "display_data"
    },
    {
     "data": {
      "application/vnd.jupyter.widget-view+json": {
       "model_id": "ffe43546444f44d7ab67589229f36657",
       "version_major": 2,
       "version_minor": 0
      },
      "text/plain": [
       "Clients:   0%|          | 0/4 [00:00<?, ?it/s]"
      ]
     },
     "metadata": {},
     "output_type": "display_data"
    },
    {
     "name": "stdout",
     "output_type": "stream",
     "text": [
      "(900, 8) (900,)\n"
     ]
    },
    {
     "name": "stderr",
     "output_type": "stream",
     "text": [
      "                                                                5.57it/s]\r"
     ]
    },
    {
     "name": "stdout",
     "output_type": "stream",
     "text": [
      "(900, 8) (900,)\n"
     ]
    },
    {
     "name": "stderr",
     "output_type": "stream",
     "text": [
      "                                                                3.68it/s]\r"
     ]
    },
    {
     "name": "stdout",
     "output_type": "stream",
     "text": [
      "(900, 8) (900,)\n"
     ]
    },
    {
     "name": "stderr",
     "output_type": "stream",
     "text": [
      "                                                                3.43it/s]\r"
     ]
    },
    {
     "data": {
      "application/vnd.jupyter.widget-view+json": {
       "model_id": "07682b08940d4184aa61144898738fa6",
       "version_major": 2,
       "version_minor": 0
      },
      "text/plain": [
       "Global Epoch:   0%|          | 0/300 [00:00<?, ?it/s]"
      ]
     },
     "metadata": {},
     "output_type": "display_data"
    },
    {
     "data": {
      "application/vnd.jupyter.widget-view+json": {
       "model_id": "b9357df980154381a7175268a058b455",
       "version_major": 2,
       "version_minor": 0
      },
      "text/plain": [
       "Fine Tuning Epoch: 0it [00:00, ?it/s]"
      ]
     },
     "metadata": {},
     "output_type": "display_data"
    },
    {
     "data": {
      "application/vnd.jupyter.widget-view+json": {
       "model_id": "e33a8f3c84204dd2a28028c8d19017d6",
       "version_major": 2,
       "version_minor": 0
      },
      "text/plain": [
       "Clients:   0%|          | 0/4 [00:00<?, ?it/s]"
      ]
     },
     "metadata": {},
     "output_type": "display_data"
    },
    {
     "name": "stdout",
     "output_type": "stream",
     "text": [
      "(900, 8) (900,)\n"
     ]
    },
    {
     "name": "stderr",
     "output_type": "stream",
     "text": [
      "                                                                7.62it/s]\r"
     ]
    },
    {
     "name": "stdout",
     "output_type": "stream",
     "text": [
      "(900, 8) (900,)\n"
     ]
    },
    {
     "name": "stderr",
     "output_type": "stream",
     "text": [
      "                                                                3.82it/s]\r"
     ]
    },
    {
     "name": "stdout",
     "output_type": "stream",
     "text": [
      "(900, 8) (900,)\n"
     ]
    },
    {
     "name": "stderr",
     "output_type": "stream",
     "text": [
      "                                                                3.93it/s]\r"
     ]
    },
    {
     "data": {
      "application/vnd.jupyter.widget-view+json": {
       "model_id": "dcc672ce7f7f4bff8b0508333c18ab21",
       "version_major": 2,
       "version_minor": 0
      },
      "text/plain": [
       "Global Epoch:   0%|          | 0/300 [00:00<?, ?it/s]"
      ]
     },
     "metadata": {},
     "output_type": "display_data"
    },
    {
     "data": {
      "application/vnd.jupyter.widget-view+json": {
       "model_id": "368540b60b9d407388b1425af2221b51",
       "version_major": 2,
       "version_minor": 0
      },
      "text/plain": [
       "Fine Tuning Epoch: 0it [00:00, ?it/s]"
      ]
     },
     "metadata": {},
     "output_type": "display_data"
    },
    {
     "data": {
      "application/vnd.jupyter.widget-view+json": {
       "model_id": "a0c18a2cc3ea414a8795abfd4f685849",
       "version_major": 2,
       "version_minor": 0
      },
      "text/plain": [
       "Clients:   0%|          | 0/4 [00:00<?, ?it/s]"
      ]
     },
     "metadata": {},
     "output_type": "display_data"
    },
    {
     "name": "stdout",
     "output_type": "stream",
     "text": [
      "(900, 8) (900,)\n"
     ]
    },
    {
     "name": "stderr",
     "output_type": "stream",
     "text": [
      "                                                                0.43it/s]\r"
     ]
    },
    {
     "name": "stdout",
     "output_type": "stream",
     "text": [
      "(900, 8) (900,)\n"
     ]
    },
    {
     "name": "stderr",
     "output_type": "stream",
     "text": [
      "                                                                3.96it/s]\r"
     ]
    },
    {
     "name": "stdout",
     "output_type": "stream",
     "text": [
      "(900, 8) (900,)\n"
     ]
    },
    {
     "name": "stderr",
     "output_type": "stream",
     "text": [
      "                                                                4.17it/s]\r"
     ]
    },
    {
     "data": {
      "application/vnd.jupyter.widget-view+json": {
       "model_id": "2dd8dc649b9c4bcd87e1e02c741309bf",
       "version_major": 2,
       "version_minor": 0
      },
      "text/plain": [
       "Global Epoch:   0%|          | 0/300 [00:00<?, ?it/s]"
      ]
     },
     "metadata": {},
     "output_type": "display_data"
    },
    {
     "data": {
      "application/vnd.jupyter.widget-view+json": {
       "model_id": "f003c9f06c2d499cbe958b3d29b42d31",
       "version_major": 2,
       "version_minor": 0
      },
      "text/plain": [
       "Fine Tuning Epoch: 0it [00:00, ?it/s]"
      ]
     },
     "metadata": {},
     "output_type": "display_data"
    },
    {
     "data": {
      "application/vnd.jupyter.widget-view+json": {
       "model_id": "11ca83a6f2f9457c9f2b85f962fa6680",
       "version_major": 2,
       "version_minor": 0
      },
      "text/plain": [
       "Clients:   0%|          | 0/4 [00:00<?, ?it/s]"
      ]
     },
     "metadata": {},
     "output_type": "display_data"
    },
    {
     "name": "stdout",
     "output_type": "stream",
     "text": [
      "(900, 8) (900,)\n"
     ]
    },
    {
     "name": "stderr",
     "output_type": "stream",
     "text": [
      "                                                                0.70it/s]\r"
     ]
    },
    {
     "name": "stdout",
     "output_type": "stream",
     "text": [
      "(900, 8) (900,)\n"
     ]
    },
    {
     "name": "stderr",
     "output_type": "stream",
     "text": [
      "                                                                1.07it/s]\r"
     ]
    },
    {
     "name": "stdout",
     "output_type": "stream",
     "text": [
      "(900, 8) (900,)\n"
     ]
    },
    {
     "name": "stderr",
     "output_type": "stream",
     "text": [
      "                                                                4.27it/s]\r"
     ]
    },
    {
     "data": {
      "application/vnd.jupyter.widget-view+json": {
       "model_id": "72ac90028ec54b94b1b46f32c3c3162b",
       "version_major": 2,
       "version_minor": 0
      },
      "text/plain": [
       "Global Epoch:   0%|          | 0/300 [00:00<?, ?it/s]"
      ]
     },
     "metadata": {},
     "output_type": "display_data"
    },
    {
     "data": {
      "application/vnd.jupyter.widget-view+json": {
       "model_id": "32c666b059484b7e8e1ce01e66256e54",
       "version_major": 2,
       "version_minor": 0
      },
      "text/plain": [
       "Fine Tuning Epoch: 0it [00:00, ?it/s]"
      ]
     },
     "metadata": {},
     "output_type": "display_data"
    },
    {
     "data": {
      "application/vnd.jupyter.widget-view+json": {
       "model_id": "9bbe7fce71c84db2b4754f5b588c62ed",
       "version_major": 2,
       "version_minor": 0
      },
      "text/plain": [
       "Clients:   0%|          | 0/4 [00:00<?, ?it/s]"
      ]
     },
     "metadata": {},
     "output_type": "display_data"
    },
    {
     "name": "stdout",
     "output_type": "stream",
     "text": [
      "(900, 8) (900,)\n"
     ]
    },
    {
     "name": "stderr",
     "output_type": "stream",
     "text": [
      "                                                                4.79it/s]\r"
     ]
    },
    {
     "name": "stdout",
     "output_type": "stream",
     "text": [
      "(900, 8) (900,)\n"
     ]
    },
    {
     "name": "stderr",
     "output_type": "stream",
     "text": [
      "                                                                4.25it/s]\r"
     ]
    },
    {
     "name": "stdout",
     "output_type": "stream",
     "text": [
      "(900, 8) (900,)\n"
     ]
    },
    {
     "name": "stderr",
     "output_type": "stream",
     "text": [
      "                                                                5.35it/s]\r"
     ]
    },
    {
     "data": {
      "application/vnd.jupyter.widget-view+json": {
       "model_id": "737adf01cc494034ae13302ca4112666",
       "version_major": 2,
       "version_minor": 0
      },
      "text/plain": [
       "Global Epoch:   0%|          | 0/300 [00:00<?, ?it/s]"
      ]
     },
     "metadata": {},
     "output_type": "display_data"
    },
    {
     "data": {
      "application/vnd.jupyter.widget-view+json": {
       "model_id": "45783bd783534fccbd3f0c3dd9fc1723",
       "version_major": 2,
       "version_minor": 0
      },
      "text/plain": [
       "Fine Tuning Epoch: 0it [00:00, ?it/s]"
      ]
     },
     "metadata": {},
     "output_type": "display_data"
    },
    {
     "data": {
      "application/vnd.jupyter.widget-view+json": {
       "model_id": "0d6c5b72320341c38bb5877c352f7eef",
       "version_major": 2,
       "version_minor": 0
      },
      "text/plain": [
       "Clients:   0%|          | 0/4 [00:00<?, ?it/s]"
      ]
     },
     "metadata": {},
     "output_type": "display_data"
    },
    {
     "name": "stdout",
     "output_type": "stream",
     "text": [
      "(900, 8) (900,)\n"
     ]
    },
    {
     "name": "stderr",
     "output_type": "stream",
     "text": [
      "                                                                0.12it/s]\r"
     ]
    },
    {
     "name": "stdout",
     "output_type": "stream",
     "text": [
      "(900, 8) (900,)\n"
     ]
    },
    {
     "name": "stderr",
     "output_type": "stream",
     "text": [
      "                                                                4.08it/s]\r"
     ]
    },
    {
     "name": "stdout",
     "output_type": "stream",
     "text": [
      "(900, 8) (900,)\n"
     ]
    },
    {
     "name": "stderr",
     "output_type": "stream",
     "text": [
      "                                                                9.27it/s]\r"
     ]
    },
    {
     "data": {
      "application/vnd.jupyter.widget-view+json": {
       "model_id": "a1e62e873ed24d8b8a52283d859200b6",
       "version_major": 2,
       "version_minor": 0
      },
      "text/plain": [
       "Global Epoch:   0%|          | 0/300 [00:00<?, ?it/s]"
      ]
     },
     "metadata": {},
     "output_type": "display_data"
    },
    {
     "data": {
      "application/vnd.jupyter.widget-view+json": {
       "model_id": "33d4b658e013489abfae4682e8f7b4d6",
       "version_major": 2,
       "version_minor": 0
      },
      "text/plain": [
       "Fine Tuning Epoch: 0it [00:00, ?it/s]"
      ]
     },
     "metadata": {},
     "output_type": "display_data"
    },
    {
     "data": {
      "application/vnd.jupyter.widget-view+json": {
       "model_id": "1aeee56aa73e4b2c8cddbf34287c5fd9",
       "version_major": 2,
       "version_minor": 0
      },
      "text/plain": [
       "Clients:   0%|          | 0/4 [00:00<?, ?it/s]"
      ]
     },
     "metadata": {},
     "output_type": "display_data"
    },
    {
     "name": "stdout",
     "output_type": "stream",
     "text": [
      "(900, 8) (900,)\n"
     ]
    },
    {
     "name": "stderr",
     "output_type": "stream",
     "text": [
      "                                                                5.61it/s]\r"
     ]
    },
    {
     "name": "stdout",
     "output_type": "stream",
     "text": [
      "(900, 8) (900,)\n"
     ]
    },
    {
     "name": "stderr",
     "output_type": "stream",
     "text": [
      "                                                                9.10it/s]\r"
     ]
    },
    {
     "name": "stdout",
     "output_type": "stream",
     "text": [
      "(900, 8) (900,)\n"
     ]
    },
    {
     "name": "stderr",
     "output_type": "stream",
     "text": [
      "                                                                0.49it/s]\r"
     ]
    },
    {
     "data": {
      "application/vnd.jupyter.widget-view+json": {
       "model_id": "a92efcca15684b6885748e794ab0b41b",
       "version_major": 2,
       "version_minor": 0
      },
      "text/plain": [
       "Global Epoch:   0%|          | 0/300 [00:00<?, ?it/s]"
      ]
     },
     "metadata": {},
     "output_type": "display_data"
    },
    {
     "data": {
      "application/vnd.jupyter.widget-view+json": {
       "model_id": "a4daffe1f3ee4fffb4504517b0b5b870",
       "version_major": 2,
       "version_minor": 0
      },
      "text/plain": [
       "Fine Tuning Epoch: 0it [00:00, ?it/s]"
      ]
     },
     "metadata": {},
     "output_type": "display_data"
    },
    {
     "data": {
      "application/vnd.jupyter.widget-view+json": {
       "model_id": "cfc6dc79873c4335b239c3f3dbf6efa3",
       "version_major": 2,
       "version_minor": 0
      },
      "text/plain": [
       "Clients:   0%|          | 0/4 [00:00<?, ?it/s]"
      ]
     },
     "metadata": {},
     "output_type": "display_data"
    },
    {
     "name": "stdout",
     "output_type": "stream",
     "text": [
      "(900, 8) (900,)\n"
     ]
    },
    {
     "name": "stderr",
     "output_type": "stream",
     "text": [
      "                                                                4.10it/s]\r"
     ]
    },
    {
     "name": "stdout",
     "output_type": "stream",
     "text": [
      "(900, 8) (900,)\n"
     ]
    },
    {
     "name": "stderr",
     "output_type": "stream",
     "text": [
      "                                                                0.93it/s]\r"
     ]
    },
    {
     "name": "stdout",
     "output_type": "stream",
     "text": [
      "(900, 8) (900,)\n"
     ]
    },
    {
     "name": "stderr",
     "output_type": "stream",
     "text": [
      "                                                                0.08it/s]\r"
     ]
    },
    {
     "data": {
      "application/vnd.jupyter.widget-view+json": {
       "model_id": "6fea12f8b4ec43caad38bb7cfc0238ec",
       "version_major": 2,
       "version_minor": 0
      },
      "text/plain": [
       "Global Epoch:   0%|          | 0/300 [00:00<?, ?it/s]"
      ]
     },
     "metadata": {},
     "output_type": "display_data"
    },
    {
     "data": {
      "application/vnd.jupyter.widget-view+json": {
       "model_id": "3bd6885556564f8391c6216bfed7a227",
       "version_major": 2,
       "version_minor": 0
      },
      "text/plain": [
       "Fine Tuning Epoch: 0it [00:00, ?it/s]"
      ]
     },
     "metadata": {},
     "output_type": "display_data"
    },
    {
     "data": {
      "application/vnd.jupyter.widget-view+json": {
       "model_id": "f8f6f66cfbd04f899e5b6a9441c4bc42",
       "version_major": 2,
       "version_minor": 0
      },
      "text/plain": [
       "Clients:   0%|          | 0/4 [00:00<?, ?it/s]"
      ]
     },
     "metadata": {},
     "output_type": "display_data"
    },
    {
     "name": "stdout",
     "output_type": "stream",
     "text": [
      "(900, 8) (900,)\n"
     ]
    },
    {
     "name": "stderr",
     "output_type": "stream",
     "text": [
      "                                                                1.80it/s]\r"
     ]
    },
    {
     "name": "stdout",
     "output_type": "stream",
     "text": [
      "(900, 8) (900,)\n"
     ]
    },
    {
     "name": "stderr",
     "output_type": "stream",
     "text": [
      "                                                                9.29it/s]\r"
     ]
    },
    {
     "name": "stdout",
     "output_type": "stream",
     "text": [
      "(900, 8) (900,)\n"
     ]
    },
    {
     "name": "stderr",
     "output_type": "stream",
     "text": [
      "                                                                4.81it/s]\r"
     ]
    },
    {
     "data": {
      "application/vnd.jupyter.widget-view+json": {
       "model_id": "ccdd7e1afe5349ffac3fb6bc0b922d57",
       "version_major": 2,
       "version_minor": 0
      },
      "text/plain": [
       "Global Epoch:   0%|          | 0/300 [00:00<?, ?it/s]"
      ]
     },
     "metadata": {},
     "output_type": "display_data"
    },
    {
     "data": {
      "application/vnd.jupyter.widget-view+json": {
       "model_id": "6bcff95482e44204a7b417e2c6bb683a",
       "version_major": 2,
       "version_minor": 0
      },
      "text/plain": [
       "Fine Tuning Epoch: 0it [00:00, ?it/s]"
      ]
     },
     "metadata": {},
     "output_type": "display_data"
    },
    {
     "data": {
      "application/vnd.jupyter.widget-view+json": {
       "model_id": "3fdbebf3ed5b4b928b910b9354c0e717",
       "version_major": 2,
       "version_minor": 0
      },
      "text/plain": [
       "Clients:   0%|          | 0/4 [00:00<?, ?it/s]"
      ]
     },
     "metadata": {},
     "output_type": "display_data"
    },
    {
     "name": "stdout",
     "output_type": "stream",
     "text": [
      "(900, 8) (900,)\n"
     ]
    },
    {
     "name": "stderr",
     "output_type": "stream",
     "text": [
      "                                                                4.29it/s]\r"
     ]
    },
    {
     "name": "stdout",
     "output_type": "stream",
     "text": [
      "(900, 8) (900,)\n"
     ]
    },
    {
     "name": "stderr",
     "output_type": "stream",
     "text": [
      "                                                                5.46it/s]\r"
     ]
    },
    {
     "name": "stdout",
     "output_type": "stream",
     "text": [
      "(900, 8) (900,)\n"
     ]
    },
    {
     "name": "stderr",
     "output_type": "stream",
     "text": [
      "                                                                1.09it/s]\r"
     ]
    },
    {
     "data": {
      "application/vnd.jupyter.widget-view+json": {
       "model_id": "26ddee498d7c46829c5507b88acf2e70",
       "version_major": 2,
       "version_minor": 0
      },
      "text/plain": [
       "Global Epoch:   0%|          | 0/300 [00:00<?, ?it/s]"
      ]
     },
     "metadata": {},
     "output_type": "display_data"
    },
    {
     "data": {
      "application/vnd.jupyter.widget-view+json": {
       "model_id": "bbcca529053e47d8a6737dc4ddc330d4",
       "version_major": 2,
       "version_minor": 0
      },
      "text/plain": [
       "Fine Tuning Epoch: 0it [00:00, ?it/s]"
      ]
     },
     "metadata": {},
     "output_type": "display_data"
    },
    {
     "data": {
      "application/vnd.jupyter.widget-view+json": {
       "model_id": "4caaedcdef334edfbfa305b48045f712",
       "version_major": 2,
       "version_minor": 0
      },
      "text/plain": [
       "Clients:   0%|          | 0/4 [00:00<?, ?it/s]"
      ]
     },
     "metadata": {},
     "output_type": "display_data"
    },
    {
     "name": "stdout",
     "output_type": "stream",
     "text": [
      "(900, 8) (900,)\n"
     ]
    },
    {
     "name": "stderr",
     "output_type": "stream",
     "text": [
      "                                                                0.38it/s]\r"
     ]
    },
    {
     "name": "stdout",
     "output_type": "stream",
     "text": [
      "(900, 8) (900,)\n"
     ]
    },
    {
     "name": "stderr",
     "output_type": "stream",
     "text": [
      "                                                                8.92it/s]\r"
     ]
    },
    {
     "name": "stdout",
     "output_type": "stream",
     "text": [
      "(900, 8) (900,)\n"
     ]
    },
    {
     "name": "stderr",
     "output_type": "stream",
     "text": [
      "                                                                5.10it/s]\r"
     ]
    }
   ],
   "source": [
    "pipeline.run_pipeline(\n",
    "    scenario_builder, repeats = 5, verbose = 0\n",
    ")"
   ]
  },
  {
   "cell_type": "markdown",
   "metadata": {},
   "source": [
    "## Result Analysis"
   ]
  },
  {
   "cell_type": "code",
   "execution_count": 8,
   "metadata": {},
   "outputs": [],
   "source": [
    "import matplotlib.pyplot as plt\n",
    "\n",
    "plt.rc('font', family='arial')\n",
    "plt.rc('pdf', fonttype = 42)\n",
    "plt.rc('ps', fonttype = 42)"
   ]
  },
  {
   "cell_type": "code",
   "execution_count": 13,
   "metadata": {},
   "outputs": [],
   "source": [
    "pipeline.plot_pipeline_results(\n",
    "    metric_aspect = 'fed_pred_personalized',\n",
    "    plot_type = 'bar',\n",
    "    plot_params = {'font_size': 20, 'bar_width': 0.2},\n",
    "    save_path = \"./plots/benchmark_fedpred.png\",\n",
    "    legend = False,\n",
    "    dpi = 300\n",
    ")"
   ]
  },
  {
   "cell_type": "code",
   "execution_count": 14,
   "metadata": {},
   "outputs": [],
   "source": [
    "pipeline.plot_pipeline_results(\n",
    "    metric_aspect = 'local_pred',    \n",
    "    plot_type = 'bar',\n",
    "    plot_params = {'font_size': 20, 'bar_width': 0.2},\n",
    "    save_path = \"./plots/benchmark_localpred.png\",\n",
    "    legend = False\n",
    ")"
   ]
  },
  {
   "cell_type": "code",
   "execution_count": 15,
   "metadata": {},
   "outputs": [],
   "source": [
    "pipeline.plot_pipeline_results(\n",
    "    metric_aspect = 'imp_quality',    \n",
    "    plot_type = 'bar',\n",
    "    plot_params = {'font_size': 20, 'bar_width': 0.2},\n",
    "    save_path = \"./plots/benchmark_impquality.png\"  \n",
    ")"
   ]
  },
  {
   "cell_type": "code",
   "execution_count": 16,
   "metadata": {},
   "outputs": [],
   "source": [
    "pipeline.plot_pipeline_results(\n",
    "    metric_aspect = 'fed_pred_global',    \n",
    "    plot_type = 'bar',\n",
    "    plot_params = {'font_size': 20, 'bar_width': 0.2},\n",
    "    save_path = \"./plots/benchmark_fedpredglobal.png\",\n",
    "    legend = False\n",
    ")"
   ]
  },
  {
   "cell_type": "code",
   "execution_count": 17,
   "metadata": {},
   "outputs": [],
   "source": [
    "data = pipeline.show_pipeline_results(\n",
    "    format = 'dataframe',  \n",
    "    metric_aspect = 'imp_quality',\n",
    "    metric_name = 'rmse',\n",
    "    show_round_variation = False\n",
    ")"
   ]
  },
  {
   "cell_type": "code",
   "execution_count": 22,
   "metadata": {},
   "outputs": [],
   "source": [
    "data.to_excel(\"./plots/benchmark_impquality.xlsx\")"
   ]
  }
 ],
 "metadata": {
  "kernelspec": {
   "display_name": ".venv",
   "language": "python",
   "name": "python3"
  },
  "language_info": {
   "codemirror_mode": {
    "name": "ipython",
    "version": 3
   },
   "file_extension": ".py",
   "mimetype": "text/x-python",
   "name": "python",
   "nbconvert_exporter": "python",
   "pygments_lexer": "ipython3",
   "version": "3.10.0"
  }
 },
 "nbformat": 4,
 "nbformat_minor": 2
}
