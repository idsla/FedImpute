{
 "cells": [
  {
   "cell_type": "code",
   "execution_count": 1,
   "metadata": {},
   "outputs": [
    {
     "name": "stdout",
     "output_type": "stream",
     "text": [
      "d:\\min\\research_projects\\FedImpute\n"
     ]
    },
    {
     "name": "stderr",
     "output_type": "stream",
     "text": [
      "d:\\min\\research_projects\\FedImpute\\.venv\\Lib\\site-packages\\IPython\\core\\magics\\osm.py:417: UserWarning: This is now an optional IPython functionality, setting dhist requires you to install the `pickleshare` library.\n",
      "  self.shell.db['dhist'] = compress_dhist(dhist)[-100:]\n"
     ]
    }
   ],
   "source": [
    "cd .."
   ]
  },
  {
   "cell_type": "code",
   "execution_count": 2,
   "metadata": {},
   "outputs": [],
   "source": [
    "import numpy as np\n",
    "import pandas as pd\n",
    "import tabulate"
   ]
  },
  {
   "cell_type": "markdown",
   "metadata": {},
   "source": [
    "# Load Data and Scenario"
   ]
  },
  {
   "cell_type": "code",
   "execution_count": 3,
   "metadata": {},
   "outputs": [
    {
     "name": "stdout",
     "output_type": "stream",
     "text": [
      "+--------+--------+--------+--------+--------+--------+--------+--------+--------+\n",
      "|   X1   |   X2   |   X3   |   X4   |   X5   |   X6   |   X7   |   X8   |   y    |\n",
      "|--------+--------+--------+--------+--------+--------+--------+--------+--------|\n",
      "| 0.7554 | 0.1364 | 0.0352 | 0.4132 | 0.6937 | 0.1591 | 0.3329 | 0.7154 | 1.0000 |\n",
      "| 0.7334 | 0.7879 | 0.3819 | 0.3693 | 0.5619 | 0.4830 | 0.4351 | 0.5160 | 0.0000 |\n",
      "| 0.7752 | 0.1364 | 0.1761 | 0.3290 | 0.7410 | 0.4259 | 0.4644 | 0.5268 | 1.0000 |\n",
      "| 0.5905 | 0.7424 | 0.2720 | 0.2898 | 0.6920 | 0.3205 | 0.4019 | 0.6290 | 1.0000 |\n",
      "| 0.7366 | 0.1212 | 0.2465 | 0.3290 | 0.7410 | 0.3249 | 0.5086 | 0.5631 | 1.0000 |\n",
      "+--------+--------+--------+--------+--------+--------+--------+--------+--------+\n",
      "Data Dimensions:  (5000, 9)\n",
      "Data Config:\n",
      " {'target': 'y', 'task_type': 'classification', 'natural_partition': False}\n"
     ]
    }
   ],
   "source": [
    "%load_ext autoreload\n",
    "%autoreload 2\n",
    "\n",
    "from fedimpute.data_prep import load_data, display_data\n",
    "data, data_config = load_data(\"codrna\")\n",
    "display_data(data)\n",
    "print(\"Data Dimensions: \", data.shape)\n",
    "print(\"Data Config:\\n\", data_config)"
   ]
  },
  {
   "cell_type": "code",
   "execution_count": 4,
   "metadata": {},
   "outputs": [
    {
     "name": "stdout",
     "output_type": "stream",
     "text": [
      "The autoreload extension is already loaded. To reload it, use:\n",
      "  %reload_ext autoreload\n",
      "Missing data simulation...\n",
      "Results Structure (Dict Keys):\n",
      "['clients_train_data', 'clients_test_data', 'clients_train_data_ms', 'clients_seeds', 'global_test_data', 'data_config', 'stats']\n",
      "==================================================================\n",
      "Scenario Summary\n",
      "==================================================================\n",
      "Total clients: 4\n",
      "Global Test Data: (500, 9)\n",
      "Missing Mechanism Category: MNAR (Self Masking Logit)\n",
      "Clients Data Summary:\n",
      "     Train     Test      Miss     MS Ratio    MS Feature    Seed\n",
      "--  --------  -------  --------  ----------  ------------  ------\n",
      "C1  (1125,9)  (113,9)  (1125,8)     0.47         8/8        6077\n",
      "C2  (1125,9)  (113,9)  (1125,8)     0.51         8/8        577\n",
      "C3  (1125,9)  (113,9)  (1125,8)     0.46         8/8        7231\n",
      "C4  (1125,9)  (113,9)  (1125,8)     0.47         8/8        5504\n",
      "==================================================================\n",
      "\n"
     ]
    }
   ],
   "source": [
    "%load_ext autoreload\n",
    "%autoreload 2\n",
    "from fedimpute.scenario import Simulator\n",
    "\n",
    "simulator = Simulator()\n",
    "simulation_results = simulator.create_simulated_scenario_lite(\n",
    "    data, data_config, num_clients = 4, dp_strategy='iid-even', ms_scenario='mnar-heter'\n",
    ")\n",
    "print('Results Structure (Dict Keys):')\n",
    "print(list(simulation_results.keys()))\n",
    "simulator.summarize_scenario()"
   ]
  },
  {
   "cell_type": "markdown",
   "metadata": {},
   "source": [
    "# Benchmarking Pipeline"
   ]
  },
  {
   "cell_type": "code",
   "execution_count": 94,
   "metadata": {},
   "outputs": [
    {
     "name": "stdout",
     "output_type": "stream",
     "text": [
      "The autoreload extension is already loaded. To reload it, use:\n",
      "  %reload_ext autoreload\n",
      "==============================================================\n",
      "Experiment ID: test_pipeline\n",
      "==============================================================\n",
      "Description: test\n",
      "Persist Data: False\n",
      "Evaluation: ['imp_quality', 'local_pred', 'fed_pred']\n",
      "Seed: 100330201\n",
      "--------------------------------------------------------------\n",
      "    Imputer    Fed Strategy    Imp Params    Strategy Params\n",
      "--  ---------  --------------  ------------  -----------------\n",
      " 0  em         local           {}            {}\n",
      " 1  em         fedem           {}            {}\n",
      " 2  mice       local           {}            {}\n",
      " 3  mice       fedmice         {}            {}\n",
      " 4  gain       local           {}            {}\n",
      " 5  gain       fedavg          {}            {}\n",
      "==============================================================\n",
      "\n"
     ]
    }
   ],
   "source": [
    "%load_ext autoreload\n",
    "%autoreload 2\n",
    "from fedimpute.pipeline import FedImputePipeline\n",
    "\n",
    "pipeline = FedImputePipeline()\n",
    "pipeline.setup(\n",
    "    id = 'test_pipeline',\n",
    "    fed_imp_configs = [\n",
    "        ('em', ['local', 'fedem'], {}, [{}, {}]),\n",
    "        ('mice', ['local', 'fedmice'], {}, [{}, {}]),\n",
    "        ('gain', ['local', 'fedavg'], {}, [{}, {}]),\n",
    "    ],\n",
    "    persist_data = False,\n",
    "    description = 'test'\n",
    ")\n",
    "\n",
    "pipeline.pipeline_setup_summary()"
   ]
  },
  {
   "cell_type": "code",
   "execution_count": 95,
   "metadata": {},
   "outputs": [
    {
     "name": "stdout",
     "output_type": "stream",
     "text": [
      "----------------------------------------------------------------------------------------------------\n",
      "Running experiment: 1 / 6\n",
      "Imputer: em | Fed Strategy: local |Imp Params: {} | Strategy Params: {}\n",
      "\u001b[1mImputation Start ...\u001b[0m\n",
      "\u001b[1mInitial: rmse - 0.2602 ws - 0.1349\u001b[0m\n"
     ]
    },
    {
     "data": {
      "application/vnd.jupyter.widget-view+json": {
       "model_id": "f0284e18b72e4c4dbd7983206a3cd35f",
       "version_major": 2,
       "version_minor": 0
      },
      "text/plain": [
       "Clients:   0%|          | 0/4 [00:00<?, ?it/s]"
      ]
     },
     "metadata": {},
     "output_type": "display_data"
    },
    {
     "name": "stdout",
     "output_type": "stream",
     "text": [
      "EM converged after 3 iterations.\n",
      "EM converged after 2 iterations.\n",
      "EM converged after 3 iterations.\n",
      "EM converged after 4 iterations.\n",
      "\u001b[1mFinal: rmse - 0.2505 ws - 0.1289\u001b[0m\n",
      "\u001b[1mRunning time: 2.6570 seconds\u001b[0m\n"
     ]
    },
    {
     "data": {
      "application/vnd.jupyter.widget-view+json": {
       "model_id": "ce7a9ab8b2da4efb8c6b06392d2d3770",
       "version_major": 2,
       "version_minor": 0
      },
      "text/plain": [
       "Clients:   0%|          | 0/4 [00:00<?, ?it/s]"
      ]
     },
     "metadata": {},
     "output_type": "display_data"
    },
    {
     "name": "stdout",
     "output_type": "stream",
     "text": [
      "\u001b[1mEarly stopping at epoch 428\u001b[0m\n",
      "\u001b[1mEarly stopping at epoch 309\u001b[0m\n",
      "\u001b[1mEarly stopping at epoch 576\u001b[0m\n",
      "\u001b[1mEarly stopping at epoch 243\u001b[0m\n"
     ]
    },
    {
     "data": {
      "application/vnd.jupyter.widget-view+json": {
       "model_id": "6195e23890a74f7381d2d975207a0304",
       "version_major": 2,
       "version_minor": 0
      },
      "text/plain": [
       "Global Epoch:   0%|          | 0/100 [00:00<?, ?it/s]"
      ]
     },
     "metadata": {},
     "output_type": "display_data"
    },
    {
     "name": "stdout",
     "output_type": "stream",
     "text": [
      "\u001b[1mEpoch 0 - average loss: 0.6852318048477173\u001b[0m\n",
      "\u001b[1mEpoch 10 - average loss: 0.6026552538661396\u001b[0m\n",
      "\u001b[1mEpoch 20 - average loss: 0.5766739832127796\u001b[0m\n",
      "\u001b[1mEpoch 30 - average loss: 0.5591664016246796\u001b[0m\n",
      "\u001b[1mEpoch 40 - average loss: 0.5472374050056232\u001b[0m\n",
      "\u001b[1mEpoch 50 - average loss: 0.5470328948953572\u001b[0m\n",
      "\u001b[1mEarly stopping at epoch 58\u001b[0m\n",
      "\u001b[1mEpoch 60 - average loss: 0.5348919396306954\u001b[0m\n",
      "\u001b[1mEpoch 70 - average loss: 0.5332270299687104\u001b[0m\n",
      "\u001b[1mEarly stopping at epoch 71\u001b[0m\n",
      "\u001b[1mEarly stopping at epoch 72\u001b[0m\n",
      "\u001b[1mEpoch 80 - average loss: 0.5302949845790863\u001b[0m\n",
      "\u001b[1mEarly stopping at epoch 88\u001b[0m\n",
      "\u001b[1mEarly stopping at epoch 188\u001b[0m\n",
      "\u001b[1mEarly stopping at epoch 197\u001b[0m\n",
      "\u001b[1mEarly stopping at epoch 151\u001b[0m\n",
      "----------------------------------------------------------------------------------------------------\n",
      "Running experiment: 2 / 6\n",
      "Imputer: em | Fed Strategy: fedem |Imp Params: {} | Strategy Params: {}\n",
      "\u001b[1mImputation Start ...\u001b[0m\n",
      "\u001b[1mInitial: rmse - 0.1832 ws - 0.0911\u001b[0m\n"
     ]
    },
    {
     "data": {
      "application/vnd.jupyter.widget-view+json": {
       "model_id": "8781407bfa844447a4ca418e30d44f09",
       "version_major": 2,
       "version_minor": 0
      },
      "text/plain": [
       "Iterations:   0%|          | 0/100 [00:00<?, ?it/s]"
      ]
     },
     "metadata": {},
     "output_type": "display_data"
    },
    {
     "name": "stdout",
     "output_type": "stream",
     "text": [
      "\u001b[1mEpoch 0: rmse - 0.1561 ws - 0.0746\u001b[0m\n",
      "\u001b[1mEpoch 1: rmse - 0.1513 ws - 0.0695\u001b[0m\n",
      "\u001b[1mEpoch 2: rmse - 0.1490 ws - 0.0670\u001b[0m\n",
      "\u001b[1mEpoch 3: rmse - 0.1477 ws - 0.0656\u001b[0m\n",
      "\u001b[1mEpoch 4: rmse - 0.1470 ws - 0.0648\u001b[0m\n",
      "\u001b[1mEpoch 5: rmse - 0.1465 ws - 0.0642\u001b[0m\n",
      "\u001b[1mEpoch 6: rmse - 0.1462 ws - 0.0639\u001b[0m\n",
      "\u001b[1mEpoch 7: rmse - 0.1462 ws - 0.0638\u001b[0m\n",
      "\u001b[1mAll clients converged, iteration 8\u001b[0m\n",
      "\u001b[1mFinal: rmse - 0.1462 ws - 0.0638\u001b[0m\n",
      "\u001b[1mRunning time: 10.0379 seconds\u001b[0m\n"
     ]
    },
    {
     "data": {
      "application/vnd.jupyter.widget-view+json": {
       "model_id": "0b294cc9d4ca49c0ab17d8d9a12ba680",
       "version_major": 2,
       "version_minor": 0
      },
      "text/plain": [
       "Clients:   0%|          | 0/4 [00:00<?, ?it/s]"
      ]
     },
     "metadata": {},
     "output_type": "display_data"
    },
    {
     "name": "stdout",
     "output_type": "stream",
     "text": [
      "\u001b[1mEarly stopping at epoch 596\u001b[0m\n",
      "\u001b[1mEarly stopping at epoch 540\u001b[0m\n",
      "\u001b[1mEarly stopping at epoch 635\u001b[0m\n",
      "\u001b[1mEarly stopping at epoch 342\u001b[0m\n"
     ]
    },
    {
     "data": {
      "application/vnd.jupyter.widget-view+json": {
       "model_id": "ac184e0b31d04ba481edafe92faef9b5",
       "version_major": 2,
       "version_minor": 0
      },
      "text/plain": [
       "Global Epoch:   0%|          | 0/100 [00:00<?, ?it/s]"
      ]
     },
     "metadata": {},
     "output_type": "display_data"
    },
    {
     "name": "stdout",
     "output_type": "stream",
     "text": [
      "\u001b[1mEpoch 0 - average loss: 0.6680521088487962\u001b[0m\n",
      "\u001b[1mEpoch 10 - average loss: 0.5459251565968289\u001b[0m\n",
      "\u001b[1mEpoch 20 - average loss: 0.49220619745114275\u001b[0m\n",
      "\u001b[1mEpoch 30 - average loss: 0.4334482230684336\u001b[0m\n",
      "\u001b[1mEpoch 40 - average loss: 0.4074271807775778\u001b[0m\n",
      "\u001b[1mEpoch 50 - average loss: 0.40386741827515993\u001b[0m\n",
      "\u001b[1mEarly stopping at epoch 56\u001b[0m\n",
      "\u001b[1mEpoch 60 - average loss: 0.39442776698692167\u001b[0m\n",
      "\u001b[1mEarly stopping at epoch 61\u001b[0m\n",
      "\u001b[1mEarly stopping at epoch 61\u001b[0m\n",
      "\u001b[1mEpoch 70 - average loss: 0.3848865417873158\u001b[0m\n",
      "\u001b[1mEarly stopping at epoch 73\u001b[0m\n",
      "\u001b[1mEarly stopping at epoch 137\u001b[0m\n",
      "\u001b[1mEarly stopping at epoch 77\u001b[0m\n",
      "\u001b[1mEarly stopping at epoch 52\u001b[0m\n",
      "----------------------------------------------------------------------------------------------------\n",
      "Running experiment: 3 / 6\n",
      "Imputer: mice | Fed Strategy: local |Imp Params: {} | Strategy Params: {}\n",
      "\u001b[1mImputation Start ...\u001b[0m\n",
      "\u001b[1mInitial: rmse - 0.2602 ws - 0.1349\u001b[0m\n"
     ]
    },
    {
     "data": {
      "application/vnd.jupyter.widget-view+json": {
       "model_id": "a4dac53a474b4d46bda75eccc7a592ea",
       "version_major": 2,
       "version_minor": 0
      },
      "text/plain": [
       "ICE Iterations:   0%|          | 0/20 [00:00<?, ?it/s]"
      ]
     },
     "metadata": {},
     "output_type": "display_data"
    },
    {
     "data": {
      "application/vnd.jupyter.widget-view+json": {
       "model_id": "9b4d2d34d9ea4693b1e944f427747c24",
       "version_major": 2,
       "version_minor": 0
      },
      "text/plain": [
       "Feature_idx:   0%|          | 0/8 [00:00<?, ?it/s]"
      ]
     },
     "metadata": {},
     "output_type": "display_data"
    },
    {
     "name": "stdout",
     "output_type": "stream",
     "text": [
      "\u001b[1mEpoch 0: rmse - 0.2499 ws - 0.1279\u001b[0m\n"
     ]
    },
    {
     "data": {
      "application/vnd.jupyter.widget-view+json": {
       "model_id": "83a31d2f5f054910a677c649f2955cca",
       "version_major": 2,
       "version_minor": 0
      },
      "text/plain": [
       "Feature_idx:   0%|          | 0/8 [00:00<?, ?it/s]"
      ]
     },
     "metadata": {},
     "output_type": "display_data"
    },
    {
     "name": "stdout",
     "output_type": "stream",
     "text": [
      "\u001b[1mEpoch 1: rmse - 0.2433 ws - 0.1230\u001b[0m\n"
     ]
    },
    {
     "data": {
      "application/vnd.jupyter.widget-view+json": {
       "model_id": "247d1d50d1444c3ea2b306e8694f3ce4",
       "version_major": 2,
       "version_minor": 0
      },
      "text/plain": [
       "Feature_idx:   0%|          | 0/8 [00:00<?, ?it/s]"
      ]
     },
     "metadata": {},
     "output_type": "display_data"
    },
    {
     "name": "stdout",
     "output_type": "stream",
     "text": [
      "\u001b[1mEpoch 2: rmse - 0.2388 ws - 0.1194\u001b[0m\n"
     ]
    },
    {
     "data": {
      "application/vnd.jupyter.widget-view+json": {
       "model_id": "38ee3c4c31204e599b94c8e8e74b954f",
       "version_major": 2,
       "version_minor": 0
      },
      "text/plain": [
       "Feature_idx:   0%|          | 0/8 [00:00<?, ?it/s]"
      ]
     },
     "metadata": {},
     "output_type": "display_data"
    },
    {
     "name": "stdout",
     "output_type": "stream",
     "text": [
      "\u001b[1mEpoch 3: rmse - 0.2381 ws - 0.1184\u001b[0m\n"
     ]
    },
    {
     "data": {
      "application/vnd.jupyter.widget-view+json": {
       "model_id": "41767e2bc771443084db1de5142f3b6f",
       "version_major": 2,
       "version_minor": 0
      },
      "text/plain": [
       "Feature_idx:   0%|          | 0/8 [00:00<?, ?it/s]"
      ]
     },
     "metadata": {},
     "output_type": "display_data"
    },
    {
     "name": "stdout",
     "output_type": "stream",
     "text": [
      "\u001b[1mEpoch 4: rmse - 0.2373 ws - 0.1176\u001b[0m\n"
     ]
    },
    {
     "data": {
      "application/vnd.jupyter.widget-view+json": {
       "model_id": "d0cd58cfb11141beae41c3d7062f6c7c",
       "version_major": 2,
       "version_minor": 0
      },
      "text/plain": [
       "Feature_idx:   0%|          | 0/8 [00:00<?, ?it/s]"
      ]
     },
     "metadata": {},
     "output_type": "display_data"
    },
    {
     "name": "stdout",
     "output_type": "stream",
     "text": [
      "\u001b[1mEpoch 5: rmse - 0.2368 ws - 0.1170\u001b[0m\n"
     ]
    },
    {
     "data": {
      "application/vnd.jupyter.widget-view+json": {
       "model_id": "30c137766de6459ab880229aecd6a187",
       "version_major": 2,
       "version_minor": 0
      },
      "text/plain": [
       "Feature_idx:   0%|          | 0/8 [00:00<?, ?it/s]"
      ]
     },
     "metadata": {},
     "output_type": "display_data"
    },
    {
     "name": "stdout",
     "output_type": "stream",
     "text": [
      "\u001b[1mEpoch 6: rmse - 0.2363 ws - 0.1165\u001b[0m\n"
     ]
    },
    {
     "data": {
      "application/vnd.jupyter.widget-view+json": {
       "model_id": "57f8f57a570a42d59e9bb515b978416b",
       "version_major": 2,
       "version_minor": 0
      },
      "text/plain": [
       "Feature_idx:   0%|          | 0/8 [00:00<?, ?it/s]"
      ]
     },
     "metadata": {},
     "output_type": "display_data"
    },
    {
     "name": "stdout",
     "output_type": "stream",
     "text": [
      "\u001b[1mEpoch 7: rmse - 0.2359 ws - 0.1161\u001b[0m\n"
     ]
    },
    {
     "data": {
      "application/vnd.jupyter.widget-view+json": {
       "model_id": "ba172a124ff9485eb7c775793cf0bc62",
       "version_major": 2,
       "version_minor": 0
      },
      "text/plain": [
       "Feature_idx:   0%|          | 0/8 [00:00<?, ?it/s]"
      ]
     },
     "metadata": {},
     "output_type": "display_data"
    },
    {
     "name": "stdout",
     "output_type": "stream",
     "text": [
      "\u001b[1mEpoch 8: rmse - 0.2357 ws - 0.1160\u001b[0m\n"
     ]
    },
    {
     "data": {
      "application/vnd.jupyter.widget-view+json": {
       "model_id": "880978b713c446faad01cf133d9d4802",
       "version_major": 2,
       "version_minor": 0
      },
      "text/plain": [
       "Feature_idx:   0%|          | 0/8 [00:00<?, ?it/s]"
      ]
     },
     "metadata": {},
     "output_type": "display_data"
    },
    {
     "name": "stdout",
     "output_type": "stream",
     "text": [
      "\u001b[1mEpoch 9: rmse - 0.2356 ws - 0.1159\u001b[0m\n",
      "\u001b[1mAll clients converged, iteration 9\u001b[0m\n",
      "\u001b[1mFinal: rmse - 0.2356 ws - 0.1159\u001b[0m\n",
      "\u001b[1mRunning time: 6.4386 seconds\u001b[0m\n"
     ]
    },
    {
     "data": {
      "application/vnd.jupyter.widget-view+json": {
       "model_id": "afba70aea6654927ab0de653f2aabd05",
       "version_major": 2,
       "version_minor": 0
      },
      "text/plain": [
       "Clients:   0%|          | 0/4 [00:00<?, ?it/s]"
      ]
     },
     "metadata": {},
     "output_type": "display_data"
    },
    {
     "name": "stdout",
     "output_type": "stream",
     "text": [
      "\u001b[1mEarly stopping at epoch 494\u001b[0m\n",
      "\u001b[1mEarly stopping at epoch 243\u001b[0m\n",
      "\u001b[1mEarly stopping at epoch 518\u001b[0m\n",
      "\u001b[1mEarly stopping at epoch 162\u001b[0m\n"
     ]
    },
    {
     "data": {
      "application/vnd.jupyter.widget-view+json": {
       "model_id": "1e50410d3f8a42b0b4f8b055ddc23bd4",
       "version_major": 2,
       "version_minor": 0
      },
      "text/plain": [
       "Global Epoch:   0%|          | 0/100 [00:00<?, ?it/s]"
      ]
     },
     "metadata": {},
     "output_type": "display_data"
    },
    {
     "name": "stdout",
     "output_type": "stream",
     "text": [
      "\u001b[1mEpoch 0 - average loss: 0.6858881212332669\u001b[0m\n",
      "\u001b[1mEpoch 10 - average loss: 0.5965307898381177\u001b[0m\n",
      "\u001b[1mEpoch 20 - average loss: 0.5716207185212303\u001b[0m\n",
      "\u001b[1mEpoch 30 - average loss: 0.558542685911936\u001b[0m\n",
      "\u001b[1mEpoch 40 - average loss: 0.5497896000742912\u001b[0m\n",
      "\u001b[1mEpoch 50 - average loss: 0.5480287592200672\u001b[0m\n",
      "\u001b[1mEarly stopping at epoch 58\u001b[0m\n",
      "\u001b[1mEpoch 60 - average loss: 0.5366446118728788\u001b[0m\n",
      "\u001b[1mEpoch 70 - average loss: 0.5367836806119657\u001b[0m\n",
      "\u001b[1mEarly stopping at epoch 72\u001b[0m\n",
      "\u001b[1mEpoch 80 - average loss: 0.529742247041534\u001b[0m\n",
      "\u001b[1mEarly stopping at epoch 89\u001b[0m\n",
      "\u001b[1mEpoch 90 - average loss: 0.5179214705439175\u001b[0m\n",
      "\u001b[1mEarly stopping at epoch 90\u001b[0m\n",
      "\u001b[1mEarly stopping at epoch 127\u001b[0m\n",
      "----------------------------------------------------------------------------------------------------\n",
      "Running experiment: 4 / 6\n",
      "Imputer: mice | Fed Strategy: fedmice |Imp Params: {} | Strategy Params: {}\n",
      "\u001b[1mImputation Start ...\u001b[0m\n",
      "\u001b[1mInitial: rmse - 0.1832 ws - 0.0911\u001b[0m\n"
     ]
    },
    {
     "data": {
      "application/vnd.jupyter.widget-view+json": {
       "model_id": "c35cdec66c864a47afa2415f9f3d1f8d",
       "version_major": 2,
       "version_minor": 0
      },
      "text/plain": [
       "ICE Iterations:   0%|          | 0/20 [00:00<?, ?it/s]"
      ]
     },
     "metadata": {},
     "output_type": "display_data"
    },
    {
     "data": {
      "application/vnd.jupyter.widget-view+json": {
       "model_id": "06a977bd218c43db919c95389a3c66e0",
       "version_major": 2,
       "version_minor": 0
      },
      "text/plain": [
       "Feature_idx:   0%|          | 0/8 [00:00<?, ?it/s]"
      ]
     },
     "metadata": {},
     "output_type": "display_data"
    },
    {
     "name": "stdout",
     "output_type": "stream",
     "text": [
      "\u001b[1mEpoch 0: rmse - 0.1520 ws - 0.0699\u001b[0m\n"
     ]
    },
    {
     "data": {
      "application/vnd.jupyter.widget-view+json": {
       "model_id": "8642585ddc6343ecb51d242978d31134",
       "version_major": 2,
       "version_minor": 0
      },
      "text/plain": [
       "Feature_idx:   0%|          | 0/8 [00:00<?, ?it/s]"
      ]
     },
     "metadata": {},
     "output_type": "display_data"
    },
    {
     "name": "stdout",
     "output_type": "stream",
     "text": [
      "\u001b[1mEpoch 1: rmse - 0.1502 ws - 0.0679\u001b[0m\n"
     ]
    },
    {
     "data": {
      "application/vnd.jupyter.widget-view+json": {
       "model_id": "a90a89d1f8ec4628b9e74d3f44182573",
       "version_major": 2,
       "version_minor": 0
      },
      "text/plain": [
       "Feature_idx:   0%|          | 0/8 [00:00<?, ?it/s]"
      ]
     },
     "metadata": {},
     "output_type": "display_data"
    },
    {
     "name": "stdout",
     "output_type": "stream",
     "text": [
      "\u001b[1mEpoch 2: rmse - 0.1500 ws - 0.0675\u001b[0m\n"
     ]
    },
    {
     "data": {
      "application/vnd.jupyter.widget-view+json": {
       "model_id": "5a2d8a28794f4b6b838dfc4514f86f0d",
       "version_major": 2,
       "version_minor": 0
      },
      "text/plain": [
       "Feature_idx:   0%|          | 0/8 [00:00<?, ?it/s]"
      ]
     },
     "metadata": {},
     "output_type": "display_data"
    },
    {
     "name": "stdout",
     "output_type": "stream",
     "text": [
      "\u001b[1mEpoch 3: rmse - 0.1500 ws - 0.0674\u001b[0m\n"
     ]
    },
    {
     "data": {
      "application/vnd.jupyter.widget-view+json": {
       "model_id": "6602222154ed42e8a162cf0770784036",
       "version_major": 2,
       "version_minor": 0
      },
      "text/plain": [
       "Feature_idx:   0%|          | 0/8 [00:00<?, ?it/s]"
      ]
     },
     "metadata": {},
     "output_type": "display_data"
    },
    {
     "name": "stdout",
     "output_type": "stream",
     "text": [
      "\u001b[1mEpoch 4: rmse - 0.1502 ws - 0.0674\u001b[0m\n"
     ]
    },
    {
     "data": {
      "application/vnd.jupyter.widget-view+json": {
       "model_id": "1d988a911ddc4f1cb3049e1d33bd6351",
       "version_major": 2,
       "version_minor": 0
      },
      "text/plain": [
       "Feature_idx:   0%|          | 0/8 [00:00<?, ?it/s]"
      ]
     },
     "metadata": {},
     "output_type": "display_data"
    },
    {
     "name": "stdout",
     "output_type": "stream",
     "text": [
      "\u001b[1mEpoch 5: rmse - 0.1502 ws - 0.0675\u001b[0m\n"
     ]
    },
    {
     "data": {
      "application/vnd.jupyter.widget-view+json": {
       "model_id": "228d79a0ad214ec8a4275ffbeef151c9",
       "version_major": 2,
       "version_minor": 0
      },
      "text/plain": [
       "Feature_idx:   0%|          | 0/8 [00:00<?, ?it/s]"
      ]
     },
     "metadata": {},
     "output_type": "display_data"
    },
    {
     "name": "stdout",
     "output_type": "stream",
     "text": [
      "\u001b[1mEpoch 6: rmse - 0.1502 ws - 0.0674\u001b[0m\n"
     ]
    },
    {
     "data": {
      "application/vnd.jupyter.widget-view+json": {
       "model_id": "72f91971ed9b453f97fd1a218e59b8b4",
       "version_major": 2,
       "version_minor": 0
      },
      "text/plain": [
       "Feature_idx:   0%|          | 0/8 [00:00<?, ?it/s]"
      ]
     },
     "metadata": {},
     "output_type": "display_data"
    },
    {
     "name": "stdout",
     "output_type": "stream",
     "text": [
      "\u001b[1mEpoch 7: rmse - 0.1511 ws - 0.0677\u001b[0m\n",
      "\u001b[1mAll clients converged, iteration 7\u001b[0m\n",
      "\u001b[1mFinal: rmse - 0.1511 ws - 0.0677\u001b[0m\n",
      "\u001b[1mRunning time: 5.3013 seconds\u001b[0m\n"
     ]
    },
    {
     "data": {
      "application/vnd.jupyter.widget-view+json": {
       "model_id": "e2c8dddbc40b40b382ae45277aada69b",
       "version_major": 2,
       "version_minor": 0
      },
      "text/plain": [
       "Clients:   0%|          | 0/4 [00:00<?, ?it/s]"
      ]
     },
     "metadata": {},
     "output_type": "display_data"
    },
    {
     "name": "stdout",
     "output_type": "stream",
     "text": [
      "\u001b[1mEarly stopping at epoch 651\u001b[0m\n",
      "\u001b[1mEarly stopping at epoch 425\u001b[0m\n",
      "\u001b[1mEarly stopping at epoch 509\u001b[0m\n",
      "\u001b[1mEarly stopping at epoch 378\u001b[0m\n"
     ]
    },
    {
     "data": {
      "application/vnd.jupyter.widget-view+json": {
       "model_id": "b4d4ae7b36674e42944a183a398b80a2",
       "version_major": 2,
       "version_minor": 0
      },
      "text/plain": [
       "Global Epoch:   0%|          | 0/100 [00:00<?, ?it/s]"
      ]
     },
     "metadata": {},
     "output_type": "display_data"
    },
    {
     "name": "stdout",
     "output_type": "stream",
     "text": [
      "\u001b[1mEpoch 0 - average loss: 0.6697010529391907\u001b[0m\n",
      "\u001b[1mEpoch 10 - average loss: 0.5561447463491384\u001b[0m\n",
      "\u001b[1mEpoch 20 - average loss: 0.4944189243456897\u001b[0m\n",
      "\u001b[1mEpoch 30 - average loss: 0.4401443280717906\u001b[0m\n",
      "\u001b[1mEpoch 40 - average loss: 0.41360662526944103\u001b[0m\n",
      "\u001b[1mEpoch 50 - average loss: 0.4085833233068971\u001b[0m\n",
      "\u001b[1mEarly stopping at epoch 56\u001b[0m\n",
      "\u001b[1mEpoch 60 - average loss: 0.3923953058672886\u001b[0m\n",
      "\u001b[1mEarly stopping at epoch 61\u001b[0m\n",
      "\u001b[1mEpoch 70 - average loss: 0.3683767879710478\u001b[0m\n",
      "\u001b[1mEarly stopping at epoch 72\u001b[0m\n",
      "\u001b[1mEarly stopping at epoch 78\u001b[0m\n",
      "\u001b[1mEarly stopping at epoch 134\u001b[0m\n",
      "\u001b[1mEarly stopping at epoch 116\u001b[0m\n",
      "\u001b[1mEarly stopping at epoch 68\u001b[0m\n",
      "----------------------------------------------------------------------------------------------------\n",
      "Running experiment: 5 / 6\n",
      "Imputer: gain | Fed Strategy: local |Imp Params: {} | Strategy Params: {}\n",
      "\u001b[1mImputation Start ...\u001b[0m\n",
      "\u001b[1mInitial: rmse - 0.5227 ws - 0.2964\u001b[0m\n"
     ]
    },
    {
     "data": {
      "application/vnd.jupyter.widget-view+json": {
       "model_id": "6c1148de72824c5587ab1ef9f551ccad",
       "version_major": 2,
       "version_minor": 0
      },
      "text/plain": [
       "Global Epoch:   0%|          | 0/300 [00:00<?, ?it/s]"
      ]
     },
     "metadata": {},
     "output_type": "display_data"
    },
    {
     "name": "stdout",
     "output_type": "stream",
     "text": [
      "\u001b[1m\n",
      "Loss: 0.9227 (0.030994)\u001b[0m\n",
      "\u001b[1m\n",
      "Loss: 0.7765 (0.024621)\u001b[0m\n",
      "\u001b[1m\n",
      "Loss: 0.7120 (0.036262)\u001b[0m\n",
      "\u001b[1m\n",
      "Loss: 0.6754 (0.041985)\u001b[0m\n",
      "\u001b[1m\n",
      "Loss: 0.6509 (0.043503)\u001b[0m\n",
      "\u001b[1m\n",
      "Loss: 0.6347 (0.043024)\u001b[0m\n",
      "\u001b[1m\n",
      "Loss: 0.6233 (0.041136)\u001b[0m\n",
      "\u001b[1m\n",
      "Loss: 0.6156 (0.040225)\u001b[0m\n",
      "\u001b[1m\n",
      "Loss: 0.6076 (0.039028)\u001b[0m\n",
      "\u001b[1m\n",
      "Loss: 0.6043 (0.037397)\u001b[0m\n",
      "\u001b[1m\n",
      "Loss: 0.6023 (0.037439)\u001b[0m\n",
      "\u001b[1m\n",
      "Loss: 0.6000 (0.037890)\u001b[0m\n",
      "\u001b[1mAll clients have converged. Stopping training at 114.\u001b[0m\n",
      "\u001b[1mstart fine tuning ...\u001b[0m\n"
     ]
    },
    {
     "data": {
      "application/vnd.jupyter.widget-view+json": {
       "model_id": "050337b82d5d499e88efebd9b831a6de",
       "version_major": 2,
       "version_minor": 0
      },
      "text/plain": [
       "Fine Tuning Epoch: 0it [00:00, ?it/s]"
      ]
     },
     "metadata": {},
     "output_type": "display_data"
    },
    {
     "name": "stdout",
     "output_type": "stream",
     "text": [
      "\u001b[1mFinal: rmse - 0.2599 ws - 0.1208\u001b[0m\n",
      "\u001b[1mRunning time: 99.3960 seconds\u001b[0m\n"
     ]
    },
    {
     "data": {
      "application/vnd.jupyter.widget-view+json": {
       "model_id": "d9b2f16042b54152afca547871616419",
       "version_major": 2,
       "version_minor": 0
      },
      "text/plain": [
       "Clients:   0%|          | 0/4 [00:00<?, ?it/s]"
      ]
     },
     "metadata": {},
     "output_type": "display_data"
    },
    {
     "name": "stdout",
     "output_type": "stream",
     "text": [
      "\u001b[1mEarly stopping at epoch 680\u001b[0m\n",
      "\u001b[1mEarly stopping at epoch 365\u001b[0m\n",
      "\u001b[1mEarly stopping at epoch 377\u001b[0m\n",
      "\u001b[1mEarly stopping at epoch 638\u001b[0m\n"
     ]
    },
    {
     "data": {
      "application/vnd.jupyter.widget-view+json": {
       "model_id": "f9e3d387477641b48de960df954c87e2",
       "version_major": 2,
       "version_minor": 0
      },
      "text/plain": [
       "Global Epoch:   0%|          | 0/100 [00:00<?, ?it/s]"
      ]
     },
     "metadata": {},
     "output_type": "display_data"
    },
    {
     "name": "stdout",
     "output_type": "stream",
     "text": [
      "\u001b[1mEpoch 0 - average loss: 0.6730961957398583\u001b[0m\n",
      "\u001b[1mEpoch 10 - average loss: 0.5978400663417929\u001b[0m\n",
      "\u001b[1mEpoch 20 - average loss: 0.5800157938809956\u001b[0m\n",
      "\u001b[1mEpoch 30 - average loss: 0.5666844884262365\u001b[0m\n",
      "\u001b[1mEpoch 40 - average loss: 0.5555288638262188\u001b[0m\n",
      "\u001b[1mEpoch 50 - average loss: 0.5373793121646433\u001b[0m\n",
      "\u001b[1mEpoch 60 - average loss: 0.5218750028049244\u001b[0m\n",
      "\u001b[1mEpoch 70 - average loss: 0.50243169200771\u001b[0m\n",
      "\u001b[1mEpoch 80 - average loss: 0.487292159567861\u001b[0m\n",
      "\u001b[1mEpoch 90 - average loss: 0.4765385183341363\u001b[0m\n",
      "\u001b[1mEarly stopping at epoch 80\u001b[0m\n",
      "\u001b[1mEarly stopping at epoch 187\u001b[0m\n",
      "\u001b[1mEarly stopping at epoch 148\u001b[0m\n",
      "----------------------------------------------------------------------------------------------------\n",
      "Running experiment: 6 / 6\n",
      "Imputer: gain | Fed Strategy: fedavg |Imp Params: {} | Strategy Params: {}\n",
      "\u001b[1mImputation Start ...\u001b[0m\n",
      "\u001b[1mInitial: rmse - 0.5227 ws - 0.2964\u001b[0m\n"
     ]
    },
    {
     "data": {
      "application/vnd.jupyter.widget-view+json": {
       "model_id": "e1d3d29b46e14ff19b32025639b35f53",
       "version_major": 2,
       "version_minor": 0
      },
      "text/plain": [
       "Global Epoch:   0%|          | 0/300 [00:00<?, ?it/s]"
      ]
     },
     "metadata": {},
     "output_type": "display_data"
    },
    {
     "name": "stdout",
     "output_type": "stream",
     "text": [
      "\u001b[1m\n",
      "Loss: 0.9227 (0.030994)\u001b[0m\n",
      "\u001b[1m\n",
      "Loss: 0.7917 (0.072330)\u001b[0m\n",
      "\u001b[1m\n",
      "Loss: 0.7753 (0.067716)\u001b[0m\n",
      "\u001b[1m\n",
      "Loss: 0.7615 (0.063676)\u001b[0m\n",
      "\u001b[1m\n",
      "Loss: 0.7482 (0.060218)\u001b[0m\n",
      "\u001b[1m\n",
      "Loss: 0.7412 (0.056916)\u001b[0m\n",
      "\u001b[1m\n",
      "Loss: 0.7409 (0.056230)\u001b[0m\n",
      "\u001b[1m\n",
      "Loss: 0.7415 (0.056552)\u001b[0m\n",
      "\u001b[1mAll clients have converged. Stopping training at 74.\u001b[0m\n",
      "\u001b[1mstart fine tuning ...\u001b[0m\n"
     ]
    },
    {
     "data": {
      "application/vnd.jupyter.widget-view+json": {
       "model_id": "1ee2c5ba73524881825d114960e37b7e",
       "version_major": 2,
       "version_minor": 0
      },
      "text/plain": [
       "Fine Tuning Epoch: 0it [00:00, ?it/s]"
      ]
     },
     "metadata": {},
     "output_type": "display_data"
    },
    {
     "name": "stdout",
     "output_type": "stream",
     "text": [
      "\u001b[1mFinal: rmse - 0.2408 ws - 0.1066\u001b[0m\n",
      "\u001b[1mRunning time: 71.4822 seconds\u001b[0m\n"
     ]
    },
    {
     "data": {
      "application/vnd.jupyter.widget-view+json": {
       "model_id": "70e15d9df965432789dddc11d422143e",
       "version_major": 2,
       "version_minor": 0
      },
      "text/plain": [
       "Clients:   0%|          | 0/4 [00:00<?, ?it/s]"
      ]
     },
     "metadata": {},
     "output_type": "display_data"
    },
    {
     "name": "stdout",
     "output_type": "stream",
     "text": [
      "\u001b[1mEarly stopping at epoch 523\u001b[0m\n",
      "\u001b[1mEarly stopping at epoch 763\u001b[0m\n",
      "\u001b[1mEarly stopping at epoch 332\u001b[0m\n",
      "\u001b[1mEarly stopping at epoch 463\u001b[0m\n"
     ]
    },
    {
     "data": {
      "application/vnd.jupyter.widget-view+json": {
       "model_id": "8c4422a51b7d4ac3aaacea9e210cf6b4",
       "version_major": 2,
       "version_minor": 0
      },
      "text/plain": [
       "Global Epoch:   0%|          | 0/100 [00:00<?, ?it/s]"
      ]
     },
     "metadata": {},
     "output_type": "display_data"
    },
    {
     "name": "stdout",
     "output_type": "stream",
     "text": [
      "\u001b[1mEpoch 0 - average loss: 0.6607095686828389\u001b[0m\n",
      "\u001b[1mEpoch 10 - average loss: 0.5904788664158652\u001b[0m\n",
      "\u001b[1mEarly stopping at epoch 15\u001b[0m\n",
      "\u001b[1mEpoch 20 - average loss: 0.5443049821199156\u001b[0m\n",
      "\u001b[1mEpoch 30 - average loss: 0.5404780197377299\u001b[0m\n",
      "\u001b[1mEarly stopping at epoch 39\u001b[0m\n",
      "\u001b[1mEpoch 40 - average loss: 0.507057719370898\u001b[0m\n",
      "\u001b[1mEpoch 50 - average loss: 0.5046060856650857\u001b[0m\n",
      "\u001b[1mEarly stopping at epoch 57\u001b[0m\n",
      "\u001b[1mEarly stopping at epoch 59\u001b[0m\n"
     ]
    }
   ],
   "source": [
    "pipeline.run_pipeline(\n",
    "    simulator, repeats = 1, verbose = 1\n",
    ")"
   ]
  },
  {
   "cell_type": "markdown",
   "metadata": {},
   "source": [
    "## Result Analysis"
   ]
  },
  {
   "cell_type": "code",
   "execution_count": 167,
   "metadata": {},
   "outputs": [
    {
     "data": {
      "image/png": "[encoded data removed]",
      "text/plain": [
       "<Figure size 1800x400 with 4 Axes>"
      ]
     },
     "metadata": {},
     "output_type": "display_data"
    }
   ],
   "source": [
    "pipeline.plot_pipeline_results(\n",
    "    metric_aspect = 'fed_pred_personalized',\n",
    "    plot_type = 'bar',\n",
    ")"
   ]
  },
  {
   "cell_type": "code",
   "execution_count": 193,
   "metadata": {},
   "outputs": [
    {
     "data": {
      "text/html": [
       "<style type=\"text/css\">\n",
       "#T_98914 th {\n",
       "  text-align: center;\n",
       "}\n",
       "</style>\n",
       "<table id=\"T_98914\">\n",
       "  <thead>\n",
       "    <tr>\n",
       "      <th class=\"blank level0\" >&nbsp;</th>\n",
       "      <th id=\"T_98914_level0_col0\" class=\"col_heading level0 col0\" colspan=\"2\">em</th>\n",
       "      <th id=\"T_98914_level0_col2\" class=\"col_heading level0 col2\" colspan=\"2\">gain</th>\n",
       "      <th id=\"T_98914_level0_col4\" class=\"col_heading level0 col4\" colspan=\"2\">mice</th>\n",
       "    </tr>\n",
       "    <tr>\n",
       "      <th class=\"blank level1\" >&nbsp;</th>\n",
       "      <th id=\"T_98914_level1_col0\" class=\"col_heading level1 col0\" >fedem</th>\n",
       "      <th id=\"T_98914_level1_col1\" class=\"col_heading level1 col1\" >local</th>\n",
       "      <th id=\"T_98914_level1_col2\" class=\"col_heading level1 col2\" >fedavg</th>\n",
       "      <th id=\"T_98914_level1_col3\" class=\"col_heading level1 col3\" >local</th>\n",
       "      <th id=\"T_98914_level1_col4\" class=\"col_heading level1 col4\" >fedmice</th>\n",
       "      <th id=\"T_98914_level1_col5\" class=\"col_heading level1 col5\" >local</th>\n",
       "    </tr>\n",
       "  </thead>\n",
       "  <tbody>\n",
       "    <tr>\n",
       "      <th id=\"T_98914_level0_row0\" class=\"row_heading level0 row0\" >Client 0</th>\n",
       "      <td id=\"T_98914_row0_col0\" class=\"data row0 col0\" >0.161 (0.00)</td>\n",
       "      <td id=\"T_98914_row0_col1\" class=\"data row0 col1\" >0.257 (0.00)</td>\n",
       "      <td id=\"T_98914_row0_col2\" class=\"data row0 col2\" >0.227 (0.00)</td>\n",
       "      <td id=\"T_98914_row0_col3\" class=\"data row0 col3\" >0.253 (0.00)</td>\n",
       "      <td id=\"T_98914_row0_col4\" class=\"data row0 col4\" >0.172 (0.00)</td>\n",
       "      <td id=\"T_98914_row0_col5\" class=\"data row0 col5\" >0.255 (0.00)</td>\n",
       "    </tr>\n",
       "    <tr>\n",
       "      <th id=\"T_98914_level0_row1\" class=\"row_heading level0 row1\" >Client 1</th>\n",
       "      <td id=\"T_98914_row1_col0\" class=\"data row1 col0\" >0.162 (0.00)</td>\n",
       "      <td id=\"T_98914_row1_col1\" class=\"data row1 col1\" >0.269 (0.00)</td>\n",
       "      <td id=\"T_98914_row1_col2\" class=\"data row1 col2\" >0.210 (0.00)</td>\n",
       "      <td id=\"T_98914_row1_col3\" class=\"data row1 col3\" >0.257 (0.00)</td>\n",
       "      <td id=\"T_98914_row1_col4\" class=\"data row1 col4\" >0.184 (0.00)</td>\n",
       "      <td id=\"T_98914_row1_col5\" class=\"data row1 col5\" >0.246 (0.00)</td>\n",
       "    </tr>\n",
       "    <tr>\n",
       "      <th id=\"T_98914_level0_row2\" class=\"row_heading level0 row2\" >Client 2</th>\n",
       "      <td id=\"T_98914_row2_col0\" class=\"data row2 col0\" >0.128 (0.00)</td>\n",
       "      <td id=\"T_98914_row2_col1\" class=\"data row2 col1\" >0.204 (0.00)</td>\n",
       "      <td id=\"T_98914_row2_col2\" class=\"data row2 col2\" >0.267 (0.00)</td>\n",
       "      <td id=\"T_98914_row2_col3\" class=\"data row2 col3\" >0.254 (0.00)</td>\n",
       "      <td id=\"T_98914_row2_col4\" class=\"data row2 col4\" >0.120 (0.00)</td>\n",
       "      <td id=\"T_98914_row2_col5\" class=\"data row2 col5\" >0.190 (0.00)</td>\n",
       "    </tr>\n",
       "    <tr>\n",
       "      <th id=\"T_98914_level0_row3\" class=\"row_heading level0 row3\" >Client 3</th>\n",
       "      <td id=\"T_98914_row3_col0\" class=\"data row3 col0\" >0.134 (0.00)</td>\n",
       "      <td id=\"T_98914_row3_col1\" class=\"data row3 col1\" >0.272 (0.00)</td>\n",
       "      <td id=\"T_98914_row3_col2\" class=\"data row3 col2\" >0.259 (0.00)</td>\n",
       "      <td id=\"T_98914_row3_col3\" class=\"data row3 col3\" >0.275 (0.00)</td>\n",
       "      <td id=\"T_98914_row3_col4\" class=\"data row3 col4\" >0.128 (0.00)</td>\n",
       "      <td id=\"T_98914_row3_col5\" class=\"data row3 col5\" >0.251 (0.00)</td>\n",
       "    </tr>\n",
       "  </tbody>\n",
       "</table>\n"
      ],
      "text/plain": [
       "<pandas.io.formats.style.Styler at 0x2040aeca1b0>"
      ]
     },
     "execution_count": 193,
     "metadata": {},
     "output_type": "execute_result"
    }
   ],
   "source": [
    "data = pipeline.show_pipeline_results(\n",
    "    format = 'dataframe',  \n",
    "    metric_aspect = 'imp_quality',\n",
    "    metric_name = 'rmse',\n",
    "    show_round_variation = False\n",
    ")"
   ]
  }
 ],
 "metadata": {
  "kernelspec": {
   "display_name": "Python 3",
   "language": "python",
   "name": "python3"
  },
  "language_info": {
   "codemirror_mode": {
    "name": "ipython",
    "version": 3
   },
   "file_extension": ".py",
   "mimetype": "text/x-python",
   "name": "python",
   "nbconvert_exporter": "python",
   "pygments_lexer": "ipython3",
   "version": "3.12.3"
  }
 },
 "nbformat": 4,
 "nbformat_minor": 2
}
