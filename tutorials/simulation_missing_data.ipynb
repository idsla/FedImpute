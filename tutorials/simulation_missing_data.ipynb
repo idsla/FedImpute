{
 "cells": [
  {
   "cell_type": "code",
   "execution_count": 1,
   "id": "initial_id",
   "metadata": {
    "ExecuteTime": {
     "end_time": "2024-06-13T22:56:41.777985Z",
     "start_time": "2024-06-13T22:56:41.475095Z"
    },
    "collapsed": true
   },
   "outputs": [],
   "source": [
    "import numpy as np\n",
    "import loguru\n",
    "import sys"
   ]
  },
  {
   "cell_type": "code",
   "execution_count": 2,
   "id": "f53f522d",
   "metadata": {},
   "outputs": [
    {
     "name": "stdout",
     "output_type": "stream",
     "text": [
      "d:\\project\\FedImpute\n"
     ]
    },
    {
     "name": "stderr",
     "output_type": "stream",
     "text": [
      "d:\\project\\FedImpute\\.venv\\lib\\site-packages\\IPython\\core\\magics\\osm.py:417: UserWarning: This is now an optional IPython functionality, setting dhist requires you to install the `pickleshare` library.\n",
      "  self.shell.db['dhist'] = compress_dhist(dhist)[-100:]\n"
     ]
    }
   ],
   "source": [
    "cd .."
   ]
  },
  {
   "cell_type": "code",
   "execution_count": 3,
   "id": "1ef354f9fab5977c",
   "metadata": {
    "ExecuteTime": {
     "end_time": "2024-06-13T23:02:33.285953Z",
     "start_time": "2024-06-13T23:02:33.242352Z"
    }
   },
   "outputs": [],
   "source": [
    "%load_ext autoreload\n",
    "%autoreload 2\n",
    "from fedimpute.simulator import Simulator"
   ]
  },
  {
   "cell_type": "code",
   "execution_count": 4,
   "id": "91be865c678f1518",
   "metadata": {
    "ExecuteTime": {
     "end_time": "2024-06-13T23:02:35.117268Z",
     "start_time": "2024-06-13T23:02:34.983253Z"
    }
   },
   "outputs": [
    {
     "name": "stdout",
     "output_type": "stream",
     "text": [
      "Data partitioning...\n",
      "Missing data simulation...\n",
      "Simulation done. Using summary function to check the simulation results.\n"
     ]
    }
   ],
   "source": [
    "data = np.random.rand(10000, 10)\n",
    "data_config = {\n",
    "    'task_type': 'regression',\n",
    "    'num_cols': 9,\n",
    "}\n",
    "\n",
    "simulator = Simulator(debug_mode=False)\n",
    "simulation_results = simulator.simulate_scenario(data, data_config, num_clients = 10, verbose=1)"
   ]
  },
  {
   "cell_type": "code",
   "execution_count": 5,
   "id": "dcd29c5931acd184",
   "metadata": {
    "ExecuteTime": {
     "end_time": "2024-06-13T22:57:06.949771Z",
     "start_time": "2024-06-13T22:57:05.600183Z"
    }
   },
   "outputs": [
    {
     "name": "stdout",
     "output_type": "stream",
     "text": [
      "The autoreload extension is already loaded. To reload it, use:\n",
      "  %reload_ext autoreload\n"
     ]
    }
   ],
   "source": [
    "%load_ext autoreload\n",
    "%autoreload 2\n",
    "from fedimpute.execution_environment import FedImputeEnv"
   ]
  },
  {
   "cell_type": "code",
   "execution_count": 9,
   "id": "4e1c6861c856d07a",
   "metadata": {
    "ExecuteTime": {
     "end_time": "2024-06-13T22:57:09.533321Z",
     "start_time": "2024-06-13T22:57:09.452456Z"
    }
   },
   "outputs": [
    {
     "name": "stdout",
     "output_type": "stream",
     "text": [
      "Setting up clients...\n",
      "Setting up server...\n",
      "Setting up workflow...\n",
      "Environment setup complete.\n"
     ]
    }
   ],
   "source": [
    "env = FedImputeEnv()\n",
    "env.configuration(imputer = 'miwae', fed_strategy='fedavg', fit_mode = 'fed')\n",
    "# env.setup(\n",
    "#     clients_train_data=simulation_results['clients_train_data'],\n",
    "#     clients_train_data_ms=simulation_results['clients_train_data_ms'],\n",
    "#     clients_test_data=simulation_results['clients_test_data'],\n",
    "#     clients_seeds=simulation_results['clients_seeds'],\n",
    "#     data_config=data_config,\n",
    "# )\n",
    "env.setup_from_simulator(simulator = simulator, verbose=1)"
   ]
  },
  {
   "cell_type": "code",
   "execution_count": 10,
   "id": "95a0f7246cf89b56",
   "metadata": {
    "ExecuteTime": {
     "end_time": "2024-06-13T22:57:16.819013Z",
     "start_time": "2024-06-13T22:57:16.778332Z"
    }
   },
   "outputs": [
    {
     "name": "stdout",
     "output_type": "stream",
     "text": [
      "miwae\n",
      "fedavg\n"
     ]
    }
   ],
   "source": [
    "print(env.imputer_name)\n",
    "print(env.fed_strategy_name)"
   ]
  },
  {
   "cell_type": "code",
   "execution_count": 11,
   "id": "9b24cc1c46330ca5",
   "metadata": {
    "ExecuteTime": {
     "end_time": "2024-06-13T22:58:18.207917Z",
     "start_time": "2024-06-13T22:57:23.905739Z"
    }
   },
   "outputs": [
    {
     "name": "stdout",
     "output_type": "stream",
     "text": [
      "\u001b[32m2024-06-13 20:01:29.669\u001b[0m | \u001b[1mINFO    \u001b[0m | \u001b[36mfedimpute.execution_environment.workflows.workflow\u001b[0m:\u001b[36meval_and_track\u001b[0m:\u001b[36m58\u001b[0m - \u001b[1m\n",
      "Initial: rmse - 0.5762892483628155 ws - 0.28182776518513325\u001b[0m\n"
     ]
    },
    {
     "data": {
      "application/vnd.jupyter.widget-view+json": {
       "model_id": "deb2fff66de44131bff0505fc6486d55",
       "version_major": 2,
       "version_minor": 0
      },
      "text/plain": [
       "Global Epoch:   0%|          | 0/150 [00:00<?, ?it/s]"
      ]
     },
     "metadata": {},
     "output_type": "display_data"
    },
    {
     "name": "stdout",
     "output_type": "stream",
     "text": [
      "\u001b[32m2024-06-13 20:08:47.135\u001b[0m | \u001b[1mINFO    \u001b[0m | \u001b[36mfedimpute.execution_environment.workflows.workflow_jm\u001b[0m:\u001b[36mfed_imp_sequential\u001b[0m:\u001b[36m168\u001b[0m - \u001b[1mstart fine tuning ...\u001b[0m\n",
      "local True\n"
     ]
    },
    {
     "data": {
      "application/vnd.jupyter.widget-view+json": {
       "model_id": "67af1167aee24d3992cd2a578fd29427",
       "version_major": 2,
       "version_minor": 0
      },
      "text/plain": [
       "Fine Tuning Epoch: 0it [00:00, ?it/s]"
      ]
     },
     "metadata": {},
     "output_type": "display_data"
    },
    {
     "name": "stdout",
     "output_type": "stream",
     "text": [
      "\u001b[32m2024-06-13 20:08:49.590\u001b[0m | \u001b[1mINFO    \u001b[0m | \u001b[36mfedimpute.execution_environment.workflows.workflow\u001b[0m:\u001b[36meval_and_track\u001b[0m:\u001b[36m108\u001b[0m - \u001b[1mFinal: rmse - 0.29280782278089307 ws - 0.08658527094543811\u001b[0m\n"
     ]
    }
   ],
   "source": [
    "env.run_fed_imputation()"
   ]
  },
  {
   "cell_type": "code",
   "execution_count": null,
   "id": "191390e175e1ec34",
   "metadata": {},
   "outputs": [],
   "source": []
  }
 ],
 "metadata": {
  "kernelspec": {
   "display_name": "Python 3",
   "language": "python",
   "name": "python3"
  },
  "language_info": {
   "codemirror_mode": {
    "name": "ipython",
    "version": 3
   },
   "file_extension": ".py",
   "mimetype": "text/x-python",
   "name": "python",
   "nbconvert_exporter": "python",
   "pygments_lexer": "ipython3",
   "version": "3.10.11"
  }
 },
 "nbformat": 4,
 "nbformat_minor": 5
}
