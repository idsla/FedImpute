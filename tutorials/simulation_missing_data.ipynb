{
 "cells": [
  {
   "cell_type": "code",
   "id": "initial_id",
   "metadata": {
    "collapsed": true,
    "ExecuteTime": {
     "end_time": "2024-06-13T06:07:04.577729Z",
     "start_time": "2024-06-13T06:07:04.558731Z"
    }
   },
   "source": "import numpy as np",
   "outputs": [],
   "execution_count": 4
  },
  {
   "metadata": {
    "ExecuteTime": {
     "end_time": "2024-06-13T06:30:45.835933Z",
     "start_time": "2024-06-13T06:30:45.662984Z"
    }
   },
   "cell_type": "code",
   "source": [
    "%load_ext autoreload\n",
    "%autoreload 2\n",
    "from fedimpute.simulator import Simulator"
   ],
   "id": "1ef354f9fab5977c",
   "outputs": [
    {
     "name": "stdout",
     "output_type": "stream",
     "text": [
      "The autoreload extension is already loaded. To reload it, use:\n",
      "  %reload_ext autoreload\n"
     ]
    }
   ],
   "execution_count": 44
  },
  {
   "metadata": {
    "ExecuteTime": {
     "end_time": "2024-06-13T06:31:25.843031Z",
     "start_time": "2024-06-13T06:31:25.695409Z"
    }
   },
   "cell_type": "code",
   "source": [
    "data = np.random.rand(10000, 10)\n",
    "data_config = {\n",
    "    'task_type': 'regression',\n",
    "    'num_cols': [0, 1, 2, 3, 4, 5, 6, 7, 8, 9],\n",
    "}\n",
    "\n",
    "simulator = Simulator()\n",
    "simulation_results = simulator.simulate_scenario(data, data_config, num_clients = 10)"
   ],
   "id": "91be865c678f1518",
   "outputs": [
    {
     "name": "stderr",
     "output_type": "stream",
     "text": [
      "\u001B[32m2024-06-13 02:31:25.731\u001B[0m | \u001B[34m\u001B[1mDEBUG   \u001B[0m | \u001B[36mfedimpute.utils.reproduce_utils\u001B[0m:\u001B[36msetup_clients_seed\u001B[0m:\u001B[36m29\u001B[0m - \u001B[34m\u001B[1m[6077  577 7231 5504 5705 2532 6950  956 6523 5134]\u001B[0m\n",
      "\u001B[32m2024-06-13 02:31:25.808\u001B[0m | \u001B[34m\u001B[1mDEBUG   \u001B[0m | \u001B[36mfedimpute.simulator.data_partition.utils\u001B[0m:\u001B[36mcalculate_data_partition_stats\u001B[0m:\u001B[36m75\u001B[0m - \u001B[34m\u001B[1mClient 0\t Size of data: 900\t Labels: \u001B[0m\n",
      "\u001B[32m2024-06-13 02:31:25.808\u001B[0m | \u001B[34m\u001B[1mDEBUG   \u001B[0m | \u001B[36mfedimpute.simulator.data_partition.utils\u001B[0m:\u001B[36mcalculate_data_partition_stats\u001B[0m:\u001B[36m79\u001B[0m - \u001B[34m\u001B[1m\t\t Samples of labels: \u001B[0m\n",
      "\u001B[32m2024-06-13 02:31:25.808\u001B[0m | \u001B[34m\u001B[1mDEBUG   \u001B[0m | \u001B[36mfedimpute.simulator.data_partition.utils\u001B[0m:\u001B[36mcalculate_data_partition_stats\u001B[0m:\u001B[36m80\u001B[0m - \u001B[34m\u001B[1m--------------------------------------------------\u001B[0m\n",
      "\u001B[32m2024-06-13 02:31:25.809\u001B[0m | \u001B[34m\u001B[1mDEBUG   \u001B[0m | \u001B[36mfedimpute.simulator.data_partition.utils\u001B[0m:\u001B[36mcalculate_data_partition_stats\u001B[0m:\u001B[36m75\u001B[0m - \u001B[34m\u001B[1mClient 1\t Size of data: 900\t Labels: \u001B[0m\n",
      "\u001B[32m2024-06-13 02:31:25.809\u001B[0m | \u001B[34m\u001B[1mDEBUG   \u001B[0m | \u001B[36mfedimpute.simulator.data_partition.utils\u001B[0m:\u001B[36mcalculate_data_partition_stats\u001B[0m:\u001B[36m79\u001B[0m - \u001B[34m\u001B[1m\t\t Samples of labels: \u001B[0m\n",
      "\u001B[32m2024-06-13 02:31:25.810\u001B[0m | \u001B[34m\u001B[1mDEBUG   \u001B[0m | \u001B[36mfedimpute.simulator.data_partition.utils\u001B[0m:\u001B[36mcalculate_data_partition_stats\u001B[0m:\u001B[36m80\u001B[0m - \u001B[34m\u001B[1m--------------------------------------------------\u001B[0m\n",
      "\u001B[32m2024-06-13 02:31:25.810\u001B[0m | \u001B[34m\u001B[1mDEBUG   \u001B[0m | \u001B[36mfedimpute.simulator.data_partition.utils\u001B[0m:\u001B[36mcalculate_data_partition_stats\u001B[0m:\u001B[36m75\u001B[0m - \u001B[34m\u001B[1mClient 2\t Size of data: 900\t Labels: \u001B[0m\n",
      "\u001B[32m2024-06-13 02:31:25.811\u001B[0m | \u001B[34m\u001B[1mDEBUG   \u001B[0m | \u001B[36mfedimpute.simulator.data_partition.utils\u001B[0m:\u001B[36mcalculate_data_partition_stats\u001B[0m:\u001B[36m79\u001B[0m - \u001B[34m\u001B[1m\t\t Samples of labels: \u001B[0m\n",
      "\u001B[32m2024-06-13 02:31:25.811\u001B[0m | \u001B[34m\u001B[1mDEBUG   \u001B[0m | \u001B[36mfedimpute.simulator.data_partition.utils\u001B[0m:\u001B[36mcalculate_data_partition_stats\u001B[0m:\u001B[36m80\u001B[0m - \u001B[34m\u001B[1m--------------------------------------------------\u001B[0m\n",
      "\u001B[32m2024-06-13 02:31:25.812\u001B[0m | \u001B[34m\u001B[1mDEBUG   \u001B[0m | \u001B[36mfedimpute.simulator.data_partition.utils\u001B[0m:\u001B[36mcalculate_data_partition_stats\u001B[0m:\u001B[36m75\u001B[0m - \u001B[34m\u001B[1mClient 3\t Size of data: 900\t Labels: \u001B[0m\n",
      "\u001B[32m2024-06-13 02:31:25.812\u001B[0m | \u001B[34m\u001B[1mDEBUG   \u001B[0m | \u001B[36mfedimpute.simulator.data_partition.utils\u001B[0m:\u001B[36mcalculate_data_partition_stats\u001B[0m:\u001B[36m79\u001B[0m - \u001B[34m\u001B[1m\t\t Samples of labels: \u001B[0m\n",
      "\u001B[32m2024-06-13 02:31:25.813\u001B[0m | \u001B[34m\u001B[1mDEBUG   \u001B[0m | \u001B[36mfedimpute.simulator.data_partition.utils\u001B[0m:\u001B[36mcalculate_data_partition_stats\u001B[0m:\u001B[36m80\u001B[0m - \u001B[34m\u001B[1m--------------------------------------------------\u001B[0m\n",
      "\u001B[32m2024-06-13 02:31:25.813\u001B[0m | \u001B[34m\u001B[1mDEBUG   \u001B[0m | \u001B[36mfedimpute.simulator.data_partition.utils\u001B[0m:\u001B[36mcalculate_data_partition_stats\u001B[0m:\u001B[36m75\u001B[0m - \u001B[34m\u001B[1mClient 4\t Size of data: 900\t Labels: \u001B[0m\n",
      "\u001B[32m2024-06-13 02:31:25.814\u001B[0m | \u001B[34m\u001B[1mDEBUG   \u001B[0m | \u001B[36mfedimpute.simulator.data_partition.utils\u001B[0m:\u001B[36mcalculate_data_partition_stats\u001B[0m:\u001B[36m79\u001B[0m - \u001B[34m\u001B[1m\t\t Samples of labels: \u001B[0m\n",
      "\u001B[32m2024-06-13 02:31:25.814\u001B[0m | \u001B[34m\u001B[1mDEBUG   \u001B[0m | \u001B[36mfedimpute.simulator.data_partition.utils\u001B[0m:\u001B[36mcalculate_data_partition_stats\u001B[0m:\u001B[36m80\u001B[0m - \u001B[34m\u001B[1m--------------------------------------------------\u001B[0m\n",
      "\u001B[32m2024-06-13 02:31:25.814\u001B[0m | \u001B[34m\u001B[1mDEBUG   \u001B[0m | \u001B[36mfedimpute.simulator.data_partition.utils\u001B[0m:\u001B[36mcalculate_data_partition_stats\u001B[0m:\u001B[36m75\u001B[0m - \u001B[34m\u001B[1mClient 5\t Size of data: 900\t Labels: \u001B[0m\n",
      "\u001B[32m2024-06-13 02:31:25.815\u001B[0m | \u001B[34m\u001B[1mDEBUG   \u001B[0m | \u001B[36mfedimpute.simulator.data_partition.utils\u001B[0m:\u001B[36mcalculate_data_partition_stats\u001B[0m:\u001B[36m79\u001B[0m - \u001B[34m\u001B[1m\t\t Samples of labels: \u001B[0m\n",
      "\u001B[32m2024-06-13 02:31:25.815\u001B[0m | \u001B[34m\u001B[1mDEBUG   \u001B[0m | \u001B[36mfedimpute.simulator.data_partition.utils\u001B[0m:\u001B[36mcalculate_data_partition_stats\u001B[0m:\u001B[36m80\u001B[0m - \u001B[34m\u001B[1m--------------------------------------------------\u001B[0m\n",
      "\u001B[32m2024-06-13 02:31:25.816\u001B[0m | \u001B[34m\u001B[1mDEBUG   \u001B[0m | \u001B[36mfedimpute.simulator.data_partition.utils\u001B[0m:\u001B[36mcalculate_data_partition_stats\u001B[0m:\u001B[36m75\u001B[0m - \u001B[34m\u001B[1mClient 6\t Size of data: 900\t Labels: \u001B[0m\n",
      "\u001B[32m2024-06-13 02:31:25.816\u001B[0m | \u001B[34m\u001B[1mDEBUG   \u001B[0m | \u001B[36mfedimpute.simulator.data_partition.utils\u001B[0m:\u001B[36mcalculate_data_partition_stats\u001B[0m:\u001B[36m79\u001B[0m - \u001B[34m\u001B[1m\t\t Samples of labels: \u001B[0m\n",
      "\u001B[32m2024-06-13 02:31:25.816\u001B[0m | \u001B[34m\u001B[1mDEBUG   \u001B[0m | \u001B[36mfedimpute.simulator.data_partition.utils\u001B[0m:\u001B[36mcalculate_data_partition_stats\u001B[0m:\u001B[36m80\u001B[0m - \u001B[34m\u001B[1m--------------------------------------------------\u001B[0m\n",
      "\u001B[32m2024-06-13 02:31:25.817\u001B[0m | \u001B[34m\u001B[1mDEBUG   \u001B[0m | \u001B[36mfedimpute.simulator.data_partition.utils\u001B[0m:\u001B[36mcalculate_data_partition_stats\u001B[0m:\u001B[36m75\u001B[0m - \u001B[34m\u001B[1mClient 7\t Size of data: 900\t Labels: \u001B[0m\n",
      "\u001B[32m2024-06-13 02:31:25.817\u001B[0m | \u001B[34m\u001B[1mDEBUG   \u001B[0m | \u001B[36mfedimpute.simulator.data_partition.utils\u001B[0m:\u001B[36mcalculate_data_partition_stats\u001B[0m:\u001B[36m79\u001B[0m - \u001B[34m\u001B[1m\t\t Samples of labels: \u001B[0m\n",
      "\u001B[32m2024-06-13 02:31:25.817\u001B[0m | \u001B[34m\u001B[1mDEBUG   \u001B[0m | \u001B[36mfedimpute.simulator.data_partition.utils\u001B[0m:\u001B[36mcalculate_data_partition_stats\u001B[0m:\u001B[36m80\u001B[0m - \u001B[34m\u001B[1m--------------------------------------------------\u001B[0m\n",
      "\u001B[32m2024-06-13 02:31:25.818\u001B[0m | \u001B[34m\u001B[1mDEBUG   \u001B[0m | \u001B[36mfedimpute.simulator.data_partition.utils\u001B[0m:\u001B[36mcalculate_data_partition_stats\u001B[0m:\u001B[36m75\u001B[0m - \u001B[34m\u001B[1mClient 8\t Size of data: 900\t Labels: \u001B[0m\n",
      "\u001B[32m2024-06-13 02:31:25.818\u001B[0m | \u001B[34m\u001B[1mDEBUG   \u001B[0m | \u001B[36mfedimpute.simulator.data_partition.utils\u001B[0m:\u001B[36mcalculate_data_partition_stats\u001B[0m:\u001B[36m79\u001B[0m - \u001B[34m\u001B[1m\t\t Samples of labels: \u001B[0m\n",
      "\u001B[32m2024-06-13 02:31:25.818\u001B[0m | \u001B[34m\u001B[1mDEBUG   \u001B[0m | \u001B[36mfedimpute.simulator.data_partition.utils\u001B[0m:\u001B[36mcalculate_data_partition_stats\u001B[0m:\u001B[36m80\u001B[0m - \u001B[34m\u001B[1m--------------------------------------------------\u001B[0m\n",
      "\u001B[32m2024-06-13 02:31:25.819\u001B[0m | \u001B[34m\u001B[1mDEBUG   \u001B[0m | \u001B[36mfedimpute.simulator.data_partition.utils\u001B[0m:\u001B[36mcalculate_data_partition_stats\u001B[0m:\u001B[36m75\u001B[0m - \u001B[34m\u001B[1mClient 9\t Size of data: 900\t Labels: \u001B[0m\n",
      "\u001B[32m2024-06-13 02:31:25.819\u001B[0m | \u001B[34m\u001B[1mDEBUG   \u001B[0m | \u001B[36mfedimpute.simulator.data_partition.utils\u001B[0m:\u001B[36mcalculate_data_partition_stats\u001B[0m:\u001B[36m79\u001B[0m - \u001B[34m\u001B[1m\t\t Samples of labels: \u001B[0m\n",
      "\u001B[32m2024-06-13 02:31:25.820\u001B[0m | \u001B[34m\u001B[1mDEBUG   \u001B[0m | \u001B[36mfedimpute.simulator.data_partition.utils\u001B[0m:\u001B[36mcalculate_data_partition_stats\u001B[0m:\u001B[36m80\u001B[0m - \u001B[34m\u001B[1m--------------------------------------------------\u001B[0m\n",
      "\u001B[32m2024-06-13 02:31:25.824\u001B[0m | \u001B[34m\u001B[1mDEBUG   \u001B[0m | \u001B[36mfedimpute.simulator.missing_simulate.add_missing\u001B[0m:\u001B[36m_add_missing_dist\u001B[0m:\u001B[36m229\u001B[0m - \u001B[34m\u001B[1m0 [0, 1, 2, 3, 4, 5, 6, 7, 8] [0.5, 0.7, 0.39999999999999997, 0.6, 0.3, 0.39999999999999997, 0.39999999999999997, 0.7, 0.5] ['left', 'right', 'left', 'right', 'right', 'right', 'left', 'right', 'right']\u001B[0m\n",
      "\u001B[32m2024-06-13 02:31:25.825\u001B[0m | \u001B[34m\u001B[1mDEBUG   \u001B[0m | \u001B[36mfedimpute.simulator.missing_simulate.add_missing\u001B[0m:\u001B[36m_add_missing_dist\u001B[0m:\u001B[36m229\u001B[0m - \u001B[34m\u001B[1m1 [0, 1, 2, 3, 4, 5, 6, 7, 8] [0.7, 0.5, 0.3, 0.7, 0.5, 0.3, 0.3, 0.6, 0.3] ['right', 'right', 'left', 'left', 'right', 'right', 'left', 'right', 'left']\u001B[0m\n",
      "\u001B[32m2024-06-13 02:31:25.826\u001B[0m | \u001B[34m\u001B[1mDEBUG   \u001B[0m | \u001B[36mfedimpute.simulator.missing_simulate.add_missing\u001B[0m:\u001B[36m_add_missing_dist\u001B[0m:\u001B[36m229\u001B[0m - \u001B[34m\u001B[1m2 [0, 1, 2, 3, 4, 5, 6, 7, 8] [0.7, 0.7, 0.6, 0.39999999999999997, 0.7, 0.5, 0.5, 0.7, 0.3] ['left', 'left', 'right', 'left', 'left', 'left', 'left', 'left', 'left']\u001B[0m\n",
      "\u001B[32m2024-06-13 02:31:25.827\u001B[0m | \u001B[34m\u001B[1mDEBUG   \u001B[0m | \u001B[36mfedimpute.simulator.missing_simulate.add_missing\u001B[0m:\u001B[36m_add_missing_dist\u001B[0m:\u001B[36m229\u001B[0m - \u001B[34m\u001B[1m3 [0, 1, 2, 3, 4, 5, 6, 7, 8] [0.7, 0.6, 0.5, 0.5, 0.7, 0.7, 0.5, 0.7, 0.7] ['left', 'right', 'right', 'left', 'left', 'right', 'right', 'right', 'left']\u001B[0m\n",
      "\u001B[32m2024-06-13 02:31:25.828\u001B[0m | \u001B[34m\u001B[1mDEBUG   \u001B[0m | \u001B[36mfedimpute.simulator.missing_simulate.add_missing\u001B[0m:\u001B[36m_add_missing_dist\u001B[0m:\u001B[36m229\u001B[0m - \u001B[34m\u001B[1m4 [0, 1, 2, 3, 4, 5, 6, 7, 8] [0.3, 0.7, 0.7, 0.7, 0.3, 0.5, 0.7, 0.3, 0.6] ['left', 'left', 'left', 'right', 'right', 'right', 'left', 'left', 'right']\u001B[0m\n",
      "\u001B[32m2024-06-13 02:31:25.828\u001B[0m | \u001B[34m\u001B[1mDEBUG   \u001B[0m | \u001B[36mfedimpute.simulator.missing_simulate.add_missing\u001B[0m:\u001B[36m_add_missing_dist\u001B[0m:\u001B[36m229\u001B[0m - \u001B[34m\u001B[1m5 [0, 1, 2, 3, 4, 5, 6, 7, 8] [0.7, 0.39999999999999997, 0.7, 0.7, 0.39999999999999997, 0.39999999999999997, 0.6, 0.6, 0.5] ['left', 'left', 'left', 'left', 'left', 'right', 'left', 'left', 'left']\u001B[0m\n",
      "\u001B[32m2024-06-13 02:31:25.829\u001B[0m | \u001B[34m\u001B[1mDEBUG   \u001B[0m | \u001B[36mfedimpute.simulator.missing_simulate.add_missing\u001B[0m:\u001B[36m_add_missing_dist\u001B[0m:\u001B[36m229\u001B[0m - \u001B[34m\u001B[1m6 [0, 1, 2, 3, 4, 5, 6, 7, 8] [0.39999999999999997, 0.5, 0.6, 0.7, 0.39999999999999997, 0.5, 0.5, 0.6, 0.3] ['left', 'left', 'left', 'right', 'left', 'right', 'left', 'left', 'left']\u001B[0m\n",
      "\u001B[32m2024-06-13 02:31:25.830\u001B[0m | \u001B[34m\u001B[1mDEBUG   \u001B[0m | \u001B[36mfedimpute.simulator.missing_simulate.add_missing\u001B[0m:\u001B[36m_add_missing_dist\u001B[0m:\u001B[36m229\u001B[0m - \u001B[34m\u001B[1m7 [0, 1, 2, 3, 4, 5, 6, 7, 8] [0.6, 0.6, 0.39999999999999997, 0.6, 0.6, 0.39999999999999997, 0.39999999999999997, 0.7, 0.7] ['left', 'left', 'right', 'left', 'left', 'left', 'left', 'right', 'left']\u001B[0m\n",
      "\u001B[32m2024-06-13 02:31:25.830\u001B[0m | \u001B[34m\u001B[1mDEBUG   \u001B[0m | \u001B[36mfedimpute.simulator.missing_simulate.add_missing\u001B[0m:\u001B[36m_add_missing_dist\u001B[0m:\u001B[36m229\u001B[0m - \u001B[34m\u001B[1m8 [0, 1, 2, 3, 4, 5, 6, 7, 8] [0.5, 0.3, 0.39999999999999997, 0.6, 0.3, 0.6, 0.7, 0.7, 0.3] ['right', 'left', 'left', 'right', 'right', 'right', 'right', 'right', 'right']\u001B[0m\n",
      "\u001B[32m2024-06-13 02:31:25.831\u001B[0m | \u001B[34m\u001B[1mDEBUG   \u001B[0m | \u001B[36mfedimpute.simulator.missing_simulate.add_missing\u001B[0m:\u001B[36m_add_missing_dist\u001B[0m:\u001B[36m229\u001B[0m - \u001B[34m\u001B[1m9 [0, 1, 2, 3, 4, 5, 6, 7, 8] [0.39999999999999997, 0.7, 0.6, 0.5, 0.6, 0.6, 0.5, 0.7, 0.39999999999999997] ['left', 'right', 'right', 'left', 'right', 'left', 'left', 'right', 'right']\u001B[0m\n"
     ]
    }
   ],
   "execution_count": 48
  },
  {
   "metadata": {
    "ExecuteTime": {
     "end_time": "2024-06-13T06:31:29.247198Z",
     "start_time": "2024-06-13T06:31:29.201489Z"
    }
   },
   "cell_type": "code",
   "source": "simulation_results['clients_train_data_ms'][0]",
   "id": "d7afe828531fe63f",
   "outputs": [
    {
     "data": {
      "text/plain": [
       "array([[0.13523392,        nan, 0.21685722, ...,        nan,        nan,\n",
       "               nan],\n",
       "       [       nan, 0.68735807, 0.98942212, ...,        nan, 0.37498275,\n",
       "        0.54131481],\n",
       "       [0.36580924, 0.82431996, 0.05646323, ..., 0.55534935, 0.46249307,\n",
       "        0.74458863],\n",
       "       ...,\n",
       "       [0.0737414 , 0.70289484, 0.67584736, ..., 0.41953133, 0.9849395 ,\n",
       "        0.22647743],\n",
       "       [0.71383698, 0.32800873, 0.21784188, ..., 0.15470395, 0.94523632,\n",
       "        0.66908019],\n",
       "       [0.23844519, 0.05843251, 0.294614  , ..., 0.43934346, 0.33229853,\n",
       "        0.71751682]])"
      ]
     },
     "execution_count": 49,
     "metadata": {},
     "output_type": "execute_result"
    }
   ],
   "execution_count": 49
  },
  {
   "metadata": {
    "ExecuteTime": {
     "end_time": "2024-06-13T06:19:24.491360Z",
     "start_time": "2024-06-13T06:19:24.431867Z"
    }
   },
   "cell_type": "code",
   "source": "",
   "id": "f3122028b1079dc4",
   "outputs": [],
   "execution_count": 19
  }
 ],
 "metadata": {
  "kernelspec": {
   "display_name": "Python 3",
   "language": "python",
   "name": "python3"
  },
  "language_info": {
   "codemirror_mode": {
    "name": "ipython",
    "version": 2
   },
   "file_extension": ".py",
   "mimetype": "text/x-python",
   "name": "python",
   "nbconvert_exporter": "python",
   "pygments_lexer": "ipython2",
   "version": "2.7.6"
  }
 },
 "nbformat": 4,
 "nbformat_minor": 5
}
