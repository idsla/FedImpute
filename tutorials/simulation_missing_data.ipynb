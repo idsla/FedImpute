{
 "cells": [
  {
   "cell_type": "code",
   "id": "initial_id",
   "metadata": {
    "collapsed": true,
    "ExecuteTime": {
     "end_time": "2024-06-13T06:07:04.577729Z",
     "start_time": "2024-06-13T06:07:04.558731Z"
    }
   },
   "source": "import numpy as np",
   "outputs": [],
   "execution_count": 4
  },
  {
   "metadata": {
    "ExecuteTime": {
     "end_time": "2024-06-13T08:08:46.698293Z",
     "start_time": "2024-06-13T08:08:46.650515Z"
    }
   },
   "cell_type": "code",
   "source": [
    "%load_ext autoreload\n",
    "%autoreload 2\n",
    "from fedimpute.simulator import Simulator"
   ],
   "id": "1ef354f9fab5977c",
   "outputs": [
    {
     "name": "stdout",
     "output_type": "stream",
     "text": [
      "The autoreload extension is already loaded. To reload it, use:\n",
      "  %reload_ext autoreload\n"
     ]
    }
   ],
   "execution_count": 79
  },
  {
   "metadata": {
    "ExecuteTime": {
     "end_time": "2024-06-13T08:11:07.132206Z",
     "start_time": "2024-06-13T08:11:06.977672Z"
    }
   },
   "cell_type": "code",
   "source": [
    "data = np.random.rand(10000, 10)\n",
    "data_config = {\n",
    "    'task_type': 'regression',\n",
    "    'num_cols': 9,\n",
    "}\n",
    "\n",
    "simulator = Simulator()\n",
    "simulation_results = simulator.simulate_scenario(data, data_config, num_clients = 10)"
   ],
   "id": "91be865c678f1518",
   "outputs": [
    {
     "name": "stderr",
     "output_type": "stream",
     "text": [
      "\u001B[32m2024-06-13 04:11:07.014\u001B[0m | \u001B[34m\u001B[1mDEBUG   \u001B[0m | \u001B[36mfedimpute.utils.reproduce_utils\u001B[0m:\u001B[36msetup_clients_seed\u001B[0m:\u001B[36m29\u001B[0m - \u001B[34m\u001B[1m[6077  577 7231 5504 5705 2532 6950  956 6523 5134]\u001B[0m\n",
      "\u001B[32m2024-06-13 04:11:07.097\u001B[0m | \u001B[34m\u001B[1mDEBUG   \u001B[0m | \u001B[36mfedimpute.simulator.data_partition.utils\u001B[0m:\u001B[36mcalculate_data_partition_stats\u001B[0m:\u001B[36m75\u001B[0m - \u001B[34m\u001B[1mClient 0\t Size of data: 900\t Labels: \u001B[0m\n",
      "\u001B[32m2024-06-13 04:11:07.097\u001B[0m | \u001B[34m\u001B[1mDEBUG   \u001B[0m | \u001B[36mfedimpute.simulator.data_partition.utils\u001B[0m:\u001B[36mcalculate_data_partition_stats\u001B[0m:\u001B[36m79\u001B[0m - \u001B[34m\u001B[1m\t\t Samples of labels: \u001B[0m\n",
      "\u001B[32m2024-06-13 04:11:07.097\u001B[0m | \u001B[34m\u001B[1mDEBUG   \u001B[0m | \u001B[36mfedimpute.simulator.data_partition.utils\u001B[0m:\u001B[36mcalculate_data_partition_stats\u001B[0m:\u001B[36m80\u001B[0m - \u001B[34m\u001B[1m--------------------------------------------------\u001B[0m\n",
      "\u001B[32m2024-06-13 04:11:07.098\u001B[0m | \u001B[34m\u001B[1mDEBUG   \u001B[0m | \u001B[36mfedimpute.simulator.data_partition.utils\u001B[0m:\u001B[36mcalculate_data_partition_stats\u001B[0m:\u001B[36m75\u001B[0m - \u001B[34m\u001B[1mClient 1\t Size of data: 900\t Labels: \u001B[0m\n",
      "\u001B[32m2024-06-13 04:11:07.098\u001B[0m | \u001B[34m\u001B[1mDEBUG   \u001B[0m | \u001B[36mfedimpute.simulator.data_partition.utils\u001B[0m:\u001B[36mcalculate_data_partition_stats\u001B[0m:\u001B[36m79\u001B[0m - \u001B[34m\u001B[1m\t\t Samples of labels: \u001B[0m\n",
      "\u001B[32m2024-06-13 04:11:07.099\u001B[0m | \u001B[34m\u001B[1mDEBUG   \u001B[0m | \u001B[36mfedimpute.simulator.data_partition.utils\u001B[0m:\u001B[36mcalculate_data_partition_stats\u001B[0m:\u001B[36m80\u001B[0m - \u001B[34m\u001B[1m--------------------------------------------------\u001B[0m\n",
      "\u001B[32m2024-06-13 04:11:07.099\u001B[0m | \u001B[34m\u001B[1mDEBUG   \u001B[0m | \u001B[36mfedimpute.simulator.data_partition.utils\u001B[0m:\u001B[36mcalculate_data_partition_stats\u001B[0m:\u001B[36m75\u001B[0m - \u001B[34m\u001B[1mClient 2\t Size of data: 900\t Labels: \u001B[0m\n",
      "\u001B[32m2024-06-13 04:11:07.100\u001B[0m | \u001B[34m\u001B[1mDEBUG   \u001B[0m | \u001B[36mfedimpute.simulator.data_partition.utils\u001B[0m:\u001B[36mcalculate_data_partition_stats\u001B[0m:\u001B[36m79\u001B[0m - \u001B[34m\u001B[1m\t\t Samples of labels: \u001B[0m\n",
      "\u001B[32m2024-06-13 04:11:07.100\u001B[0m | \u001B[34m\u001B[1mDEBUG   \u001B[0m | \u001B[36mfedimpute.simulator.data_partition.utils\u001B[0m:\u001B[36mcalculate_data_partition_stats\u001B[0m:\u001B[36m80\u001B[0m - \u001B[34m\u001B[1m--------------------------------------------------\u001B[0m\n",
      "\u001B[32m2024-06-13 04:11:07.100\u001B[0m | \u001B[34m\u001B[1mDEBUG   \u001B[0m | \u001B[36mfedimpute.simulator.data_partition.utils\u001B[0m:\u001B[36mcalculate_data_partition_stats\u001B[0m:\u001B[36m75\u001B[0m - \u001B[34m\u001B[1mClient 3\t Size of data: 900\t Labels: \u001B[0m\n",
      "\u001B[32m2024-06-13 04:11:07.101\u001B[0m | \u001B[34m\u001B[1mDEBUG   \u001B[0m | \u001B[36mfedimpute.simulator.data_partition.utils\u001B[0m:\u001B[36mcalculate_data_partition_stats\u001B[0m:\u001B[36m79\u001B[0m - \u001B[34m\u001B[1m\t\t Samples of labels: \u001B[0m\n",
      "\u001B[32m2024-06-13 04:11:07.101\u001B[0m | \u001B[34m\u001B[1mDEBUG   \u001B[0m | \u001B[36mfedimpute.simulator.data_partition.utils\u001B[0m:\u001B[36mcalculate_data_partition_stats\u001B[0m:\u001B[36m80\u001B[0m - \u001B[34m\u001B[1m--------------------------------------------------\u001B[0m\n",
      "\u001B[32m2024-06-13 04:11:07.103\u001B[0m | \u001B[34m\u001B[1mDEBUG   \u001B[0m | \u001B[36mfedimpute.simulator.data_partition.utils\u001B[0m:\u001B[36mcalculate_data_partition_stats\u001B[0m:\u001B[36m75\u001B[0m - \u001B[34m\u001B[1mClient 4\t Size of data: 900\t Labels: \u001B[0m\n",
      "\u001B[32m2024-06-13 04:11:07.103\u001B[0m | \u001B[34m\u001B[1mDEBUG   \u001B[0m | \u001B[36mfedimpute.simulator.data_partition.utils\u001B[0m:\u001B[36mcalculate_data_partition_stats\u001B[0m:\u001B[36m79\u001B[0m - \u001B[34m\u001B[1m\t\t Samples of labels: \u001B[0m\n",
      "\u001B[32m2024-06-13 04:11:07.103\u001B[0m | \u001B[34m\u001B[1mDEBUG   \u001B[0m | \u001B[36mfedimpute.simulator.data_partition.utils\u001B[0m:\u001B[36mcalculate_data_partition_stats\u001B[0m:\u001B[36m80\u001B[0m - \u001B[34m\u001B[1m--------------------------------------------------\u001B[0m\n",
      "\u001B[32m2024-06-13 04:11:07.104\u001B[0m | \u001B[34m\u001B[1mDEBUG   \u001B[0m | \u001B[36mfedimpute.simulator.data_partition.utils\u001B[0m:\u001B[36mcalculate_data_partition_stats\u001B[0m:\u001B[36m75\u001B[0m - \u001B[34m\u001B[1mClient 5\t Size of data: 900\t Labels: \u001B[0m\n",
      "\u001B[32m2024-06-13 04:11:07.104\u001B[0m | \u001B[34m\u001B[1mDEBUG   \u001B[0m | \u001B[36mfedimpute.simulator.data_partition.utils\u001B[0m:\u001B[36mcalculate_data_partition_stats\u001B[0m:\u001B[36m79\u001B[0m - \u001B[34m\u001B[1m\t\t Samples of labels: \u001B[0m\n",
      "\u001B[32m2024-06-13 04:11:07.105\u001B[0m | \u001B[34m\u001B[1mDEBUG   \u001B[0m | \u001B[36mfedimpute.simulator.data_partition.utils\u001B[0m:\u001B[36mcalculate_data_partition_stats\u001B[0m:\u001B[36m80\u001B[0m - \u001B[34m\u001B[1m--------------------------------------------------\u001B[0m\n",
      "\u001B[32m2024-06-13 04:11:07.105\u001B[0m | \u001B[34m\u001B[1mDEBUG   \u001B[0m | \u001B[36mfedimpute.simulator.data_partition.utils\u001B[0m:\u001B[36mcalculate_data_partition_stats\u001B[0m:\u001B[36m75\u001B[0m - \u001B[34m\u001B[1mClient 6\t Size of data: 900\t Labels: \u001B[0m\n",
      "\u001B[32m2024-06-13 04:11:07.106\u001B[0m | \u001B[34m\u001B[1mDEBUG   \u001B[0m | \u001B[36mfedimpute.simulator.data_partition.utils\u001B[0m:\u001B[36mcalculate_data_partition_stats\u001B[0m:\u001B[36m79\u001B[0m - \u001B[34m\u001B[1m\t\t Samples of labels: \u001B[0m\n",
      "\u001B[32m2024-06-13 04:11:07.106\u001B[0m | \u001B[34m\u001B[1mDEBUG   \u001B[0m | \u001B[36mfedimpute.simulator.data_partition.utils\u001B[0m:\u001B[36mcalculate_data_partition_stats\u001B[0m:\u001B[36m80\u001B[0m - \u001B[34m\u001B[1m--------------------------------------------------\u001B[0m\n",
      "\u001B[32m2024-06-13 04:11:07.106\u001B[0m | \u001B[34m\u001B[1mDEBUG   \u001B[0m | \u001B[36mfedimpute.simulator.data_partition.utils\u001B[0m:\u001B[36mcalculate_data_partition_stats\u001B[0m:\u001B[36m75\u001B[0m - \u001B[34m\u001B[1mClient 7\t Size of data: 900\t Labels: \u001B[0m\n",
      "\u001B[32m2024-06-13 04:11:07.107\u001B[0m | \u001B[34m\u001B[1mDEBUG   \u001B[0m | \u001B[36mfedimpute.simulator.data_partition.utils\u001B[0m:\u001B[36mcalculate_data_partition_stats\u001B[0m:\u001B[36m79\u001B[0m - \u001B[34m\u001B[1m\t\t Samples of labels: \u001B[0m\n",
      "\u001B[32m2024-06-13 04:11:07.107\u001B[0m | \u001B[34m\u001B[1mDEBUG   \u001B[0m | \u001B[36mfedimpute.simulator.data_partition.utils\u001B[0m:\u001B[36mcalculate_data_partition_stats\u001B[0m:\u001B[36m80\u001B[0m - \u001B[34m\u001B[1m--------------------------------------------------\u001B[0m\n",
      "\u001B[32m2024-06-13 04:11:07.108\u001B[0m | \u001B[34m\u001B[1mDEBUG   \u001B[0m | \u001B[36mfedimpute.simulator.data_partition.utils\u001B[0m:\u001B[36mcalculate_data_partition_stats\u001B[0m:\u001B[36m75\u001B[0m - \u001B[34m\u001B[1mClient 8\t Size of data: 900\t Labels: \u001B[0m\n",
      "\u001B[32m2024-06-13 04:11:07.108\u001B[0m | \u001B[34m\u001B[1mDEBUG   \u001B[0m | \u001B[36mfedimpute.simulator.data_partition.utils\u001B[0m:\u001B[36mcalculate_data_partition_stats\u001B[0m:\u001B[36m79\u001B[0m - \u001B[34m\u001B[1m\t\t Samples of labels: \u001B[0m\n",
      "\u001B[32m2024-06-13 04:11:07.108\u001B[0m | \u001B[34m\u001B[1mDEBUG   \u001B[0m | \u001B[36mfedimpute.simulator.data_partition.utils\u001B[0m:\u001B[36mcalculate_data_partition_stats\u001B[0m:\u001B[36m80\u001B[0m - \u001B[34m\u001B[1m--------------------------------------------------\u001B[0m\n",
      "\u001B[32m2024-06-13 04:11:07.109\u001B[0m | \u001B[34m\u001B[1mDEBUG   \u001B[0m | \u001B[36mfedimpute.simulator.data_partition.utils\u001B[0m:\u001B[36mcalculate_data_partition_stats\u001B[0m:\u001B[36m75\u001B[0m - \u001B[34m\u001B[1mClient 9\t Size of data: 900\t Labels: \u001B[0m\n",
      "\u001B[32m2024-06-13 04:11:07.109\u001B[0m | \u001B[34m\u001B[1mDEBUG   \u001B[0m | \u001B[36mfedimpute.simulator.data_partition.utils\u001B[0m:\u001B[36mcalculate_data_partition_stats\u001B[0m:\u001B[36m79\u001B[0m - \u001B[34m\u001B[1m\t\t Samples of labels: \u001B[0m\n",
      "\u001B[32m2024-06-13 04:11:07.109\u001B[0m | \u001B[34m\u001B[1mDEBUG   \u001B[0m | \u001B[36mfedimpute.simulator.data_partition.utils\u001B[0m:\u001B[36mcalculate_data_partition_stats\u001B[0m:\u001B[36m80\u001B[0m - \u001B[34m\u001B[1m--------------------------------------------------\u001B[0m\n",
      "\u001B[32m2024-06-13 04:11:07.114\u001B[0m | \u001B[34m\u001B[1mDEBUG   \u001B[0m | \u001B[36mfedimpute.simulator.missing_simulate.add_missing\u001B[0m:\u001B[36m_add_missing_dist\u001B[0m:\u001B[36m229\u001B[0m - \u001B[34m\u001B[1m0 [0, 1, 2, 3, 4, 5, 6, 7, 8] [0.5, 0.7, 0.39999999999999997, 0.6, 0.3, 0.39999999999999997, 0.39999999999999997, 0.7, 0.5] ['left', 'right', 'left', 'right', 'right', 'right', 'left', 'right', 'right']\u001B[0m\n",
      "\u001B[32m2024-06-13 04:11:07.115\u001B[0m | \u001B[34m\u001B[1mDEBUG   \u001B[0m | \u001B[36mfedimpute.simulator.missing_simulate.add_missing\u001B[0m:\u001B[36m_add_missing_dist\u001B[0m:\u001B[36m229\u001B[0m - \u001B[34m\u001B[1m1 [0, 1, 2, 3, 4, 5, 6, 7, 8] [0.7, 0.5, 0.3, 0.7, 0.5, 0.3, 0.3, 0.6, 0.3] ['right', 'right', 'left', 'left', 'right', 'right', 'left', 'right', 'left']\u001B[0m\n",
      "\u001B[32m2024-06-13 04:11:07.117\u001B[0m | \u001B[34m\u001B[1mDEBUG   \u001B[0m | \u001B[36mfedimpute.simulator.missing_simulate.add_missing\u001B[0m:\u001B[36m_add_missing_dist\u001B[0m:\u001B[36m229\u001B[0m - \u001B[34m\u001B[1m2 [0, 1, 2, 3, 4, 5, 6, 7, 8] [0.7, 0.7, 0.6, 0.39999999999999997, 0.7, 0.5, 0.5, 0.7, 0.3] ['left', 'left', 'right', 'left', 'left', 'left', 'left', 'left', 'left']\u001B[0m\n",
      "\u001B[32m2024-06-13 04:11:07.118\u001B[0m | \u001B[34m\u001B[1mDEBUG   \u001B[0m | \u001B[36mfedimpute.simulator.missing_simulate.add_missing\u001B[0m:\u001B[36m_add_missing_dist\u001B[0m:\u001B[36m229\u001B[0m - \u001B[34m\u001B[1m3 [0, 1, 2, 3, 4, 5, 6, 7, 8] [0.7, 0.6, 0.5, 0.5, 0.7, 0.7, 0.5, 0.7, 0.7] ['left', 'right', 'right', 'left', 'left', 'right', 'right', 'right', 'left']\u001B[0m\n",
      "\u001B[32m2024-06-13 04:11:07.119\u001B[0m | \u001B[34m\u001B[1mDEBUG   \u001B[0m | \u001B[36mfedimpute.simulator.missing_simulate.add_missing\u001B[0m:\u001B[36m_add_missing_dist\u001B[0m:\u001B[36m229\u001B[0m - \u001B[34m\u001B[1m4 [0, 1, 2, 3, 4, 5, 6, 7, 8] [0.3, 0.7, 0.7, 0.7, 0.3, 0.5, 0.7, 0.3, 0.6] ['left', 'left', 'left', 'right', 'right', 'right', 'left', 'left', 'right']\u001B[0m\n",
      "\u001B[32m2024-06-13 04:11:07.119\u001B[0m | \u001B[34m\u001B[1mDEBUG   \u001B[0m | \u001B[36mfedimpute.simulator.missing_simulate.add_missing\u001B[0m:\u001B[36m_add_missing_dist\u001B[0m:\u001B[36m229\u001B[0m - \u001B[34m\u001B[1m5 [0, 1, 2, 3, 4, 5, 6, 7, 8] [0.7, 0.39999999999999997, 0.7, 0.7, 0.39999999999999997, 0.39999999999999997, 0.6, 0.6, 0.5] ['left', 'left', 'left', 'left', 'left', 'right', 'left', 'left', 'left']\u001B[0m\n",
      "\u001B[32m2024-06-13 04:11:07.120\u001B[0m | \u001B[34m\u001B[1mDEBUG   \u001B[0m | \u001B[36mfedimpute.simulator.missing_simulate.add_missing\u001B[0m:\u001B[36m_add_missing_dist\u001B[0m:\u001B[36m229\u001B[0m - \u001B[34m\u001B[1m6 [0, 1, 2, 3, 4, 5, 6, 7, 8] [0.39999999999999997, 0.5, 0.6, 0.7, 0.39999999999999997, 0.5, 0.5, 0.6, 0.3] ['left', 'left', 'left', 'right', 'left', 'right', 'left', 'left', 'left']\u001B[0m\n",
      "\u001B[32m2024-06-13 04:11:07.121\u001B[0m | \u001B[34m\u001B[1mDEBUG   \u001B[0m | \u001B[36mfedimpute.simulator.missing_simulate.add_missing\u001B[0m:\u001B[36m_add_missing_dist\u001B[0m:\u001B[36m229\u001B[0m - \u001B[34m\u001B[1m7 [0, 1, 2, 3, 4, 5, 6, 7, 8] [0.6, 0.6, 0.39999999999999997, 0.6, 0.6, 0.39999999999999997, 0.39999999999999997, 0.7, 0.7] ['left', 'left', 'right', 'left', 'left', 'left', 'left', 'right', 'left']\u001B[0m\n",
      "\u001B[32m2024-06-13 04:11:07.121\u001B[0m | \u001B[34m\u001B[1mDEBUG   \u001B[0m | \u001B[36mfedimpute.simulator.missing_simulate.add_missing\u001B[0m:\u001B[36m_add_missing_dist\u001B[0m:\u001B[36m229\u001B[0m - \u001B[34m\u001B[1m8 [0, 1, 2, 3, 4, 5, 6, 7, 8] [0.5, 0.3, 0.39999999999999997, 0.6, 0.3, 0.6, 0.7, 0.7, 0.3] ['right', 'left', 'left', 'right', 'right', 'right', 'right', 'right', 'right']\u001B[0m\n",
      "\u001B[32m2024-06-13 04:11:07.122\u001B[0m | \u001B[34m\u001B[1mDEBUG   \u001B[0m | \u001B[36mfedimpute.simulator.missing_simulate.add_missing\u001B[0m:\u001B[36m_add_missing_dist\u001B[0m:\u001B[36m229\u001B[0m - \u001B[34m\u001B[1m9 [0, 1, 2, 3, 4, 5, 6, 7, 8] [0.39999999999999997, 0.7, 0.6, 0.5, 0.6, 0.6, 0.5, 0.7, 0.39999999999999997] ['left', 'right', 'right', 'left', 'right', 'left', 'left', 'right', 'right']\u001B[0m\n"
     ]
    }
   ],
   "execution_count": 84
  },
  {
   "metadata": {
    "ExecuteTime": {
     "end_time": "2024-06-13T08:11:08.440110Z",
     "start_time": "2024-06-13T08:11:08.394577Z"
    }
   },
   "cell_type": "code",
   "source": "simulation_results.keys()",
   "id": "d7afe828531fe63f",
   "outputs": [
    {
     "data": {
      "text/plain": [
       "dict_keys(['clients_train_data', 'clients_test_data', 'clients_train_data_ms', 'clients_seeds', 'global_test_data'])"
      ]
     },
     "execution_count": 85,
     "metadata": {},
     "output_type": "execute_result"
    }
   ],
   "execution_count": 85
  },
  {
   "metadata": {
    "ExecuteTime": {
     "end_time": "2024-06-13T08:16:11.067069Z",
     "start_time": "2024-06-13T08:16:11.022050Z"
    }
   },
   "cell_type": "code",
   "source": [
    "%load_ext autoreload\n",
    "%autoreload 2\n",
    "from fedimpute.execution_environment import FedImputeEnv"
   ],
   "id": "dcd29c5931acd184",
   "outputs": [
    {
     "name": "stdout",
     "output_type": "stream",
     "text": [
      "The autoreload extension is already loaded. To reload it, use:\n",
      "  %reload_ext autoreload\n"
     ]
    }
   ],
   "execution_count": 90
  },
  {
   "metadata": {
    "ExecuteTime": {
     "end_time": "2024-06-13T08:16:13.136217Z",
     "start_time": "2024-06-13T08:16:13.053135Z"
    }
   },
   "cell_type": "code",
   "source": [
    "env = FedImputeEnv()\n",
    "env.configuration(imputer = 'gain', fed_strategy='fedavg', fit_mode = 'fed')\n",
    "env.setup(\n",
    "    clients_train_data=simulation_results['clients_train_data'],\n",
    "    clients_train_data_ms=simulation_results['clients_train_data_ms'],\n",
    "    clients_test_data=simulation_results['clients_test_data'],\n",
    "    clients_seeds=simulation_results['clients_seeds'],\n",
    "    data_config=data_config,\n",
    ")"
   ],
   "id": "4e1c6861c856d07a",
   "outputs": [
    {
     "name": "stderr",
     "output_type": "stream",
     "text": [
      "\u001B[32m2024-06-13 04:16:13.093\u001B[0m | \u001B[34m\u001B[1mDEBUG   \u001B[0m | \u001B[36mfedimpute.execution_environment.client.client\u001B[0m:\u001B[36mprofile\u001B[0m:\u001B[36m228\u001B[0m - \u001B[34m\u001B[1m------------------------------------------------------------------------------------------------------------------------\u001B[0m\n",
      "\u001B[32m2024-06-13 04:16:13.093\u001B[0m | \u001B[34m\u001B[1mDEBUG   \u001B[0m | \u001B[36mfedimpute.execution_environment.client.client\u001B[0m:\u001B[36mprofile\u001B[0m:\u001B[36m229\u001B[0m - \u001B[34m\u001B[1m| Client  0 | DS: (900, 9) | MissDS: (900, 9) | MaskDS: (900, 9) | ImputeDS: (900, 9) | MissRatio: 0.47 |\u001B[0m\n",
      "\u001B[32m2024-06-13 04:16:13.094\u001B[0m | \u001B[34m\u001B[1mDEBUG   \u001B[0m | \u001B[36mfedimpute.execution_environment.client.client\u001B[0m:\u001B[36mprofile\u001B[0m:\u001B[36m237\u001B[0m - \u001B[34m\u001B[1m| MissRatio Cols: [0.53 0.74 0.42 0.63 0.32 0.42 0.42 0.74 0.53] |\u001B[0m\n",
      "\u001B[32m2024-06-13 04:16:13.097\u001B[0m | \u001B[34m\u001B[1mDEBUG   \u001B[0m | \u001B[36mfedimpute.execution_environment.client.client\u001B[0m:\u001B[36mprofile\u001B[0m:\u001B[36m228\u001B[0m - \u001B[34m\u001B[1m------------------------------------------------------------------------------------------------------------------------\u001B[0m\n",
      "\u001B[32m2024-06-13 04:16:13.098\u001B[0m | \u001B[34m\u001B[1mDEBUG   \u001B[0m | \u001B[36mfedimpute.execution_environment.client.client\u001B[0m:\u001B[36mprofile\u001B[0m:\u001B[36m229\u001B[0m - \u001B[34m\u001B[1m| Client  1 | DS: (900, 9) | MissDS: (900, 9) | MaskDS: (900, 9) | ImputeDS: (900, 9) | MissRatio: 0.44 |\u001B[0m\n",
      "\u001B[32m2024-06-13 04:16:13.099\u001B[0m | \u001B[34m\u001B[1mDEBUG   \u001B[0m | \u001B[36mfedimpute.execution_environment.client.client\u001B[0m:\u001B[36mprofile\u001B[0m:\u001B[36m237\u001B[0m - \u001B[34m\u001B[1m| MissRatio Cols: [0.74 0.53 0.32 0.74 0.53 0.32 0.32 0.63 0.32] |\u001B[0m\n",
      "\u001B[32m2024-06-13 04:16:13.101\u001B[0m | \u001B[34m\u001B[1mDEBUG   \u001B[0m | \u001B[36mfedimpute.execution_environment.client.client\u001B[0m:\u001B[36mprofile\u001B[0m:\u001B[36m228\u001B[0m - \u001B[34m\u001B[1m------------------------------------------------------------------------------------------------------------------------\u001B[0m\n",
      "\u001B[32m2024-06-13 04:16:13.102\u001B[0m | \u001B[34m\u001B[1mDEBUG   \u001B[0m | \u001B[36mfedimpute.execution_environment.client.client\u001B[0m:\u001B[36mprofile\u001B[0m:\u001B[36m229\u001B[0m - \u001B[34m\u001B[1m| Client  2 | DS: (900, 9) | MissDS: (900, 9) | MaskDS: (900, 9) | ImputeDS: (900, 9) | MissRatio: 0.54 |\u001B[0m\n",
      "\u001B[32m2024-06-13 04:16:13.102\u001B[0m | \u001B[34m\u001B[1mDEBUG   \u001B[0m | \u001B[36mfedimpute.execution_environment.client.client\u001B[0m:\u001B[36mprofile\u001B[0m:\u001B[36m237\u001B[0m - \u001B[34m\u001B[1m| MissRatio Cols: [0.74 0.74 0.63 0.42 0.74 0.53 0.53 0.74 0.32] |\u001B[0m\n",
      "\u001B[32m2024-06-13 04:16:13.105\u001B[0m | \u001B[34m\u001B[1mDEBUG   \u001B[0m | \u001B[36mfedimpute.execution_environment.client.client\u001B[0m:\u001B[36mprofile\u001B[0m:\u001B[36m228\u001B[0m - \u001B[34m\u001B[1m------------------------------------------------------------------------------------------------------------------------\u001B[0m\n",
      "\u001B[32m2024-06-13 04:16:13.106\u001B[0m | \u001B[34m\u001B[1mDEBUG   \u001B[0m | \u001B[36mfedimpute.execution_environment.client.client\u001B[0m:\u001B[36mprofile\u001B[0m:\u001B[36m229\u001B[0m - \u001B[34m\u001B[1m| Client  3 | DS: (900, 9) | MissDS: (900, 9) | MaskDS: (900, 9) | ImputeDS: (900, 9) | MissRatio: 0.59 |\u001B[0m\n",
      "\u001B[32m2024-06-13 04:16:13.107\u001B[0m | \u001B[34m\u001B[1mDEBUG   \u001B[0m | \u001B[36mfedimpute.execution_environment.client.client\u001B[0m:\u001B[36mprofile\u001B[0m:\u001B[36m237\u001B[0m - \u001B[34m\u001B[1m| MissRatio Cols: [0.74 0.63 0.53 0.53 0.74 0.74 0.53 0.74 0.74] |\u001B[0m\n",
      "\u001B[32m2024-06-13 04:16:13.110\u001B[0m | \u001B[34m\u001B[1mDEBUG   \u001B[0m | \u001B[36mfedimpute.execution_environment.client.client\u001B[0m:\u001B[36mprofile\u001B[0m:\u001B[36m228\u001B[0m - \u001B[34m\u001B[1m------------------------------------------------------------------------------------------------------------------------\u001B[0m\n",
      "\u001B[32m2024-06-13 04:16:13.111\u001B[0m | \u001B[34m\u001B[1mDEBUG   \u001B[0m | \u001B[36mfedimpute.execution_environment.client.client\u001B[0m:\u001B[36mprofile\u001B[0m:\u001B[36m229\u001B[0m - \u001B[34m\u001B[1m| Client  4 | DS: (900, 9) | MissDS: (900, 9) | MaskDS: (900, 9) | ImputeDS: (900, 9) | MissRatio: 0.51 |\u001B[0m\n",
      "\u001B[32m2024-06-13 04:16:13.112\u001B[0m | \u001B[34m\u001B[1mDEBUG   \u001B[0m | \u001B[36mfedimpute.execution_environment.client.client\u001B[0m:\u001B[36mprofile\u001B[0m:\u001B[36m237\u001B[0m - \u001B[34m\u001B[1m| MissRatio Cols: [0.32 0.74 0.74 0.74 0.32 0.53 0.74 0.32 0.63] |\u001B[0m\n",
      "\u001B[32m2024-06-13 04:16:13.114\u001B[0m | \u001B[34m\u001B[1mDEBUG   \u001B[0m | \u001B[36mfedimpute.execution_environment.client.client\u001B[0m:\u001B[36mprofile\u001B[0m:\u001B[36m228\u001B[0m - \u001B[34m\u001B[1m------------------------------------------------------------------------------------------------------------------------\u001B[0m\n",
      "\u001B[32m2024-06-13 04:16:13.115\u001B[0m | \u001B[34m\u001B[1mDEBUG   \u001B[0m | \u001B[36mfedimpute.execution_environment.client.client\u001B[0m:\u001B[36mprofile\u001B[0m:\u001B[36m229\u001B[0m - \u001B[34m\u001B[1m| Client  5 | DS: (900, 9) | MissDS: (900, 9) | MaskDS: (900, 9) | ImputeDS: (900, 9) | MissRatio: 0.53 |\u001B[0m\n",
      "\u001B[32m2024-06-13 04:16:13.115\u001B[0m | \u001B[34m\u001B[1mDEBUG   \u001B[0m | \u001B[36mfedimpute.execution_environment.client.client\u001B[0m:\u001B[36mprofile\u001B[0m:\u001B[36m237\u001B[0m - \u001B[34m\u001B[1m| MissRatio Cols: [0.74 0.42 0.74 0.74 0.42 0.42 0.63 0.63 0.53] |\u001B[0m\n",
      "\u001B[32m2024-06-13 04:16:13.118\u001B[0m | \u001B[34m\u001B[1mDEBUG   \u001B[0m | \u001B[36mfedimpute.execution_environment.client.client\u001B[0m:\u001B[36mprofile\u001B[0m:\u001B[36m228\u001B[0m - \u001B[34m\u001B[1m------------------------------------------------------------------------------------------------------------------------\u001B[0m\n",
      "\u001B[32m2024-06-13 04:16:13.118\u001B[0m | \u001B[34m\u001B[1mDEBUG   \u001B[0m | \u001B[36mfedimpute.execution_environment.client.client\u001B[0m:\u001B[36mprofile\u001B[0m:\u001B[36m229\u001B[0m - \u001B[34m\u001B[1m| Client  6 | DS: (900, 9) | MissDS: (900, 9) | MaskDS: (900, 9) | ImputeDS: (900, 9) | MissRatio: 0.47 |\u001B[0m\n",
      "\u001B[32m2024-06-13 04:16:13.119\u001B[0m | \u001B[34m\u001B[1mDEBUG   \u001B[0m | \u001B[36mfedimpute.execution_environment.client.client\u001B[0m:\u001B[36mprofile\u001B[0m:\u001B[36m237\u001B[0m - \u001B[34m\u001B[1m| MissRatio Cols: [0.42 0.53 0.63 0.74 0.42 0.53 0.53 0.63 0.32] |\u001B[0m\n",
      "\u001B[32m2024-06-13 04:16:13.122\u001B[0m | \u001B[34m\u001B[1mDEBUG   \u001B[0m | \u001B[36mfedimpute.execution_environment.client.client\u001B[0m:\u001B[36mprofile\u001B[0m:\u001B[36m228\u001B[0m - \u001B[34m\u001B[1m------------------------------------------------------------------------------------------------------------------------\u001B[0m\n",
      "\u001B[32m2024-06-13 04:16:13.123\u001B[0m | \u001B[34m\u001B[1mDEBUG   \u001B[0m | \u001B[36mfedimpute.execution_environment.client.client\u001B[0m:\u001B[36mprofile\u001B[0m:\u001B[36m229\u001B[0m - \u001B[34m\u001B[1m| Client  7 | DS: (900, 9) | MissDS: (900, 9) | MaskDS: (900, 9) | ImputeDS: (900, 9) | MissRatio: 0.53 |\u001B[0m\n",
      "\u001B[32m2024-06-13 04:16:13.123\u001B[0m | \u001B[34m\u001B[1mDEBUG   \u001B[0m | \u001B[36mfedimpute.execution_environment.client.client\u001B[0m:\u001B[36mprofile\u001B[0m:\u001B[36m237\u001B[0m - \u001B[34m\u001B[1m| MissRatio Cols: [0.63 0.63 0.42 0.63 0.63 0.42 0.42 0.74 0.74] |\u001B[0m\n",
      "\u001B[32m2024-06-13 04:16:13.126\u001B[0m | \u001B[34m\u001B[1mDEBUG   \u001B[0m | \u001B[36mfedimpute.execution_environment.client.client\u001B[0m:\u001B[36mprofile\u001B[0m:\u001B[36m228\u001B[0m - \u001B[34m\u001B[1m------------------------------------------------------------------------------------------------------------------------\u001B[0m\n",
      "\u001B[32m2024-06-13 04:16:13.126\u001B[0m | \u001B[34m\u001B[1mDEBUG   \u001B[0m | \u001B[36mfedimpute.execution_environment.client.client\u001B[0m:\u001B[36mprofile\u001B[0m:\u001B[36m229\u001B[0m - \u001B[34m\u001B[1m| Client  8 | DS: (900, 9) | MissDS: (900, 9) | MaskDS: (900, 9) | ImputeDS: (900, 9) | MissRatio: 0.46 |\u001B[0m\n",
      "\u001B[32m2024-06-13 04:16:13.127\u001B[0m | \u001B[34m\u001B[1mDEBUG   \u001B[0m | \u001B[36mfedimpute.execution_environment.client.client\u001B[0m:\u001B[36mprofile\u001B[0m:\u001B[36m237\u001B[0m - \u001B[34m\u001B[1m| MissRatio Cols: [0.53 0.32 0.42 0.63 0.32 0.63 0.74 0.74 0.32] |\u001B[0m\n",
      "\u001B[32m2024-06-13 04:16:13.129\u001B[0m | \u001B[34m\u001B[1mDEBUG   \u001B[0m | \u001B[36mfedimpute.execution_environment.client.client\u001B[0m:\u001B[36mprofile\u001B[0m:\u001B[36m228\u001B[0m - \u001B[34m\u001B[1m------------------------------------------------------------------------------------------------------------------------\u001B[0m\n",
      "\u001B[32m2024-06-13 04:16:13.130\u001B[0m | \u001B[34m\u001B[1mDEBUG   \u001B[0m | \u001B[36mfedimpute.execution_environment.client.client\u001B[0m:\u001B[36mprofile\u001B[0m:\u001B[36m229\u001B[0m - \u001B[34m\u001B[1m| Client  9 | DS: (900, 9) | MissDS: (900, 9) | MaskDS: (900, 9) | ImputeDS: (900, 9) | MissRatio: 0.53 |\u001B[0m\n",
      "\u001B[32m2024-06-13 04:16:13.130\u001B[0m | \u001B[34m\u001B[1mDEBUG   \u001B[0m | \u001B[36mfedimpute.execution_environment.client.client\u001B[0m:\u001B[36mprofile\u001B[0m:\u001B[36m237\u001B[0m - \u001B[34m\u001B[1m| MissRatio Cols: [0.42 0.74 0.63 0.53 0.63 0.63 0.53 0.74 0.42] |\u001B[0m\n"
     ]
    }
   ],
   "execution_count": 91
  },
  {
   "metadata": {
    "ExecuteTime": {
     "end_time": "2024-06-13T07:57:22.267859Z",
     "start_time": "2024-06-13T07:57:22.228018Z"
    }
   },
   "cell_type": "code",
   "source": [
    "print(env.imputer_name)\n",
    "print(env.fed_strategy_name)"
   ],
   "id": "95a0f7246cf89b56",
   "outputs": [
    {
     "name": "stdout",
     "output_type": "stream",
     "text": [
      "gain\n",
      "fedavg\n"
     ]
    }
   ],
   "execution_count": 70
  },
  {
   "metadata": {},
   "cell_type": "code",
   "outputs": [],
   "execution_count": null,
   "source": "",
   "id": "9b24cc1c46330ca5"
  }
 ],
 "metadata": {
  "kernelspec": {
   "display_name": "Python 3",
   "language": "python",
   "name": "python3"
  },
  "language_info": {
   "codemirror_mode": {
    "name": "ipython",
    "version": 2
   },
   "file_extension": ".py",
   "mimetype": "text/x-python",
   "name": "python",
   "nbconvert_exporter": "python",
   "pygments_lexer": "ipython2",
   "version": "2.7.6"
  }
 },
 "nbformat": 4,
 "nbformat_minor": 5
}
