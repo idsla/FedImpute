{
 "cells": [
  {
   "cell_type": "code",
   "execution_count": 1,
   "metadata": {},
   "outputs": [],
   "source": [
    "import torch\n"
   ]
  },
  {
   "cell_type": "code",
   "execution_count": 2,
   "metadata": {},
   "outputs": [
    {
     "name": "stdout",
     "output_type": "stream",
     "text": [
      "Parameter: fc1.weight, Shape: torch.Size([5, 10])\n",
      "Parameter: fc1.bias, Shape: torch.Size([5])\n",
      "Parameter: fc2.weight, Shape: torch.Size([1, 5])\n",
      "Parameter: fc2.bias, Shape: torch.Size([1])\n",
      "Parameter: bn.weight, Shape: torch.Size([5])\n",
      "Parameter: bn.bias, Shape: torch.Size([5])\n",
      "Key: fc1.weight, Shape: torch.Size([5, 10])\n",
      "Key: fc1.bias, Shape: torch.Size([5])\n",
      "Key: fc2.weight, Shape: torch.Size([1, 5])\n",
      "Key: fc2.bias, Shape: torch.Size([1])\n",
      "Key: bn.weight, Shape: torch.Size([5])\n",
      "Key: bn.bias, Shape: torch.Size([5])\n",
      "Key: bn.running_mean, Shape: torch.Size([5])\n",
      "Key: bn.running_var, Shape: torch.Size([5])\n",
      "Key: bn.num_batches_tracked, Shape: torch.Size([])\n"
     ]
    }
   ],
   "source": [
    "import torch\n",
    "import torch.nn as nn\n",
    "\n",
    "class SimpleModel(nn.Module):\n",
    "    def __init__(self):\n",
    "        super().__init__()\n",
    "        self.fc1 = nn.Linear(10, 5)\n",
    "        self.fc2 = nn.Linear(5, 1)\n",
    "        self.bn = nn.BatchNorm1d(5)\n",
    "    \n",
    "    def forward(self, x):\n",
    "        x = self.fc1(x)\n",
    "        x = self.bn(x)\n",
    "        x = self.fc2(x)\n",
    "        return x\n",
    "\n",
    "model = SimpleModel()\n",
    "\n",
    "# Using parameters()\n",
    "for name, param in model.named_parameters():\n",
    "    print(f\"Parameter: {name}, Shape: {param.shape}\")\n",
    "\n",
    "# Using state_dict()\n",
    "for key, value in model.state_dict().items():\n",
    "    print(f\"Key: {key}, Shape: {value.shape}\")"
   ]
  },
  {
   "cell_type": "code",
   "execution_count": 18,
   "metadata": {},
   "outputs": [],
   "source": [
    "list(model.parameters())[0]"
   ]
  },
  {
   "cell_type": "code",
   "execution_count": 20,
   "metadata": {},
   "outputs": [
    {
     "data": {
      "text/plain": [
       "['fc1.weight',\n",
       " 'fc1.bias',\n",
       " 'fc2.weight',\n",
       " 'fc2.bias',\n",
       " 'bn.weight',\n",
       " 'bn.bias',\n",
       " 'bn.running_mean',\n",
       " 'bn.running_var',\n",
       " 'bn.num_batches_tracked']"
      ]
     },
     "execution_count": 20,
     "metadata": {},
     "output_type": "execute_result"
    }
   ],
   "source": [
    "list(model.state_dict().keys())"
   ]
  },
  {
   "cell_type": "code",
   "execution_count": null,
   "metadata": {},
   "outputs": [],
   "source": []
  }
 ],
 "metadata": {
  "kernelspec": {
   "display_name": ".venv",
   "language": "python",
   "name": "python3"
  },
  "language_info": {
   "codemirror_mode": {
    "name": "ipython",
    "version": 3
   },
   "file_extension": ".py",
   "mimetype": "text/x-python",
   "name": "python",
   "nbconvert_exporter": "python",
   "pygments_lexer": "ipython3",
   "version": "3.10.0"
  }
 },
 "nbformat": 4,
 "nbformat_minor": 2
}
