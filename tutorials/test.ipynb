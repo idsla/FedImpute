{
 "cells": [
  {
   "cell_type": "code",
   "execution_count": 1,
   "metadata": {},
   "outputs": [],
   "source": [
    "import torch\n"
   ]
  },
  {
   "cell_type": "code",
   "execution_count": 2,
   "metadata": {},
   "outputs": [
    {
     "name": "stdout",
     "output_type": "stream",
     "text": [
      "Parameter: fc1.weight, Shape: torch.Size([5, 10])\n",
      "Parameter: fc1.bias, Shape: torch.Size([5])\n",
      "Parameter: fc2.weight, Shape: torch.Size([1, 5])\n",
      "Parameter: fc2.bias, Shape: torch.Size([1])\n",
      "Parameter: bn.weight, Shape: torch.Size([5])\n",
      "Parameter: bn.bias, Shape: torch.Size([5])\n",
      "Key: fc1.weight, Shape: torch.Size([5, 10])\n",
      "Key: fc1.bias, Shape: torch.Size([5])\n",
      "Key: fc2.weight, Shape: torch.Size([1, 5])\n",
      "Key: fc2.bias, Shape: torch.Size([1])\n",
      "Key: bn.weight, Shape: torch.Size([5])\n",
      "Key: bn.bias, Shape: torch.Size([5])\n",
      "Key: bn.running_mean, Shape: torch.Size([5])\n",
      "Key: bn.running_var, Shape: torch.Size([5])\n",
      "Key: bn.num_batches_tracked, Shape: torch.Size([])\n"
     ]
    }
   ],
   "source": [
    "import torch\n",
    "import torch.nn as nn\n",
    "\n",
    "class SimpleModel(nn.Module):\n",
    "    def __init__(self):\n",
    "        super().__init__()\n",
    "        self.fc1 = nn.Linear(10, 5)\n",
    "        self.fc2 = nn.Linear(5, 1)\n",
    "        self.bn = nn.BatchNorm1d(5)\n",
    "    \n",
    "    def forward(self, x):\n",
    "        x = self.fc1(x)\n",
    "        x = self.bn(x)\n",
    "        x = self.fc2(x)\n",
    "        return x\n",
    "\n",
    "model = SimpleModel()\n",
    "\n",
    "# Using parameters()\n",
    "for name, param in model.named_parameters():\n",
    "    print(f\"Parameter: {name}, Shape: {param.shape}\")\n",
    "\n",
    "# Using state_dict()\n",
    "for key, value in model.state_dict().items():\n",
    "    print(f\"Key: {key}, Shape: {value.shape}\")"
   ]
  },
  {
   "cell_type": "code",
   "execution_count": 18,
   "metadata": {},
   "outputs": [],
   "source": [
    "list(model.parameters())[0]"
   ]
  },
  {
   "cell_type": "code",
   "execution_count": 20,
   "metadata": {},
   "outputs": [
    {
     "data": {
      "text/plain": [
       "['fc1.weight',\n",
       " 'fc1.bias',\n",
       " 'fc2.weight',\n",
       " 'fc2.bias',\n",
       " 'bn.weight',\n",
       " 'bn.bias',\n",
       " 'bn.running_mean',\n",
       " 'bn.running_var',\n",
       " 'bn.num_batches_tracked']"
      ]
     },
     "execution_count": 20,
     "metadata": {},
     "output_type": "execute_result"
    }
   ],
   "source": [
    "list(model.state_dict().keys())"
   ]
  },
  {
   "cell_type": "code",
   "execution_count": 1,
   "metadata": {},
   "outputs": [
    {
     "name": "stdout",
     "output_type": "stream",
     "text": [
      "\n",
      "Optimizer's state_dict:\n",
      "{'state': {0: {'momentum_buffer': tensor([[ 0.0313,  0.0339,  0.0874, -0.0087,  0.0137,  0.1344,  0.0038, -0.0970,\n",
      "          0.0033, -0.0436],\n",
      "        [ 0.0576, -0.0214, -0.0337, -0.0951,  0.1063, -0.0294,  0.0698, -0.0051,\n",
      "          0.0641,  0.0501],\n",
      "        [-0.0129,  0.0419, -0.0064,  0.0444, -0.0317,  0.0300, -0.0335,  0.0141,\n",
      "         -0.0314, -0.0156],\n",
      "        [-0.0365, -0.0575,  0.0319,  0.0683, -0.0525,  0.0016,  0.0147, -0.0518,\n",
      "          0.0190, -0.0135],\n",
      "        [-0.0199,  0.0299,  0.0084,  0.0188, -0.0722, -0.0263, -0.0611,  0.0114,\n",
      "         -0.0439, -0.0192]])}, 1: {'momentum_buffer': tensor([ 0.0098, -0.0143,  0.0483,  0.0414, -0.0137])}, 2: {'momentum_buffer': tensor([[ 0.0251,  0.0858, -0.0635, -0.0538,  0.0103]])}, 3: {'momentum_buffer': tensor([-0.0850])}}, 'param_groups': [{'lr': 0.01, 'momentum': 0.9, 'dampening': 0, 'weight_decay': 0, 'nesterov': False, 'maximize': False, 'foreach': None, 'differentiable': False, 'fused': None, 'params': [0, 1, 2, 3]}]}\n",
      "\n",
      "Parameter groups:\n",
      "Group 0:\n",
      "  params: 4 tensors\n",
      "  lr: 0.01\n",
      "  momentum: 0.9\n",
      "  dampening: 0\n",
      "  weight_decay: 0\n",
      "  nesterov: False\n",
      "  maximize: False\n",
      "  foreach: None\n",
      "  differentiable: False\n",
      "  fused: None\n"
     ]
    }
   ],
   "source": [
    "import torch\n",
    "import torch.nn as nn\n",
    "import torch.optim as optim\n",
    "\n",
    "# 创建一个简单的模型\n",
    "class SimpleModel(nn.Module):\n",
    "    def __init__(self):\n",
    "        super(SimpleModel, self).__init__()\n",
    "        self.fc1 = nn.Linear(10, 5)\n",
    "        self.fc2 = nn.Linear(5, 1)\n",
    "\n",
    "    def forward(self, x):\n",
    "        x = torch.relu(self.fc1(x))\n",
    "        x = self.fc2(x)\n",
    "        return x\n",
    "\n",
    "# 初始化模型\n",
    "model = SimpleModel()\n",
    "\n",
    "# 创建 SGD 优化器\n",
    "optimizer = optim.SGD(model.parameters(), lr=0.01, momentum=0.9)\n",
    "\n",
    "# 模拟一次训练迭代\n",
    "input_data = torch.randn(32, 10)\n",
    "target = torch.randn(32, 1)\n",
    "criterion = nn.MSELoss()\n",
    "\n",
    "def train_step():\n",
    "    optimizer.zero_grad()\n",
    "    output = model(input_data)\n",
    "    loss = criterion(output, target)\n",
    "    loss.backward()\n",
    "    optimizer.step()\n",
    "    return loss.item()\n",
    "\n",
    "# 执行一步训练\n",
    "loss = train_step()\n",
    "\n",
    "print(\"\\nOptimizer's state_dict:\")\n",
    "print(optimizer.state_dict())\n",
    "\n",
    "print(\"\\nParameter groups:\")\n",
    "for i, group in enumerate(optimizer.param_groups):\n",
    "    print(f\"Group {i}:\")\n",
    "    for key, value in group.items():\n",
    "        if key != 'params':\n",
    "            print(f\"  {key}: {value}\")\n",
    "        else:\n",
    "            print(f\"  params: {len(value)} tensors\")\n"
   ]
  }
 ],
 "metadata": {
  "kernelspec": {
   "display_name": ".venv",
   "language": "python",
   "name": "python3"
  },
  "language_info": {
   "codemirror_mode": {
    "name": "ipython",
    "version": 3
   },
   "file_extension": ".py",
   "mimetype": "text/x-python",
   "name": "python",
   "nbconvert_exporter": "python",
   "pygments_lexer": "ipython3",
   "version": "3.11.4"
  }
 },
 "nbformat": 4,
 "nbformat_minor": 2
}
