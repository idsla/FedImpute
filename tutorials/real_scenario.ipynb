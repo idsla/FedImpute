{
 "cells": [
  {
   "cell_type": "code",
   "execution_count": null,
   "metadata": {},
   "outputs": [],
   "source": [
    "! pip install fedimpute==0.1.0\n",
    "! pip install tabulate matplotlib numpy pandas"
   ]
  },
  {
   "cell_type": "code",
   "execution_count": 1,
   "metadata": {},
   "outputs": [
    {
     "name": "stdout",
     "output_type": "stream",
     "text": [
      "d:\\min\\research_projects\\FedImpute\n"
     ]
    },
    {
     "name": "stderr",
     "output_type": "stream",
     "text": [
      "d:\\min\\research_projects\\FedImpute\\.venv\\Lib\\site-packages\\IPython\\core\\magics\\osm.py:417: UserWarning: This is now an optional IPython functionality, setting dhist requires you to install the `pickleshare` library.\n",
      "  self.shell.db['dhist'] = compress_dhist(dhist)[-100:]\n"
     ]
    }
   ],
   "source": [
    "cd .."
   ]
  },
  {
   "cell_type": "code",
   "execution_count": 2,
   "metadata": {},
   "outputs": [],
   "source": [
    "import numpy as np\n",
    "import pandas as pd\n",
    "import tabulate"
   ]
  },
  {
   "cell_type": "markdown",
   "metadata": {},
   "source": [
    "# Load Data"
   ]
  },
  {
   "cell_type": "code",
   "execution_count": 18,
   "metadata": {},
   "outputs": [
    {
     "name": "stdout",
     "output_type": "stream",
     "text": [
      "The autoreload extension is already loaded. To reload it, use:\n",
      "  %reload_ext autoreload\n",
      "==================================================================\n",
      "Scenario Summary\n",
      "==================================================================\n",
      "Total clients: 4\n",
      "Global Test Data: (94, 15)\n",
      "Missing Mechanism Category: MCAR\n",
      "Clients Data Summary:\n",
      "     Train     Test      Miss     MS Ratio    MS Feature    Seed\n",
      "--  --------  -------  --------  ----------  ------------  ------\n",
      "C1  (244,15)  (28,15)  (244,14)     0.00         0/14       6077\n",
      "C2  (237,15)  (27,15)  (237,14)     0.05         4/14       577\n",
      "C3  (99,15)   (11,15)  (99,14)      0.01         3/14       7231\n",
      "C4  (162,15)  (18,15)  (162,14)     0.10         5/14       5504\n",
      "==================================================================\n",
      "\n"
     ]
    }
   ],
   "source": [
    "%load_ext autoreload\n",
    "%autoreload 2\n",
    "\n",
    "from fedimpute.data_prep import load_data, display_data, column_check\n",
    "from fedimpute.scenario import ScenarioBuilder\n",
    "data, data_config = load_data(\"fed_heart_disease\")\n",
    "scenario_builder = ScenarioBuilder()\n",
    "scenario_data = scenario_builder.create_real_scenario(\n",
    "    data, data_config,\n",
    ")\n",
    "scenario_builder.summarize_scenario()"
   ]
  },
  {
   "cell_type": "code",
   "execution_count": 19,
   "metadata": {},
   "outputs": [],
   "source": [
    "scenario_builder.visualize_missing_pattern(\n",
    "    client_ids=[0, 1, 2, 3], data_type='train', fontsize=20, save_path='./plots/real_pattern_train.png'\n",
    ")"
   ]
  },
  {
   "cell_type": "code",
   "execution_count": 20,
   "metadata": {},
   "outputs": [],
   "source": [
    "scenario_builder.visualize_missing_pattern(\n",
    "    client_ids=[0, 1, 2, 3], data_type='test', fontsize=20, save_path='./plots/real_pattern_test.png'\n",
    ")"
   ]
  },
  {
   "cell_type": "markdown",
   "metadata": {},
   "source": [
    "# Running Federated Imputation"
   ]
  },
  {
   "cell_type": "code",
   "execution_count": 21,
   "metadata": {},
   "outputs": [
    {
     "name": "stdout",
     "output_type": "stream",
     "text": [
      "The autoreload extension is already loaded. To reload it, use:\n",
      "  %reload_ext autoreload\n",
      "\u001b[1mSetting up clients...\u001b[0m\n",
      "\u001b[1mSetting up server...\u001b[0m\n",
      "\u001b[1mSetting up workflow...\u001b[0m\n",
      "\u001b[1mEnvironment setup complete.\u001b[0m\n",
      "============================================================\n",
      "Environment Information:\n",
      "============================================================\n",
      "Workflow: ICE (Imputation via Chain Equation)\n",
      "Clients:\n",
      " - Client 0: imputer: mice, fed-strategy: fedmice\n",
      " - Client 1: imputer: mice, fed-strategy: fedmice\n",
      " - Client 2: imputer: mice, fed-strategy: fedmice\n",
      " - Client 3: imputer: mice, fed-strategy: fedmice\n",
      "Server: fed-strategy: fedmice\n",
      "============================================================\n",
      "\n",
      "\u001b[32m\u001b[1mImputation Start ...\u001b[0m\n"
     ]
    },
    {
     "data": {
      "application/vnd.jupyter.widget-view+json": {
       "model_id": "41ede28c54a24c09a8555413f48b4ba5",
       "version_major": 2,
       "version_minor": 0
      },
      "text/plain": [
       "ICE Iterations:   0%|          | 0/20 [00:00<?, ?it/s]"
      ]
     },
     "metadata": {},
     "output_type": "display_data"
    },
    {
     "data": {
      "application/vnd.jupyter.widget-view+json": {
       "model_id": "f16eacd65d764e44ae88c8eb5ac3023b",
       "version_major": 2,
       "version_minor": 0
      },
      "text/plain": [
       "Feature_idx:   0%|          | 0/14 [00:00<?, ?it/s]"
      ]
     },
     "metadata": {},
     "output_type": "display_data"
    },
    {
     "data": {
      "application/vnd.jupyter.widget-view+json": {
       "model_id": "09f4d95e464d47c98a665003cf9bb3e4",
       "version_major": 2,
       "version_minor": 0
      },
      "text/plain": [
       "Feature_idx:   0%|          | 0/14 [00:00<?, ?it/s]"
      ]
     },
     "metadata": {},
     "output_type": "display_data"
    },
    {
     "data": {
      "application/vnd.jupyter.widget-view+json": {
       "model_id": "5f3887b444344e6d966a41f62ccc063a",
       "version_major": 2,
       "version_minor": 0
      },
      "text/plain": [
       "Feature_idx:   0%|          | 0/14 [00:00<?, ?it/s]"
      ]
     },
     "metadata": {},
     "output_type": "display_data"
    },
    {
     "data": {
      "application/vnd.jupyter.widget-view+json": {
       "model_id": "e943b0d33592494f94c2a5fc5ef1fa41",
       "version_major": 2,
       "version_minor": 0
      },
      "text/plain": [
       "Feature_idx:   0%|          | 0/14 [00:00<?, ?it/s]"
      ]
     },
     "metadata": {},
     "output_type": "display_data"
    },
    {
     "data": {
      "application/vnd.jupyter.widget-view+json": {
       "model_id": "e4596943d89d4e76aa443e26646b6eed",
       "version_major": 2,
       "version_minor": 0
      },
      "text/plain": [
       "Feature_idx:   0%|          | 0/14 [00:00<?, ?it/s]"
      ]
     },
     "metadata": {},
     "output_type": "display_data"
    },
    {
     "data": {
      "application/vnd.jupyter.widget-view+json": {
       "model_id": "8869b4c352604ef29e8ce90ef58c8aaf",
       "version_major": 2,
       "version_minor": 0
      },
      "text/plain": [
       "Feature_idx:   0%|          | 0/14 [00:00<?, ?it/s]"
      ]
     },
     "metadata": {},
     "output_type": "display_data"
    },
    {
     "data": {
      "application/vnd.jupyter.widget-view+json": {
       "model_id": "ba39b7ea822d45e0a3e83ad794cf6157",
       "version_major": 2,
       "version_minor": 0
      },
      "text/plain": [
       "Feature_idx:   0%|          | 0/14 [00:00<?, ?it/s]"
      ]
     },
     "metadata": {},
     "output_type": "display_data"
    },
    {
     "data": {
      "application/vnd.jupyter.widget-view+json": {
       "model_id": "5365cd7906734e50bab2dfd92fa5c155",
       "version_major": 2,
       "version_minor": 0
      },
      "text/plain": [
       "Feature_idx:   0%|          | 0/14 [00:00<?, ?it/s]"
      ]
     },
     "metadata": {},
     "output_type": "display_data"
    },
    {
     "name": "stdout",
     "output_type": "stream",
     "text": [
      "\u001b[32m\u001b[1mFinished. Running time: 0.6903 seconds\u001b[0m\n"
     ]
    }
   ],
   "source": [
    "%load_ext autoreload\n",
    "%autoreload 2\n",
    "from fedimpute.execution_environment import FedImputeEnv\n",
    "\n",
    "env = FedImputeEnv(debug_mode=False)\n",
    "env.configuration(imputer = 'mice', fed_strategy='fedmice', workflow_params = {'early_stopping_metric': 'loss'})\n",
    "env.setup_from_scenario_builder(scenario_builder = scenario_builder, verbose=1)\n",
    "env.show_env_info()\n",
    "env.run_fed_imputation(verbose=1)"
   ]
  },
  {
   "cell_type": "markdown",
   "metadata": {},
   "source": [
    "# Evaluation"
   ]
  },
  {
   "cell_type": "code",
   "execution_count": 22,
   "metadata": {},
   "outputs": [
    {
     "name": "stdout",
     "output_type": "stream",
     "text": [
      "The autoreload extension is already loaded. To reload it, use:\n",
      "  %reload_ext autoreload\n"
     ]
    }
   ],
   "source": [
    "%load_ext autoreload\n",
    "%autoreload 2\n",
    "from fedimpute.evaluation import Evaluator\n",
    "\n",
    "evaluator = Evaluator()\n",
    "\n",
    "X_train_imps, y_trains = env.get_data(client_ids='all', data_type = 'train_imp', include_y=True)\n",
    "X_tests, y_tests = env.get_data(client_ids='all', data_type = 'test', include_y=True)\n",
    "X_test_imps = env.get_data(client_ids='all', data_type = 'test_imp')\n",
    "X_global_test, y_global_test = env.get_data(data_type = 'global_test', include_y = True)\n",
    "X_global_test_imp = env.get_data(data_type = 'global_test_imp')\n",
    "data_config = env.get_data(data_type = 'config')"
   ]
  },
  {
   "cell_type": "markdown",
   "metadata": {},
   "source": [
    "### Federated Prediction"
   ]
  },
  {
   "cell_type": "code",
   "execution_count": 23,
   "metadata": {},
   "outputs": [
    {
     "name": "stdout",
     "output_type": "stream",
     "text": [
      "                      Federated Logit Regression Result                       \n",
      "==============================================================================\n",
      "Dep. Variable:                    num   No. Observations:                  742\n",
      "Model:                          Logit   Df Residuals:                      727\n",
      "Method:                           MLE   Df Model:                           14\n",
      "Date:                Mon, 21 Apr 2025   Pseudo R-squ.:                  0.4122\n",
      "Time:                        16:45:26   Log-Likelihood:                -299.78\n",
      "converged:                       True   LL-Null:                       -509.99\n",
      "Covariance Type:            nonrobust   LLR p-value:                 6.246e-81\n",
      "==============================================================================\n",
      "                 coef    std err          z      P>|z|      [0.025      0.975]\n",
      "------------------------------------------------------------------------------\n",
      "const         -2.0137      0.211     -9.561      0.000      -2.426      -1.601\n",
      "age            1.2148      0.095     12.775      0.000       1.028       1.401\n",
      "trestbps       0.7584      0.205      3.694      0.000       0.356       1.161\n",
      "chol          -0.8222      0.082    -10.029      0.000      -0.983      -0.662\n",
      "thalach       -1.2272      0.122    -10.030      0.000      -1.467      -0.987\n",
      "oldpeak        4.1905      0.180     23.263      0.000       3.837       4.544\n",
      "slope          0.9589      0.081     11.897      0.000       0.801       1.117\n",
      "sex_1.0        1.2922      0.077     16.878      0.000       1.142       1.442\n",
      "cp_2.0        -0.8841      0.072    -12.272      0.000      -1.025      -0.743\n",
      "cp_3.0        -0.3322      0.060     -5.506      0.000      -0.450      -0.214\n",
      "cp_4.0         1.1759      0.060     19.538      0.000       1.058       1.294\n",
      "fbs_0.0       -1.6318      0.101    -16.154      0.000      -1.830      -1.434\n",
      "fbs_1.0       -0.6695      0.103     -6.470      0.000      -0.872      -0.467\n",
      "exang_0.0     -0.3233      0.037     -8.806      0.000      -0.395      -0.251\n",
      "exang_1.0      0.7180      0.038     19.114      0.000       0.644       0.792\n",
      "==============================================================================\n"
     ]
    }
   ],
   "source": [
    "evaluator.run_fed_regression_analysis(\n",
    "    X_train_imps = X_train_imps,\n",
    "    y_trains = y_trains,\n",
    "    data_config = data_config\n",
    ")\n",
    "evaluator.show_fed_regression_results()"
   ]
  },
  {
   "cell_type": "code",
   "execution_count": 24,
   "metadata": {},
   "outputs": [
    {
     "name": "stdout",
     "output_type": "stream",
     "text": [
      "(149, 14) (149,)\n"
     ]
    },
    {
     "name": "stderr",
     "output_type": "stream",
     "text": [
      "                                                                1.09it/s]"
     ]
    },
    {
     "name": "stdout",
     "output_type": "stream",
     "text": [
      "===============================================================\n",
      "Downstream Prediction (Fed)\n",
      "===============================================================\n",
      " Personalized    accuracy       f1         auc         prc\n",
      "--------------  ----------  ----------  ----------  ----------\n",
      "   Client 1       0.714       0.692       0.713       0.771\n",
      "   Client 2       0.926       0.889       0.988       0.981\n",
      "   Client 3       0.364       0.533       0.000       0.798\n",
      "   Client 4       0.500       0.609       0.462       0.697\n",
      "  ----------    ----------  ----------  ----------  ----------\n",
      "    Global        0.809       0.804       0.891       0.903\n",
      "===============================================================\n"
     ]
    },
    {
     "name": "stderr",
     "output_type": "stream",
     "text": [
      "\r"
     ]
    }
   ],
   "source": [
    "ret = evaluator.run_fed_prediction(\n",
    "    X_train_imps = X_train_imps,\n",
    "    y_trains = y_trains,\n",
    "    X_tests = X_test_imps,\n",
    "    y_tests = y_tests,\n",
    "    X_test_global = X_global_test_imp,\n",
    "    y_test_global = y_global_test,\n",
    "    data_config = data_config,\n",
    "    model_name = 'lr',\n",
    "    seed= 0\n",
    ")\n",
    "\n",
    "evaluator.show_fed_prediction_results()"
   ]
  }
 ],
 "metadata": {
  "kernelspec": {
   "display_name": ".venv",
   "language": "python",
   "name": "python3"
  },
  "language_info": {
   "codemirror_mode": {
    "name": "ipython",
    "version": 3
   },
   "file_extension": ".py",
   "mimetype": "text/x-python",
   "name": "python",
   "nbconvert_exporter": "python",
   "pygments_lexer": "ipython3",
   "version": "3.12.3"
  }
 },
 "nbformat": 4,
 "nbformat_minor": 2
}
