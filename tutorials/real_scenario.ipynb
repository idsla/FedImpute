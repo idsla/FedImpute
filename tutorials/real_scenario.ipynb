{
 "cells": [
  {
   "cell_type": "code",
   "execution_count": null,
   "metadata": {},
   "outputs": [],
   "source": [
    "! pip install fedimpute==0.1.0\n",
    "! pip install tabulate matplotlib numpy pandas"
   ]
  },
  {
   "cell_type": "code",
   "execution_count": 1,
   "metadata": {},
   "outputs": [
    {
     "name": "stdout",
     "output_type": "stream",
     "text": [
      "d:\\research\\FedImpute\n"
     ]
    },
    {
     "name": "stderr",
     "output_type": "stream",
     "text": [
      "d:\\research\\FedImpute\\.venv\\lib\\site-packages\\IPython\\core\\magics\\osm.py:417: UserWarning: This is now an optional IPython functionality, setting dhist requires you to install the `pickleshare` library.\n",
      "  self.shell.db['dhist'] = compress_dhist(dhist)[-100:]\n"
     ]
    }
   ],
   "source": [
    "cd .."
   ]
  },
  {
   "cell_type": "code",
   "execution_count": 2,
   "metadata": {},
   "outputs": [],
   "source": [
    "import numpy as np\n",
    "import pandas as pd\n",
    "import tabulate"
   ]
  },
  {
   "cell_type": "markdown",
   "metadata": {},
   "source": [
    "# Load Data"
   ]
  },
  {
   "cell_type": "code",
   "execution_count": 8,
   "metadata": {},
   "outputs": [
    {
     "name": "stdout",
     "output_type": "stream",
     "text": [
      "The autoreload extension is already loaded. To reload it, use:\n",
      "  %reload_ext autoreload\n",
      "==================================================================\n",
      "Scenario Summary\n",
      "==================================================================\n",
      "Total clients: 4\n",
      "Global Test Data: (94, 21)\n",
      "Missing Mechanism Category: MCAR\n",
      "Clients Data Summary:\n",
      "     Train     Test      Miss     MS Ratio    MS Feature    Seed\n",
      "--  --------  -------  --------  ----------  ------------  ------\n",
      "C1  (244,21)  (28,21)  (244,20)     0.00         0/20       6077\n",
      "C2  (237,21)  (27,21)  (237,20)     0.04         4/20       577\n",
      "C3  (99,21)   (11,21)  (99,20)      0.01         3/20       7231\n",
      "C4  (162,21)  (18,21)  (162,20)     0.07         5/20       5504\n",
      "==================================================================\n",
      "\n"
     ]
    }
   ],
   "source": [
    "%load_ext autoreload\n",
    "%autoreload 2\n",
    "\n",
    "from fedimpute.data_prep import load_data, display_data, column_check\n",
    "from fedimpute.scenario import ScenarioBuilder\n",
    "data, data_config = load_data(\"fed_heart_disease\")\n",
    "scenario_builder = ScenarioBuilder()\n",
    "scenario_data = scenario_builder.create_real_scenario(\n",
    "    data, data_config,\n",
    ")\n",
    "scenario_builder.summarize_scenario()"
   ]
  },
  {
   "cell_type": "code",
   "execution_count": 9,
   "metadata": {},
   "outputs": [],
   "source": [
    "scenario_builder.visualize_missing_pattern(\n",
    "    client_ids=[0, 1, 2, 3], data_type='train', fontsize=20, save_path='./plots/real_pattern_train.png'\n",
    ")"
   ]
  },
  {
   "cell_type": "code",
   "execution_count": 10,
   "metadata": {},
   "outputs": [],
   "source": [
    "scenario_builder.visualize_missing_pattern(\n",
    "    client_ids=[0, 1, 2, 3], data_type='test', fontsize=20, save_path='./plots/real_pattern_test.png'\n",
    ")"
   ]
  },
  {
   "cell_type": "markdown",
   "metadata": {},
   "source": [
    "# Running Federated Imputation"
   ]
  },
  {
   "cell_type": "code",
   "execution_count": 11,
   "metadata": {},
   "outputs": [
    {
     "name": "stdout",
     "output_type": "stream",
     "text": [
      "The autoreload extension is already loaded. To reload it, use:\n",
      "  %reload_ext autoreload\n",
      "\u001b[1mSetting up clients...\u001b[0m\n",
      "\u001b[1mSetting up server...\u001b[0m\n",
      "\u001b[1mSetting up workflow...\u001b[0m\n",
      "\u001b[1mEnvironment setup complete.\u001b[0m\n",
      "============================================================\n",
      "Environment Information:\n",
      "============================================================\n",
      "Workflow: ICE (Imputation via Chain Equation)\n",
      "Clients:\n",
      " - Client 0: imputer: mice, fed-strategy: fedmice\n",
      " - Client 1: imputer: mice, fed-strategy: fedmice\n",
      " - Client 2: imputer: mice, fed-strategy: fedmice\n",
      " - Client 3: imputer: mice, fed-strategy: fedmice\n",
      "Server: fed-strategy: fedmice\n",
      "============================================================\n",
      "\n",
      "\u001b[32m\u001b[1mImputation Start ...\u001b[0m\n"
     ]
    },
    {
     "data": {
      "application/vnd.jupyter.widget-view+json": {
       "model_id": "656b668ef6ae40658dd8d585816bd12a",
       "version_major": 2,
       "version_minor": 0
      },
      "text/plain": [
       "ICE Iterations:   0%|          | 0/20 [00:00<?, ?it/s]"
      ]
     },
     "metadata": {},
     "output_type": "display_data"
    },
    {
     "data": {
      "application/vnd.jupyter.widget-view+json": {
       "model_id": "ca6353b241294455bf133ecdc5464608",
       "version_major": 2,
       "version_minor": 0
      },
      "text/plain": [
       "Feature_idx:   0%|          | 0/20 [00:00<?, ?it/s]"
      ]
     },
     "metadata": {},
     "output_type": "display_data"
    },
    {
     "data": {
      "application/vnd.jupyter.widget-view+json": {
       "model_id": "80649d522b5742f695555c28070dee28",
       "version_major": 2,
       "version_minor": 0
      },
      "text/plain": [
       "Feature_idx:   0%|          | 0/20 [00:00<?, ?it/s]"
      ]
     },
     "metadata": {},
     "output_type": "display_data"
    },
    {
     "data": {
      "application/vnd.jupyter.widget-view+json": {
       "model_id": "7e273ab276814b33b6e25cfd18df7125",
       "version_major": 2,
       "version_minor": 0
      },
      "text/plain": [
       "Feature_idx:   0%|          | 0/20 [00:00<?, ?it/s]"
      ]
     },
     "metadata": {},
     "output_type": "display_data"
    },
    {
     "data": {
      "application/vnd.jupyter.widget-view+json": {
       "model_id": "15c58a0dde8c46cea94dd33b64d1b2bc",
       "version_major": 2,
       "version_minor": 0
      },
      "text/plain": [
       "Feature_idx:   0%|          | 0/20 [00:00<?, ?it/s]"
      ]
     },
     "metadata": {},
     "output_type": "display_data"
    },
    {
     "data": {
      "application/vnd.jupyter.widget-view+json": {
       "model_id": "281d8032e7ca4c0e9c6ac064eeecb074",
       "version_major": 2,
       "version_minor": 0
      },
      "text/plain": [
       "Feature_idx:   0%|          | 0/20 [00:00<?, ?it/s]"
      ]
     },
     "metadata": {},
     "output_type": "display_data"
    },
    {
     "data": {
      "application/vnd.jupyter.widget-view+json": {
       "model_id": "55d23645bb2a4bb68574c5ea7b3730e2",
       "version_major": 2,
       "version_minor": 0
      },
      "text/plain": [
       "Feature_idx:   0%|          | 0/20 [00:00<?, ?it/s]"
      ]
     },
     "metadata": {},
     "output_type": "display_data"
    },
    {
     "data": {
      "application/vnd.jupyter.widget-view+json": {
       "model_id": "9114508c274b4ccc869027f09bfa5028",
       "version_major": 2,
       "version_minor": 0
      },
      "text/plain": [
       "Feature_idx:   0%|          | 0/20 [00:00<?, ?it/s]"
      ]
     },
     "metadata": {},
     "output_type": "display_data"
    },
    {
     "data": {
      "application/vnd.jupyter.widget-view+json": {
       "model_id": "d39a55c94146438fb7f2dfdd85b4eb93",
       "version_major": 2,
       "version_minor": 0
      },
      "text/plain": [
       "Feature_idx:   0%|          | 0/20 [00:00<?, ?it/s]"
      ]
     },
     "metadata": {},
     "output_type": "display_data"
    },
    {
     "data": {
      "application/vnd.jupyter.widget-view+json": {
       "model_id": "d14f59a6a6ef4e1bb0f62d6491535b9c",
       "version_major": 2,
       "version_minor": 0
      },
      "text/plain": [
       "Feature_idx:   0%|          | 0/20 [00:00<?, ?it/s]"
      ]
     },
     "metadata": {},
     "output_type": "display_data"
    },
    {
     "data": {
      "application/vnd.jupyter.widget-view+json": {
       "model_id": "d8e79e74efb340248b0661be9ce84fa1",
       "version_major": 2,
       "version_minor": 0
      },
      "text/plain": [
       "Feature_idx:   0%|          | 0/20 [00:00<?, ?it/s]"
      ]
     },
     "metadata": {},
     "output_type": "display_data"
    },
    {
     "name": "stdout",
     "output_type": "stream",
     "text": [
      "\u001b[32m\u001b[1mFinished. Running time: 0.9958 seconds\u001b[0m\n"
     ]
    }
   ],
   "source": [
    "%load_ext autoreload\n",
    "%autoreload 2\n",
    "from fedimpute.execution_environment import FedImputeEnv\n",
    "\n",
    "env = FedImputeEnv(debug_mode=False)\n",
    "env.configuration(imputer = 'mice', fed_strategy='fedmice', workflow_params = {})\n",
    "env.setup_from_scenario_builder(scenario_builder = scenario_builder, verbose=1)\n",
    "env.show_env_info()\n",
    "env.run_fed_imputation(verbose=1)"
   ]
  },
  {
   "cell_type": "markdown",
   "metadata": {},
   "source": [
    "# Evaluation"
   ]
  },
  {
   "cell_type": "code",
   "execution_count": 14,
   "metadata": {},
   "outputs": [
    {
     "name": "stdout",
     "output_type": "stream",
     "text": [
      "The autoreload extension is already loaded. To reload it, use:\n",
      "  %reload_ext autoreload\n"
     ]
    },
    {
     "data": {
      "application/vnd.jupyter.widget-view+json": {
       "model_id": "6fcb3d53f0b845a1b023069f66a6c970",
       "version_major": 2,
       "version_minor": 0
      },
      "text/plain": [
       "Clients:   0%|          | 0/4 [00:00<?, ?it/s]"
      ]
     },
     "metadata": {},
     "output_type": "display_data"
    },
    {
     "name": "stdout",
     "output_type": "stream",
     "text": [
      "==========================================================\n",
      "Downstream Prediction (Local)\n",
      "==========================================================\n",
      "             accuracy       f1         auc         prc\n",
      "----------  ----------  ----------  ----------  ----------\n",
      " Client 1     0.750       0.741       0.831       0.853\n",
      " Client 2     0.889       0.842       0.947       0.931\n",
      " Client 3     0.818       0.900       0.000       0.798\n",
      " Client 4     0.500       0.571       0.662       0.777\n",
      "----------  ----------  ----------  ----------  ----------\n",
      " Average      0.739       0.764       0.610       0.839\n",
      "   Std        0.147       0.125       0.366       0.059\n",
      "==========================================================\n"
     ]
    }
   ],
   "source": [
    "%load_ext autoreload\n",
    "%autoreload 2\n",
    "from fedimpute.evaluation import Evaluator\n",
    "\n",
    "evaluator = Evaluator()\n",
    "\n",
    "X_trains, y_trains = env.get_data(client_ids='all', data_type = 'train', include_y=True)\n",
    "X_tests, y_tests = env.get_data(client_ids='all', data_type = 'test', include_y=True)\n",
    "X_train_imps = env.get_data(client_ids='all', data_type = 'train_imp')\n",
    "X_test_imps = env.get_data(client_ids='all', data_type = 'test_imp')\n",
    "data_config = env.get_data(data_type = 'config')\n",
    "\n",
    "ret = evaluator.run_local_prediction(\n",
    "    X_train_imps = X_train_imps,\n",
    "    y_trains = y_trains,\n",
    "    X_tests = X_test_imps,\n",
    "    y_tests = y_tests,\n",
    "    data_config = data_config,\n",
    "    model = 'lr',\n",
    "    seed= 0\n",
    ")\n",
    "evaluator.show_local_prediction_results()"
   ]
  },
  {
   "cell_type": "markdown",
   "metadata": {},
   "source": [
    "### Federated Prediction"
   ]
  },
  {
   "cell_type": "code",
   "execution_count": 16,
   "metadata": {},
   "outputs": [
    {
     "name": "stdout",
     "output_type": "stream",
     "text": [
      "(149, 20) (149,)\n"
     ]
    },
    {
     "name": "stderr",
     "output_type": "stream",
     "text": [
      "                                                                3.02it/s]"
     ]
    },
    {
     "name": "stdout",
     "output_type": "stream",
     "text": [
      "===============================================================\n",
      "Downstream Prediction (Fed)\n",
      "===============================================================\n",
      " Personalized    accuracy       f1         auc         prc\n",
      "--------------  ----------  ----------  ----------  ----------\n",
      "   Client 1       0.643       0.667       0.749       0.779\n",
      "   Client 2       0.889       0.824       0.982       0.970\n",
      "   Client 3       0.545       0.706       0.100       0.848\n",
      "   Client 4       0.556       0.636       0.477       0.708\n",
      "  ----------    ----------  ----------  ----------  ----------\n",
      "    Global        0.819       0.817       0.902       0.919\n",
      "===============================================================\n"
     ]
    },
    {
     "name": "stderr",
     "output_type": "stream",
     "text": [
      "\r"
     ]
    }
   ],
   "source": [
    "X_train_imps = env.get_data(client_ids='all', data_type = 'train_imp')\n",
    "X_test_imps = env.get_data(client_ids='all', data_type = 'test_imp')\n",
    "X_global_test_imp = env.get_data(data_type = 'global_test_imp')\n",
    "\n",
    "_ , y_trains = env.get_data(\n",
    "    client_ids='all', data_type = 'train', include_y=True\n",
    ")\n",
    "_ , y_tests = env.get_data(\n",
    "    client_ids='all', data_type = 'test', include_y=True\n",
    ")\n",
    "_, y_global_test = env.get_data(\n",
    "    data_type = 'global_test', include_y = True\n",
    ")\n",
    "data_config = env.get_data(data_type = 'config')\n",
    "\n",
    "ret = evaluator.run_fed_prediction(\n",
    "    X_train_imps = X_train_imps,\n",
    "    y_trains = y_trains,\n",
    "    X_tests = X_test_imps,\n",
    "    y_tests = y_tests,\n",
    "    X_test_global = X_global_test_imp,\n",
    "    y_test_global = y_global_test,\n",
    "    data_config = data_config,\n",
    "    model_name = 'lr',\n",
    "    seed= 0\n",
    ")\n",
    "\n",
    "evaluator.show_fed_prediction_results()"
   ]
  }
 ],
 "metadata": {
  "kernelspec": {
   "display_name": ".venv",
   "language": "python",
   "name": "python3"
  },
  "language_info": {
   "codemirror_mode": {
    "name": "ipython",
    "version": 3
   },
   "file_extension": ".py",
   "mimetype": "text/x-python",
   "name": "python",
   "nbconvert_exporter": "python",
   "pygments_lexer": "ipython3",
   "version": "3.10.0"
  }
 },
 "nbformat": 4,
 "nbformat_minor": 2
}
